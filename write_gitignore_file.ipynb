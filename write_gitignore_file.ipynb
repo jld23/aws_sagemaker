{
 "cells": [
  {
   "cell_type": "code",
   "execution_count": 7,
   "id": "df1e8b7b-f3e7-41b8-b029-37b3758998c7",
   "metadata": {
    "tags": []
   },
   "outputs": [
    {
     "name": "stdout",
     "output_type": "stream",
     "text": [
      "Overwriting .gitignore\n"
     ]
    }
   ],
   "source": [
    "%%writefile .gitignore\n",
    "*.parquet\n",
    "*.gz\n",
    "*.csv\n",
    "*.tsv"
   ]
  },
  {
   "cell_type": "code",
   "execution_count": null,
   "id": "f2ce2812-fa9f-4e24-90e9-916557408965",
   "metadata": {},
   "outputs": [],
   "source": []
  }
 ],
 "metadata": {
  "instance_type": "ml.t3.medium",
  "kernelspec": {
   "display_name": "Python 3 (Data Science)",
   "language": "python",
   "name": "python3__SAGEMAKER_INTERNAL__arn:aws:sagemaker:us-east-1:081325390199:image/datascience-1.0"
  },
  "language_info": {
   "codemirror_mode": {
    "name": "ipython",
    "version": 3
   },
   "file_extension": ".py",
   "mimetype": "text/x-python",
   "name": "python",
   "nbconvert_exporter": "python",
   "pygments_lexer": "ipython3",
   "version": "3.7.10"
  }
 },
 "nbformat": 4,
 "nbformat_minor": 5
}
