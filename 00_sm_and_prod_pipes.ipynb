{
 "cells": [
  {
   "cell_type": "markdown",
   "metadata": {
    "tags": []
   },
   "source": [
    "# SM00: SageMaker and Production Pipelines"
   ]
  },
  {
   "cell_type": "markdown",
   "metadata": {},
   "source": [
    "There are a lot of considerations in moving from a local model used to train and predict on batch data to a production model. This series of posts explores how to create an MLOps compliant production pipeline using AWS's SageMaker Studio.\n",
    "\n",
    "SageMaker Studio is a suite of tools that helps manage the infrastructure and collaboration for a machine learning project in the AWS ecosystem. Some of the biggest advantages of SageMaker Studio include:\n",
    "\n",
    "- Ability to spin up hardware resources as needed\n",
    "- Automatically spin down hardware resources once the task is complete\n",
    "- Ability to create a pipeline to automate the machine learning process from preprocessing data through deploying the model"
   ]
  },
  {
   "cell_type": "markdown",
   "metadata": {},
   "source": [
    "## Prerequisites\n",
    "\n",
    "For brevity, I'll assume that SageMaker Studio and an IAM role with the appropriate permissions have been set up. In a corporate/enterprise environment, these will generally be set up by an administrator or someone on the architecture team.\n",
    "\n",
    "- For directions on setting up the SageMaker environment see [Onboard to Amazon SageMaker Domain Using Quick setup](https://docs.aws.amazon.com/sagemaker/latest/dg/onboard-quick-start.html)\n",
    "- For directions on setting up an AWS account and IAM role see [Set Up Amazon SageMaker Prerequisites](https://docs.aws.amazon.com/sagemaker/latest/dg/gs-set-up.html)\n",
    "\n",
    "The notebooks in this series *may* run on a stand alone SageMaker Jupyter Notebook instance or *possibly* in a local environment where the AWS credentials are specified. However, this series is designed to take advantage of the managed infrastructure and other benefits of using SageMaker Studio, so that will be the prefered environment for all posts in the series. I won't be testing, trying, or troubleshooting the code to work on stand alone SageMaker Jupyter Notebook instances or local environments."
   ]
  },
  {
   "cell_type": "markdown",
   "metadata": {},
   "source": [
    "## Series Guide\n",
    "\n",
    "1. [Read from and write to S3]()\n",
    "1. [Clean data]()\n",
    "1. [ETL Pipe foundations]()\n",
    "1. [ETL (extract, transform, load) Script]()\n",
    "1. [Pipeline]()\n",
    "1. [EDA (Exploratory Data Analysis)]()\n",
    "1. [Preprocess data]()\n",
    "1. [Custom transformers]()\n",
    "1. [Train model]()\n",
    "1. [Custom transformers at inference]()\n",
    "1. [Multistep Pipeline]()\n",
    "1. [Hyperparameter optimization]()\n",
    "1. [Evaluate model]()\n",
    "1. [Register and Deploy]()\n",
    "1. [Debugger]()\n",
    "1. [Interpretability and bias]()"
   ]
  },
  {
   "cell_type": "code",
   "execution_count": null,
   "metadata": {},
   "outputs": [],
   "source": []
  }
 ],
 "metadata": {
  "instance_type": "ml.t3.medium",
  "kernelspec": {
   "display_name": "Python 3 (Data Science)",
   "language": "python",
   "name": "python3__SAGEMAKER_INTERNAL__arn:aws:sagemaker:us-east-1:081325390199:image/datascience-1.0"
  },
  "language_info": {
   "codemirror_mode": {
    "name": "ipython",
    "version": 3
   },
   "file_extension": ".py",
   "mimetype": "text/x-python",
   "name": "python",
   "nbconvert_exporter": "python",
   "pygments_lexer": "ipython3",
   "version": "3.7.10"
  }
 },
 "nbformat": 4,
 "nbformat_minor": 4
}
