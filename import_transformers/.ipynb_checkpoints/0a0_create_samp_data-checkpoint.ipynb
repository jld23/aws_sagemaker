{
 "cells": [
  {
   "cell_type": "markdown",
   "id": "0a5a403d-c0fc-413c-b6ee-1ad3d86668ae",
   "metadata": {},
   "source": [
    "# Create Sample Dataset"
   ]
  },
  {
   "cell_type": "code",
   "execution_count": 2,
   "id": "8a2ec6c1-6c57-4700-b70b-5ce0a1f34934",
   "metadata": {
    "tags": []
   },
   "outputs": [],
   "source": [
    "import pandas as pd\n",
    "import numpy as np\n",
    "import datetime\n",
    "import random\n",
    "\n",
    "import sagemaker\n",
    "import sagemaker.session\n",
    "\n",
    "from sklearn.model_selection import train_test_split"
   ]
  },
  {
   "cell_type": "code",
   "execution_count": 3,
   "id": "f6d47ba3-f876-44bb-a4a5-5c22b65dbd2c",
   "metadata": {
    "tags": []
   },
   "outputs": [],
   "source": [
    "session = sagemaker.session.Session()\n",
    "region = session.boto_region_name\n",
    "role = sagemaker.get_execution_role()\n",
    "bucket = session.default_bucket()\n",
    "prefix = 'custom_preprocessing'"
   ]
  },
  {
   "cell_type": "code",
   "execution_count": 4,
   "id": "bc5e0fca-0689-4688-accc-5f05fd7d4b0a",
   "metadata": {
    "tags": []
   },
   "outputs": [],
   "source": [
    "tags = [\n",
    "    {\"Key\": \"PLATFORM\", \"Value\": \"FO-ML\"},\n",
    "    {\"Key\": \"BUSINESS_REGION\", \"Value\": \"GLOBAL\"},\n",
    "    {\"Key\": \"BUSINESS_UNIT\", \"Value\": \"MOBILITY\"},\n",
    "    {\"Key\": \"CLIENT\", \"Value\": \"MULTI_TENANT\"}\n",
    "   ]"
   ]
  },
  {
   "cell_type": "markdown",
   "id": "17fde122-65b5-41f0-bd46-b64cdb81eb6e",
   "metadata": {},
   "source": [
    "## Create sample data"
   ]
  },
  {
   "cell_type": "code",
   "execution_count": 5,
   "id": "ea06ef8d-ea8a-415f-9f5a-38fac0ce216f",
   "metadata": {
    "tags": []
   },
   "outputs": [],
   "source": [
    "sample_ct = 10000"
   ]
  },
  {
   "cell_type": "code",
   "execution_count": 6,
   "id": "aa1f962c-836f-407f-a1b4-f45e069dceb4",
   "metadata": {
    "tags": []
   },
   "outputs": [],
   "source": [
    "target_col = []\n",
    "tf_col = []\n",
    "onehot_col = []\n",
    "float_col = []\n",
    "drop_col = []\n",
    "xrand_col = []\n",
    "\n",
    "target_vals = [0,1]\n",
    "tf_vals = ['true', 'false', np.nan, '1', '0']\n",
    "onehot_vals = [np.nan, 'red', 'orange', 'yellow', 'green', 'blue', 'purple']\n",
    "float_vals = list(range(0,10)) + [x/10 for x in range(0, 100, 5)] +[np.nan]\n",
    "drop_vals = [np.nan] + list(range(0,10))\n",
    "xrand_vals = list(range(5))\n",
    "\n",
    "col_list = zip([target_col, tf_col, onehot_col, float_col, drop_col, xrand_col],\n",
    "               [target_vals, tf_vals, onehot_vals, float_vals, drop_vals, xrand_vals])\n",
    "\n",
    "for col, vals in col_list:\n",
    "    for _ in range(sample_ct):\n",
    "        col.append(random.choice(vals))"
   ]
  },
  {
   "cell_type": "code",
   "execution_count": 7,
   "id": "2766588f-f3dc-4238-8257-2fdb4a9ad962",
   "metadata": {
    "tags": []
   },
   "outputs": [],
   "source": [
    "date_col = []\n",
    "\n",
    "for _ in range(sample_ct):\n",
    "    try:\n",
    "        date = datetime.date(2022, random.randint(1, 12), random.randint(1, 31))\n",
    "        date_col.append(date)\n",
    "    except ValueError:\n",
    "        date_col.append(np.nan)"
   ]
  },
  {
   "cell_type": "code",
   "execution_count": 8,
   "id": "4130e70d-3104-4c7a-963a-f1ec445466f0",
   "metadata": {
    "tags": []
   },
   "outputs": [],
   "source": [
    "nbr_vals = list(range(0,10))\n",
    "str_vals = ['apple', 'orange', 'grape', 'pineapple', 'strawberry', 'blueberry', 'grapefruit', 'apple']"
   ]
  },
  {
   "cell_type": "code",
   "execution_count": 9,
   "id": "4a71f01f-284d-4cd2-b466-ff0cdb8fd209",
   "metadata": {
    "tags": []
   },
   "outputs": [],
   "source": [
    "nunique_col = []\n",
    "\n",
    "for _ in range(sample_ct):\n",
    "    val_size = random.randint(0,6)\n",
    "    if val_size < 1:\n",
    "        nunique_col.append(np.nan)\n",
    "    else:\n",
    "        if random.randint(0,10) < 5:\n",
    "            val_type = nbr_vals\n",
    "            val_type = [str(x) for x in val_type]\n",
    "        else:\n",
    "            val_type = str_vals\n",
    "        val = random.choices(val_type,k=val_size)\n",
    "        if len(val) <= 1:\n",
    "            nunique_col.append(val)\n",
    "        else:\n",
    "            strified = ','.join(val)\n",
    "            nunique_col.append(strified)"
   ]
  },
  {
   "cell_type": "code",
   "execution_count": 10,
   "id": "bff0a656-67d0-45be-8796-7bbf09942995",
   "metadata": {
    "scrolled": true,
    "tags": []
   },
   "outputs": [],
   "source": [
    "descstat_col = []\n",
    "max_col = []\n",
    "\n",
    "nbrlst_cols = [descstat_col, max_col]\n",
    "\n",
    "for col in nbrlst_cols:\n",
    "    for _ in range(sample_ct):\n",
    "        val_size = random.randint(0,6)\n",
    "        if val_size < 1:\n",
    "            col.append(np.nan)\n",
    "        else:\n",
    "            val_type = [str(x) for x in nbr_vals]\n",
    "            val = random.choices(val_type,k=val_size)\n",
    "            strified = ','.join(val)\n",
    "            col.append(strified)"
   ]
  },
  {
   "cell_type": "code",
   "execution_count": 11,
   "id": "d2a914c6-6241-42bd-a948-eb03450e4a77",
   "metadata": {
    "tags": []
   },
   "outputs": [],
   "source": [
    "multi_col = []\n",
    "\n",
    "for _ in range(sample_ct):\n",
    "    val_size = random.randint(0,6)\n",
    "    if val_size < 1:\n",
    "        multi_col.append(np.nan)\n",
    "    else:\n",
    "        val = random.choices(str_vals, k=val_size)\n",
    "        strified = ','.join(val)\n",
    "        multi_col.append(strified)"
   ]
  },
  {
   "cell_type": "code",
   "execution_count": 12,
   "id": "99b3e417-7e66-4f95-927d-4113b272b24b",
   "metadata": {
    "tags": []
   },
   "outputs": [
    {
     "data": {
      "text/html": [
       "<div>\n",
       "<style scoped>\n",
       "    .dataframe tbody tr th:only-of-type {\n",
       "        vertical-align: middle;\n",
       "    }\n",
       "\n",
       "    .dataframe tbody tr th {\n",
       "        vertical-align: top;\n",
       "    }\n",
       "\n",
       "    .dataframe thead th {\n",
       "        text-align: right;\n",
       "    }\n",
       "</style>\n",
       "<table border=\"1\" class=\"dataframe\">\n",
       "  <thead>\n",
       "    <tr style=\"text-align: right;\">\n",
       "      <th></th>\n",
       "      <th>target</th>\n",
       "      <th>true_false</th>\n",
       "      <th>one_hot</th>\n",
       "      <th>dates</th>\n",
       "      <th>floats</th>\n",
       "      <th>max_of_list</th>\n",
       "      <th>nunique_of_list</th>\n",
       "      <th>desc_stats</th>\n",
       "      <th>multi_label</th>\n",
       "      <th>random_col</th>\n",
       "      <th>other</th>\n",
       "    </tr>\n",
       "  </thead>\n",
       "  <tbody>\n",
       "    <tr>\n",
       "      <th>0</th>\n",
       "      <td>1</td>\n",
       "      <td>1</td>\n",
       "      <td>orange</td>\n",
       "      <td>2022-01-04</td>\n",
       "      <td>9.0</td>\n",
       "      <td>0,9</td>\n",
       "      <td>5,0,8,4</td>\n",
       "      <td>5,2,2,4,7,6</td>\n",
       "      <td>strawberry,grape,pineapple,blueberry,pineapple...</td>\n",
       "      <td>5.0</td>\n",
       "      <td>2</td>\n",
       "    </tr>\n",
       "    <tr>\n",
       "      <th>1</th>\n",
       "      <td>1</td>\n",
       "      <td>0</td>\n",
       "      <td>blue</td>\n",
       "      <td>2022-04-16</td>\n",
       "      <td>6.0</td>\n",
       "      <td>6</td>\n",
       "      <td>blueberry,pineapple,strawberry,grape,orange</td>\n",
       "      <td>7,3</td>\n",
       "      <td>NaN</td>\n",
       "      <td>3.0</td>\n",
       "      <td>1</td>\n",
       "    </tr>\n",
       "    <tr>\n",
       "      <th>2</th>\n",
       "      <td>0</td>\n",
       "      <td>NaN</td>\n",
       "      <td>orange</td>\n",
       "      <td>NaN</td>\n",
       "      <td>7.0</td>\n",
       "      <td>4</td>\n",
       "      <td>[pineapple]</td>\n",
       "      <td>4,2,2,5,3</td>\n",
       "      <td>grapefruit,grapefruit,grapefruit,strawberry,gr...</td>\n",
       "      <td>9.0</td>\n",
       "      <td>4</td>\n",
       "    </tr>\n",
       "    <tr>\n",
       "      <th>3</th>\n",
       "      <td>0</td>\n",
       "      <td>1</td>\n",
       "      <td>orange</td>\n",
       "      <td>2022-05-09</td>\n",
       "      <td>9.5</td>\n",
       "      <td>5,8,3,2</td>\n",
       "      <td>7,4,5,5,1</td>\n",
       "      <td>9</td>\n",
       "      <td>pineapple,grape,apple,strawberry,orange</td>\n",
       "      <td>3.0</td>\n",
       "      <td>0</td>\n",
       "    </tr>\n",
       "    <tr>\n",
       "      <th>4</th>\n",
       "      <td>0</td>\n",
       "      <td>NaN</td>\n",
       "      <td>orange</td>\n",
       "      <td>2022-06-25</td>\n",
       "      <td>0.5</td>\n",
       "      <td>2,0,8,9</td>\n",
       "      <td>grape,orange,grapefruit</td>\n",
       "      <td>4,3,8,7</td>\n",
       "      <td>pineapple,strawberry,grape,orange</td>\n",
       "      <td>NaN</td>\n",
       "      <td>3</td>\n",
       "    </tr>\n",
       "    <tr>\n",
       "      <th>...</th>\n",
       "      <td>...</td>\n",
       "      <td>...</td>\n",
       "      <td>...</td>\n",
       "      <td>...</td>\n",
       "      <td>...</td>\n",
       "      <td>...</td>\n",
       "      <td>...</td>\n",
       "      <td>...</td>\n",
       "      <td>...</td>\n",
       "      <td>...</td>\n",
       "      <td>...</td>\n",
       "    </tr>\n",
       "    <tr>\n",
       "      <th>9995</th>\n",
       "      <td>1</td>\n",
       "      <td>1</td>\n",
       "      <td>yellow</td>\n",
       "      <td>2022-11-24</td>\n",
       "      <td>7.0</td>\n",
       "      <td>8,3,2,7,0</td>\n",
       "      <td>apple,pineapple,strawberry,orange</td>\n",
       "      <td>2,2,3,1,2</td>\n",
       "      <td>blueberry</td>\n",
       "      <td>8.0</td>\n",
       "      <td>2</td>\n",
       "    </tr>\n",
       "    <tr>\n",
       "      <th>9996</th>\n",
       "      <td>0</td>\n",
       "      <td>0</td>\n",
       "      <td>blue</td>\n",
       "      <td>2022-11-01</td>\n",
       "      <td>6.0</td>\n",
       "      <td>3</td>\n",
       "      <td>apple,apple,apple,blueberry,grapefruit,orange</td>\n",
       "      <td>2,7,7</td>\n",
       "      <td>pineapple,orange</td>\n",
       "      <td>6.0</td>\n",
       "      <td>1</td>\n",
       "    </tr>\n",
       "    <tr>\n",
       "      <th>9997</th>\n",
       "      <td>0</td>\n",
       "      <td>0</td>\n",
       "      <td>purple</td>\n",
       "      <td>2022-03-07</td>\n",
       "      <td>4.0</td>\n",
       "      <td>6,1,6,0,7,0</td>\n",
       "      <td>6,5,6,4,6,6</td>\n",
       "      <td>3,1,4,7,5</td>\n",
       "      <td>orange</td>\n",
       "      <td>3.0</td>\n",
       "      <td>1</td>\n",
       "    </tr>\n",
       "    <tr>\n",
       "      <th>9998</th>\n",
       "      <td>1</td>\n",
       "      <td>1</td>\n",
       "      <td>green</td>\n",
       "      <td>2022-04-06</td>\n",
       "      <td>7.0</td>\n",
       "      <td>NaN</td>\n",
       "      <td>grape,apple</td>\n",
       "      <td>2,0,1,9</td>\n",
       "      <td>pineapple</td>\n",
       "      <td>7.0</td>\n",
       "      <td>0</td>\n",
       "    </tr>\n",
       "    <tr>\n",
       "      <th>9999</th>\n",
       "      <td>1</td>\n",
       "      <td>NaN</td>\n",
       "      <td>red</td>\n",
       "      <td>2022-02-19</td>\n",
       "      <td>1.0</td>\n",
       "      <td>8</td>\n",
       "      <td>8,9,1</td>\n",
       "      <td>8,5,7,7,5,1</td>\n",
       "      <td>apple,blueberry,grape,blueberry,grapefruit</td>\n",
       "      <td>5.0</td>\n",
       "      <td>3</td>\n",
       "    </tr>\n",
       "  </tbody>\n",
       "</table>\n",
       "<p>10000 rows × 11 columns</p>\n",
       "</div>"
      ],
      "text/plain": [
       "      target true_false one_hot       dates  floats  max_of_list  \\\n",
       "0          1          1  orange  2022-01-04     9.0          0,9   \n",
       "1          1          0    blue  2022-04-16     6.0            6   \n",
       "2          0        NaN  orange         NaN     7.0            4   \n",
       "3          0          1  orange  2022-05-09     9.5      5,8,3,2   \n",
       "4          0        NaN  orange  2022-06-25     0.5      2,0,8,9   \n",
       "...      ...        ...     ...         ...     ...          ...   \n",
       "9995       1          1  yellow  2022-11-24     7.0    8,3,2,7,0   \n",
       "9996       0          0    blue  2022-11-01     6.0            3   \n",
       "9997       0          0  purple  2022-03-07     4.0  6,1,6,0,7,0   \n",
       "9998       1          1   green  2022-04-06     7.0          NaN   \n",
       "9999       1        NaN     red  2022-02-19     1.0            8   \n",
       "\n",
       "                                    nunique_of_list   desc_stats  \\\n",
       "0                                           5,0,8,4  5,2,2,4,7,6   \n",
       "1       blueberry,pineapple,strawberry,grape,orange          7,3   \n",
       "2                                       [pineapple]    4,2,2,5,3   \n",
       "3                                         7,4,5,5,1            9   \n",
       "4                           grape,orange,grapefruit      4,3,8,7   \n",
       "...                                             ...          ...   \n",
       "9995              apple,pineapple,strawberry,orange    2,2,3,1,2   \n",
       "9996  apple,apple,apple,blueberry,grapefruit,orange        2,7,7   \n",
       "9997                                    6,5,6,4,6,6    3,1,4,7,5   \n",
       "9998                                    grape,apple      2,0,1,9   \n",
       "9999                                          8,9,1  8,5,7,7,5,1   \n",
       "\n",
       "                                            multi_label  random_col  other  \n",
       "0     strawberry,grape,pineapple,blueberry,pineapple...         5.0      2  \n",
       "1                                                   NaN         3.0      1  \n",
       "2     grapefruit,grapefruit,grapefruit,strawberry,gr...         9.0      4  \n",
       "3               pineapple,grape,apple,strawberry,orange         3.0      0  \n",
       "4                     pineapple,strawberry,grape,orange         NaN      3  \n",
       "...                                                 ...         ...    ...  \n",
       "9995                                          blueberry         8.0      2  \n",
       "9996                                   pineapple,orange         6.0      1  \n",
       "9997                                             orange         3.0      1  \n",
       "9998                                          pineapple         7.0      0  \n",
       "9999         apple,blueberry,grape,blueberry,grapefruit         5.0      3  \n",
       "\n",
       "[10000 rows x 11 columns]"
      ]
     },
     "execution_count": 12,
     "metadata": {},
     "output_type": "execute_result"
    }
   ],
   "source": [
    "sample_df = pd.DataFrame({\n",
    "    'target':target_col,\n",
    "    'true_false':tf_col,\n",
    "    'one_hot':onehot_col,\n",
    "    'dates':date_col,\n",
    "    'floats':float_col,\n",
    "    'max_of_list':max_col,\n",
    "    'nunique_of_list':nunique_col,\n",
    "    'desc_stats':descstat_col,\n",
    "    'multi_label':multi_col,\n",
    "    'random_col':drop_col,\n",
    "    'other':xrand_col})\n",
    "sample_df"
   ]
  },
  {
   "cell_type": "code",
   "execution_count": 13,
   "id": "eb757caa-ec93-4d70-998a-a62b3c12ef22",
   "metadata": {
    "tags": []
   },
   "outputs": [],
   "source": [
    "train, other = train_test_split(sample_df, train_size=0.8, random_state=12, stratify=sample_df['target'])\n",
    "test, validate = train_test_split(other, train_size=0.5, random_state=12, stratify=other['target'])"
   ]
  },
  {
   "cell_type": "code",
   "execution_count": 14,
   "id": "19304573-6021-49c6-951c-8c35336ac9b4",
   "metadata": {
    "tags": []
   },
   "outputs": [],
   "source": [
    "train.to_csv('train.csv', index=False)\n",
    "test.to_csv('test.csv', index=False)\n",
    "validate.to_csv('validate.csv', index=False)\n",
    "\n",
    "train_input = session.upload_data('train.csv', bucket=bucket, key_prefix=f'{prefix}/sample_data')\n",
    "test_input = session.upload_data('test.csv', bucket=bucket, key_prefix=f'{prefix}/sample_data')\n",
    "validate_input = session.upload_data('validate.csv', bucket=bucket, key_prefix=f'{prefix}/sample_data')"
   ]
  }
 ],
 "metadata": {
  "instance_type": "ml.t3.medium",
  "kernelspec": {
   "display_name": "Python 3 (Data Science)",
   "language": "python",
   "name": "python3__SAGEMAKER_INTERNAL__arn:aws:sagemaker:us-east-1:081325390199:image/datascience-1.0"
  },
  "language_info": {
   "codemirror_mode": {
    "name": "ipython",
    "version": 3
   },
   "file_extension": ".py",
   "mimetype": "text/x-python",
   "name": "python",
   "nbconvert_exporter": "python",
   "pygments_lexer": "ipython3",
   "version": "3.7.10"
  }
 },
 "nbformat": 4,
 "nbformat_minor": 5
}
