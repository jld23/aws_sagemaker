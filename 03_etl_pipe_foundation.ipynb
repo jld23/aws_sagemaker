{
 "cells": [
  {
   "cell_type": "markdown",
   "metadata": {},
   "source": [
    "# SM03: ETL Pipeline definition"
   ]
  },
  {
   "cell_type": "markdown",
   "metadata": {},
   "source": [
    "The work completed in the last two posts generally falls under a process called ETL (extract, transform, load). I'm going to roll this work into a single Python script and use it to demonstrate the basics of setting up a SageMaker Pipeline. This will be a pipeline of just one step, but will set the foundation for more complex pipelines.\n",
    "\n",
    "The bulk of the data cleaning process was written in posts [SM01](https://julielinx.github.io/blog/aws01_read_from_s3/) and [SM02](https://julielinx.github.io/blog/aws02_clean_data/). Most of this code can be put directly into a cohesive `.py` script. Some changes are needed to get the script to run as a Pipeline step. To understand these changes, I need to explain Pipeline foundations first."
   ]
  },
  {
   "cell_type": "markdown",
   "metadata": {},
   "source": [
    "## Libraries and usage examples\n",
    "\n",
    "Unsuprisingly, most of the libraries needed to create a SageMaker Pipeline are found in the `sagemaker` library. I'll only cover the modules needed to run my single step pipeline. Additional modules will be added and explained in future posts as the pipeline becomes more complex.\n",
    "\n",
    "To get more information on the Amazon SageMaker Python SDK, see [sagemaker.readthedocs](https://sagemaker.readthedocs.io/en/stable/index.html)."
   ]
  },
  {
   "cell_type": "markdown",
   "metadata": {},
   "source": [
    "### Session and permissions\n",
    "\n",
    "I've already talked about the first two libraries, they allow me to talk to AWS resources and establish I have premission to use said resources."
   ]
  },
  {
   "cell_type": "markdown",
   "metadata": {},
   "source": [
    "#### Libraries"
   ]
  },
  {
   "cell_type": "code",
   "execution_count": null,
   "metadata": {},
   "outputs": [],
   "source": [
    "import sagemaker\n",
    "import sagemaker.session"
   ]
  },
  {
   "cell_type": "markdown",
   "metadata": {},
   "source": [
    "#### Parameter examples"
   ]
  },
  {
   "cell_type": "code",
   "execution_count": null,
   "metadata": {},
   "outputs": [],
   "source": [
    "session = sagemaker.session.Session()\n",
    "region = session.boto_region_name\n",
    "role = sagemaker.get_execution_role()\n",
    "bucket = session.default_bucket()"
   ]
  },
  {
   "cell_type": "markdown",
   "metadata": {},
   "source": [
    "### Interactive parameters\n",
    "\n",
    "SageMaker has the very useful feature of being able to change parameters at runtime. This functionality is extremely useful. I can do things like use the date as a folder name to differentiate between different datasets, then reference the appropriate date at runtime without having to change the pipeline itself.\n",
    "\n",
    "The `sagemaker.workflow.parameters` module allows me to easily specify these parameters, along with default values to populate the field. There are [four data types](https://sagemaker.readthedocs.io/en/stable/amazon_sagemaker_model_building_pipeline.html#pipeline-parameters) that can be defined:\n",
    "\n",
    "- sagemaker.workflow.parameters.ParameterString – Representing a string parameter\n",
    "- sagemaker.workflow.parameters.ParameterInteger – Representing an integer parameter\n",
    "- sagemaker.workflow.parameters.ParameterFloat – Representing a float parameter\n",
    "- sagemaker.workflow.parameters.ParameterBoolean – Representing a Boolean Python type\n",
    "\n",
    "Two of the most popular parameters in the [amazon-sagemaker-examples](https://github.com/aws/amazon-sagemaker-examples) repo are the number of instances to spin up and the type(s) of instance(s) to spin up. These two parameters are required when setting up processors and estimators, which is why they're so common."
   ]
  },
  {
   "cell_type": "markdown",
   "metadata": {},
   "source": [
    "#### Libraries"
   ]
  },
  {
   "cell_type": "code",
   "execution_count": null,
   "metadata": {},
   "outputs": [],
   "source": [
    "from sagemaker.workflow.parameters import (\n",
    "    ParameterInteger,\n",
    "    ParameterString)"
   ]
  },
  {
   "cell_type": "markdown",
   "metadata": {},
   "source": [
    "#### Parameter examples"
   ]
  },
  {
   "cell_type": "code",
   "execution_count": null,
   "metadata": {},
   "outputs": [],
   "source": [
    "processing_instance_count = ParameterInteger(name=\"ProcessingInstanceCount\", default_value=1)\n",
    "\n",
    "processing_instance_type = ParameterString(\n",
    "    name=\"ProcessingInstanceType\", default_value=\"ml.m5.xlarge\")"
   ]
  },
  {
   "cell_type": "markdown",
   "metadata": {},
   "source": [
    "### Join text\n",
    "\n",
    "As a Python user, I'm very familiar and comfortable with both `f'string{param}morestring'` and `'string{}morestring'.format(param)'` when formatting a string. Trying to use these in a SageMaker Pipeline though has me pulling my hair out, because in a lot of situations they don't work. For this, AWS has created the [`Join()` function](https://sagemaker.readthedocs.io/en/stable/workflows/pipelines/sagemaker.workflow.pipelines.html#sagemaker.workflow.functions.Join) .\n",
    "\n",
    "As a rule of thumb, I use `Join()` for any input/output locations, whenever trying to join `sagemaker.workflow.parameters`, or situations in which I need to use a string within the parameter reference."
   ]
  },
  {
   "cell_type": "markdown",
   "metadata": {},
   "source": [
    "#### Library"
   ]
  },
  {
   "cell_type": "code",
   "execution_count": null,
   "metadata": {},
   "outputs": [],
   "source": [
    "from sagemaker.workflow.functions import Join"
   ]
  },
  {
   "cell_type": "markdown",
   "metadata": {},
   "source": [
    "#### Parameter example"
   ]
  },
  {
   "cell_type": "code",
   "execution_count": null,
   "metadata": {},
   "outputs": [],
   "source": [
    "input_uri = Join(on=\"/\", values=['s3://{}'.format(bucket),\n",
    "                                      prefix,\n",
    "                                      'raw'])\n",
    "\n",
    "Join(on=\"/\", values=[\"s3://{}\".format(bucket),\n",
    "                    prefix,\n",
    "                    'clean'])"
   ]
  },
  {
   "cell_type": "markdown",
   "metadata": {},
   "source": [
    "### Processor\n",
    "\n",
    "My first question when confronted with Proessors was \"What *is* a Processor?\" The [documentation](https://sagemaker.readthedocs.io/en/stable/api/training/processing.html) defines it in a way that every one of my childhood teachers said not to - by referencing the word in the definition: \"class `sagemaker.processing.Processor` initializes a Processor instance.\" The English major in me started crying.\n",
    "\n",
    "Okay, maybe it wasn't that bad. Looking a little earlier in the text it states that the Processor class is:\n",
    "\n",
    "> used for Amazon SageMaker Processing Jobs. These jobs let users perform data pre-processing, post-processing, feature engineering, data validation, and model evaluation, and interpretation on Amazon SageMaker.\n",
    "\n",
    "Practically, the Processor is the instance that executes specified code on defined inputs to produce outputs. It works in conjunction with the ProcessingStep, which defines the input(s) to use and where to save the output(s)."
   ]
  },
  {
   "cell_type": "markdown",
   "metadata": {},
   "source": [
    "#### Training APIs\n",
    "\n",
    "As part of a larger whole, processors are part of what SageMaker calls Training APIs. I'll cover each in more detail as it becomes relevant to this series of SageMaker posts. The high level Training APIs include:\n",
    "\n",
    "- [Analytics](https://sagemaker.readthedocs.io/en/stable/api/training/analytics.html): For tuning job or training job analytics classes\n",
    "- [AutoML](https://sagemaker.readthedocs.io/en/stable/api/training/automl.html): For creating and interacting with SageMaker AutoML jobs\n",
    "- [Debugger](https://sagemaker.readthedocs.io/en/stable/api/training/debugger.html): Provides high-level methods to set up Debugger configurations to monitor, profile, and debug your training job\n",
    "- [Estimators](https://sagemaker.readthedocs.io/en/stable/api/training/estimators.html): A high level interface for SageMaker training\n",
    "- [Algorithm Estimator](https://sagemaker.readthedocs.io/en/stable/api/training/algorithm.html): The Algorithm can be your own, or any Algorithm from AWS Marketplace that you have a valid subscription for. This class will perform client-side validation on all the inputs\n",
    "- [HyperparameterTuner](https://sagemaker.readthedocs.io/en/stable/api/training/tuner.html): Defines interaction with Amazon SageMaker hyperparameter tuning jobs\n",
    "- [Parameters](https://sagemaker.readthedocs.io/en/stable/api/training/parameter.html): This is used to define what hyperparameters to tune for an Amazon SageMaker hyperparameter tuning job and to verify hyperparameters for Marketplace Algorithms\n",
    "- [Processing](https://sagemaker.readthedocs.io/en/stable/api/training/processing.html): These jobs let users perform data pre-processing, post-processing, feature engineering, data validation, and model evaluation, and interpretation on Amazon SageMaker"
   ]
  },
  {
   "cell_type": "markdown",
   "metadata": {},
   "source": [
    "#### Framework Processors\n",
    "\n",
    "The base classes aren't the only options for training API type behavior. There are also framework specific classes. The options available with [Amazon SageMaker Processing](https://sagemaker.readthedocs.io/en/stable/amazon_sagemaker_processing.html#data-pre-processing-and-model-evaluation-with-scikit-learn) are:\n",
    "\n",
    "- [sagemaker.processing.ScriptProcessor](https://sagemaker.readthedocs.io/en/stable/api/training/processing.html#sagemaker.processing.ScriptProcessor): handles Amazon SageMaker Processing tasks for jobs using a machine learning framework, which allows for providing a script to be run as part of the Processing Job\n",
    "- [sagemaker.processing.FrameworkProcessor](https://sagemaker.readthedocs.io/en/stable/api/training/processing.html#sagemaker.processing.FrameworkProcessor): handles Amazon SageMaker Processing tasks for jobs using a machine learning framework, which allows for a set of Python scripts to be run as part of the Processing Job. For frameworks, like TensorFlow, PyTorch, MxNet, etc\n",
    "- [sagemaker.spark.processing.PySparkProcessor](https://sagemaker.readthedocs.io/en/stable/api/training/processing.html#sagemaker.spark.processing.PySparkProcessor): handles Amazon SageMaker processing tasks for jobs using SageMaker PySpark\n",
    "- [sagemaker.spark.processing.SparkJarProcessor](https://sagemaker.readthedocs.io/en/stable/api/training/processing.html#sagemaker.spark.processing.SparkJarProcessor): handles Amazon SageMaker processing tasks for jobs using Spark with Java or Scala Jars\n",
    "- [sagemaker.sklearn.processing.SKLearnProcessor](https://sagemaker.readthedocs.io/en/stable/frameworks/sklearn/sagemaker.sklearn.html#sagemaker.sklearn.processing.SKLearnProcessor): handles Amazon SageMaker processing tasks for jobs using scikit-learn\n",
    "\n",
    "ScriptProcessor and FrameworkProcessor both require an image_uri. An image_uri requires that I specify, build, and register a docker container in ECR (Elastic Container Registery) to handle the task at hand.\n",
    "\n",
    "PySparkProcessor and SparkJarProcessor require that I specify the framework version (i.e. Spark version) and python version.\n",
    "\n",
    "SKLearnProcessor is the easiest, in that I only have to specify the framework version. My propensity for using the `pandas` library biases me toward the SKLearnProcessor.\n",
    "\n",
    "Per the [Developer Guide](https://docs.aws.amazon.com/sagemaker/latest/dg/sklearn.html) there are currently three supported framework versions for the SKLearnProcessor:\n",
    "\n",
    "<table>\n",
    "    <tr>\n",
    "        <td><b>Framework Version</b>\n",
    "            <ul>\n",
    "                <li>1.0-1</li>\n",
    "                <li>0.23-1</li>\n",
    "                <li>0.20.0</li>\n",
    "            </ul>\n",
    "        </td>\n",
    "        <td><b>Minimum Python Version</b>\n",
    "            <ul>\n",
    "                <li>3.7</li>\n",
    "                <li>3.6</li>\n",
    "                <li>2.7 or 3.4</li>\n",
    "            </ul>\n",
    "        </td>\n",
    "    </tr>\n",
    "</table>"
   ]
  },
  {
   "cell_type": "markdown",
   "metadata": {},
   "source": [
    "#### Library"
   ]
  },
  {
   "cell_type": "code",
   "execution_count": null,
   "metadata": {},
   "outputs": [],
   "source": [
    "from sagemaker.sklearn.processing import SKLearnProcessor"
   ]
  },
  {
   "cell_type": "markdown",
   "metadata": {},
   "source": [
    "#### Processor example"
   ]
  },
  {
   "cell_type": "code",
   "execution_count": null,
   "metadata": {},
   "outputs": [],
   "source": [
    "sklearn_processor = SKLearnProcessor(\n",
    "    framework_version=\"0.23-1\",\n",
    "    role=role,\n",
    "    instance_type=processing_instance_type,\n",
    "    instance_count=processing_instance_count,\n",
    "    base_job_name=\"ins-example-job\"\n",
    ")"
   ]
  },
  {
   "cell_type": "markdown",
   "metadata": {},
   "source": [
    "### Pipeline step\n",
    "\n",
    "Our first pass at creating a machine learning architecture at my job was to shove all the code into a single, huge repo. Functions and classes were defined individually, then pulled in and referenced in the code that completed the work. Changing any single component tended to have downstream consequences that were very difficult to anticipate.\n",
    "\n",
    "With the challenges presented by a single, monolith implementation in mind, I decided to pursue more of a microservices architecture when moving to SageMaker. The advantage of this architecutre is to have well devined input/output structures and formats. As long as the input and output followed the definitions, any of the code within the module could be changed with few (or no) downstream consequences.\n",
    "\n",
    "A step could be considered the same as a microservice. The step defines a piece of work to be done where the inputs and outputs are well defined. The output from one step can then be passed to another step, which has its own well defined inputs and outputs."
   ]
  },
  {
   "cell_type": "markdown",
   "metadata": {},
   "source": [
    "#### Step types\n",
    "\n",
    "There are several types of steps that can be defined in a SageMaker Pipeline. To see the documentation for steps, see [Steps](https://sagemaker.readthedocs.io/en/stable/workflows/pipelines/sagemaker.workflow.pipelines.html#steps) in readthedocs. Here are the different types of steps:\n",
    "\n",
    "- [Training](https://docs.aws.amazon.com/sagemaker/latest/APIReference/API_DescribeTrainingJob.html#API_DescribeTrainingJob_ResponseSyntax)\n",
    "- [Processing](https://docs.aws.amazon.com/sagemaker/latest/APIReference/API_DescribeProcessingJob.html#API_DescribeProcessingJob_ResponseSyntax)\n",
    "- [Transform](https://docs.aws.amazon.com/sagemaker/latest/APIReference/API_DescribeTransformJob.html#API_DescribeTransformJob_ResponseSyntax)\n",
    "- Tuning step\n",
    "    - [Describe hyperparameter tuning](https://docs.aws.amazon.com/sagemaker/latest/APIReference/API_DescribeHyperParameterTuningJob.html#API_DescribeHyperParameterTuningJob_ResponseSyntax)\n",
    "    - [List training jobs for hyperparameter tuning](https://docs.aws.amazon.com/sagemaker/latest/APIReference/API_ListTrainingJobsForHyperParameterTuningJob.html#API_ListTrainingJobsForHyperParameterTuningJob_ResponseSyntax)\n",
    "- [Create model](https://docs.aws.amazon.com/sagemaker/latest/APIReference/API_DescribeModel.html#API_DescribeModel_ResponseSyntax)\n",
    "- [Lambda](https://docs.aws.amazon.com/sagemaker/latest/APIReference/API_OutputParameter.html)\n",
    "- [Call back](https://docs.aws.amazon.com/sagemaker/latest/APIReference/API_OutputParameter.html)\n",
    "- [Quality check](https://sagemaker.readthedocs.io/en/stable/amazon_sagemaker_model_building_pipeline.html#qualitycheckstep)\n",
    "- [Clarify check](https://sagemaker.readthedocs.io/en/stable/amazon_sagemaker_model_building_pipeline.html#clarifycheckstep)\n",
    "- [EMR](https://sagemaker.readthedocs.io/en/stable/amazon_sagemaker_model_building_pipeline.html#emrstep)"
   ]
  },
  {
   "cell_type": "markdown",
   "metadata": {},
   "source": [
    "#### Processing step\n",
    "\n",
    "The step I'm currently interested in is the ProcessingStep. This step is specifically designed to take input, pass it through a `.py` script designated in the step, and produce output that can be saved and/or passed to subsequent steps. The inputs and outputs are specified in functions designed for that purpose:\n",
    "\n",
    "- [sagemaker.processing.ProcessingInput](https://sagemaker.readthedocs.io/en/stable/api/training/processing.html#sagemaker.processing.ProcessingInput): accepts parameters that specify an Amazon S3 input for a processing job and provides a method to turn those parameters into a dictionary\n",
    "- [sagemaker.processing.ProcessingOutput](https://sagemaker.readthedocs.io/en/stable/api/training/processing.html#sagemaker.processing.ProcessingOutput): accepts parameters that specify an Amazon S3 output for a processing job and provides a method to turn those parameters into a dictionary"
   ]
  },
  {
   "cell_type": "markdown",
   "metadata": {},
   "source": [
    "#### Library"
   ]
  },
  {
   "cell_type": "code",
   "execution_count": null,
   "metadata": {},
   "outputs": [],
   "source": [
    "from sagemaker.workflow.steps import ProcessingStep"
   ]
  },
  {
   "cell_type": "markdown",
   "metadata": {},
   "source": [
    "#### Step example"
   ]
  },
  {
   "cell_type": "code",
   "execution_count": null,
   "metadata": {},
   "outputs": [],
   "source": [
    "step_etl = ProcessingStep(\n",
    "    name=\"etl\",\n",
    "    processor=sklearn_processor,\n",
    "    inputs=[\n",
    "        ProcessingInput(source=input_uri, destination=\"/opt/ml/processing/input\")\n",
    "    ],\n",
    "    outputs=[\n",
    "        ProcessingOutput(\n",
    "            output_name=\"clean\",\n",
    "            source=\"/opt/ml/processing/output\",\n",
    "            destination=Join(\n",
    "                on=\"/\",\n",
    "                values=[\n",
    "                    \"s3://{}\".format(bucket),\n",
    "                    prefix,\n",
    "                    'clean'\n",
    "                ]\n",
    "            )\n",
    "        )\n",
    "    ]\n",
    "    code=\"etl.py\"\n",
    ")"
   ]
  },
  {
   "cell_type": "markdown",
   "metadata": {},
   "source": [
    "### Processing input and output\n",
    "\n",
    "When sending data into and extracting data out of the step, the `ProcessingInput()` and `ProcessingOutput()` functions are required. These functions allow me to specify what to send to the step as input and where to save the output expected to be produced by the step.\n",
    "\n",
    "The `input` and `output` parameters both require `source` and `destination` variables. Coming from an almost exclusive use of Jupyter Notebooks where I was writing to whatever current directory I happened to be working out of, it took me a hot minute to grasp what `source` and `destination` mean.\n",
    "\n",
    "- `source`: The location of the existing file or folder\n",
    "    - Under `input` the `source` is the S3 bucket where the data is stored and waiting to be used\n",
    "    - Under `output` the `source` is the filepath on the instance where the file or folder to be output is stored\n",
    "- `destination`: Where to put that file or folder\n",
    "    - Under `input` the `destination` is the filepath on the instance where the file or folder should be saved\n",
    "    - Under `output` the `destination` is the S3 bucket where the file or folder to be output is saved\n",
    "\n",
    "The input and output parameters can accept specific file names or a full folder. For this pipe, I wrote all files to the `raw` folder, then used that folder as my input. SageMaker then writes all of the files in that folder to the `destination`. I only return a single file for the output, but if I wrote multiple files to the folder specified as the `destination`, all of these would be written to the same S3 location as specified in the `destination`.\n",
    "\n",
    "I like using interactive SageMaker parameters for the `source`. This allows me to specify different datasets while using the same pipeline over and over again. When my model gets stale, I can just point the input at the current dataset and re-train my model using the same setup.\n",
    "\n",
    "The `destination` is pretty standard. For the most part, it's going to be the default `/opt/ml/processing/input` directory (more on this in the next post). However, occasionaly I need to update it to include subdirectories. I haven't found a reason to create an entirely new directory though."
   ]
  },
  {
   "cell_type": "markdown",
   "metadata": {},
   "source": [
    "#### Library"
   ]
  },
  {
   "cell_type": "code",
   "execution_count": null,
   "metadata": {},
   "outputs": [],
   "source": [
    "from sagemaker.processing import ProcessingInput, ProcessingOutput"
   ]
  },
  {
   "cell_type": "markdown",
   "metadata": {},
   "source": [
    "#### Example in step"
   ]
  },
  {
   "attachments": {
    "3_1_processing_in-out.png": {
     "image/png": "[encoded data removed]"
    }
   },
   "cell_type": "markdown",
   "metadata": {},
   "source": [
    "![3_1_processing_in-out.png](attachment:3_1_processing_in-out.png)"
   ]
  },
  {
   "cell_type": "markdown",
   "metadata": {},
   "source": [
    "### Pipeline\n",
    "\n",
    "The final module is to define the Pipeline. I give it a name (which is what shows up under Pipelines in the SageMaker Studio UI), specify the parameters (which are the parameters specified with the `ParameterInteger()` and `ParameterString()` functions that can be defined at runtime), and lists the steps.\n",
    "\n",
    "The order of the steps in the list doesn't control the flow through the pipeline. Flow is controled through [dependencies between steps](https://sagemaker.readthedocs.io/en/stable/amazon_sagemaker_model_building_pipeline.html#step-dependencies). There are two types of step dependencies: \n",
    "\n",
    "- data dependency\n",
    "- custom dependency\n",
    "\n",
    "I tend to use [data dependency](https://sagemaker.readthedocs.io/en/stable/amazon_sagemaker_model_building_pipeline.html#data-dependency-property-reference). This is where I pass the output of one step into a subsequent step, which is done by referencing the step and the `output_name`.\n",
    "\n",
    "Alternatively, you can specify a custom dependency to make sure that a pipeline execution doesn't start a new step until all dependent steps are complete.\n",
    "\n",
    "As there is only one step in this pipeline, there is no example of pipeline flow. I'll demonstrate this in a later post."
   ]
  },
  {
   "cell_type": "markdown",
   "metadata": {},
   "source": [
    "#### Library"
   ]
  },
  {
   "cell_type": "code",
   "execution_count": null,
   "metadata": {},
   "outputs": [],
   "source": [
    "from sagemaker.workflow.pipeline import Pipeline"
   ]
  },
  {
   "cell_type": "markdown",
   "metadata": {},
   "source": [
    "#### Pipe example"
   ]
  },
  {
   "cell_type": "code",
   "execution_count": null,
   "metadata": {},
   "outputs": [],
   "source": [
    "pipeline = Pipeline(\n",
    "    name=pipeline_name,\n",
    "    parameters=[\n",
    "        processing_instance_type,\n",
    "        processing_instance_count\n",
    "    ],\n",
    "    steps=[step_etl])"
   ]
  },
  {
   "cell_type": "markdown",
   "metadata": {},
   "source": [
    "## Tags\n",
    "\n",
    "The only major component not covered while discussing the relevent library modules is tags. Tags are common in enterprise environments. They help associate resources back to specific groups, users, or projects. Being able to specify tags for all the resources spun up in the pipeline is one of my favorite things. Spining up cloud resources in an enterprise environment without tags gets my resources shut down regardless of whether I'm done with them or not.\n",
    "\n",
    "Tags are specified when loading the pipeline to SageMaker."
   ]
  },
  {
   "cell_type": "code",
   "execution_count": null,
   "metadata": {},
   "outputs": [],
   "source": [
    "tags = [\n",
    "    {\"Key\": \"DATASET\", \"Value\": \"InsCOIL\"},\n",
    "    {\"Key\": \"SOURCE\", \"Value\": \"UCI\"}\n",
    "   ]"
   ]
  },
  {
   "cell_type": "markdown",
   "metadata": {},
   "source": [
    "## Upload and run pipe\n",
    "\n",
    "The last piece is to load the pipe and run it. There is a command to just create the pipe, but I prefer `upsert()`. `upsert()` creates the pipe if none exists and replaces the pipe if it already exists. This allows me to adjust my pipeline definition as many times as I want and just overwrite the old, broken code. \n",
    "\n",
    "If I had a situation where I didn't want to overwrite a production pipeline (or any non-prod reason I wouldn't want to overwrite), I'd change to use `create()`. To see all the options when using `sagemaker.workflow.pipeline` see the [Pipeline Documents](https://sagemaker.readthedocs.io/en/stable/workflows/pipelines/sagemaker.workflow.pipelines.html#pipeline)."
   ]
  },
  {
   "cell_type": "code",
   "execution_count": null,
   "metadata": {},
   "outputs": [],
   "source": [
    "pipeline.upsert(role_arn=role, tags=tags)\n",
    "\n",
    "pipeline.start(\n",
    "    execution_display_name=\"InsClean\")"
   ]
  },
  {
   "cell_type": "markdown",
   "metadata": {},
   "source": [
    "## Full pipeline code\n",
    "\n",
    "When all the above information is put together, the final code for the pipeline looks like this:"
   ]
  },
  {
   "cell_type": "code",
   "execution_count": null,
   "metadata": {},
   "outputs": [],
   "source": [
    "import sagemaker\n",
    "import sagemaker.session\n",
    "\n",
    "from sagemaker.workflow.parameters import (\n",
    "    ParameterInteger,\n",
    "    ParameterString)\n",
    "\n",
    "from sagemaker.workflow.functions import Join\n",
    "from sagemaker.sklearn.processing import SKLearnProcessor\n",
    "from sagemaker.workflow.steps import ProcessingStep\n",
    "from sagemaker.processing import ProcessingInput, ProcessingOutput\n",
    "from sagemaker.workflow.pipeline import Pipeline\n",
    "\n",
    "session = sagemaker.session.Session()\n",
    "region = session.boto_region_name\n",
    "role = sagemaker.get_execution_role()\n",
    "\n",
    "bucket = session.default_bucket()\n",
    "prefix = '1_ins_dataset'\n",
    "pipeline_name = \"InsExample\"  # SageMaker Pipeline name\n",
    "model_package_group_name = \"Insurance Co Example\"  # Model name in model registry\n",
    "framework_version = \"0.23-1\"\n",
    "\n",
    "processing_instance_count = ParameterInteger(name=\"ProcessingInstanceCount\", default_value=1)\n",
    "\n",
    "processing_instance_type = ParameterString(\n",
    "    name=\"ProcessingInstanceType\", default_value=\"ml.t3.medium\")\n",
    "\n",
    "input_uri = Join(on=\"/\", values=['s3://{}'.format(bucket),\n",
    "                                      prefix,\n",
    "                                      'raw'])\n",
    "\n",
    "tags = [\n",
    "    {\"Key\": \"DATASET\", \"Value\": \"InsCOIL\"},\n",
    "    {\"Key\": \"SOURCE\", \"Value\": \"UCI\"}\n",
    "   ]\n",
    "\n",
    "sklearn_processor = SKLearnProcessor(\n",
    "    framework_version=framework_version,\n",
    "    role=role,\n",
    "    instance_type=processing_instance_type,\n",
    "    instance_count=processing_instance_count,\n",
    "    base_job_name=\"ins-example-job\"\n",
    ")\n",
    "\n",
    "step_etl = ProcessingStep(\n",
    "    name=\"etl\",\n",
    "    processor=sklearn_processor,\n",
    "    inputs=[\n",
    "        ProcessingInput(source=input_uri, destination=\"/opt/ml/processing/input\")\n",
    "    ],\n",
    "    outputs=[\n",
    "        ProcessingOutput(\n",
    "            output_name=\"clean\",\n",
    "            source=\"/opt/ml/processing/output\",\n",
    "            destination=Join(\n",
    "                on=\"/\",\n",
    "                values=[\n",
    "                    \"s3://{}\".format(bucket),\n",
    "                    prefix,\n",
    "                    'clean'\n",
    "                ]\n",
    "            )\n",
    "        )\n",
    "    ],\n",
    "    code=\"etl.py\"\n",
    ")\n",
    "\n",
    "pipeline = Pipeline(\n",
    "    name=pipeline_name,\n",
    "    parameters=[\n",
    "        processing_instance_type,\n",
    "        processing_instance_count\n",
    "    ],\n",
    "    steps=[step_etl])\n",
    "\n",
    "pipeline.upsert(role_arn=role, tags=tags)\n",
    "\n",
    "pipeline.start(\n",
    "    execution_display_name=\"InsClean\")"
   ]
  },
  {
   "cell_type": "markdown",
   "metadata": {},
   "source": [
    "## Next steps\n",
    "\n",
    "Running this code before creating the `.py` to run won't do me any good. I need to define the `etl.py` script and make sure it's written to the expected folder. I'll discuss how to write this code in the next post."
   ]
  }
 ],
 "metadata": {
  "instance_type": "ml.t3.medium",
  "kernelspec": {
   "display_name": "Python 3 (Data Science)",
   "language": "python",
   "name": "python3__SAGEMAKER_INTERNAL__arn:aws:sagemaker:us-east-1:081325390199:image/datascience-1.0"
  },
  "language_info": {
   "codemirror_mode": {
    "name": "ipython",
    "version": 3
   },
   "file_extension": ".py",
   "mimetype": "text/x-python",
   "name": "python",
   "nbconvert_exporter": "python",
   "pygments_lexer": "ipython3",
   "version": "3.7.10"
  }
 },
 "nbformat": 4,
 "nbformat_minor": 4
}
