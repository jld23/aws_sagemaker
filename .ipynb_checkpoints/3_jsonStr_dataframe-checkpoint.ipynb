{
 "cells": [
  {
   "cell_type": "markdown",
   "id": "76e2532e-ef12-4ef7-83a8-19e58bf6ec52",
   "metadata": {},
   "source": [
    "# Json string to Dataframe"
   ]
  },
  {
   "cell_type": "code",
   "execution_count": 3,
   "id": "cf8db056-b2c3-4326-a9dd-c605a5e794cc",
   "metadata": {
    "tags": []
   },
   "outputs": [],
   "source": [
    "import numpy as np\n",
    "import pandas as pd\n",
    "import json\n",
    "import ast"
   ]
  },
  {
   "cell_type": "code",
   "execution_count": 4,
   "id": "1823c5a3-2414-4950-bcf1-6895b6959b32",
   "metadata": {
    "tags": []
   },
   "outputs": [
    {
     "data": {
      "text/html": [
       "<div>\n",
       "<style scoped>\n",
       "    .dataframe tbody tr th:only-of-type {\n",
       "        vertical-align: middle;\n",
       "    }\n",
       "\n",
       "    .dataframe tbody tr th {\n",
       "        vertical-align: top;\n",
       "    }\n",
       "\n",
       "    .dataframe thead th {\n",
       "        text-align: right;\n",
       "    }\n",
       "</style>\n",
       "<table border=\"1\" class=\"dataframe\">\n",
       "  <thead>\n",
       "    <tr style=\"text-align: right;\">\n",
       "      <th></th>\n",
       "      <th>true_false</th>\n",
       "      <th>one_hot</th>\n",
       "      <th>dates</th>\n",
       "      <th>floats</th>\n",
       "      <th>max_of_list</th>\n",
       "      <th>nunique_of_list</th>\n",
       "      <th>desc_stats</th>\n",
       "      <th>multi_label</th>\n",
       "      <th>random_col</th>\n",
       "      <th>other</th>\n",
       "    </tr>\n",
       "  </thead>\n",
       "  <tbody>\n",
       "    <tr>\n",
       "      <th>0</th>\n",
       "      <td>None</td>\n",
       "      <td>green</td>\n",
       "      <td>2022-05-29</td>\n",
       "      <td>8.5</td>\n",
       "      <td>5,9</td>\n",
       "      <td>apple,apple,grapefruit</td>\n",
       "      <td>6,2,8,0</td>\n",
       "      <td>None</td>\n",
       "      <td>7.0</td>\n",
       "      <td>3</td>\n",
       "    </tr>\n",
       "    <tr>\n",
       "      <th>1</th>\n",
       "      <td>true</td>\n",
       "      <td>purple</td>\n",
       "      <td>2022-03-19</td>\n",
       "      <td>5.0</td>\n",
       "      <td>5</td>\n",
       "      <td>3,5,9,4</td>\n",
       "      <td>8,2,5</td>\n",
       "      <td>grape,apple,pineapple,blueberry,strawberry</td>\n",
       "      <td>NaN</td>\n",
       "      <td>3</td>\n",
       "    </tr>\n",
       "    <tr>\n",
       "      <th>2</th>\n",
       "      <td>false</td>\n",
       "      <td>None</td>\n",
       "      <td>2022-09-25</td>\n",
       "      <td>6.0</td>\n",
       "      <td>4,7</td>\n",
       "      <td>orange</td>\n",
       "      <td>0,6,3,3,0</td>\n",
       "      <td>blueberry,blueberry,blueberry,pineapple,grape</td>\n",
       "      <td>7.0</td>\n",
       "      <td>4</td>\n",
       "    </tr>\n",
       "    <tr>\n",
       "      <th>3</th>\n",
       "      <td>1</td>\n",
       "      <td>purple</td>\n",
       "      <td>2022-03-06</td>\n",
       "      <td>9.0</td>\n",
       "      <td>8,4</td>\n",
       "      <td>blueberry,grapefruit,apple</td>\n",
       "      <td>None</td>\n",
       "      <td>pineapple,apple,apple,apple,apple,grapefruit</td>\n",
       "      <td>2.0</td>\n",
       "      <td>3</td>\n",
       "    </tr>\n",
       "    <tr>\n",
       "      <th>4</th>\n",
       "      <td>false</td>\n",
       "      <td>None</td>\n",
       "      <td>2022-06-21</td>\n",
       "      <td>5.0</td>\n",
       "      <td>0,4,0,5,5,1</td>\n",
       "      <td>0</td>\n",
       "      <td>2,9,1,2,8</td>\n",
       "      <td>orange,orange,grapefruit,blueberry</td>\n",
       "      <td>9.0</td>\n",
       "      <td>0</td>\n",
       "    </tr>\n",
       "    <tr>\n",
       "      <th>...</th>\n",
       "      <td>...</td>\n",
       "      <td>...</td>\n",
       "      <td>...</td>\n",
       "      <td>...</td>\n",
       "      <td>...</td>\n",
       "      <td>...</td>\n",
       "      <td>...</td>\n",
       "      <td>...</td>\n",
       "      <td>...</td>\n",
       "      <td>...</td>\n",
       "    </tr>\n",
       "    <tr>\n",
       "      <th>9995</th>\n",
       "      <td>1</td>\n",
       "      <td>blue</td>\n",
       "      <td>2022-07-13</td>\n",
       "      <td>2.5</td>\n",
       "      <td>9</td>\n",
       "      <td>6,3,3,8,5</td>\n",
       "      <td>3,2,2,3,0</td>\n",
       "      <td>grapefruit,pineapple</td>\n",
       "      <td>NaN</td>\n",
       "      <td>3</td>\n",
       "    </tr>\n",
       "    <tr>\n",
       "      <th>9996</th>\n",
       "      <td>0</td>\n",
       "      <td>blue</td>\n",
       "      <td>2022-10-07</td>\n",
       "      <td>2.0</td>\n",
       "      <td>6</td>\n",
       "      <td>grape,blueberry,grape</td>\n",
       "      <td>2,2</td>\n",
       "      <td>grapefruit,strawberry,pineapple,apple,blueberry</td>\n",
       "      <td>7.0</td>\n",
       "      <td>1</td>\n",
       "    </tr>\n",
       "    <tr>\n",
       "      <th>9997</th>\n",
       "      <td>None</td>\n",
       "      <td>red</td>\n",
       "      <td>2022-10-13</td>\n",
       "      <td>1.0</td>\n",
       "      <td>3,8,9,5,8</td>\n",
       "      <td>6,2,8,2,0</td>\n",
       "      <td>7,6,1,8,1</td>\n",
       "      <td>orange</td>\n",
       "      <td>1.0</td>\n",
       "      <td>1</td>\n",
       "    </tr>\n",
       "    <tr>\n",
       "      <th>9998</th>\n",
       "      <td>0</td>\n",
       "      <td>red</td>\n",
       "      <td>2022-01-24</td>\n",
       "      <td>9.0</td>\n",
       "      <td>7</td>\n",
       "      <td>orange,blueberry,apple,apple</td>\n",
       "      <td>None</td>\n",
       "      <td>pineapple,grapefruit,orange,strawberry,grapefr...</td>\n",
       "      <td>4.0</td>\n",
       "      <td>2</td>\n",
       "    </tr>\n",
       "    <tr>\n",
       "      <th>9999</th>\n",
       "      <td>0</td>\n",
       "      <td>green</td>\n",
       "      <td>2022-05-11</td>\n",
       "      <td>4.0</td>\n",
       "      <td>6,0,3,5</td>\n",
       "      <td>6,0,7</td>\n",
       "      <td>5,7</td>\n",
       "      <td>orange,strawberry,apple,apple,apple</td>\n",
       "      <td>9.0</td>\n",
       "      <td>3</td>\n",
       "    </tr>\n",
       "  </tbody>\n",
       "</table>\n",
       "<p>10000 rows × 10 columns</p>\n",
       "</div>"
      ],
      "text/plain": [
       "     true_false one_hot       dates  floats  max_of_list  \\\n",
       "0          None   green  2022-05-29     8.5          5,9   \n",
       "1          true  purple  2022-03-19     5.0            5   \n",
       "2         false    None  2022-09-25     6.0          4,7   \n",
       "3             1  purple  2022-03-06     9.0          8,4   \n",
       "4         false    None  2022-06-21     5.0  0,4,0,5,5,1   \n",
       "...         ...     ...         ...     ...          ...   \n",
       "9995          1    blue  2022-07-13     2.5            9   \n",
       "9996          0    blue  2022-10-07     2.0            6   \n",
       "9997       None     red  2022-10-13     1.0    3,8,9,5,8   \n",
       "9998          0     red  2022-01-24     9.0            7   \n",
       "9999          0   green  2022-05-11     4.0      6,0,3,5   \n",
       "\n",
       "                   nunique_of_list desc_stats  \\\n",
       "0           apple,apple,grapefruit    6,2,8,0   \n",
       "1                          3,5,9,4      8,2,5   \n",
       "2                           orange  0,6,3,3,0   \n",
       "3       blueberry,grapefruit,apple       None   \n",
       "4                                0  2,9,1,2,8   \n",
       "...                            ...        ...   \n",
       "9995                     6,3,3,8,5  3,2,2,3,0   \n",
       "9996         grape,blueberry,grape        2,2   \n",
       "9997                     6,2,8,2,0  7,6,1,8,1   \n",
       "9998  orange,blueberry,apple,apple       None   \n",
       "9999                         6,0,7        5,7   \n",
       "\n",
       "                                            multi_label  random_col  other  \n",
       "0                                                  None         7.0      3  \n",
       "1            grape,apple,pineapple,blueberry,strawberry         NaN      3  \n",
       "2         blueberry,blueberry,blueberry,pineapple,grape         7.0      4  \n",
       "3          pineapple,apple,apple,apple,apple,grapefruit         2.0      3  \n",
       "4                    orange,orange,grapefruit,blueberry         9.0      0  \n",
       "...                                                 ...         ...    ...  \n",
       "9995                               grapefruit,pineapple         NaN      3  \n",
       "9996    grapefruit,strawberry,pineapple,apple,blueberry         7.0      1  \n",
       "9997                                             orange         1.0      1  \n",
       "9998  pineapple,grapefruit,orange,strawberry,grapefr...         4.0      2  \n",
       "9999                orange,strawberry,apple,apple,apple         9.0      3  \n",
       "\n",
       "[10000 rows x 10 columns]"
      ]
     },
     "execution_count": 4,
     "metadata": {},
     "output_type": "execute_result"
    }
   ],
   "source": [
    "df = pd.read_parquet('data/feats.parquet')\n",
    "df"
   ]
  },
  {
   "cell_type": "code",
   "execution_count": 5,
   "id": "edc49c2b-59df-41f7-a526-6382fe36b9e9",
   "metadata": {
    "tags": []
   },
   "outputs": [
    {
     "data": {
      "text/plain": [
       "'{\"true_false\":null,\"one_hot\":\"green\",\"dates\":1653782400000,\"floats\":8.5,\"max_of_list\":\"5,9\",\"nunique_of_list\":\"apple,apple,grapefruit\",\"desc_stats\":\"6,2,8,0\",\"multi_label\":null,\"random_col\":7.0,\"other\":3}'"
      ]
     },
     "execution_count": 5,
     "metadata": {},
     "output_type": "execute_result"
    }
   ],
   "source": [
    "payload = df.iloc[0,:].to_json()\n",
    "payload"
   ]
  },
  {
   "cell_type": "code",
   "execution_count": 6,
   "id": "48d7b37a-c6fb-42bf-8ed6-f701e4c947bd",
   "metadata": {
    "tags": []
   },
   "outputs": [
    {
     "data": {
      "text/plain": [
       "{'true_false': None,\n",
       " 'one_hot': 'green',\n",
       " 'dates': 1653782400000,\n",
       " 'floats': 8.5,\n",
       " 'max_of_list': '5,9',\n",
       " 'nunique_of_list': 'apple,apple,grapefruit',\n",
       " 'desc_stats': '6,2,8,0',\n",
       " 'multi_label': None,\n",
       " 'random_col': 7.0,\n",
       " 'other': 3}"
      ]
     },
     "execution_count": 6,
     "metadata": {},
     "output_type": "execute_result"
    }
   ],
   "source": [
    "json.loads(payload)"
   ]
  },
  {
   "cell_type": "code",
   "execution_count": 7,
   "id": "667ffd33-52df-4244-b2c5-234bd577f080",
   "metadata": {
    "tags": []
   },
   "outputs": [
    {
     "data": {
      "text/plain": [
       "dict"
      ]
     },
     "execution_count": 7,
     "metadata": {},
     "output_type": "execute_result"
    }
   ],
   "source": [
    "json_data = json.loads(payload)\n",
    "type(json_data)"
   ]
  },
  {
   "cell_type": "markdown",
   "id": "6d44ece1-b1bd-47bd-b330-c6060902dffb",
   "metadata": {},
   "source": [
    "## Straight to DF"
   ]
  },
  {
   "cell_type": "code",
   "execution_count": 8,
   "id": "021fb341-462a-4942-9259-f2268173c876",
   "metadata": {
    "tags": []
   },
   "outputs": [
    {
     "data": {
      "text/html": [
       "<div>\n",
       "<style scoped>\n",
       "    .dataframe tbody tr th:only-of-type {\n",
       "        vertical-align: middle;\n",
       "    }\n",
       "\n",
       "    .dataframe tbody tr th {\n",
       "        vertical-align: top;\n",
       "    }\n",
       "\n",
       "    .dataframe thead th {\n",
       "        text-align: right;\n",
       "    }\n",
       "</style>\n",
       "<table border=\"1\" class=\"dataframe\">\n",
       "  <thead>\n",
       "    <tr style=\"text-align: right;\">\n",
       "      <th></th>\n",
       "      <th>true_false</th>\n",
       "      <th>one_hot</th>\n",
       "      <th>dates</th>\n",
       "      <th>floats</th>\n",
       "      <th>max_of_list</th>\n",
       "      <th>nunique_of_list</th>\n",
       "      <th>desc_stats</th>\n",
       "      <th>multi_label</th>\n",
       "      <th>random_col</th>\n",
       "      <th>other</th>\n",
       "    </tr>\n",
       "  </thead>\n",
       "  <tbody>\n",
       "    <tr>\n",
       "      <th>0</th>\n",
       "      <td>None</td>\n",
       "      <td>green</td>\n",
       "      <td>1653782400000</td>\n",
       "      <td>8.5</td>\n",
       "      <td>5,9</td>\n",
       "      <td>apple,apple,grapefruit</td>\n",
       "      <td>6,2,8,0</td>\n",
       "      <td>None</td>\n",
       "      <td>7.0</td>\n",
       "      <td>3</td>\n",
       "    </tr>\n",
       "  </tbody>\n",
       "</table>\n",
       "</div>"
      ],
      "text/plain": [
       "  true_false one_hot          dates  floats max_of_list  \\\n",
       "0       None   green  1653782400000     8.5         5,9   \n",
       "\n",
       "          nunique_of_list desc_stats multi_label  random_col  other  \n",
       "0  apple,apple,grapefruit    6,2,8,0        None         7.0      3  "
      ]
     },
     "execution_count": 8,
     "metadata": {},
     "output_type": "execute_result"
    }
   ],
   "source": [
    "pd.DataFrame(json_data, index=[0,])"
   ]
  },
  {
   "cell_type": "markdown",
   "id": "2d234f38-0d4e-41ec-8a71-388b4e657763",
   "metadata": {},
   "source": [
    "## Turn values into lists"
   ]
  },
  {
   "cell_type": "code",
   "execution_count": 9,
   "id": "9f93db7f-0184-4b7c-9680-05b81b35352b",
   "metadata": {
    "tags": []
   },
   "outputs": [
    {
     "data": {
      "text/plain": [
       "{'true_false': [None],\n",
       " 'one_hot': ['green'],\n",
       " 'dates': [1653782400000],\n",
       " 'floats': [8.5],\n",
       " 'max_of_list': ['5,9'],\n",
       " 'nunique_of_list': ['apple,apple,grapefruit'],\n",
       " 'desc_stats': ['6,2,8,0'],\n",
       " 'multi_label': [None],\n",
       " 'random_col': [7.0],\n",
       " 'other': [3]}"
      ]
     },
     "execution_count": 9,
     "metadata": {},
     "output_type": "execute_result"
    }
   ],
   "source": [
    "json_dict = {}\n",
    "for i, val in enumerate(json_data.keys()):\n",
    "    json_dict[val] = [json_data[val]]\n",
    "json_dict"
   ]
  },
  {
   "cell_type": "code",
   "execution_count": 10,
   "id": "a5b88853-cca2-4277-bece-474d93d9f231",
   "metadata": {
    "tags": []
   },
   "outputs": [
    {
     "data": {
      "text/html": [
       "<div>\n",
       "<style scoped>\n",
       "    .dataframe tbody tr th:only-of-type {\n",
       "        vertical-align: middle;\n",
       "    }\n",
       "\n",
       "    .dataframe tbody tr th {\n",
       "        vertical-align: top;\n",
       "    }\n",
       "\n",
       "    .dataframe thead th {\n",
       "        text-align: right;\n",
       "    }\n",
       "</style>\n",
       "<table border=\"1\" class=\"dataframe\">\n",
       "  <thead>\n",
       "    <tr style=\"text-align: right;\">\n",
       "      <th></th>\n",
       "      <th>true_false</th>\n",
       "      <th>one_hot</th>\n",
       "      <th>dates</th>\n",
       "      <th>floats</th>\n",
       "      <th>max_of_list</th>\n",
       "      <th>nunique_of_list</th>\n",
       "      <th>desc_stats</th>\n",
       "      <th>multi_label</th>\n",
       "      <th>random_col</th>\n",
       "      <th>other</th>\n",
       "    </tr>\n",
       "  </thead>\n",
       "  <tbody>\n",
       "    <tr>\n",
       "      <th>0</th>\n",
       "      <td>None</td>\n",
       "      <td>green</td>\n",
       "      <td>1653782400000</td>\n",
       "      <td>8.5</td>\n",
       "      <td>5,9</td>\n",
       "      <td>apple,apple,grapefruit</td>\n",
       "      <td>6,2,8,0</td>\n",
       "      <td>None</td>\n",
       "      <td>7.0</td>\n",
       "      <td>3</td>\n",
       "    </tr>\n",
       "  </tbody>\n",
       "</table>\n",
       "</div>"
      ],
      "text/plain": [
       "  true_false one_hot          dates  floats max_of_list  \\\n",
       "0       None   green  1653782400000     8.5         5,9   \n",
       "\n",
       "          nunique_of_list desc_stats multi_label  random_col  other  \n",
       "0  apple,apple,grapefruit    6,2,8,0        None         7.0      3  "
      ]
     },
     "execution_count": 10,
     "metadata": {},
     "output_type": "execute_result"
    }
   ],
   "source": [
    "pd.DataFrame(json_dict)"
   ]
  },
  {
   "cell_type": "markdown",
   "id": "56491375-a7d0-4646-85f5-f5c7d8dd36e8",
   "metadata": {},
   "source": [
    "## From records"
   ]
  },
  {
   "cell_type": "code",
   "execution_count": 11,
   "id": "b75334b8-241a-4612-a185-bcbe44b4bc35",
   "metadata": {
    "tags": []
   },
   "outputs": [
    {
     "data": {
      "text/html": [
       "<div>\n",
       "<style scoped>\n",
       "    .dataframe tbody tr th:only-of-type {\n",
       "        vertical-align: middle;\n",
       "    }\n",
       "\n",
       "    .dataframe tbody tr th {\n",
       "        vertical-align: top;\n",
       "    }\n",
       "\n",
       "    .dataframe thead th {\n",
       "        text-align: right;\n",
       "    }\n",
       "</style>\n",
       "<table border=\"1\" class=\"dataframe\">\n",
       "  <thead>\n",
       "    <tr style=\"text-align: right;\">\n",
       "      <th></th>\n",
       "      <th>dates</th>\n",
       "      <th>desc_stats</th>\n",
       "      <th>floats</th>\n",
       "      <th>max_of_list</th>\n",
       "      <th>multi_label</th>\n",
       "      <th>nunique_of_list</th>\n",
       "      <th>one_hot</th>\n",
       "      <th>other</th>\n",
       "      <th>random_col</th>\n",
       "      <th>true_false</th>\n",
       "    </tr>\n",
       "  </thead>\n",
       "  <tbody>\n",
       "    <tr>\n",
       "      <th>0</th>\n",
       "      <td>1653782400000</td>\n",
       "      <td>6,2,8,0</td>\n",
       "      <td>8.5</td>\n",
       "      <td>5,9</td>\n",
       "      <td>None</td>\n",
       "      <td>apple,apple,grapefruit</td>\n",
       "      <td>green</td>\n",
       "      <td>3</td>\n",
       "      <td>7.0</td>\n",
       "      <td>None</td>\n",
       "    </tr>\n",
       "  </tbody>\n",
       "</table>\n",
       "</div>"
      ],
      "text/plain": [
       "           dates desc_stats  floats max_of_list multi_label  \\\n",
       "0  1653782400000    6,2,8,0     8.5         5,9        None   \n",
       "\n",
       "          nunique_of_list one_hot  other  random_col true_false  \n",
       "0  apple,apple,grapefruit   green      3         7.0       None  "
      ]
     },
     "execution_count": 11,
     "metadata": {},
     "output_type": "execute_result"
    }
   ],
   "source": [
    "pd.DataFrame.from_records(json_data, index=[0,])"
   ]
  },
  {
   "cell_type": "code",
   "execution_count": null,
   "id": "9e3e0cbd-c6b8-4edc-b9ac-d82e8fca1228",
   "metadata": {},
   "outputs": [],
   "source": []
  }
 ],
 "metadata": {
  "kernelspec": {
   "display_name": "Python 3 (Data Science)",
   "language": "python",
   "name": "python3__SAGEMAKER_INTERNAL__arn:aws:sagemaker:us-east-1:081325390199:image/datascience-1.0"
  },
  "language_info": {
   "codemirror_mode": {
    "name": "ipython",
    "version": 3
   },
   "file_extension": ".py",
   "mimetype": "text/x-python",
   "name": "python",
   "nbconvert_exporter": "python",
   "pygments_lexer": "ipython3",
   "version": "3.7.10"
  }
 },
 "nbformat": 4,
 "nbformat_minor": 5
}
