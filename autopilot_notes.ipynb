{
 "cells": [
  {
   "cell_type": "markdown",
   "id": "54a54c84-481b-49ac-ad68-324859b8437b",
   "metadata": {},
   "source": [
    "# AWS Autopilot"
   ]
  },
  {
   "cell_type": "markdown",
   "id": "65fce5de-bcb7-4825-9e4b-c56aa9b28eae",
   "metadata": {},
   "source": [
    "## Resources\n",
    "\n",
    "- [Developer Guide: Autopilot](https://docs.aws.amazon.com/sagemaker/latest/dg/autopilot-automate-model-development.html)\n",
    "- [sagemaker module docs](https://boto3.amazonaws.com/v1/documentation/api/latest/reference/services/sagemaker.html)\n",
    "- [Sagemaker API Reference](https://docs.aws.amazon.com/sagemaker/latest/APIReference/API_Operations.html)\n",
    "- Fairness papers (both very similar)\n",
    "    - [Fairness Measures for Machine Learning in Finance](https://pages.awscloud.com/rs/112-TZM-766/images/Fairness.Measures.for.Machine.Learning.in.Finance.pdf)\n",
    "    - [Amazon AI Fairness and Explainability Whitepaper](https://pages.awscloud.com/rs/112-TZM-766/images/Amazon.AI.Fairness.and.Explainability.Whitepaper.pdf)\n",
    "- [Source code](https://github.com/aws/sagemaker-python-sdk/tree/master/src/sagemaker/automl)"
   ]
  },
  {
   "cell_type": "markdown",
   "id": "7dcbee36-9ffc-4903-829c-838aab9887df",
   "metadata": {},
   "source": [
    "## Examples\n",
    "\n",
    "- [AWS's Sagemaker Examples on GitHub](https://github.com/aws/amazon-sagemaker-examples)\n",
    "    - [Direct Marketing with Amazon SageMaker Autopilot](https://github.com/aws/amazon-sagemaker-examples/blob/main/autopilot/sagemaker_autopilot_direct_marketing.ipynb)\n",
    "    - [Customer Churn Prediction with Amazon SageMaker Autopilot](https://github.com/aws/amazon-sagemaker-examples/blob/main/autopilot/autopilot_customer_churn.ipynb)\n",
    "    - [Top Candidates Customer Churn Prediction with Amazon SageMaker Autopilot and Batch Transform (Python SDK)](https://github.com/aws/amazon-sagemaker-examples/blob/main/autopilot/autopilot_customer_churn_high_level_with_evaluation.ipynb)\n",
    "    - [Bringing your own data processing code to SageMaker Autopilot](https://github.com/aws/amazon-sagemaker-examples/blob/main/autopilot/custom-feature-selection/Feature_selection_autopilot.ipynb)\n",
    "    - [Explaining Autopilot Models](https://github.com/aws/amazon-sagemaker-examples/blob/main/autopilot/model-explainability/explaining_customer_churn_model.ipynb)\n",
    "    - [Move Amazon SageMaker Autopilot ML models from experimentation to production using Amazon SageMaker Pipelines](https://github.com/aws/amazon-sagemaker-examples/blob/main/autopilot/sagemaker-autopilot-pipelines/autopilot_pipelines_demo_notebook.ipynb)\n",
    "    - [Housing Price Prediction with Amazon SageMaker Autopilot](https://github.com/aws/amazon-sagemaker-examples/blob/main/autopilot/autopilot_california_housing.ipynb)\n",
    "    - [Regression with Amazon SageMaker Autopilot (Parquet input)](https://github.com/aws/amazon-sagemaker-examples/blob/main/autopilot/sagemaker_autopilot_abalone_parquet_input.ipynb)\n",
    "    - [Deploy Autopilot models to serverless inference endpoints](https://github.com/aws/amazon-sagemaker-examples/blob/main/autopilot/autopilot-serverless-inference/autopilot-models-serverless-inference.ipynb)\n",
    "- [Data Science on AWS (book repo)](https://github.com/data-science-on-aws/data-science-on-aws)\n",
    "    - [Data Science on AWS (book repo) - Ch 3](https://github.com/data-science-on-aws/data-science-on-aws/tree/main/03_automl)"
   ]
  },
  {
   "cell_type": "markdown",
   "id": "4e7d922c-d4ba-4c58-bd23-ce0bb952ea76",
   "metadata": {},
   "source": [
    "SageMaker Autopilot job consists of the following high-level steps : \n",
    "- **Analyzing Data**, where the dataset is analyzed and Autopilot comes up with a list of ML pipelines that should be tried out on the dataset. The dataset is also split into train and validation sets.\n",
    "- **Feature Engineering**, where Autopilot performs feature transformation on individual features of the dataset as well as at an aggregate level.\n",
    "- **Model Tuning**, where the top performing pipeline is selected along with the optimal hyperparameters for the training algorithm (the last stage of the pipeline). "
   ]
  }
 ],
 "metadata": {
  "instance_type": "ml.t3.medium",
  "kernelspec": {
   "display_name": "Python 3 (Data Science)",
   "language": "python",
   "name": "python3__SAGEMAKER_INTERNAL__arn:aws:sagemaker:us-east-1:081325390199:image/datascience-1.0"
  },
  "language_info": {
   "codemirror_mode": {
    "name": "ipython",
    "version": 3
   },
   "file_extension": ".py",
   "mimetype": "text/x-python",
   "name": "python",
   "nbconvert_exporter": "python",
   "pygments_lexer": "ipython3",
   "version": "3.7.10"
  }
 },
 "nbformat": 4,
 "nbformat_minor": 5
}
