{
 "cells": [
  {
   "cell_type": "code",
   "execution_count": 2,
   "id": "e92f7915-32ca-4e4b-9515-0ad7ed3641c6",
   "metadata": {
    "tags": []
   },
   "outputs": [],
   "source": [
    "import pandas as pd\n",
    "import numpy as np\n",
    "import datetime\n",
    "import random\n",
    "\n",
    "import sagemaker\n",
    "import sagemaker.session\n",
    "\n",
    "from sagemaker.workflow.parameters import (\n",
    "    ParameterInteger,\n",
    "    ParameterString\n",
    ")\n",
    "\n",
    "from sagemaker.sklearn.processing import SKLearnProcessor\n",
    "from sagemaker.processing import ProcessingInput, ProcessingOutput\n",
    "from sagemaker.workflow.steps import ProcessingStep, TrainingStep\n",
    "from sagemaker.workflow.functions import Join\n",
    "from sagemaker.workflow.execution_variables import ExecutionVariables\n",
    "from sagemaker.sklearn.estimator import SKLearn\n",
    "# import sagemaker_containers\n",
    "\n",
    "from sagemaker.workflow.pipeline import Pipeline\n",
    "\n",
    "import os\n",
    "from sklearn.model_selection import train_test_split\n",
    "from time import gmtime, strftime, sleep\n",
    "import boto3\n",
    "import joblib"
   ]
  },
  {
   "cell_type": "code",
   "execution_count": 3,
   "id": "b053e448-602d-4887-9bc5-6b5299edb98a",
   "metadata": {
    "tags": []
   },
   "outputs": [],
   "source": [
    "session = sagemaker.session.Session()\n",
    "region = session.boto_region_name\n",
    "role = sagemaker.get_execution_role()\n",
    "bucket = session.default_bucket()\n",
    "prefix = 'custom_preprocessing'\n",
    "\n",
    "timestamp_suffix = strftime(\"%Y-%m-%d-%H%M%S\", gmtime())\n",
    "folder_name = prefix + '-' + timestamp_suffix\n",
    "prefix_path = f's3://{bucket}/{folder_name}'"
   ]
  },
  {
   "cell_type": "code",
   "execution_count": 4,
   "id": "63529280-c93f-4935-aaa2-b776adb7ca66",
   "metadata": {
    "tags": []
   },
   "outputs": [],
   "source": [
    "tags = [\n",
    "    {\"Key\": \"PLATFORM\", \"Value\": \"FO-ML\"},\n",
    "    {\"Key\": \"BUSINESS_REGION\", \"Value\": \"GLOBAL\"},\n",
    "    {\"Key\": \"BUSINESS_UNIT\", \"Value\": \"MOBILITY\"},\n",
    "    {\"Key\": \"CLIENT\", \"Value\": \"MULTI_TENANT\"}\n",
    "   ]"
   ]
  },
  {
   "cell_type": "markdown",
   "id": "ca93f176-c3b9-4526-b60b-c9a36d0921d6",
   "metadata": {
    "tags": []
   },
   "source": [
    "## Set up and kick off autopilot job"
   ]
  },
  {
   "cell_type": "code",
   "execution_count": 19,
   "id": "94a3b2f4-02c5-40c8-bdc7-a6d1ab442e5b",
   "metadata": {
    "tags": []
   },
   "outputs": [],
   "source": [
    "input_data_config = [\n",
    "    {\n",
    "        \"DataSource\": {\n",
    "            \"S3DataSource\": {\n",
    "                \"S3DataType\": \"S3Prefix\",\n",
    "                \"S3Uri\": \"s3://{}/{}/{}/training_data_new\".format(bucket, folder_name, \"components\"),\n",
    "            }\n",
    "        },\n",
    "        \"TargetAttributeName\": \"target\",\n",
    "    }\n",
    "]\n",
    "\n",
    "output_data_config = {\"S3OutputPath\": \"s3://{}/{}/{}/autopilot_job_output\".format(bucket, folder_name, \"components\")}\n",
    "\n",
    "AutoML_Job_Config = {\n",
    "    \"CompletionCriteria\": {\n",
    "        # we set MaxCandidate to 50 to have shorter run time. Please adjust this for your use case.\n",
    "        \"MaxCandidates\": 50,\n",
    "        \"MaxAutoMLJobRuntimeInSeconds\": 1800,\n",
    "    }\n",
    "}"
   ]
  },
  {
   "cell_type": "code",
   "execution_count": 20,
   "id": "64b1e09a-0f71-4425-b83e-efb0274a70d8",
   "metadata": {
    "tags": []
   },
   "outputs": [
    {
     "name": "stdout",
     "output_type": "stream",
     "text": [
      "AutoMLJobName: automl-test-2023-03-01-181930\n"
     ]
    },
    {
     "data": {
      "text/plain": [
       "{'AutoMLJobArn': 'arn:aws:sagemaker:us-east-1:707031497630:automl-job/automl-test-2023-03-01-181930',\n",
       " 'ResponseMetadata': {'RequestId': '23e59326-ec40-4c0c-bacd-b742e816c1ff',\n",
       "  'HTTPStatusCode': 200,\n",
       "  'HTTPHeaders': {'x-amzn-requestid': '23e59326-ec40-4c0c-bacd-b742e816c1ff',\n",
       "   'content-type': 'application/x-amz-json-1.1',\n",
       "   'content-length': '100',\n",
       "   'date': 'Wed, 01 Mar 2023 18:32:55 GMT'},\n",
       "  'RetryAttempts': 0}}"
      ]
     },
     "execution_count": 20,
     "metadata": {},
     "output_type": "execute_result"
    }
   ],
   "source": [
    "sm = boto3.Session().client(service_name=\"sagemaker\", region_name=region)\n",
    "timestamp_suffix = strftime(\"%d-%H-%M-%S\", gmtime())\n",
    "\n",
    "auto_ml_job_name = \"automl-test-\" + timestamp_suffix\n",
    "print(\"AutoMLJobName: \" + auto_ml_job_name)\n",
    "\n",
    "sm.create_auto_ml_job(\n",
    "    AutoMLJobName=auto_ml_job_name,\n",
    "    InputDataConfig=input_data_config,\n",
    "    OutputDataConfig=output_data_config,\n",
    "    AutoMLJobConfig=AutoML_Job_Config,\n",
    "    RoleArn=role,\n",
    "    Tags=tags\n",
    ")"
   ]
  },
  {
   "cell_type": "code",
   "execution_count": 21,
   "id": "e7b25322-f094-471d-848c-015f6503ceea",
   "metadata": {
    "scrolled": true,
    "tags": []
   },
   "outputs": [
    {
     "name": "stdout",
     "output_type": "stream",
     "text": [
      "JobStatus - Secondary Status\n",
      "------------------------------\n",
      "InProgress - AnalyzingData\n",
      "InProgress - AnalyzingData\n",
      "InProgress - AnalyzingData\n",
      "InProgress - AnalyzingData\n",
      "InProgress - AnalyzingData\n",
      "InProgress - AnalyzingData\n",
      "InProgress - AnalyzingData\n",
      "InProgress - AnalyzingData\n",
      "InProgress - AnalyzingData\n",
      "InProgress - AnalyzingData\n",
      "InProgress - AnalyzingData\n",
      "InProgress - AnalyzingData\n",
      "InProgress - AnalyzingData\n",
      "InProgress - AnalyzingData\n",
      "InProgress - AnalyzingData\n",
      "InProgress - AnalyzingData\n",
      "InProgress - AnalyzingData\n",
      "InProgress - AnalyzingData\n",
      "InProgress - FeatureEngineering\n",
      "InProgress - FeatureEngineering\n",
      "InProgress - FeatureEngineering\n",
      "InProgress - FeatureEngineering\n",
      "InProgress - FeatureEngineering\n",
      "InProgress - FeatureEngineering\n",
      "InProgress - FeatureEngineering\n",
      "InProgress - FeatureEngineering\n",
      "InProgress - FeatureEngineering\n",
      "InProgress - FeatureEngineering\n",
      "InProgress - FeatureEngineering\n",
      "InProgress - FeatureEngineering\n",
      "InProgress - FeatureEngineering\n",
      "InProgress - FeatureEngineering\n",
      "InProgress - FeatureEngineering\n",
      "InProgress - FeatureEngineering\n",
      "InProgress - FeatureEngineering\n",
      "InProgress - FeatureEngineering\n",
      "InProgress - FeatureEngineering\n",
      "InProgress - FeatureEngineering\n",
      "InProgress - ModelTuning\n",
      "InProgress - ModelTuning\n",
      "InProgress - ModelTuning\n",
      "InProgress - ModelTuning\n",
      "InProgress - ModelTuning\n",
      "InProgress - ModelTuning\n",
      "InProgress - ModelTuning\n",
      "InProgress - ModelTuning\n",
      "InProgress - ModelTuning\n",
      "InProgress - ModelTuning\n",
      "InProgress - ModelTuning\n",
      "InProgress - ModelTuning\n",
      "InProgress - ModelTuning\n",
      "InProgress - ModelTuning\n",
      "InProgress - ModelTuning\n",
      "InProgress - ModelTuning\n",
      "InProgress - ModelTuning\n",
      "InProgress - ModelTuning\n",
      "InProgress - ModelTuning\n",
      "InProgress - ModelTuning\n",
      "InProgress - ModelTuning\n",
      "InProgress - ModelTuning\n",
      "InProgress - ModelTuning\n",
      "Completed - MaxAutoMLJobRuntimeReached\n"
     ]
    }
   ],
   "source": [
    "print(\"JobStatus - Secondary Status\")\n",
    "print(\"------------------------------\")\n",
    "\n",
    "\n",
    "describe_response = sm.describe_auto_ml_job(AutoMLJobName=auto_ml_job_name)\n",
    "print(describe_response[\"AutoMLJobStatus\"] + \" - \" + describe_response[\"AutoMLJobSecondaryStatus\"])\n",
    "job_run_status = describe_response[\"AutoMLJobStatus\"]\n",
    "\n",
    "while job_run_status not in (\"Failed\", \"Completed\", \"Stopped\"):\n",
    "    describe_response = sm.describe_auto_ml_job(AutoMLJobName=auto_ml_job_name)\n",
    "    job_run_status = describe_response[\"AutoMLJobStatus\"]\n",
    "\n",
    "    print(\n",
    "        describe_response[\"AutoMLJobStatus\"] + \" - \" + describe_response[\"AutoMLJobSecondaryStatus\"]\n",
    "    )\n",
    "    sleep(30)"
   ]
  },
  {
   "cell_type": "markdown",
   "id": "873b0cfb-cbb6-4abb-a565-0671d93f0dfd",
   "metadata": {},
   "source": [
    "## Results"
   ]
  },
  {
   "cell_type": "code",
   "execution_count": 22,
   "id": "f723f71f-3f0d-4629-976a-7e4a964119c0",
   "metadata": {
    "tags": []
   },
   "outputs": [
    {
     "name": "stdout",
     "output_type": "stream",
     "text": [
      "\n",
      "\n",
      "CandidateName: automl-test-2023-03-01-181930fhh-009-b8c2bea3\n",
      "CandidateName Steps: validation:binary_f_beta\n",
      "FinalAutoMLJobObjectiveMetricName: validation:binary_f_beta\n",
      "FinalAutoMLJobObjectiveMetricValue: 1.0\n"
     ]
    }
   ],
   "source": [
    "from IPython.display import JSON\n",
    "\n",
    "best_candidate = sm.describe_auto_ml_job(AutoMLJobName=auto_ml_job_name)[\"BestCandidate\"]\n",
    "best_candidate_name = best_candidate[\"CandidateName\"]\n",
    "\n",
    "print(\"\\n\")\n",
    "print(\"CandidateName: \" + best_candidate_name)\n",
    "print(\"CandidateName Steps: \" + best_candidate[\"FinalAutoMLJobObjectiveMetric\"][\"MetricName\"])\n",
    "print(\n",
    "    \"FinalAutoMLJobObjectiveMetricName: \"\n",
    "    + best_candidate[\"FinalAutoMLJobObjectiveMetric\"][\"MetricName\"]\n",
    ")\n",
    "print(\n",
    "    \"FinalAutoMLJobObjectiveMetricValue: \"\n",
    "    + str(best_candidate[\"FinalAutoMLJobObjectiveMetric\"][\"Value\"])\n",
    ")"
   ]
  },
  {
   "cell_type": "code",
   "execution_count": 36,
   "id": "796d1ac1-bf86-49d8-8c21-9c2840b12f71",
   "metadata": {
    "tags": []
   },
   "outputs": [
    {
     "name": "stdout",
     "output_type": "stream",
     "text": [
      "automl-test-2023-03-01-181930fhh-009-b8c2bea3\n"
     ]
    }
   ],
   "source": [
    "print(best_candidate[\"CandidateName\"])"
   ]
  },
  {
   "cell_type": "code",
   "execution_count": 39,
   "id": "00410810-e092-4917-85df-2cb031904412",
   "metadata": {
    "scrolled": true,
    "tags": []
   },
   "outputs": [
    {
     "data": {
      "text/plain": [
       "{'AutoMLJobName': 'automl-test-2023-03-01-181930',\n",
       " 'AutoMLJobArn': 'arn:aws:sagemaker:us-east-1:707031497630:automl-job/automl-test-2023-03-01-181930',\n",
       " 'InputDataConfig': [{'DataSource': {'S3DataSource': {'S3DataType': 'S3Prefix',\n",
       "     'S3Uri': 's3://sagemaker-us-east-1-707031497630/custom_preprocessing-2023-03-01-181930/components/training_data_new'}},\n",
       "   'TargetAttributeName': 'target',\n",
       "   'ContentType': 'text/csv;header=present',\n",
       "   'ChannelType': 'training'}],\n",
       " 'OutputDataConfig': {'S3OutputPath': 's3://sagemaker-us-east-1-707031497630/custom_preprocessing-2023-03-01-181930/components/autopilot_job_output'},\n",
       " 'RoleArn': 'arn:aws:iam::707031497630:role/service-role/AmazonSageMaker-ExecutionRole-20220218T020780',\n",
       " 'AutoMLJobConfig': {'CompletionCriteria': {'MaxCandidates': 50,\n",
       "   'MaxAutoMLJobRuntimeInSeconds': 1800}},\n",
       " 'CreationTime': datetime.datetime(2023, 3, 1, 18, 32, 54, 818000, tzinfo=tzlocal()),\n",
       " 'EndTime': datetime.datetime(2023, 3, 1, 19, 2, 58, 619000, tzinfo=tzlocal()),\n",
       " 'LastModifiedTime': datetime.datetime(2023, 3, 1, 19, 2, 58, 655000, tzinfo=tzlocal()),\n",
       " 'BestCandidate': {'CandidateName': 'automl-test-2023-03-01-181930fhh-009-b8c2bea3',\n",
       "  'FinalAutoMLJobObjectiveMetric': {'MetricName': 'validation:binary_f_beta',\n",
       "   'Value': 1.0,\n",
       "   'StandardMetricName': 'F1'},\n",
       "  'ObjectiveStatus': 'Succeeded',\n",
       "  'CandidateSteps': [{'CandidateStepType': 'AWS::SageMaker::ProcessingJob',\n",
       "    'CandidateStepArn': 'arn:aws:sagemaker:us-east-1:707031497630:processing-job/automl-test-2023-03-01-181930-db-1-1a19b54775c04aac80fbd6428ef0',\n",
       "    'CandidateStepName': 'automl-test-2023-03-01-181930-db-1-1a19b54775c04aac80fbd6428ef0'},\n",
       "   {'CandidateStepType': 'AWS::SageMaker::TrainingJob',\n",
       "    'CandidateStepArn': 'arn:aws:sagemaker:us-east-1:707031497630:training-job/automl-test-2023-03-01-181930-dpp5-1-aecb2b7e2fb74785be17c41913',\n",
       "    'CandidateStepName': 'automl-test-2023-03-01-181930-dpp5-1-aecb2b7e2fb74785be17c41913'},\n",
       "   {'CandidateStepType': 'AWS::SageMaker::TransformJob',\n",
       "    'CandidateStepArn': 'arn:aws:sagemaker:us-east-1:707031497630:transform-job/automl-test-2023-03-01-181930-dpp5-csv-1-65d665840d9d4c32a29247',\n",
       "    'CandidateStepName': 'automl-test-2023-03-01-181930-dpp5-csv-1-65d665840d9d4c32a29247'},\n",
       "   {'CandidateStepType': 'AWS::SageMaker::TrainingJob',\n",
       "    'CandidateStepArn': 'arn:aws:sagemaker:us-east-1:707031497630:training-job/automl-test-2023-03-01-181930fhh-009-b8c2bea3',\n",
       "    'CandidateStepName': 'automl-test-2023-03-01-181930fhh-009-b8c2bea3'}],\n",
       "  'CandidateStatus': 'Completed',\n",
       "  'InferenceContainers': [{'Image': '683313688378.dkr.ecr.us-east-1.amazonaws.com/sagemaker-sklearn-automl:2.5-1-cpu-py3',\n",
       "    'ModelDataUrl': 's3://sagemaker-us-east-1-707031497630/custom_preprocessing-2023-03-01-181930/components/autopilot_job_output/automl-test-2023-03-01-181930/data-processor-models/automl-test-2023-03-01-181930-dpp5-1-aecb2b7e2fb74785be17c41913/output/model.tar.gz',\n",
       "    'Environment': {'AUTOML_TRANSFORM_MODE': 'feature-transform',\n",
       "     'SAGEMAKER_DEFAULT_INVOCATIONS_ACCEPT': 'application/x-recordio-protobuf',\n",
       "     'SAGEMAKER_PROGRAM': 'sagemaker_serve',\n",
       "     'SAGEMAKER_SUBMIT_DIRECTORY': '/opt/ml/model/code'}},\n",
       "   {'Image': '382416733822.dkr.ecr.us-east-1.amazonaws.com/mxnet-algorithms:inference-cpu',\n",
       "    'ModelDataUrl': 's3://sagemaker-us-east-1-707031497630/custom_preprocessing-2023-03-01-181930/components/autopilot_job_output/automl-test-2023-03-01-181930/tuning/automl-tes-dpp5-mlp/automl-test-2023-03-01-181930fhh-009-b8c2bea3/output/model.tar.gz',\n",
       "    'Environment': {'MAX_CONTENT_LENGTH': '20971520',\n",
       "     'ML_APPLICATION': 'mlp',\n",
       "     'SAGEMAKER_DEFAULT_INVOCATIONS_ACCEPT': 'text/csv',\n",
       "     'SAGEMAKER_INFERENCE_OUTPUT': 'predicted_label',\n",
       "     'SAGEMAKER_INFERENCE_SUPPORTED': 'predicted_label,probability,probabilities'}},\n",
       "   {'Image': '683313688378.dkr.ecr.us-east-1.amazonaws.com/sagemaker-sklearn-automl:2.5-1-cpu-py3',\n",
       "    'ModelDataUrl': 's3://sagemaker-us-east-1-707031497630/custom_preprocessing-2023-03-01-181930/components/autopilot_job_output/automl-test-2023-03-01-181930/data-processor-models/automl-test-2023-03-01-181930-dpp5-1-aecb2b7e2fb74785be17c41913/output/model.tar.gz',\n",
       "    'Environment': {'AUTOML_TRANSFORM_MODE': 'inverse-label-transform',\n",
       "     'SAGEMAKER_DEFAULT_INVOCATIONS_ACCEPT': 'text/csv',\n",
       "     'SAGEMAKER_INFERENCE_INPUT': 'predicted_label',\n",
       "     'SAGEMAKER_INFERENCE_OUTPUT': 'predicted_label',\n",
       "     'SAGEMAKER_INFERENCE_SUPPORTED': 'predicted_label,probability,labels,probabilities',\n",
       "     'SAGEMAKER_PROGRAM': 'sagemaker_serve',\n",
       "     'SAGEMAKER_SUBMIT_DIRECTORY': '/opt/ml/model/code'}}],\n",
       "  'CreationTime': datetime.datetime(2023, 3, 1, 18, 52, 51, tzinfo=tzlocal()),\n",
       "  'EndTime': datetime.datetime(2023, 3, 1, 18, 55, 9, tzinfo=tzlocal()),\n",
       "  'LastModifiedTime': datetime.datetime(2023, 3, 1, 19, 2, 57, 268000, tzinfo=tzlocal()),\n",
       "  'CandidateProperties': {'CandidateMetrics': [{'MetricName': 'LogLoss',\n",
       "     'Value': 0.1540791094303131,\n",
       "     'Set': 'Validation',\n",
       "     'StandardMetricName': 'LogLoss'},\n",
       "    {'MetricName': 'Accuracy',\n",
       "     'Value': 1.0,\n",
       "     'Set': 'Validation',\n",
       "     'StandardMetricName': 'Accuracy'},\n",
       "    {'MetricName': 'Recall',\n",
       "     'Value': 1.0,\n",
       "     'Set': 'Validation',\n",
       "     'StandardMetricName': 'Recall'},\n",
       "    {'MetricName': 'Precision',\n",
       "     'Value': 1.0,\n",
       "     'Set': 'Validation',\n",
       "     'StandardMetricName': 'Precision'},\n",
       "    {'MetricName': 'AUC',\n",
       "     'Value': 1.0,\n",
       "     'Set': 'Validation',\n",
       "     'StandardMetricName': 'AUC'},\n",
       "    {'MetricName': 'F1',\n",
       "     'Value': 1.0,\n",
       "     'Set': 'Validation',\n",
       "     'StandardMetricName': 'F1'},\n",
       "    {'MetricName': 'BalancedAccuracy',\n",
       "     'Value': 1.0,\n",
       "     'Set': 'Validation',\n",
       "     'StandardMetricName': 'BalancedAccuracy'}]}},\n",
       " 'AutoMLJobStatus': 'Completed',\n",
       " 'AutoMLJobSecondaryStatus': 'MaxAutoMLJobRuntimeReached',\n",
       " 'GenerateCandidateDefinitionsOnly': False,\n",
       " 'AutoMLJobArtifacts': {'CandidateDefinitionNotebookLocation': 's3://sagemaker-us-east-1-707031497630/custom_preprocessing-2023-03-01-181930/components/autopilot_job_output/automl-test-2023-03-01-181930/sagemaker-automl-candidates/automl-test-2023-03-01-181930-pr-1-c3a7fe05386547f8921def5a6420/notebooks/SageMakerAutopilotCandidateDefinitionNotebook.ipynb',\n",
       "  'DataExplorationNotebookLocation': 's3://sagemaker-us-east-1-707031497630/custom_preprocessing-2023-03-01-181930/components/autopilot_job_output/automl-test-2023-03-01-181930/sagemaker-automl-candidates/automl-test-2023-03-01-181930-pr-1-c3a7fe05386547f8921def5a6420/notebooks/SageMakerAutopilotDataExplorationNotebook.ipynb'},\n",
       " 'ResolvedAttributes': {'AutoMLJobObjective': {'MetricName': 'F1'},\n",
       "  'ProblemType': 'BinaryClassification',\n",
       "  'CompletionCriteria': {'MaxCandidates': 50,\n",
       "   'MaxRuntimePerTrainingJobInSeconds': 86400,\n",
       "   'MaxAutoMLJobRuntimeInSeconds': 1800}},\n",
       " 'ResponseMetadata': {'RequestId': '4dfa3d6d-5865-427b-a707-262eee4a6c91',\n",
       "  'HTTPStatusCode': 200,\n",
       "  'HTTPHeaders': {'x-amzn-requestid': '4dfa3d6d-5865-427b-a707-262eee4a6c91',\n",
       "   'content-type': 'application/x-amz-json-1.1',\n",
       "   'content-length': '5994',\n",
       "   'date': 'Wed, 01 Mar 2023 20:39:34 GMT'},\n",
       "  'RetryAttempts': 0}}"
      ]
     },
     "execution_count": 39,
     "metadata": {},
     "output_type": "execute_result"
    }
   ],
   "source": [
    "sm.describe_auto_ml_job(AutoMLJobName=auto_ml_job_name)"
   ]
  },
  {
   "cell_type": "code",
   "execution_count": 27,
   "id": "f7252cfd-2a3d-4c7e-ab44-33043949b36d",
   "metadata": {
    "tags": []
   },
   "outputs": [],
   "source": [
    "# sm.describe_auto_ml_job(AutoMLJobName=auto_ml_job_name)\n",
    "# sm.list_auto_ml_jobs()\n",
    "sm_dict = sm.list_candidates_for_auto_ml_job(AutoMLJobName=auto_ml_job_name)"
   ]
  },
  {
   "cell_type": "code",
   "execution_count": 33,
   "id": "7ef56415-8e22-4ef9-9737-803e0bab2100",
   "metadata": {
    "tags": []
   },
   "outputs": [
    {
     "name": "stdout",
     "output_type": "stream",
     "text": [
      "automl-test-2023-03-01-181930fhh-030-ed7fda56 {'MetricName': 'validation:f1_binary', 'Value': 1.0, 'StandardMetricName': 'F1'}\n",
      "683313688378.dkr.ecr.us-east-1.amazonaws.com/sagemaker-xgboost:1.3-1-cpu-py3 \n",
      "\n",
      "automl-test-2023-03-01-181930fhh-026-80743015 {'MetricName': 'validation:binary_f_beta', 'Value': 0.5853658318519592, 'StandardMetricName': 'F1'}\n",
      "382416733822.dkr.ecr.us-east-1.amazonaws.com/linear-learner:inference-cpu \n",
      "\n"
     ]
    }
   ],
   "source": [
    "for item in sm_dict[\"Candidates\"]:\n",
    "    if item['ObjectiveStatus'] != 'Failed':\n",
    "        print(item[\"CandidateName\"], item[\"FinalAutoMLJobObjectiveMetric\"])\n",
    "        print(item[\"InferenceContainers\"][1][\"Image\"], \"\\n\")"
   ]
  },
  {
   "cell_type": "code",
   "execution_count": 35,
   "id": "640282e1-282c-4274-ab07-60d05c2e8f04",
   "metadata": {
    "scrolled": true,
    "tags": []
   },
   "outputs": [
    {
     "name": "stdout",
     "output_type": "stream",
     "text": [
      "automl-test-2023-03-01-181930fhh-036-a5e40394\n",
      "automl-test-2023-03-01-181930fhh-034-5d7e7eca\n",
      "automl-test-2023-03-01-181930fhh-035-695ec68d\n",
      "automl-test-2023-03-01-181930fhh-032-efb3e95c\n",
      "automl-test-2023-03-01-181930fhh-033-d66cfadc\n",
      "automl-test-2023-03-01-181930fhh-031-4e48d4fd\n",
      "automl-test-2023-03-01-181930fhh-029-8594868d\n",
      "automl-test-2023-03-01-181930fhh-030-ed7fda56\n",
      "automl-test-2023-03-01-181930fhh-028-b4b230b4\n",
      "automl-test-2023-03-01-181930fhh-026-80743015\n"
     ]
    }
   ],
   "source": [
    "for item in sm_dict[\"Candidates\"]:\n",
    "    print(item[\"CandidateName\"])"
   ]
  },
  {
   "cell_type": "code",
   "execution_count": 32,
   "id": "f5838547-d1b7-4af6-95f8-d6e74938dbb3",
   "metadata": {
    "scrolled": true,
    "tags": []
   },
   "outputs": [
    {
     "name": "stdout",
     "output_type": "stream",
     "text": [
      "{'CandidateName': 'automl-test-2023-03-01-181930fhh-036-a5e40394', 'ObjectiveStatus': 'Failed', 'CandidateSteps': [{'CandidateStepType': 'AWS::SageMaker::ProcessingJob', 'CandidateStepArn': 'arn:aws:sagemaker:us-east-1:707031497630:processing-job/automl-test-2023-03-01-181930-db-1-1a19b54775c04aac80fbd6428ef0', 'CandidateStepName': 'automl-test-2023-03-01-181930-db-1-1a19b54775c04aac80fbd6428ef0'}, {'CandidateStepType': 'AWS::SageMaker::TrainingJob', 'CandidateStepArn': 'arn:aws:sagemaker:us-east-1:707031497630:training-job/automl-test-2023-03-01-181930-dpp0-1-c296366c9d7f4f1c9fee7581e5', 'CandidateStepName': 'automl-test-2023-03-01-181930-dpp0-1-c296366c9d7f4f1c9fee7581e5'}, {'CandidateStepType': 'AWS::SageMaker::TransformJob', 'CandidateStepArn': 'arn:aws:sagemaker:us-east-1:707031497630:transform-job/automl-test-2023-03-01-181930-dpp0-csv-1-408e46c4c8a74757b6755a', 'CandidateStepName': 'automl-test-2023-03-01-181930-dpp0-csv-1-408e46c4c8a74757b6755a'}, {'CandidateStepType': 'AWS::SageMaker::TrainingJob', 'CandidateStepArn': 'arn:aws:sagemaker:us-east-1:707031497630:training-job/automl-test-2023-03-01-181930fhh-036-a5e40394', 'CandidateStepName': 'automl-test-2023-03-01-181930fhh-036-a5e40394'}], 'CandidateStatus': 'Stopped', 'InferenceContainers': [{'Image': '683313688378.dkr.ecr.us-east-1.amazonaws.com/sagemaker-sklearn-automl:2.5-1-cpu-py3', 'ModelDataUrl': 's3://sagemaker-us-east-1-707031497630/custom_preprocessing-2023-03-01-181930/components/autopilot_job_output/automl-test-2023-03-01-181930/data-processor-models/automl-test-2023-03-01-181930-dpp0-1-c296366c9d7f4f1c9fee7581e5/output/model.tar.gz', 'Environment': {'AUTOML_TRANSFORM_MODE': 'feature-transform', 'SAGEMAKER_DEFAULT_INVOCATIONS_ACCEPT': 'application/x-recordio-protobuf', 'SAGEMAKER_PROGRAM': 'sagemaker_serve', 'SAGEMAKER_SUBMIT_DIRECTORY': '/opt/ml/model/code'}}, {'Image': '683313688378.dkr.ecr.us-east-1.amazonaws.com/sagemaker-xgboost:1.3-1-cpu-py3', 'ModelDataUrl': 's3://sagemaker-us-east-1-707031497630/custom_preprocessing-2023-03-01-181930/components/autopilot_job_output/automl-test-2023-03-01-181930/tuning/automl-tes-dpp0-xgb/automl-test-2023-03-01-181930fhh-036-a5e40394/output/model.tar.gz', 'Environment': {'MAX_CONTENT_LENGTH': '20971520', 'SAGEMAKER_DEFAULT_INVOCATIONS_ACCEPT': 'text/csv', 'SAGEMAKER_INFERENCE_OUTPUT': 'predicted_label', 'SAGEMAKER_INFERENCE_SUPPORTED': 'predicted_label,probability,probabilities'}}, {'Image': '683313688378.dkr.ecr.us-east-1.amazonaws.com/sagemaker-sklearn-automl:2.5-1-cpu-py3', 'ModelDataUrl': 's3://sagemaker-us-east-1-707031497630/custom_preprocessing-2023-03-01-181930/components/autopilot_job_output/automl-test-2023-03-01-181930/data-processor-models/automl-test-2023-03-01-181930-dpp0-1-c296366c9d7f4f1c9fee7581e5/output/model.tar.gz', 'Environment': {'AUTOML_TRANSFORM_MODE': 'inverse-label-transform', 'SAGEMAKER_DEFAULT_INVOCATIONS_ACCEPT': 'text/csv', 'SAGEMAKER_INFERENCE_INPUT': 'predicted_label', 'SAGEMAKER_INFERENCE_OUTPUT': 'predicted_label', 'SAGEMAKER_INFERENCE_SUPPORTED': 'predicted_label,probability,labels,probabilities', 'SAGEMAKER_PROGRAM': 'sagemaker_serve', 'SAGEMAKER_SUBMIT_DIRECTORY': '/opt/ml/model/code'}}], 'CreationTime': datetime.datetime(2023, 3, 1, 19, 2, 44, tzinfo=tzlocal()), 'EndTime': datetime.datetime(2023, 3, 1, 19, 2, 57, 870000, tzinfo=tzlocal()), 'LastModifiedTime': datetime.datetime(2023, 3, 1, 19, 2, 57, 870000, tzinfo=tzlocal())} \n",
      "\n",
      "{'CandidateName': 'automl-test-2023-03-01-181930fhh-034-5d7e7eca', 'ObjectiveStatus': 'Failed', 'CandidateSteps': [{'CandidateStepType': 'AWS::SageMaker::ProcessingJob', 'CandidateStepArn': 'arn:aws:sagemaker:us-east-1:707031497630:processing-job/automl-test-2023-03-01-181930-db-1-1a19b54775c04aac80fbd6428ef0', 'CandidateStepName': 'automl-test-2023-03-01-181930-db-1-1a19b54775c04aac80fbd6428ef0'}, {'CandidateStepType': 'AWS::SageMaker::TrainingJob', 'CandidateStepArn': 'arn:aws:sagemaker:us-east-1:707031497630:training-job/automl-test-2023-03-01-181930-dpp4-1-b9cbb58c4c064cd5ac2bb02236', 'CandidateStepName': 'automl-test-2023-03-01-181930-dpp4-1-b9cbb58c4c064cd5ac2bb02236'}, {'CandidateStepType': 'AWS::SageMaker::TransformJob', 'CandidateStepArn': 'arn:aws:sagemaker:us-east-1:707031497630:transform-job/automl-test-2023-03-01-181930-dpp4-csv-1-4f1d10f80fec410aab5b2c', 'CandidateStepName': 'automl-test-2023-03-01-181930-dpp4-csv-1-4f1d10f80fec410aab5b2c'}, {'CandidateStepType': 'AWS::SageMaker::TrainingJob', 'CandidateStepArn': 'arn:aws:sagemaker:us-east-1:707031497630:training-job/automl-test-2023-03-01-181930fhh-034-5d7e7eca', 'CandidateStepName': 'automl-test-2023-03-01-181930fhh-034-5d7e7eca'}], 'CandidateStatus': 'Stopped', 'InferenceContainers': [{'Image': '683313688378.dkr.ecr.us-east-1.amazonaws.com/sagemaker-sklearn-automl:2.5-1-cpu-py3', 'ModelDataUrl': 's3://sagemaker-us-east-1-707031497630/custom_preprocessing-2023-03-01-181930/components/autopilot_job_output/automl-test-2023-03-01-181930/data-processor-models/automl-test-2023-03-01-181930-dpp4-1-b9cbb58c4c064cd5ac2bb02236/output/model.tar.gz', 'Environment': {'AUTOML_TRANSFORM_MODE': 'feature-transform', 'SAGEMAKER_DEFAULT_INVOCATIONS_ACCEPT': 'application/x-recordio-protobuf', 'SAGEMAKER_PROGRAM': 'sagemaker_serve', 'SAGEMAKER_SUBMIT_DIRECTORY': '/opt/ml/model/code'}}, {'Image': '683313688378.dkr.ecr.us-east-1.amazonaws.com/sagemaker-xgboost:1.3-1-cpu-py3', 'ModelDataUrl': 's3://sagemaker-us-east-1-707031497630/custom_preprocessing-2023-03-01-181930/components/autopilot_job_output/automl-test-2023-03-01-181930/tuning/automl-tes-dpp4-xgb/automl-test-2023-03-01-181930fhh-034-5d7e7eca/output/model.tar.gz', 'Environment': {'MAX_CONTENT_LENGTH': '20971520', 'SAGEMAKER_DEFAULT_INVOCATIONS_ACCEPT': 'text/csv', 'SAGEMAKER_INFERENCE_OUTPUT': 'predicted_label', 'SAGEMAKER_INFERENCE_SUPPORTED': 'predicted_label,probability,probabilities'}}, {'Image': '683313688378.dkr.ecr.us-east-1.amazonaws.com/sagemaker-sklearn-automl:2.5-1-cpu-py3', 'ModelDataUrl': 's3://sagemaker-us-east-1-707031497630/custom_preprocessing-2023-03-01-181930/components/autopilot_job_output/automl-test-2023-03-01-181930/data-processor-models/automl-test-2023-03-01-181930-dpp4-1-b9cbb58c4c064cd5ac2bb02236/output/model.tar.gz', 'Environment': {'AUTOML_TRANSFORM_MODE': 'inverse-label-transform', 'SAGEMAKER_DEFAULT_INVOCATIONS_ACCEPT': 'text/csv', 'SAGEMAKER_INFERENCE_INPUT': 'predicted_label', 'SAGEMAKER_INFERENCE_OUTPUT': 'predicted_label', 'SAGEMAKER_INFERENCE_SUPPORTED': 'predicted_label,probability,labels,probabilities', 'SAGEMAKER_PROGRAM': 'sagemaker_serve', 'SAGEMAKER_SUBMIT_DIRECTORY': '/opt/ml/model/code'}}], 'CreationTime': datetime.datetime(2023, 3, 1, 19, 2, 34, 329000, tzinfo=tzlocal()), 'EndTime': datetime.datetime(2023, 3, 1, 19, 2, 57, 871000, tzinfo=tzlocal()), 'LastModifiedTime': datetime.datetime(2023, 3, 1, 19, 2, 57, 871000, tzinfo=tzlocal())} \n",
      "\n",
      "{'CandidateName': 'automl-test-2023-03-01-181930fhh-035-695ec68d', 'ObjectiveStatus': 'Failed', 'CandidateSteps': [{'CandidateStepType': 'AWS::SageMaker::ProcessingJob', 'CandidateStepArn': 'arn:aws:sagemaker:us-east-1:707031497630:processing-job/automl-test-2023-03-01-181930-db-1-1a19b54775c04aac80fbd6428ef0', 'CandidateStepName': 'automl-test-2023-03-01-181930-db-1-1a19b54775c04aac80fbd6428ef0'}, {'CandidateStepType': 'AWS::SageMaker::TrainingJob', 'CandidateStepArn': 'arn:aws:sagemaker:us-east-1:707031497630:training-job/automl-test-2023-03-01-181930-dpp0-1-c296366c9d7f4f1c9fee7581e5', 'CandidateStepName': 'automl-test-2023-03-01-181930-dpp0-1-c296366c9d7f4f1c9fee7581e5'}, {'CandidateStepType': 'AWS::SageMaker::TransformJob', 'CandidateStepArn': 'arn:aws:sagemaker:us-east-1:707031497630:transform-job/automl-test-2023-03-01-181930-dpp0-csv-1-408e46c4c8a74757b6755a', 'CandidateStepName': 'automl-test-2023-03-01-181930-dpp0-csv-1-408e46c4c8a74757b6755a'}, {'CandidateStepType': 'AWS::SageMaker::TrainingJob', 'CandidateStepArn': 'arn:aws:sagemaker:us-east-1:707031497630:training-job/automl-test-2023-03-01-181930fhh-035-695ec68d', 'CandidateStepName': 'automl-test-2023-03-01-181930fhh-035-695ec68d'}], 'CandidateStatus': 'Stopped', 'InferenceContainers': [{'Image': '683313688378.dkr.ecr.us-east-1.amazonaws.com/sagemaker-sklearn-automl:2.5-1-cpu-py3', 'ModelDataUrl': 's3://sagemaker-us-east-1-707031497630/custom_preprocessing-2023-03-01-181930/components/autopilot_job_output/automl-test-2023-03-01-181930/data-processor-models/automl-test-2023-03-01-181930-dpp0-1-c296366c9d7f4f1c9fee7581e5/output/model.tar.gz', 'Environment': {'AUTOML_TRANSFORM_MODE': 'feature-transform', 'SAGEMAKER_DEFAULT_INVOCATIONS_ACCEPT': 'application/x-recordio-protobuf', 'SAGEMAKER_PROGRAM': 'sagemaker_serve', 'SAGEMAKER_SUBMIT_DIRECTORY': '/opt/ml/model/code'}}, {'Image': '683313688378.dkr.ecr.us-east-1.amazonaws.com/sagemaker-xgboost:1.3-1-cpu-py3', 'ModelDataUrl': 's3://sagemaker-us-east-1-707031497630/custom_preprocessing-2023-03-01-181930/components/autopilot_job_output/automl-test-2023-03-01-181930/tuning/automl-tes-dpp0-xgb/automl-test-2023-03-01-181930fhh-035-695ec68d/output/model.tar.gz', 'Environment': {'MAX_CONTENT_LENGTH': '20971520', 'SAGEMAKER_DEFAULT_INVOCATIONS_ACCEPT': 'text/csv', 'SAGEMAKER_INFERENCE_OUTPUT': 'predicted_label', 'SAGEMAKER_INFERENCE_SUPPORTED': 'predicted_label,probability,probabilities'}}, {'Image': '683313688378.dkr.ecr.us-east-1.amazonaws.com/sagemaker-sklearn-automl:2.5-1-cpu-py3', 'ModelDataUrl': 's3://sagemaker-us-east-1-707031497630/custom_preprocessing-2023-03-01-181930/components/autopilot_job_output/automl-test-2023-03-01-181930/data-processor-models/automl-test-2023-03-01-181930-dpp0-1-c296366c9d7f4f1c9fee7581e5/output/model.tar.gz', 'Environment': {'AUTOML_TRANSFORM_MODE': 'inverse-label-transform', 'SAGEMAKER_DEFAULT_INVOCATIONS_ACCEPT': 'text/csv', 'SAGEMAKER_INFERENCE_INPUT': 'predicted_label', 'SAGEMAKER_INFERENCE_OUTPUT': 'predicted_label', 'SAGEMAKER_INFERENCE_SUPPORTED': 'predicted_label,probability,labels,probabilities', 'SAGEMAKER_PROGRAM': 'sagemaker_serve', 'SAGEMAKER_SUBMIT_DIRECTORY': '/opt/ml/model/code'}}], 'CreationTime': datetime.datetime(2023, 3, 1, 19, 2, 34, tzinfo=tzlocal()), 'EndTime': datetime.datetime(2023, 3, 1, 19, 2, 57, 871000, tzinfo=tzlocal()), 'LastModifiedTime': datetime.datetime(2023, 3, 1, 19, 2, 57, 871000, tzinfo=tzlocal())} \n",
      "\n",
      "{'CandidateName': 'automl-test-2023-03-01-181930fhh-032-efb3e95c', 'ObjectiveStatus': 'Failed', 'CandidateSteps': [{'CandidateStepType': 'AWS::SageMaker::ProcessingJob', 'CandidateStepArn': 'arn:aws:sagemaker:us-east-1:707031497630:processing-job/automl-test-2023-03-01-181930-db-1-1a19b54775c04aac80fbd6428ef0', 'CandidateStepName': 'automl-test-2023-03-01-181930-db-1-1a19b54775c04aac80fbd6428ef0'}, {'CandidateStepType': 'AWS::SageMaker::TrainingJob', 'CandidateStepArn': 'arn:aws:sagemaker:us-east-1:707031497630:training-job/automl-test-2023-03-01-181930-dpp0-1-c296366c9d7f4f1c9fee7581e5', 'CandidateStepName': 'automl-test-2023-03-01-181930-dpp0-1-c296366c9d7f4f1c9fee7581e5'}, {'CandidateStepType': 'AWS::SageMaker::TransformJob', 'CandidateStepArn': 'arn:aws:sagemaker:us-east-1:707031497630:transform-job/automl-test-2023-03-01-181930-dpp0-csv-1-408e46c4c8a74757b6755a', 'CandidateStepName': 'automl-test-2023-03-01-181930-dpp0-csv-1-408e46c4c8a74757b6755a'}, {'CandidateStepType': 'AWS::SageMaker::TrainingJob', 'CandidateStepArn': 'arn:aws:sagemaker:us-east-1:707031497630:training-job/automl-test-2023-03-01-181930fhh-032-efb3e95c', 'CandidateStepName': 'automl-test-2023-03-01-181930fhh-032-efb3e95c'}], 'CandidateStatus': 'Stopped', 'InferenceContainers': [{'Image': '683313688378.dkr.ecr.us-east-1.amazonaws.com/sagemaker-sklearn-automl:2.5-1-cpu-py3', 'ModelDataUrl': 's3://sagemaker-us-east-1-707031497630/custom_preprocessing-2023-03-01-181930/components/autopilot_job_output/automl-test-2023-03-01-181930/data-processor-models/automl-test-2023-03-01-181930-dpp0-1-c296366c9d7f4f1c9fee7581e5/output/model.tar.gz', 'Environment': {'AUTOML_TRANSFORM_MODE': 'feature-transform', 'SAGEMAKER_DEFAULT_INVOCATIONS_ACCEPT': 'application/x-recordio-protobuf', 'SAGEMAKER_PROGRAM': 'sagemaker_serve', 'SAGEMAKER_SUBMIT_DIRECTORY': '/opt/ml/model/code'}}, {'Image': '683313688378.dkr.ecr.us-east-1.amazonaws.com/sagemaker-xgboost:1.3-1-cpu-py3', 'ModelDataUrl': 's3://sagemaker-us-east-1-707031497630/custom_preprocessing-2023-03-01-181930/components/autopilot_job_output/automl-test-2023-03-01-181930/tuning/automl-tes-dpp0-xgb/automl-test-2023-03-01-181930fhh-032-efb3e95c/output/model.tar.gz', 'Environment': {'MAX_CONTENT_LENGTH': '20971520', 'SAGEMAKER_DEFAULT_INVOCATIONS_ACCEPT': 'text/csv', 'SAGEMAKER_INFERENCE_OUTPUT': 'predicted_label', 'SAGEMAKER_INFERENCE_SUPPORTED': 'predicted_label,probability,probabilities'}}, {'Image': '683313688378.dkr.ecr.us-east-1.amazonaws.com/sagemaker-sklearn-automl:2.5-1-cpu-py3', 'ModelDataUrl': 's3://sagemaker-us-east-1-707031497630/custom_preprocessing-2023-03-01-181930/components/autopilot_job_output/automl-test-2023-03-01-181930/data-processor-models/automl-test-2023-03-01-181930-dpp0-1-c296366c9d7f4f1c9fee7581e5/output/model.tar.gz', 'Environment': {'AUTOML_TRANSFORM_MODE': 'inverse-label-transform', 'SAGEMAKER_DEFAULT_INVOCATIONS_ACCEPT': 'text/csv', 'SAGEMAKER_INFERENCE_INPUT': 'predicted_label', 'SAGEMAKER_INFERENCE_OUTPUT': 'predicted_label', 'SAGEMAKER_INFERENCE_SUPPORTED': 'predicted_label,probability,labels,probabilities', 'SAGEMAKER_PROGRAM': 'sagemaker_serve', 'SAGEMAKER_SUBMIT_DIRECTORY': '/opt/ml/model/code'}}], 'CreationTime': datetime.datetime(2023, 3, 1, 19, 1, 58, tzinfo=tzlocal()), 'EndTime': datetime.datetime(2023, 3, 1, 19, 2, 57, 871000, tzinfo=tzlocal()), 'LastModifiedTime': datetime.datetime(2023, 3, 1, 19, 2, 57, 871000, tzinfo=tzlocal())} \n",
      "\n",
      "{'CandidateName': 'automl-test-2023-03-01-181930fhh-033-d66cfadc', 'ObjectiveStatus': 'Failed', 'CandidateSteps': [{'CandidateStepType': 'AWS::SageMaker::ProcessingJob', 'CandidateStepArn': 'arn:aws:sagemaker:us-east-1:707031497630:processing-job/automl-test-2023-03-01-181930-db-1-1a19b54775c04aac80fbd6428ef0', 'CandidateStepName': 'automl-test-2023-03-01-181930-db-1-1a19b54775c04aac80fbd6428ef0'}, {'CandidateStepType': 'AWS::SageMaker::TrainingJob', 'CandidateStepArn': 'arn:aws:sagemaker:us-east-1:707031497630:training-job/automl-test-2023-03-01-181930-dpp4-1-b9cbb58c4c064cd5ac2bb02236', 'CandidateStepName': 'automl-test-2023-03-01-181930-dpp4-1-b9cbb58c4c064cd5ac2bb02236'}, {'CandidateStepType': 'AWS::SageMaker::TransformJob', 'CandidateStepArn': 'arn:aws:sagemaker:us-east-1:707031497630:transform-job/automl-test-2023-03-01-181930-dpp4-csv-1-4f1d10f80fec410aab5b2c', 'CandidateStepName': 'automl-test-2023-03-01-181930-dpp4-csv-1-4f1d10f80fec410aab5b2c'}, {'CandidateStepType': 'AWS::SageMaker::TrainingJob', 'CandidateStepArn': 'arn:aws:sagemaker:us-east-1:707031497630:training-job/automl-test-2023-03-01-181930fhh-033-d66cfadc', 'CandidateStepName': 'automl-test-2023-03-01-181930fhh-033-d66cfadc'}], 'CandidateStatus': 'Stopped', 'InferenceContainers': [{'Image': '683313688378.dkr.ecr.us-east-1.amazonaws.com/sagemaker-sklearn-automl:2.5-1-cpu-py3', 'ModelDataUrl': 's3://sagemaker-us-east-1-707031497630/custom_preprocessing-2023-03-01-181930/components/autopilot_job_output/automl-test-2023-03-01-181930/data-processor-models/automl-test-2023-03-01-181930-dpp4-1-b9cbb58c4c064cd5ac2bb02236/output/model.tar.gz', 'Environment': {'AUTOML_TRANSFORM_MODE': 'feature-transform', 'SAGEMAKER_DEFAULT_INVOCATIONS_ACCEPT': 'application/x-recordio-protobuf', 'SAGEMAKER_PROGRAM': 'sagemaker_serve', 'SAGEMAKER_SUBMIT_DIRECTORY': '/opt/ml/model/code'}}, {'Image': '683313688378.dkr.ecr.us-east-1.amazonaws.com/sagemaker-xgboost:1.3-1-cpu-py3', 'ModelDataUrl': 's3://sagemaker-us-east-1-707031497630/custom_preprocessing-2023-03-01-181930/components/autopilot_job_output/automl-test-2023-03-01-181930/tuning/automl-tes-dpp4-xgb/automl-test-2023-03-01-181930fhh-033-d66cfadc/output/model.tar.gz', 'Environment': {'MAX_CONTENT_LENGTH': '20971520', 'SAGEMAKER_DEFAULT_INVOCATIONS_ACCEPT': 'text/csv', 'SAGEMAKER_INFERENCE_OUTPUT': 'predicted_label', 'SAGEMAKER_INFERENCE_SUPPORTED': 'predicted_label,probability,probabilities'}}, {'Image': '683313688378.dkr.ecr.us-east-1.amazonaws.com/sagemaker-sklearn-automl:2.5-1-cpu-py3', 'ModelDataUrl': 's3://sagemaker-us-east-1-707031497630/custom_preprocessing-2023-03-01-181930/components/autopilot_job_output/automl-test-2023-03-01-181930/data-processor-models/automl-test-2023-03-01-181930-dpp4-1-b9cbb58c4c064cd5ac2bb02236/output/model.tar.gz', 'Environment': {'AUTOML_TRANSFORM_MODE': 'inverse-label-transform', 'SAGEMAKER_DEFAULT_INVOCATIONS_ACCEPT': 'text/csv', 'SAGEMAKER_INFERENCE_INPUT': 'predicted_label', 'SAGEMAKER_INFERENCE_OUTPUT': 'predicted_label', 'SAGEMAKER_INFERENCE_SUPPORTED': 'predicted_label,probability,labels,probabilities', 'SAGEMAKER_PROGRAM': 'sagemaker_serve', 'SAGEMAKER_SUBMIT_DIRECTORY': '/opt/ml/model/code'}}], 'CreationTime': datetime.datetime(2023, 3, 1, 19, 1, 52, tzinfo=tzlocal()), 'EndTime': datetime.datetime(2023, 3, 1, 19, 2, 57, 871000, tzinfo=tzlocal()), 'LastModifiedTime': datetime.datetime(2023, 3, 1, 19, 2, 57, 871000, tzinfo=tzlocal())} \n",
      "\n",
      "{'CandidateName': 'automl-test-2023-03-01-181930fhh-031-4e48d4fd', 'ObjectiveStatus': 'Failed', 'CandidateSteps': [{'CandidateStepType': 'AWS::SageMaker::ProcessingJob', 'CandidateStepArn': 'arn:aws:sagemaker:us-east-1:707031497630:processing-job/automl-test-2023-03-01-181930-db-1-1a19b54775c04aac80fbd6428ef0', 'CandidateStepName': 'automl-test-2023-03-01-181930-db-1-1a19b54775c04aac80fbd6428ef0'}, {'CandidateStepType': 'AWS::SageMaker::TrainingJob', 'CandidateStepArn': 'arn:aws:sagemaker:us-east-1:707031497630:training-job/automl-test-2023-03-01-181930-dpp4-1-b9cbb58c4c064cd5ac2bb02236', 'CandidateStepName': 'automl-test-2023-03-01-181930-dpp4-1-b9cbb58c4c064cd5ac2bb02236'}, {'CandidateStepType': 'AWS::SageMaker::TransformJob', 'CandidateStepArn': 'arn:aws:sagemaker:us-east-1:707031497630:transform-job/automl-test-2023-03-01-181930-dpp4-csv-1-4f1d10f80fec410aab5b2c', 'CandidateStepName': 'automl-test-2023-03-01-181930-dpp4-csv-1-4f1d10f80fec410aab5b2c'}, {'CandidateStepType': 'AWS::SageMaker::TrainingJob', 'CandidateStepArn': 'arn:aws:sagemaker:us-east-1:707031497630:training-job/automl-test-2023-03-01-181930fhh-031-4e48d4fd', 'CandidateStepName': 'automl-test-2023-03-01-181930fhh-031-4e48d4fd'}], 'CandidateStatus': 'Stopped', 'InferenceContainers': [{'Image': '683313688378.dkr.ecr.us-east-1.amazonaws.com/sagemaker-sklearn-automl:2.5-1-cpu-py3', 'ModelDataUrl': 's3://sagemaker-us-east-1-707031497630/custom_preprocessing-2023-03-01-181930/components/autopilot_job_output/automl-test-2023-03-01-181930/data-processor-models/automl-test-2023-03-01-181930-dpp4-1-b9cbb58c4c064cd5ac2bb02236/output/model.tar.gz', 'Environment': {'AUTOML_TRANSFORM_MODE': 'feature-transform', 'SAGEMAKER_DEFAULT_INVOCATIONS_ACCEPT': 'application/x-recordio-protobuf', 'SAGEMAKER_PROGRAM': 'sagemaker_serve', 'SAGEMAKER_SUBMIT_DIRECTORY': '/opt/ml/model/code'}}, {'Image': '683313688378.dkr.ecr.us-east-1.amazonaws.com/sagemaker-xgboost:1.3-1-cpu-py3', 'ModelDataUrl': 's3://sagemaker-us-east-1-707031497630/custom_preprocessing-2023-03-01-181930/components/autopilot_job_output/automl-test-2023-03-01-181930/tuning/automl-tes-dpp4-xgb/automl-test-2023-03-01-181930fhh-031-4e48d4fd/output/model.tar.gz', 'Environment': {'MAX_CONTENT_LENGTH': '20971520', 'SAGEMAKER_DEFAULT_INVOCATIONS_ACCEPT': 'text/csv', 'SAGEMAKER_INFERENCE_OUTPUT': 'predicted_label', 'SAGEMAKER_INFERENCE_SUPPORTED': 'predicted_label,probability,probabilities'}}, {'Image': '683313688378.dkr.ecr.us-east-1.amazonaws.com/sagemaker-sklearn-automl:2.5-1-cpu-py3', 'ModelDataUrl': 's3://sagemaker-us-east-1-707031497630/custom_preprocessing-2023-03-01-181930/components/autopilot_job_output/automl-test-2023-03-01-181930/data-processor-models/automl-test-2023-03-01-181930-dpp4-1-b9cbb58c4c064cd5ac2bb02236/output/model.tar.gz', 'Environment': {'AUTOML_TRANSFORM_MODE': 'inverse-label-transform', 'SAGEMAKER_DEFAULT_INVOCATIONS_ACCEPT': 'text/csv', 'SAGEMAKER_INFERENCE_INPUT': 'predicted_label', 'SAGEMAKER_INFERENCE_OUTPUT': 'predicted_label', 'SAGEMAKER_INFERENCE_SUPPORTED': 'predicted_label,probability,labels,probabilities', 'SAGEMAKER_PROGRAM': 'sagemaker_serve', 'SAGEMAKER_SUBMIT_DIRECTORY': '/opt/ml/model/code'}}], 'CreationTime': datetime.datetime(2023, 3, 1, 19, 1, 40, tzinfo=tzlocal()), 'EndTime': datetime.datetime(2023, 3, 1, 19, 2, 57, 871000, tzinfo=tzlocal()), 'LastModifiedTime': datetime.datetime(2023, 3, 1, 19, 2, 57, 871000, tzinfo=tzlocal())} \n",
      "\n",
      "{'CandidateName': 'automl-test-2023-03-01-181930fhh-029-8594868d', 'ObjectiveStatus': 'Failed', 'CandidateSteps': [{'CandidateStepType': 'AWS::SageMaker::ProcessingJob', 'CandidateStepArn': 'arn:aws:sagemaker:us-east-1:707031497630:processing-job/automl-test-2023-03-01-181930-db-1-1a19b54775c04aac80fbd6428ef0', 'CandidateStepName': 'automl-test-2023-03-01-181930-db-1-1a19b54775c04aac80fbd6428ef0'}, {'CandidateStepType': 'AWS::SageMaker::TrainingJob', 'CandidateStepArn': 'arn:aws:sagemaker:us-east-1:707031497630:training-job/automl-test-2023-03-01-181930-dpp1-1-cb6784e8773a46ee98e2957089', 'CandidateStepName': 'automl-test-2023-03-01-181930-dpp1-1-cb6784e8773a46ee98e2957089'}, {'CandidateStepType': 'AWS::SageMaker::TransformJob', 'CandidateStepArn': 'arn:aws:sagemaker:us-east-1:707031497630:transform-job/automl-test-2023-03-01-181930-dpp1-csv-1-5afe96c2c6bc4308b39a0d', 'CandidateStepName': 'automl-test-2023-03-01-181930-dpp1-csv-1-5afe96c2c6bc4308b39a0d'}, {'CandidateStepType': 'AWS::SageMaker::TrainingJob', 'CandidateStepArn': 'arn:aws:sagemaker:us-east-1:707031497630:training-job/automl-test-2023-03-01-181930fhh-029-8594868d', 'CandidateStepName': 'automl-test-2023-03-01-181930fhh-029-8594868d'}], 'CandidateStatus': 'Stopped', 'InferenceContainers': [{'Image': '683313688378.dkr.ecr.us-east-1.amazonaws.com/sagemaker-sklearn-automl:2.5-1-cpu-py3', 'ModelDataUrl': 's3://sagemaker-us-east-1-707031497630/custom_preprocessing-2023-03-01-181930/components/autopilot_job_output/automl-test-2023-03-01-181930/data-processor-models/automl-test-2023-03-01-181930-dpp1-1-cb6784e8773a46ee98e2957089/output/model.tar.gz', 'Environment': {'AUTOML_TRANSFORM_MODE': 'feature-transform', 'SAGEMAKER_DEFAULT_INVOCATIONS_ACCEPT': 'application/x-recordio-protobuf', 'SAGEMAKER_PROGRAM': 'sagemaker_serve', 'SAGEMAKER_SUBMIT_DIRECTORY': '/opt/ml/model/code'}}, {'Image': '683313688378.dkr.ecr.us-east-1.amazonaws.com/sagemaker-xgboost:1.3-1-cpu-py3', 'ModelDataUrl': 's3://sagemaker-us-east-1-707031497630/custom_preprocessing-2023-03-01-181930/components/autopilot_job_output/automl-test-2023-03-01-181930/tuning/automl-tes-dpp1-xgb/automl-test-2023-03-01-181930fhh-029-8594868d/output/model.tar.gz', 'Environment': {'MAX_CONTENT_LENGTH': '20971520', 'SAGEMAKER_DEFAULT_INVOCATIONS_ACCEPT': 'text/csv', 'SAGEMAKER_INFERENCE_OUTPUT': 'predicted_label', 'SAGEMAKER_INFERENCE_SUPPORTED': 'predicted_label,probability,probabilities'}}, {'Image': '683313688378.dkr.ecr.us-east-1.amazonaws.com/sagemaker-sklearn-automl:2.5-1-cpu-py3', 'ModelDataUrl': 's3://sagemaker-us-east-1-707031497630/custom_preprocessing-2023-03-01-181930/components/autopilot_job_output/automl-test-2023-03-01-181930/data-processor-models/automl-test-2023-03-01-181930-dpp1-1-cb6784e8773a46ee98e2957089/output/model.tar.gz', 'Environment': {'AUTOML_TRANSFORM_MODE': 'inverse-label-transform', 'SAGEMAKER_DEFAULT_INVOCATIONS_ACCEPT': 'text/csv', 'SAGEMAKER_INFERENCE_INPUT': 'predicted_label', 'SAGEMAKER_INFERENCE_OUTPUT': 'predicted_label', 'SAGEMAKER_INFERENCE_SUPPORTED': 'predicted_label,probability,labels,probabilities', 'SAGEMAKER_PROGRAM': 'sagemaker_serve', 'SAGEMAKER_SUBMIT_DIRECTORY': '/opt/ml/model/code'}}], 'CreationTime': datetime.datetime(2023, 3, 1, 19, 1, 38, tzinfo=tzlocal()), 'EndTime': datetime.datetime(2023, 3, 1, 19, 2, 57, 871000, tzinfo=tzlocal()), 'LastModifiedTime': datetime.datetime(2023, 3, 1, 19, 2, 57, 871000, tzinfo=tzlocal())} \n",
      "\n",
      "{'CandidateName': 'automl-test-2023-03-01-181930fhh-030-ed7fda56', 'FinalAutoMLJobObjectiveMetric': {'MetricName': 'validation:f1_binary', 'Value': 1.0, 'StandardMetricName': 'F1'}, 'ObjectiveStatus': 'Succeeded', 'CandidateSteps': [{'CandidateStepType': 'AWS::SageMaker::ProcessingJob', 'CandidateStepArn': 'arn:aws:sagemaker:us-east-1:707031497630:processing-job/automl-test-2023-03-01-181930-db-1-1a19b54775c04aac80fbd6428ef0', 'CandidateStepName': 'automl-test-2023-03-01-181930-db-1-1a19b54775c04aac80fbd6428ef0'}, {'CandidateStepType': 'AWS::SageMaker::TrainingJob', 'CandidateStepArn': 'arn:aws:sagemaker:us-east-1:707031497630:training-job/automl-test-2023-03-01-181930-dpp0-1-c296366c9d7f4f1c9fee7581e5', 'CandidateStepName': 'automl-test-2023-03-01-181930-dpp0-1-c296366c9d7f4f1c9fee7581e5'}, {'CandidateStepType': 'AWS::SageMaker::TransformJob', 'CandidateStepArn': 'arn:aws:sagemaker:us-east-1:707031497630:transform-job/automl-test-2023-03-01-181930-dpp0-csv-1-408e46c4c8a74757b6755a', 'CandidateStepName': 'automl-test-2023-03-01-181930-dpp0-csv-1-408e46c4c8a74757b6755a'}, {'CandidateStepType': 'AWS::SageMaker::TrainingJob', 'CandidateStepArn': 'arn:aws:sagemaker:us-east-1:707031497630:training-job/automl-test-2023-03-01-181930fhh-030-ed7fda56', 'CandidateStepName': 'automl-test-2023-03-01-181930fhh-030-ed7fda56'}], 'CandidateStatus': 'Completed', 'InferenceContainers': [{'Image': '683313688378.dkr.ecr.us-east-1.amazonaws.com/sagemaker-sklearn-automl:2.5-1-cpu-py3', 'ModelDataUrl': 's3://sagemaker-us-east-1-707031497630/custom_preprocessing-2023-03-01-181930/components/autopilot_job_output/automl-test-2023-03-01-181930/data-processor-models/automl-test-2023-03-01-181930-dpp0-1-c296366c9d7f4f1c9fee7581e5/output/model.tar.gz', 'Environment': {'AUTOML_TRANSFORM_MODE': 'feature-transform', 'SAGEMAKER_DEFAULT_INVOCATIONS_ACCEPT': 'application/x-recordio-protobuf', 'SAGEMAKER_PROGRAM': 'sagemaker_serve', 'SAGEMAKER_SUBMIT_DIRECTORY': '/opt/ml/model/code'}}, {'Image': '683313688378.dkr.ecr.us-east-1.amazonaws.com/sagemaker-xgboost:1.3-1-cpu-py3', 'ModelDataUrl': 's3://sagemaker-us-east-1-707031497630/custom_preprocessing-2023-03-01-181930/components/autopilot_job_output/automl-test-2023-03-01-181930/tuning/automl-tes-dpp0-xgb/automl-test-2023-03-01-181930fhh-030-ed7fda56/output/model.tar.gz', 'Environment': {'MAX_CONTENT_LENGTH': '20971520', 'SAGEMAKER_DEFAULT_INVOCATIONS_ACCEPT': 'text/csv', 'SAGEMAKER_INFERENCE_OUTPUT': 'predicted_label', 'SAGEMAKER_INFERENCE_SUPPORTED': 'predicted_label,probability,probabilities'}}, {'Image': '683313688378.dkr.ecr.us-east-1.amazonaws.com/sagemaker-sklearn-automl:2.5-1-cpu-py3', 'ModelDataUrl': 's3://sagemaker-us-east-1-707031497630/custom_preprocessing-2023-03-01-181930/components/autopilot_job_output/automl-test-2023-03-01-181930/data-processor-models/automl-test-2023-03-01-181930-dpp0-1-c296366c9d7f4f1c9fee7581e5/output/model.tar.gz', 'Environment': {'AUTOML_TRANSFORM_MODE': 'inverse-label-transform', 'SAGEMAKER_DEFAULT_INVOCATIONS_ACCEPT': 'text/csv', 'SAGEMAKER_INFERENCE_INPUT': 'predicted_label', 'SAGEMAKER_INFERENCE_OUTPUT': 'predicted_label', 'SAGEMAKER_INFERENCE_SUPPORTED': 'predicted_label,probability,labels,probabilities', 'SAGEMAKER_PROGRAM': 'sagemaker_serve', 'SAGEMAKER_SUBMIT_DIRECTORY': '/opt/ml/model/code'}}], 'CreationTime': datetime.datetime(2023, 3, 1, 19, 1, 20, tzinfo=tzlocal()), 'EndTime': datetime.datetime(2023, 3, 1, 19, 2, 48, tzinfo=tzlocal()), 'LastModifiedTime': datetime.datetime(2023, 3, 1, 19, 2, 57, 17000, tzinfo=tzlocal()), 'CandidateProperties': {'CandidateMetrics': [{'MetricName': 'F1', 'Value': 1.0, 'Set': 'Validation', 'StandardMetricName': 'F1'}, {'MetricName': 'LogLoss', 'Value': 0.5542700290679932, 'Set': 'Validation', 'StandardMetricName': 'LogLoss'}, {'MetricName': 'Recall', 'Value': 1.0, 'Set': 'Validation', 'StandardMetricName': 'Recall'}, {'MetricName': 'Precision', 'Value': 1.0, 'Set': 'Validation', 'StandardMetricName': 'Precision'}, {'MetricName': 'AUC', 'Value': 1.0, 'Set': 'Validation', 'StandardMetricName': 'AUC'}, {'MetricName': 'Accuracy', 'Value': 1.0, 'Set': 'Validation', 'StandardMetricName': 'Accuracy'}, {'MetricName': 'BalancedAccuracy', 'Value': 1.0, 'Set': 'Validation', 'StandardMetricName': 'BalancedAccuracy'}]}} \n",
      "\n",
      "{'CandidateName': 'automl-test-2023-03-01-181930fhh-028-b4b230b4', 'ObjectiveStatus': 'Failed', 'CandidateSteps': [{'CandidateStepType': 'AWS::SageMaker::ProcessingJob', 'CandidateStepArn': 'arn:aws:sagemaker:us-east-1:707031497630:processing-job/automl-test-2023-03-01-181930-db-1-1a19b54775c04aac80fbd6428ef0', 'CandidateStepName': 'automl-test-2023-03-01-181930-db-1-1a19b54775c04aac80fbd6428ef0'}, {'CandidateStepType': 'AWS::SageMaker::TrainingJob', 'CandidateStepArn': 'arn:aws:sagemaker:us-east-1:707031497630:training-job/automl-test-2023-03-01-181930-dpp0-1-c296366c9d7f4f1c9fee7581e5', 'CandidateStepName': 'automl-test-2023-03-01-181930-dpp0-1-c296366c9d7f4f1c9fee7581e5'}, {'CandidateStepType': 'AWS::SageMaker::TransformJob', 'CandidateStepArn': 'arn:aws:sagemaker:us-east-1:707031497630:transform-job/automl-test-2023-03-01-181930-dpp0-csv-1-408e46c4c8a74757b6755a', 'CandidateStepName': 'automl-test-2023-03-01-181930-dpp0-csv-1-408e46c4c8a74757b6755a'}, {'CandidateStepType': 'AWS::SageMaker::TrainingJob', 'CandidateStepArn': 'arn:aws:sagemaker:us-east-1:707031497630:training-job/automl-test-2023-03-01-181930fhh-028-b4b230b4', 'CandidateStepName': 'automl-test-2023-03-01-181930fhh-028-b4b230b4'}], 'CandidateStatus': 'Stopped', 'InferenceContainers': [{'Image': '683313688378.dkr.ecr.us-east-1.amazonaws.com/sagemaker-sklearn-automl:2.5-1-cpu-py3', 'ModelDataUrl': 's3://sagemaker-us-east-1-707031497630/custom_preprocessing-2023-03-01-181930/components/autopilot_job_output/automl-test-2023-03-01-181930/data-processor-models/automl-test-2023-03-01-181930-dpp0-1-c296366c9d7f4f1c9fee7581e5/output/model.tar.gz', 'Environment': {'AUTOML_TRANSFORM_MODE': 'feature-transform', 'SAGEMAKER_DEFAULT_INVOCATIONS_ACCEPT': 'application/x-recordio-protobuf', 'SAGEMAKER_PROGRAM': 'sagemaker_serve', 'SAGEMAKER_SUBMIT_DIRECTORY': '/opt/ml/model/code'}}, {'Image': '683313688378.dkr.ecr.us-east-1.amazonaws.com/sagemaker-xgboost:1.3-1-cpu-py3', 'ModelDataUrl': 's3://sagemaker-us-east-1-707031497630/custom_preprocessing-2023-03-01-181930/components/autopilot_job_output/automl-test-2023-03-01-181930/tuning/automl-tes-dpp0-xgb/automl-test-2023-03-01-181930fhh-028-b4b230b4/output/model.tar.gz', 'Environment': {'MAX_CONTENT_LENGTH': '20971520', 'SAGEMAKER_DEFAULT_INVOCATIONS_ACCEPT': 'text/csv', 'SAGEMAKER_INFERENCE_OUTPUT': 'predicted_label', 'SAGEMAKER_INFERENCE_SUPPORTED': 'predicted_label,probability,probabilities'}}, {'Image': '683313688378.dkr.ecr.us-east-1.amazonaws.com/sagemaker-sklearn-automl:2.5-1-cpu-py3', 'ModelDataUrl': 's3://sagemaker-us-east-1-707031497630/custom_preprocessing-2023-03-01-181930/components/autopilot_job_output/automl-test-2023-03-01-181930/data-processor-models/automl-test-2023-03-01-181930-dpp0-1-c296366c9d7f4f1c9fee7581e5/output/model.tar.gz', 'Environment': {'AUTOML_TRANSFORM_MODE': 'inverse-label-transform', 'SAGEMAKER_DEFAULT_INVOCATIONS_ACCEPT': 'text/csv', 'SAGEMAKER_INFERENCE_INPUT': 'predicted_label', 'SAGEMAKER_INFERENCE_OUTPUT': 'predicted_label', 'SAGEMAKER_INFERENCE_SUPPORTED': 'predicted_label,probability,labels,probabilities', 'SAGEMAKER_PROGRAM': 'sagemaker_serve', 'SAGEMAKER_SUBMIT_DIRECTORY': '/opt/ml/model/code'}}], 'CreationTime': datetime.datetime(2023, 3, 1, 19, 0, 51, tzinfo=tzlocal()), 'EndTime': datetime.datetime(2023, 3, 1, 19, 2, 57, 871000, tzinfo=tzlocal()), 'LastModifiedTime': datetime.datetime(2023, 3, 1, 19, 2, 57, 871000, tzinfo=tzlocal())} \n",
      "\n",
      "{'CandidateName': 'automl-test-2023-03-01-181930fhh-026-80743015', 'FinalAutoMLJobObjectiveMetric': {'MetricName': 'validation:binary_f_beta', 'Value': 0.5853658318519592, 'StandardMetricName': 'F1'}, 'ObjectiveStatus': 'Succeeded', 'CandidateSteps': [{'CandidateStepType': 'AWS::SageMaker::ProcessingJob', 'CandidateStepArn': 'arn:aws:sagemaker:us-east-1:707031497630:processing-job/automl-test-2023-03-01-181930-db-1-1a19b54775c04aac80fbd6428ef0', 'CandidateStepName': 'automl-test-2023-03-01-181930-db-1-1a19b54775c04aac80fbd6428ef0'}, {'CandidateStepType': 'AWS::SageMaker::TrainingJob', 'CandidateStepArn': 'arn:aws:sagemaker:us-east-1:707031497630:training-job/automl-test-2023-03-01-181930-dpp2-1-e4aef67026a7450fa20643e9cf', 'CandidateStepName': 'automl-test-2023-03-01-181930-dpp2-1-e4aef67026a7450fa20643e9cf'}, {'CandidateStepType': 'AWS::SageMaker::TransformJob', 'CandidateStepArn': 'arn:aws:sagemaker:us-east-1:707031497630:transform-job/automl-test-2023-03-01-181930-dpp2-rpb-1-d0a5b8c6cf3d4667b750bd', 'CandidateStepName': 'automl-test-2023-03-01-181930-dpp2-rpb-1-d0a5b8c6cf3d4667b750bd'}, {'CandidateStepType': 'AWS::SageMaker::TrainingJob', 'CandidateStepArn': 'arn:aws:sagemaker:us-east-1:707031497630:training-job/automl-test-2023-03-01-181930fhh-026-80743015', 'CandidateStepName': 'automl-test-2023-03-01-181930fhh-026-80743015'}], 'CandidateStatus': 'Completed', 'InferenceContainers': [{'Image': '683313688378.dkr.ecr.us-east-1.amazonaws.com/sagemaker-sklearn-automl:2.5-1-cpu-py3', 'ModelDataUrl': 's3://sagemaker-us-east-1-707031497630/custom_preprocessing-2023-03-01-181930/components/autopilot_job_output/automl-test-2023-03-01-181930/data-processor-models/automl-test-2023-03-01-181930-dpp2-1-e4aef67026a7450fa20643e9cf/output/model.tar.gz', 'Environment': {'AUTOML_TRANSFORM_MODE': 'feature-transform', 'SAGEMAKER_DEFAULT_INVOCATIONS_ACCEPT': 'application/x-recordio-protobuf', 'SAGEMAKER_PROGRAM': 'sagemaker_serve', 'SAGEMAKER_SUBMIT_DIRECTORY': '/opt/ml/model/code'}}, {'Image': '382416733822.dkr.ecr.us-east-1.amazonaws.com/linear-learner:inference-cpu', 'ModelDataUrl': 's3://sagemaker-us-east-1-707031497630/custom_preprocessing-2023-03-01-181930/components/autopilot_job_output/automl-test-2023-03-01-181930/tuning/automl-tes-dpp2-ll/automl-test-2023-03-01-181930fhh-026-80743015/output/model.tar.gz', 'Environment': {'MAX_CONTENT_LENGTH': '20971520', 'ML_APPLICATION': 'linear_learner', 'SAGEMAKER_DEFAULT_INVOCATIONS_ACCEPT': 'text/csv', 'SAGEMAKER_INFERENCE_OUTPUT': 'predicted_label', 'SAGEMAKER_INFERENCE_SUPPORTED': 'predicted_label,probability,probabilities'}}, {'Image': '683313688378.dkr.ecr.us-east-1.amazonaws.com/sagemaker-sklearn-automl:2.5-1-cpu-py3', 'ModelDataUrl': 's3://sagemaker-us-east-1-707031497630/custom_preprocessing-2023-03-01-181930/components/autopilot_job_output/automl-test-2023-03-01-181930/data-processor-models/automl-test-2023-03-01-181930-dpp2-1-e4aef67026a7450fa20643e9cf/output/model.tar.gz', 'Environment': {'AUTOML_TRANSFORM_MODE': 'inverse-label-transform', 'SAGEMAKER_DEFAULT_INVOCATIONS_ACCEPT': 'text/csv', 'SAGEMAKER_INFERENCE_INPUT': 'predicted_label', 'SAGEMAKER_INFERENCE_OUTPUT': 'predicted_label', 'SAGEMAKER_INFERENCE_SUPPORTED': 'predicted_label,probability,labels,probabilities', 'SAGEMAKER_PROGRAM': 'sagemaker_serve', 'SAGEMAKER_SUBMIT_DIRECTORY': '/opt/ml/model/code'}}], 'CreationTime': datetime.datetime(2023, 3, 1, 19, 0, 15, tzinfo=tzlocal()), 'EndTime': datetime.datetime(2023, 3, 1, 19, 2, 2, tzinfo=tzlocal()), 'LastModifiedTime': datetime.datetime(2023, 3, 1, 19, 2, 34, 330000, tzinfo=tzlocal()), 'CandidateProperties': {'CandidateMetrics': [{'MetricName': 'LogLoss', 'Value': 11.743328094482422, 'Set': 'Validation', 'StandardMetricName': 'LogLoss'}, {'MetricName': 'F1', 'Value': 0.5853658318519592, 'Set': 'Validation', 'StandardMetricName': 'F1'}, {'MetricName': 'BalancedAccuracy', 'Value': 0.6499999761581421, 'Set': 'Validation', 'StandardMetricName': 'BalancedAccuracy'}, {'MetricName': 'Accuracy', 'Value': 0.6600000262260437, 'Set': 'Validation', 'StandardMetricName': 'Accuracy'}, {'MetricName': 'AUC', 'Value': 0.8799999952316284, 'Set': 'Validation', 'StandardMetricName': 'AUC'}, {'MetricName': 'Recall', 'Value': 0.6000000238418579, 'Set': 'Validation', 'StandardMetricName': 'Recall'}, {'MetricName': 'Precision', 'Value': 0.5714285969734192, 'Set': 'Validation', 'StandardMetricName': 'Precision'}]}} \n",
      "\n"
     ]
    }
   ],
   "source": [
    "for item in sm_dict[\"Candidates\"]:\n",
    "    print(item, \"\\n\")"
   ]
  },
  {
   "cell_type": "markdown",
   "id": "9de0f64e-8c25-4f31-a38d-37cff7588402",
   "metadata": {},
   "source": [
    "# Test Autopilot model\n",
    "\n",
    "Does it matter that the passed features don't have the target value for inference?\n",
    "\n",
    "- Original dataset: 5 rows, 10 columns. No target (Used this to test transformer model)\n",
    "- Processed dataset: 5 rows, 28 columns. No target (Use this to test Autopilot model)\n",
    "- new_df: 500 rows, 29 columns. Yes target (Used this to train the Autopilot model)\n",
    "\n",
    "Put label name into .py script. Use that to determine if label is in the dataset. (Example in [Inference Pipeline with Scikit-learn and Linear Learner](https://github.com/aws/amazon-sagemaker-examples/blob/main/sagemaker-python-sdk/scikit_learn_inference_pipeline/Inference%20Pipeline%20with%20Scikit-learn%20and%20Linear%20Learner.ipynb))"
   ]
  }
 ],
 "metadata": {
  "instance_type": "ml.t3.medium",
  "kernelspec": {
   "display_name": "Python 3 (Data Science)",
   "language": "python",
   "name": "python3__SAGEMAKER_INTERNAL__arn:aws:sagemaker:us-east-1:081325390199:image/datascience-1.0"
  },
  "language_info": {
   "codemirror_mode": {
    "name": "ipython",
    "version": 3
   },
   "file_extension": ".py",
   "mimetype": "text/x-python",
   "name": "python",
   "nbconvert_exporter": "python",
   "pygments_lexer": "ipython3",
   "version": "3.7.10"
  }
 },
 "nbformat": 4,
 "nbformat_minor": 5
}
