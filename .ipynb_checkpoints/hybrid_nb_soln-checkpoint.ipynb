{
 "cells": [
  {
   "cell_type": "markdown",
   "id": "d281742b-46fc-44d0-b39d-3df853b414e1",
   "metadata": {},
   "source": [
    "# Hybrid Notebook/Pipe"
   ]
  },
  {
   "cell_type": "markdown",
   "id": "c4f87de3-3477-4aad-b487-7eaf7801bd90",
   "metadata": {},
   "source": [
    "Code adapted from the [Custom Feature Selection example](https://github.com/aws/amazon-sagemaker-examples/blob/main/autopilot/custom-feature-selection/Feature_selection_autopilot.ipynb)."
   ]
  },
  {
   "cell_type": "code",
   "execution_count": null,
   "id": "452136f4-0b6b-4c5f-8dd4-fcb9741b2c6a",
   "metadata": {
    "tags": []
   },
   "outputs": [],
   "source": [
    "import os\n",
    "import pandas as pd\n",
    "import numpy as np\n",
    "import datetime\n",
    "import random\n",
    "\n",
    "import sagemaker\n",
    "import sagemaker.session\n",
    "\n",
    "from sagemaker.workflow.parameters import (\n",
    "    ParameterInteger,\n",
    "    ParameterString\n",
    ")\n",
    "\n",
    "from sagemaker.sklearn.processing import SKLearnProcessor\n",
    "from sagemaker.processing import ProcessingInput, ProcessingOutput\n",
    "from sagemaker.workflow.steps import ProcessingStep, TrainingStep\n",
    "from sagemaker.processing import ProcessingInput, ProcessingOutput\n",
    "from sagemaker.inputs import TrainingInput\n",
    "from sagemaker.workflow.functions import Join\n",
    "from sagemaker.workflow.execution_variables import ExecutionVariables\n",
    "from sagemaker.sklearn.estimator import SKLearn\n",
    "# import sagemaker_containers\n",
    "\n",
    "from sagemaker.workflow.pipeline import Pipeline\n",
    "\n",
    "import os\n",
    "from sklearn.model_selection import train_test_split\n",
    "from time import gmtime, strftime, sleep\n",
    "import boto3\n",
    "import joblib"
   ]
  },
  {
   "cell_type": "code",
   "execution_count": null,
   "id": "b53a75f5-925b-4e49-b60c-af9eccc42da0",
   "metadata": {
    "tags": []
   },
   "outputs": [],
   "source": [
    "session = sagemaker.session.Session()\n",
    "region = session.boto_region_name\n",
    "role = sagemaker.get_execution_role()\n",
    "bucket = session.default_bucket()\n",
    "prefix = 'custom_preprocessing'\n",
    "\n",
    "timestamp_suffix = strftime(\"%Y-%m-%d-%H%M%S\", gmtime())\n",
    "folder_name = prefix + '-' + timestamp_suffix\n",
    "prefix_path = f's3://{bucket}/{folder_name}'\n",
    "\n",
    "model_output_path = os.path.join('s3://', bucket, folder_name, \"components\")"
   ]
  },
  {
   "cell_type": "code",
   "execution_count": null,
   "id": "9a918a5f-e3a4-41e5-99aa-1afdb1b69130",
   "metadata": {
    "tags": []
   },
   "outputs": [],
   "source": [
    "tags = [\n",
    "    {\"Key\": \"PLATFORM\", \"Value\": \"FO-ML\"},\n",
    "    {\"Key\": \"BUSINESS_REGION\", \"Value\": \"GLOBAL\"},\n",
    "    {\"Key\": \"BUSINESS_UNIT\", \"Value\": \"MOBILITY\"},\n",
    "    {\"Key\": \"CLIENT\", \"Value\": \"MULTI_TENANT\"}\n",
    "   ]"
   ]
  },
  {
   "cell_type": "markdown",
   "id": "971b0b97-3db9-44ee-afca-3da26650e89e",
   "metadata": {},
   "source": [
    "# Create Sample Data"
   ]
  },
  {
   "cell_type": "code",
   "execution_count": null,
   "id": "4b5fe46c-0a8e-4f09-96fe-8b0b690249d1",
   "metadata": {},
   "outputs": [],
   "source": [
    "pipeline_name = \"SampleDataPipe\""
   ]
  },
  {
   "cell_type": "markdown",
   "id": "7cce21bd-d207-4431-974a-62c3e92b9903",
   "metadata": {},
   "source": [
    "### Pipeline Parameters"
   ]
  },
  {
   "cell_type": "code",
   "execution_count": null,
   "id": "8e23dbb1-439c-4c45-8dc9-ab49adeba4a9",
   "metadata": {
    "tags": []
   },
   "outputs": [],
   "source": [
    "sample_size = '10000'\n",
    "\n",
    "sample_size_param = ParameterString(name=\"--sample-size\", default_value='10000')\n",
    "\n",
    "processing_instance_count = ParameterInteger(name=\"ProcessingInstanceCount\", default_value=1)\n",
    "\n",
    "processing_instance_type = ParameterString(\n",
    "    name=\"ProcessingInstanceType\", default_value=\"ml.m5.xlarge\")"
   ]
  },
  {
   "cell_type": "code",
   "execution_count": null,
   "id": "b8cdf654-142b-48d1-a129-83b32b305cf8",
   "metadata": {
    "tags": []
   },
   "outputs": [],
   "source": [
    "sklearn_processor = SKLearnProcessor(\n",
    "    framework_version=\"0.23-1\",\n",
    "    role=role,\n",
    "    instance_type=processing_instance_type,\n",
    "    instance_count=processing_instance_count,\n",
    "    base_job_name=\"sample-pipeline-job\"\n",
    ")"
   ]
  },
  {
   "cell_type": "markdown",
   "id": "107b7b4d-f232-4db1-8731-5e4d8386eac3",
   "metadata": {},
   "source": [
    "### Pipeline Steps"
   ]
  },
  {
   "cell_type": "code",
   "execution_count": null,
   "id": "301e1666-7dae-4b9e-a964-c58ca20274e9",
   "metadata": {
    "tags": []
   },
   "outputs": [],
   "source": [
    "step_create_data = ProcessingStep(\n",
    "    name=\"create_data\",\n",
    "    processor=sklearn_processor,\n",
    "    outputs=[\n",
    "        ProcessingOutput(\n",
    "            output_name=\"train\",\n",
    "            source=\"/opt/ml/processing/output/train\",\n",
    "            destination=Join(\n",
    "                on=\"/\",\n",
    "                values=[\n",
    "                    \"s3://{}\".format(bucket),\n",
    "                    folder_name,\n",
    "                    'sample_data',\n",
    "                    'train'\n",
    "                ],\n",
    "            ),\n",
    "        ),\n",
    "        ProcessingOutput(\n",
    "            output_name=\"validate\",\n",
    "            source=\"/opt/ml/processing/output/validate\",\n",
    "            destination=Join(\n",
    "                on=\"/\",\n",
    "                values=[\n",
    "                    \"s3://{}\".format(bucket),\n",
    "                    folder_name,\n",
    "                    'sample_data',\n",
    "                    'validate'\n",
    "                ],\n",
    "            ),\n",
    "        ),\n",
    "        ProcessingOutput(\n",
    "            output_name=\"test\",\n",
    "            source=\"/opt/ml/processing/output/test\",\n",
    "            destination=Join(\n",
    "                on=\"/\",\n",
    "                values=[\n",
    "                    \"s3://{}\".format(bucket),\n",
    "                    folder_name,\n",
    "                    'sample_data',\n",
    "                    'test'\n",
    "                ],\n",
    "            ),\n",
    "        )\n",
    "    ],\n",
    "    job_arguments = [\"--sample-size\", sample_size_param],\n",
    "    code=\"create_data.py\",\n",
    ")"
   ]
  },
  {
   "cell_type": "markdown",
   "id": "0032787d-dde3-4574-8beb-053e5deaad81",
   "metadata": {},
   "source": [
    "### Pipeline Definition"
   ]
  },
  {
   "cell_type": "code",
   "execution_count": null,
   "id": "c711f36b-6e4d-488c-977b-04a9687a8d22",
   "metadata": {
    "tags": []
   },
   "outputs": [],
   "source": [
    "pipeline = Pipeline(\n",
    "    name=pipeline_name,\n",
    "    parameters=[\n",
    "        sample_size_param,\n",
    "        processing_instance_type,\n",
    "        processing_instance_count\n",
    "    ],\n",
    "    steps=[step_create_data])"
   ]
  },
  {
   "cell_type": "markdown",
   "id": "f2b6857a-f024-4fff-b810-69d3f6fb80ed",
   "metadata": {},
   "source": [
    "### Create and Run Pipeline"
   ]
  },
  {
   "cell_type": "code",
   "execution_count": null,
   "id": "d07d9f40-f934-46ba-b949-2b111680d1ae",
   "metadata": {
    "tags": []
   },
   "outputs": [],
   "source": [
    "pipeline.upsert(role_arn=role, tags=tags)\n",
    "\n",
    "pipeline.start(parameters = {'--sample-size': sample_size},\n",
    "               execution_display_name=\"SampleDataPipe\")"
   ]
  },
  {
   "cell_type": "markdown",
   "id": "c9608d13-e244-49c1-9d8f-4d74618f38c6",
   "metadata": {},
   "source": [
    "# Train Preprocessor"
   ]
  },
  {
   "cell_type": "code",
   "execution_count": null,
   "id": "91891fac-8081-4f3b-8d77-9dbaab2cc9a3",
   "metadata": {},
   "outputs": [],
   "source": [
    "train_path = folder_name + 'sample_data' + 'train' + 'sample.csv'\n",
    "validate_path = folder_name + 'sample_data' + 'validate' + 'sample.csv'\n",
    "test_path = folder_name + 'sample_data' + 'test' + 'sample.csv'"
   ]
  },
  {
   "cell_type": "code",
   "execution_count": null,
   "id": "93237c52-52fe-42ac-953b-465d2435de9b",
   "metadata": {},
   "outputs": [],
   "source": [
    "train_input = session.upload_data('sample.csv',\n",
    "                                  bucket=bucket,\n",
    "                                  key_prefix=train_path)\n",
    "validate_input = session.upload_data('sample.csv',\n",
    "                                  bucket=bucket,\n",
    "                                  key_prefix=validate_path)\n",
    "test_input = session.upload_data('sample.csv',\n",
    "                                  bucket=bucket,\n",
    "                                  key_prefix=test_path)"
   ]
  },
  {
   "cell_type": "code",
   "execution_count": null,
   "id": "2e6f3557-1817-40aa-95c5-f59ed8e6e989",
   "metadata": {
    "tags": []
   },
   "outputs": [],
   "source": [
    "script_path = \"processor_script.py\"\n",
    "model_output_path = os.path.join('s3://', bucket, folder_name, \"components\")\n",
    "\n",
    "sklearn_transformer = SKLearn(\n",
    "    entry_point=script_path,\n",
    "    role=role,\n",
    "    output_path=model_output_path,\n",
    "    instance_type=\"ml.m5.large\",\n",
    "    sagemaker_session=None,\n",
    "    framework_version=\"1.0-1\",\n",
    "    py_version=\"py3\",\n",
    "    tags=tags,\n",
    "    dependencies=['transformers.py']\n",
    ")"
   ]
  },
  {
   "cell_type": "code",
   "execution_count": null,
   "id": "bfb5b95e-9b79-4903-af73-773b33f93b6f",
   "metadata": {
    "scrolled": true,
    "tags": []
   },
   "outputs": [],
   "source": [
    "sklearn_transformer.fit({\"train\": train_input})"
   ]
  },
  {
   "cell_type": "markdown",
   "id": "120de060-fef9-4596-a0a7-c96fb71e2a84",
   "metadata": {},
   "source": [
    "# Batch Transform Data"
   ]
  },
  {
   "cell_type": "code",
   "execution_count": null,
   "id": "ef580bbb-c557-4644-887b-bfc81e945cf4",
   "metadata": {
    "tags": []
   },
   "outputs": [],
   "source": [
    "transformer_prefix = os.path.join(folder_name,\n",
    "                                  \"components\",\n",
    "                                  sklearn_transformer.latest_training_job.job_name,\n",
    "                                  \"output\",\n",
    "                                  \"model.tar.gz\")\n",
    "\n",
    "session.download_data(path='./', bucket=bucket, key_prefix=transformer_prefix)"
   ]
  },
  {
   "cell_type": "code",
   "execution_count": null,
   "id": "959edab8-8303-4258-9b65-762e5892e4a6",
   "metadata": {
    "tags": []
   },
   "outputs": [],
   "source": [
    "!tar xvzf model.tar.gz"
   ]
  },
  {
   "cell_type": "code",
   "execution_count": null,
   "id": "55ec4332-945e-4b21-a950-be5ce6fd8d55",
   "metadata": {
    "tags": []
   },
   "outputs": [],
   "source": [
    "feature_list = list(joblib.load(\"feature_names.joblib\"))\n",
    "print(feature_list)"
   ]
  },
  {
   "cell_type": "code",
   "execution_count": null,
   "id": "03604706-b821-4265-9720-2917e2b9942e",
   "metadata": {
    "tags": []
   },
   "outputs": [],
   "source": [
    "joblib.load(\"preprocessor.joblib\")"
   ]
  },
  {
   "cell_type": "code",
   "execution_count": null,
   "id": "3d327135-82cc-4985-9247-0304d5f00e5b",
   "metadata": {
    "tags": []
   },
   "outputs": [],
   "source": [
    "# Define a SKLearn Transformer from the trained SKLearn Estimator\n",
    "transformer_output = os.path.join(\"s3://\", bucket, folder_name, \"Feature_selection_output/\")\n",
    "transformer = sklearn_transformer.transformer(\n",
    "    instance_count=1,\n",
    "    instance_type=\"ml.m5.large\",\n",
    "    output_path=transformer_output,\n",
    "    assemble_with=\"Line\",\n",
    "    accept=\"text/csv\",\n",
    "    role=role,\n",
    "    tags=tags\n",
    ")"
   ]
  },
  {
   "cell_type": "code",
   "execution_count": null,
   "id": "d9068470-74aa-4655-9b3f-88055ef45604",
   "metadata": {
    "scrolled": true,
    "tags": []
   },
   "outputs": [],
   "source": [
    "# Preprocess training input\n",
    "transformer.transform(train_input, content_type=\"text/csv\")\n",
    "print(\"Waiting for transform job: \" + transformer.latest_transform_job.job_name)\n",
    "transformer.wait()\n",
    "preprocessed_train = transformer.output_path"
   ]
  },
  {
   "cell_type": "markdown",
   "id": "08408808-4e85-4987-a0a1-e5a6013f2d63",
   "metadata": {},
   "source": [
    "## Save batch transformed data"
   ]
  },
  {
   "cell_type": "code",
   "execution_count": null,
   "id": "176b6698-7994-4700-93d3-6abda76ae3cd",
   "metadata": {
    "tags": []
   },
   "outputs": [],
   "source": [
    "transformer_output_path = os.path.join(transformer.output_path)\n",
    "\n",
    "key_prefix = (\n",
    "    transformer_output_path[transformer_output_path.find(bucket) + len(bucket) + 1 :]\n",
    "    + \"sample.csv.out\"\n",
    ")\n",
    "print(transformer_output_path)\n",
    "\n",
    "session.download_data(path=\"./\", bucket=bucket, key_prefix=key_prefix)\n",
    "df_new = pd.read_csv(\"sample.csv.out\", header=None)\n",
    "\n",
    "# first column is the target variable\n",
    "df_new.columns = feature_list"
   ]
  },
  {
   "cell_type": "markdown",
   "id": "17b29412-12f0-411c-a8b3-a6d2807f50e4",
   "metadata": {
    "tags": []
   },
   "source": [
    "# Set up and Kick off Autopilot Job"
   ]
  },
  {
   "cell_type": "code",
   "execution_count": null,
   "id": "479907dc-9584-4587-b96e-4cdd65a69073",
   "metadata": {
    "tags": []
   },
   "outputs": [],
   "source": [
    "input_data_config = [\n",
    "    {\n",
    "        \"DataSource\": {\n",
    "            \"S3DataSource\": {\n",
    "                \"S3DataType\": \"S3Prefix\",\n",
    "                \"S3Uri\": \"s3://{}/{}/{}/training_data_new\".format(bucket, folder_name, \"components\"),\n",
    "            }\n",
    "        },\n",
    "        \"TargetAttributeName\": \"target\",\n",
    "    }\n",
    "]\n",
    "\n",
    "output_data_config = {\"S3OutputPath\": \"s3://{}/{}/{}/autopilot_job_output\".format(bucket, folder_name, \"components\")}\n",
    "\n",
    "AutoML_Job_Config = {\n",
    "    \"CompletionCriteria\": {\n",
    "        # we set MaxCandidate to 50 to have shorter run time. Please adjust this for your use case.\n",
    "        \"MaxCandidates\": 50,\n",
    "        \"MaxAutoMLJobRuntimeInSeconds\": 1800,\n",
    "    }\n",
    "}"
   ]
  },
  {
   "cell_type": "code",
   "execution_count": null,
   "id": "249e3abb-0f02-4c12-a594-ba429f30fe02",
   "metadata": {
    "tags": []
   },
   "outputs": [],
   "source": [
    "sm = boto3.Session().client(service_name=\"sagemaker\", region_name=region)\n",
    "# timestamp_suffix = strftime(\"%d-%H-%M-%S\", gmtime())\n",
    "\n",
    "auto_ml_job_name = \"automl-test-\" + timestamp_suffix\n",
    "print(\"AutoMLJobName: \" + auto_ml_job_name)\n",
    "\n",
    "sm.create_auto_ml_job(\n",
    "    AutoMLJobName=auto_ml_job_name,\n",
    "    InputDataConfig=input_data_config,\n",
    "    OutputDataConfig=output_data_config,\n",
    "    AutoMLJobConfig=AutoML_Job_Config,\n",
    "    RoleArn=role,\n",
    "    Tags=tags\n",
    ")"
   ]
  },
  {
   "cell_type": "code",
   "execution_count": null,
   "id": "1e9bd1f9-4b51-479e-b95c-bc06a6579606",
   "metadata": {
    "scrolled": true,
    "tags": []
   },
   "outputs": [],
   "source": [
    "print(\"JobStatus - Secondary Status\")\n",
    "print(\"------------------------------\")\n",
    "\n",
    "\n",
    "describe_response = sm.describe_auto_ml_job(AutoMLJobName=auto_ml_job_name)\n",
    "print(describe_response[\"AutoMLJobStatus\"] + \" - \" + describe_response[\"AutoMLJobSecondaryStatus\"])\n",
    "job_run_status = describe_response[\"AutoMLJobStatus\"]\n",
    "\n",
    "while job_run_status not in (\"Failed\", \"Completed\", \"Stopped\"):\n",
    "    describe_response = sm.describe_auto_ml_job(AutoMLJobName=auto_ml_job_name)\n",
    "    job_run_status = describe_response[\"AutoMLJobStatus\"]\n",
    "\n",
    "    print(\n",
    "        describe_response[\"AutoMLJobStatus\"] + \" - \" + describe_response[\"AutoMLJobSecondaryStatus\"]\n",
    "    )\n",
    "    sleep(30)"
   ]
  },
  {
   "cell_type": "markdown",
   "id": "36093c71-1395-4fed-8d50-82aa4518468d",
   "metadata": {},
   "source": [
    "## Results"
   ]
  },
  {
   "cell_type": "code",
   "execution_count": null,
   "id": "a507acdb-3604-4d2f-bf51-7eb0369aca91",
   "metadata": {
    "tags": []
   },
   "outputs": [],
   "source": [
    "from IPython.display import JSON\n",
    "\n",
    "best_candidate = sm.describe_auto_ml_job(AutoMLJobName=auto_ml_job_name)[\"BestCandidate\"]\n",
    "best_candidate_name = best_candidate[\"CandidateName\"]\n",
    "\n",
    "print(\"\\n\")\n",
    "print(\"CandidateName: \" + best_candidate_name)\n",
    "print(\"CandidateName Steps: \" + best_candidate[\"FinalAutoMLJobObjectiveMetric\"][\"MetricName\"])\n",
    "print(\n",
    "    \"FinalAutoMLJobObjectiveMetricName: \"\n",
    "    + best_candidate[\"FinalAutoMLJobObjectiveMetric\"][\"MetricName\"]\n",
    ")\n",
    "print(\n",
    "    \"FinalAutoMLJobObjectiveMetricValue: \"\n",
    "    + str(best_candidate[\"FinalAutoMLJobObjectiveMetric\"][\"Value\"])\n",
    ")"
   ]
  },
  {
   "cell_type": "code",
   "execution_count": null,
   "id": "237613df-37ee-485a-ad4e-94fd9fda52eb",
   "metadata": {
    "scrolled": true,
    "tags": []
   },
   "outputs": [],
   "source": [
    "sm.describe_auto_ml_job(AutoMLJobName=auto_ml_job_name)"
   ]
  },
  {
   "cell_type": "code",
   "execution_count": null,
   "id": "a0b92337-cd76-4956-a5e4-a44f636d8ba7",
   "metadata": {
    "tags": []
   },
   "outputs": [],
   "source": [
    "# sm.describe_auto_ml_job(AutoMLJobName=auto_ml_job_name)\n",
    "# sm.list_auto_ml_jobs()\n",
    "sm_dict = sm.list_candidates_for_auto_ml_job(AutoMLJobName=auto_ml_job_name)"
   ]
  },
  {
   "cell_type": "code",
   "execution_count": null,
   "id": "8a05a495-06de-43a7-9021-8a3e1ce8b821",
   "metadata": {
    "scrolled": true,
    "tags": []
   },
   "outputs": [],
   "source": [
    "for item in sm_dict[\"Candidates\"]:\n",
    "    print(item[\"CandidateName\"])"
   ]
  },
  {
   "cell_type": "code",
   "execution_count": null,
   "id": "b515237a-ccff-4c66-905f-408e0ca235a5",
   "metadata": {
    "tags": []
   },
   "outputs": [],
   "source": [
    "print(best_candidate[\"CandidateName\"])"
   ]
  },
  {
   "cell_type": "code",
   "execution_count": null,
   "id": "e4cc9b29-9c50-456f-bf09-9a74e18025ab",
   "metadata": {
    "tags": []
   },
   "outputs": [],
   "source": [
    "for item in sm_dict[\"Candidates\"]:\n",
    "    if item['ObjectiveStatus'] != 'Failed':\n",
    "        print(item[\"CandidateName\"], item[\"FinalAutoMLJobObjectiveMetric\"])\n",
    "        print(item[\"InferenceContainers\"][1][\"Image\"], \"\\n\")"
   ]
  },
  {
   "cell_type": "markdown",
   "id": "35edc832-0a76-42cc-976f-06af0ba8d973",
   "metadata": {},
   "source": [
    "# Set up the inference pipeline"
   ]
  },
  {
   "cell_type": "code",
   "execution_count": null,
   "id": "87012cf6-8aac-49c6-8bce-48187e8e8121",
   "metadata": {
    "tags": []
   },
   "outputs": [],
   "source": [
    "from botocore.exceptions import ClientError\n",
    "\n",
    "sagemaker = boto3.client(\"sagemaker\")\n",
    "import time\n",
    "from datetime import datetime\n",
    "\n",
    "# time_stamp = datetime.now().strftime(\"%m-%d-%Y-%I-%M-%S-%p\")\n",
    "# timestamp_suffix\n",
    "\n",
    "pipeline_name = \"pipeline-test-\" + timestamp_suffix\n",
    "pipeline_endpoint_config_name = \"pipeline-test-endpoint-config-\" + timestamp_suffix\n",
    "pipeline_endpoint_name = \"pipeline-test-endpoint-\" + timestamp_suffix\n",
    "\n",
    "sklearn_image = sklearn_transformer.image_uri\n",
    "container_1_source = sklearn_transformer.latest_training_job.describe()[\"HyperParameters\"][\n",
    "    \"sagemaker_submit_directory\"\n",
    "][1:-1]\n",
    "inference_containers = [\n",
    "    {\n",
    "        \"Image\": sklearn_image,\n",
    "        \"ModelDataUrl\": sklearn_transformer.model_data,\n",
    "        \"Environment\": {\n",
    "            \"SAGEMAKER_SUBMIT_DIRECTORY\": container_1_source,\n",
    "            \"SAGEMAKER_DEFAULT_INVOCATIONS_ACCEPT\": \"text/csv\",\n",
    "            \"SAGEMAKER_PROGRAM\": \"sklearn_feature_selection.py\",\n",
    "        },\n",
    "    }\n",
    "]\n",
    "\n",
    "inference_containers.extend(best_candidate[\"InferenceContainers\"])\n",
    "\n",
    "response = sagemaker.create_model(\n",
    "    ModelName=pipeline_name, Containers=inference_containers, ExecutionRoleArn=role\n",
    ")"
   ]
  },
  {
   "cell_type": "code",
   "execution_count": null,
   "id": "579771e6-f0fd-4b30-b2d9-31d6121c61e5",
   "metadata": {
    "scrolled": true,
    "tags": []
   },
   "outputs": [],
   "source": [
    "try:\n",
    "    response = sagemaker.create_endpoint_config(\n",
    "        EndpointConfigName=pipeline_endpoint_config_name,\n",
    "        ProductionVariants=[\n",
    "            {\n",
    "                \"VariantName\": \"DefaultVariant\",\n",
    "                \"ModelName\": pipeline_name,\n",
    "                \"InitialInstanceCount\": 1,\n",
    "                \"InstanceType\": \"ml.m4.xlarge\",\n",
    "            },\n",
    "        ],\n",
    "    )\n",
    "    print(\"{}\\n\".format(response))\n",
    "\n",
    "except ClientError:\n",
    "    print(\"Endpoint config already exists, continuing...\")\n",
    "\n",
    "\n",
    "try:\n",
    "    response = sagemaker.create_endpoint(\n",
    "        EndpointName=pipeline_endpoint_name,\n",
    "        EndpointConfigName=pipeline_endpoint_config_name,\n",
    "    )\n",
    "    print(\"{}\\n\".format(response))\n",
    "\n",
    "except ClientError:\n",
    "    print(\"Endpoint already exists, continuing...\")\n",
    "\n",
    "\n",
    "# Monitor the status until completed\n",
    "endpoint_status = sagemaker.describe_endpoint(EndpointName=pipeline_endpoint_name)[\"EndpointStatus\"]\n",
    "while endpoint_status not in (\"OutOfService\", \"InService\", \"Failed\"):\n",
    "    endpoint_status = sagemaker.describe_endpoint(EndpointName=pipeline_endpoint_name)[\n",
    "        \"EndpointStatus\"\n",
    "    ]\n",
    "    print(endpoint_status)\n",
    "    time.sleep(30)"
   ]
  },
  {
   "cell_type": "code",
   "execution_count": null,
   "id": "e050f6fe-97b0-47d5-a36a-db10c1650e59",
   "metadata": {
    "tags": []
   },
   "outputs": [],
   "source": [
    "from botocore.exceptions import ClientError\n",
    "\n",
    "sagemaker = boto3.client(\"sagemaker\")\n",
    "import time\n",
    "from datetime import datetime\n",
    "\n",
    "# time_stamp = datetime.now().strftime(\"%m-%d-%Y-%I-%M-%S-%p\")\n",
    "# timestamp_suffix\n",
    "\n",
    "pipeline_name = \"pipeline-test-\" + timestamp_suffix\n",
    "pipeline_endpoint_config_name = \"pipeline-test-endpoint-config-\" + timestamp_suffix\n",
    "pipeline_endpoint_name = \"pipeline-test-endpoint-\" + timestamp_suffix\n",
    "\n",
    "sklearn_image = sklearn_transformer.image_uri\n",
    "container_1_source = sklearn_transformer.latest_training_job.describe()[\"HyperParameters\"][\n",
    "    \"sagemaker_submit_directory\"\n",
    "][1:-1]\n",
    "inference_containers = [\n",
    "    {\n",
    "        \"Image\": sklearn_image,\n",
    "        \"ModelDataUrl\": sklearn_transformer.model_data,\n",
    "        \"Environment\": {\n",
    "            \"SAGEMAKER_SUBMIT_DIRECTORY\": container_1_source,\n",
    "            \"SAGEMAKER_DEFAULT_INVOCATIONS_ACCEPT\": \"text/csv\",\n",
    "            \"SAGEMAKER_PROGRAM\": \"sklearn_feature_selection.py\",\n",
    "        },\n",
    "    }\n",
    "]\n",
    "\n",
    "inference_containers.extend(best_candidate[\"InferenceContainers\"])\n",
    "\n",
    "response = sagemaker.create_model(\n",
    "    ModelName=pipeline_name, Containers=inference_containers, ExecutionRoleArn=role\n",
    ")"
   ]
  },
  {
   "cell_type": "code",
   "execution_count": null,
   "id": "96485bb1-4a2d-4adc-ad8e-e9838a892fb9",
   "metadata": {
    "scrolled": true,
    "tags": []
   },
   "outputs": [],
   "source": [
    "try:\n",
    "    response = sagemaker.create_endpoint_config(\n",
    "        EndpointConfigName=pipeline_endpoint_config_name,\n",
    "        ProductionVariants=[\n",
    "            {\n",
    "                \"VariantName\": \"DefaultVariant\",\n",
    "                \"ModelName\": pipeline_name,\n",
    "                \"InitialInstanceCount\": 1,\n",
    "                \"InstanceType\": \"ml.m4.xlarge\",\n",
    "            },\n",
    "        ],\n",
    "    )\n",
    "    print(\"{}\\n\".format(response))\n",
    "\n",
    "except ClientError:\n",
    "    print(\"Endpoint config already exists, continuing...\")\n",
    "\n",
    "\n",
    "try:\n",
    "    response = sagemaker.create_endpoint(\n",
    "        EndpointName=pipeline_endpoint_name,\n",
    "        EndpointConfigName=pipeline_endpoint_config_name,\n",
    "    )\n",
    "    print(\"{}\\n\".format(response))\n",
    "\n",
    "except ClientError:\n",
    "    print(\"Endpoint already exists, continuing...\")\n",
    "\n",
    "\n",
    "# Monitor the status until completed\n",
    "endpoint_status = sagemaker.describe_endpoint(EndpointName=pipeline_endpoint_name)[\"EndpointStatus\"]\n",
    "while endpoint_status not in (\"OutOfService\", \"InService\", \"Failed\"):\n",
    "    endpoint_status = sagemaker.describe_endpoint(EndpointName=pipeline_endpoint_name)[\n",
    "        \"EndpointStatus\"\n",
    "    ]\n",
    "    print(endpoint_status)\n",
    "    time.sleep(30)"
   ]
  },
  {
   "cell_type": "markdown",
   "id": "59d8182d-70df-4139-a17d-e6fcebfd061c",
   "metadata": {},
   "source": [
    "# Make a Request to Inference Endpoint"
   ]
  },
  {
   "cell_type": "code",
   "execution_count": null,
   "id": "e0728589-287d-4d76-b644-434d0aa13dc6",
   "metadata": {
    "tags": []
   },
   "outputs": [],
   "source": [
    "test_data = sample_df.iloc[0:5, :-1]\n",
    "print(test_data)"
   ]
  },
  {
   "cell_type": "code",
   "execution_count": null,
   "id": "4be320d3-76c5-4cab-aab1-645b740b7968",
   "metadata": {},
   "outputs": [],
   "source": [
    "from sagemaker.predictor import Predictor\n",
    "from sagemaker.serializers import IdentitySerializer\n",
    "from sagemaker.deserializers import CSVDeserializer\n",
    "\n",
    "predictor = Predictor(\n",
    "    endpoint_name=pipeline_endpoint_name,\n",
    "    sagemaker_session=session,\n",
    "    serializer=IdentitySerializer(content_type=\"text/csv\"),\n",
    "    deserializer=CSVDeserializer(),\n",
    ")\n",
    "\n",
    "predictor.predict(test_data.to_csv(sep=\",\", header=True, index=False))"
   ]
  },
  {
   "cell_type": "code",
   "execution_count": null,
   "id": "6f75d65a-fe88-4690-8a9d-be1e23b2ed48",
   "metadata": {},
   "outputs": [],
   "source": []
  },
  {
   "cell_type": "code",
   "execution_count": null,
   "id": "18a66a91-5919-4e56-b6dd-41460715d637",
   "metadata": {},
   "outputs": [],
   "source": []
  },
  {
   "cell_type": "code",
   "execution_count": null,
   "id": "f4d2b105-9eb9-43fe-bbe7-8b2d14807fc4",
   "metadata": {},
   "outputs": [],
   "source": []
  }
 ],
 "metadata": {
  "kernelspec": {
   "display_name": "Python 3 (Data Science)",
   "language": "python",
   "name": "python3__SAGEMAKER_INTERNAL__arn:aws:sagemaker:us-east-1:081325390199:image/datascience-1.0"
  },
  "language_info": {
   "codemirror_mode": {
    "name": "ipython",
    "version": 3
   },
   "file_extension": ".py",
   "mimetype": "text/x-python",
   "name": "python",
   "nbconvert_exporter": "python",
   "pygments_lexer": "ipython3",
   "version": "3.7.10"
  }
 },
 "nbformat": 4,
 "nbformat_minor": 5
}
