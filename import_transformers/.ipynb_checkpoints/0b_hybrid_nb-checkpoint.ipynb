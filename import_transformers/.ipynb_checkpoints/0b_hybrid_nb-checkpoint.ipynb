{
 "cells": [
  {
   "cell_type": "code",
   "execution_count": 2,
   "id": "ac1fe9bb-0004-4cba-b9a9-a7df4591d5db",
   "metadata": {
    "tags": []
   },
   "outputs": [],
   "source": [
    "import pandas as pd\n",
    "import numpy as np\n",
    "import datetime\n",
    "import random\n",
    "\n",
    "import sagemaker\n",
    "import sagemaker.session\n",
    "\n",
    "from sagemaker.workflow.parameters import (\n",
    "    ParameterInteger,\n",
    "    ParameterString\n",
    ")\n",
    "\n",
    "from sagemaker.sklearn.processing import SKLearnProcessor\n",
    "from sagemaker.processing import ProcessingInput, ProcessingOutput\n",
    "from sagemaker.workflow.steps import ProcessingStep, TrainingStep\n",
    "from sagemaker.workflow.functions import Join\n",
    "from sagemaker.workflow.execution_variables import ExecutionVariables\n",
    "from sagemaker.sklearn.estimator import SKLearn\n",
    "# import sagemaker_containers\n",
    "\n",
    "from sagemaker.workflow.pipeline import Pipeline\n",
    "\n",
    "import os\n",
    "from sklearn.model_selection import train_test_split\n",
    "from time import gmtime, strftime, sleep\n",
    "import boto3\n",
    "import joblib"
   ]
  },
  {
   "cell_type": "code",
   "execution_count": 3,
   "id": "284574b1-3da8-429e-ae3a-ce5297ba17d6",
   "metadata": {
    "tags": []
   },
   "outputs": [],
   "source": [
    "session = sagemaker.session.Session()\n",
    "region = session.boto_region_name\n",
    "role = sagemaker.get_execution_role()\n",
    "bucket = session.default_bucket()\n",
    "prefix = 'custom_preprocessing'\n",
    "\n",
    "timestamp_suffix = strftime(\"%Y-%m-%d-%H%M%S\", gmtime())\n",
    "folder_name = prefix + '-' + timestamp_suffix\n",
    "prefix_path = f's3://{bucket}/{folder_name}'"
   ]
  },
  {
   "cell_type": "code",
   "execution_count": 4,
   "id": "64146521-bac7-4397-9b1c-bef164f164e2",
   "metadata": {
    "tags": []
   },
   "outputs": [],
   "source": [
    "tags = [\n",
    "    {\"Key\": \"PLATFORM\", \"Value\": \"FO-ML\"},\n",
    "    {\"Key\": \"BUSINESS_REGION\", \"Value\": \"GLOBAL\"},\n",
    "    {\"Key\": \"BUSINESS_UNIT\", \"Value\": \"MOBILITY\"},\n",
    "    {\"Key\": \"CLIENT\", \"Value\": \"MULTI_TENANT\"}\n",
    "   ]"
   ]
  },
  {
   "cell_type": "markdown",
   "id": "22b8e5a7-e246-4da8-907f-1ef196744d66",
   "metadata": {},
   "source": [
    "## Create sample data"
   ]
  },
  {
   "cell_type": "code",
   "execution_count": 6,
   "id": "6d07aa5a-d035-419f-8013-6f313e26986c",
   "metadata": {
    "tags": []
   },
   "outputs": [
    {
     "data": {
      "text/html": [
       "<div>\n",
       "<style scoped>\n",
       "    .dataframe tbody tr th:only-of-type {\n",
       "        vertical-align: middle;\n",
       "    }\n",
       "\n",
       "    .dataframe tbody tr th {\n",
       "        vertical-align: top;\n",
       "    }\n",
       "\n",
       "    .dataframe thead th {\n",
       "        text-align: right;\n",
       "    }\n",
       "</style>\n",
       "<table border=\"1\" class=\"dataframe\">\n",
       "  <thead>\n",
       "    <tr style=\"text-align: right;\">\n",
       "      <th></th>\n",
       "      <th>true_false</th>\n",
       "      <th>one_hot</th>\n",
       "      <th>dates</th>\n",
       "      <th>floats</th>\n",
       "      <th>max_of_list</th>\n",
       "      <th>nunique_of_list</th>\n",
       "      <th>desc_stats</th>\n",
       "      <th>multi_label</th>\n",
       "      <th>random_col</th>\n",
       "      <th>other</th>\n",
       "    </tr>\n",
       "  </thead>\n",
       "  <tbody>\n",
       "    <tr>\n",
       "      <th>0</th>\n",
       "      <td>true</td>\n",
       "      <td>NaN</td>\n",
       "      <td>2022-11-20</td>\n",
       "      <td>3.0</td>\n",
       "      <td>3,0,9,4,2</td>\n",
       "      <td>apple,orange,grape</td>\n",
       "      <td>9,2,8,3,4</td>\n",
       "      <td>apple,orange,grape</td>\n",
       "      <td>NaN</td>\n",
       "      <td>0</td>\n",
       "    </tr>\n",
       "    <tr>\n",
       "      <th>1</th>\n",
       "      <td>false</td>\n",
       "      <td>purple</td>\n",
       "      <td>2022-02-03</td>\n",
       "      <td>8.0</td>\n",
       "      <td>NaN</td>\n",
       "      <td>0,9,8,3,4,3,3,4,9</td>\n",
       "      <td>1</td>\n",
       "      <td>pineapple,grape,strawberry</td>\n",
       "      <td>3.0</td>\n",
       "      <td>1</td>\n",
       "    </tr>\n",
       "    <tr>\n",
       "      <th>2</th>\n",
       "      <td>NaN</td>\n",
       "      <td>orange</td>\n",
       "      <td>2022-01-12</td>\n",
       "      <td>2.0</td>\n",
       "      <td>0,2,3,9,8,4</td>\n",
       "      <td>NaN</td>\n",
       "      <td>7,8,9,2,3,4</td>\n",
       "      <td>NaN</td>\n",
       "      <td>6.0</td>\n",
       "      <td>2</td>\n",
       "    </tr>\n",
       "    <tr>\n",
       "      <th>3</th>\n",
       "      <td>1</td>\n",
       "      <td>purple</td>\n",
       "      <td>2022-03-02</td>\n",
       "      <td>NaN</td>\n",
       "      <td>4</td>\n",
       "      <td>4,4,4,4,4</td>\n",
       "      <td>NaN</td>\n",
       "      <td>blueberry</td>\n",
       "      <td>1.0</td>\n",
       "      <td>3</td>\n",
       "    </tr>\n",
       "    <tr>\n",
       "      <th>4</th>\n",
       "      <td>0</td>\n",
       "      <td>blue</td>\n",
       "      <td>NaN</td>\n",
       "      <td>4.0</td>\n",
       "      <td>5,4,3</td>\n",
       "      <td>pineapple</td>\n",
       "      <td>34</td>\n",
       "      <td>grapefruit,apple</td>\n",
       "      <td>NaN</td>\n",
       "      <td>4</td>\n",
       "    </tr>\n",
       "  </tbody>\n",
       "</table>\n",
       "</div>"
      ],
      "text/plain": [
       "  true_false one_hot       dates  floats  max_of_list     nunique_of_list  \\\n",
       "0       true     NaN  2022-11-20     3.0    3,0,9,4,2  apple,orange,grape   \n",
       "1      false  purple  2022-02-03     8.0          NaN   0,9,8,3,4,3,3,4,9   \n",
       "2        NaN  orange  2022-01-12     2.0  0,2,3,9,8,4                 NaN   \n",
       "3          1  purple  2022-03-02     NaN            4           4,4,4,4,4   \n",
       "4          0    blue         NaN     4.0        5,4,3           pineapple   \n",
       "\n",
       "    desc_stats                 multi_label  random_col  other  \n",
       "0    9,2,8,3,4          apple,orange,grape         NaN      0  \n",
       "1            1  pineapple,grape,strawberry         3.0      1  \n",
       "2  7,8,9,2,3,4                         NaN         6.0      2  \n",
       "3          NaN                   blueberry         1.0      3  \n",
       "4           34            grapefruit,apple         NaN      4  "
      ]
     },
     "execution_count": 6,
     "metadata": {},
     "output_type": "execute_result"
    }
   ],
   "source": [
    "tf_vals = ['true', 'false', np.nan, '1', '0']\n",
    "onehot_vals = [np.nan, 'purple', 'orange', 'purple', 'blue']\n",
    "\n",
    "date_vals = []\n",
    "for _ in range(4):\n",
    "    date = datetime.date(2022, random.randint(1, 12), random.randint(1, 31))\n",
    "    date_vals.append(date)\n",
    "date_vals.append(np.nan)\n",
    "\n",
    "float_vals = [3, 8.0, 2, np.nan, 4.0]\n",
    "list_max_vals = ['3,0,9,4,2', np.nan, '0,2,3,9,8,4', '4', '5,4,3']\n",
    "list_nunique_vals = ['apple,orange,grape', '0,9,8,3,4,3,3,4,9', np.nan, '4,4,4,4,4', 'pineapple']\n",
    "descstat_vals = ['9,2,8,3,4', '1', '7,8,9,2,3,4', np.nan, '34']\n",
    "multi_label_vals = ['apple,orange,grape', 'pineapple,grape,strawberry', np.nan, 'blueberry', 'grapefruit,apple']\n",
    "drop_vals = [np.nan, 3, 6, 1, np.nan]\n",
    "x_rand = list(range(5))\n",
    "\n",
    "sample_df = pd.DataFrame({\n",
    "    'true_false':tf_vals,\n",
    "    'one_hot':onehot_vals,\n",
    "    'dates':date_vals,\n",
    "    'floats':float_vals,\n",
    "    'max_of_list':list_max_vals,\n",
    "    'nunique_of_list':list_nunique_vals,\n",
    "    'desc_stats':descstat_vals,\n",
    "    'multi_label':multi_label_vals,\n",
    "    'random_col':drop_vals,\n",
    "    'other':x_rand})\n",
    "sample_df"
   ]
  },
  {
   "cell_type": "code",
   "execution_count": 7,
   "id": "1848dcfd-9613-4358-a144-fde715694072",
   "metadata": {
    "tags": []
   },
   "outputs": [],
   "source": [
    "sample_df.to_csv('sample.csv')\n",
    "train_input = session.upload_data('sample.csv', bucket=bucket, key_prefix=folder_name)"
   ]
  },
  {
   "cell_type": "markdown",
   "id": "901d26d2-03d3-4998-ab0b-447b0a9c083a",
   "metadata": {},
   "source": [
    "## Train Preprocessor"
   ]
  },
  {
   "cell_type": "code",
   "execution_count": 14,
   "id": "c01b1b62-eb70-48c0-8fce-d1bea6cd3889",
   "metadata": {
    "tags": []
   },
   "outputs": [],
   "source": [
    "script_path = \"processor_script.py\"\n",
    "model_output_path = os.path.join('s3://', bucket, folder_name, \"components\")\n",
    "\n",
    "sklearn_transformer = SKLearn(\n",
    "    entry_point=script_path,\n",
    "    role=role,\n",
    "    output_path=model_output_path,\n",
    "    instance_type=\"ml.m5.large\",\n",
    "    sagemaker_session=None,\n",
    "    framework_version=\"1.0-1\",\n",
    "    py_version=\"py3\",\n",
    "    tags=tags,\n",
    "    dependencies=['transformers.py']\n",
    ")"
   ]
  },
  {
   "cell_type": "code",
   "execution_count": 15,
   "id": "f3601300-dac4-489f-ad5e-4466af152891",
   "metadata": {
    "scrolled": true,
    "tags": []
   },
   "outputs": [
    {
     "name": "stderr",
     "output_type": "stream",
     "text": [
      "INFO:sagemaker:Creating training-job with name: sagemaker-scikit-learn-2023-02-27-16-58-06-507\n"
     ]
    },
    {
     "name": "stdout",
     "output_type": "stream",
     "text": [
      "2023-02-27 16:58:07 Starting - Starting the training job...\n",
      "2023-02-27 16:58:23 Starting - Preparing the instances for training......\n",
      "2023-02-27 16:59:11 Downloading - Downloading input data...\n",
      "2023-02-27 16:59:41 Training - Downloading the training image...\n",
      "2023-02-27 17:00:37 Uploading - Uploading generated training model\u001b[34m2023-02-27 17:00:22,412 sagemaker-containers INFO     Imported framework sagemaker_sklearn_container.training\u001b[0m\n",
      "\u001b[34m2023-02-27 17:00:22,416 sagemaker-training-toolkit INFO     No GPUs detected (normal if no gpus installed)\u001b[0m\n",
      "\u001b[34m2023-02-27 17:00:22,424 sagemaker_sklearn_container.training INFO     Invoking user training script.\u001b[0m\n",
      "\u001b[34m2023-02-27 17:00:22,628 sagemaker-training-toolkit INFO     No GPUs detected (normal if no gpus installed)\u001b[0m\n",
      "\u001b[34m2023-02-27 17:00:22,640 sagemaker-training-toolkit INFO     No GPUs detected (normal if no gpus installed)\u001b[0m\n",
      "\u001b[34m2023-02-27 17:00:22,651 sagemaker-training-toolkit INFO     No GPUs detected (normal if no gpus installed)\u001b[0m\n",
      "\u001b[34m2023-02-27 17:00:22,659 sagemaker-training-toolkit INFO     Invoking user script\u001b[0m\n",
      "\u001b[34mTraining Env:\u001b[0m\n",
      "\u001b[34m{\n",
      "    \"additional_framework_parameters\": {},\n",
      "    \"channel_input_dirs\": {\n",
      "        \"train\": \"/opt/ml/input/data/train\"\n",
      "    },\n",
      "    \"current_host\": \"algo-1\",\n",
      "    \"framework_module\": \"sagemaker_sklearn_container.training:main\",\n",
      "    \"hosts\": [\n",
      "        \"algo-1\"\n",
      "    ],\n",
      "    \"hyperparameters\": {},\n",
      "    \"input_config_dir\": \"/opt/ml/input/config\",\n",
      "    \"input_data_config\": {\n",
      "        \"train\": {\n",
      "            \"TrainingInputMode\": \"File\",\n",
      "            \"S3DistributionType\": \"FullyReplicated\",\n",
      "            \"RecordWrapperType\": \"None\"\n",
      "        }\n",
      "    },\n",
      "    \"input_dir\": \"/opt/ml/input\",\n",
      "    \"is_master\": true,\n",
      "    \"job_name\": \"sagemaker-scikit-learn-2023-02-27-16-58-06-507\",\n",
      "    \"log_level\": 20,\n",
      "    \"master_hostname\": \"algo-1\",\n",
      "    \"model_dir\": \"/opt/ml/model\",\n",
      "    \"module_dir\": \"s3://sagemaker-us-east-1-707031497630/sagemaker-scikit-learn-2023-02-27-16-58-06-507/source/sourcedir.tar.gz\",\n",
      "    \"module_name\": \"processor_script\",\n",
      "    \"network_interface_name\": \"eth0\",\n",
      "    \"num_cpus\": 2,\n",
      "    \"num_gpus\": 0,\n",
      "    \"output_data_dir\": \"/opt/ml/output/data\",\n",
      "    \"output_dir\": \"/opt/ml/output\",\n",
      "    \"output_intermediate_dir\": \"/opt/ml/output/intermediate\",\n",
      "    \"resource_config\": {\n",
      "        \"current_host\": \"algo-1\",\n",
      "        \"current_instance_type\": \"ml.m5.large\",\n",
      "        \"current_group_name\": \"homogeneousCluster\",\n",
      "        \"hosts\": [\n",
      "            \"algo-1\"\n",
      "        ],\n",
      "        \"instance_groups\": [\n",
      "            {\n",
      "                \"instance_group_name\": \"homogeneousCluster\",\n",
      "                \"instance_type\": \"ml.m5.large\",\n",
      "                \"hosts\": [\n",
      "                    \"algo-1\"\n",
      "                ]\n",
      "            }\n",
      "        ],\n",
      "        \"network_interface_name\": \"eth0\"\n",
      "    },\n",
      "    \"user_entry_point\": \"processor_script.py\"\u001b[0m\n",
      "\u001b[34m}\u001b[0m\n",
      "\u001b[34mEnvironment variables:\u001b[0m\n",
      "\u001b[34mSM_HOSTS=[\"algo-1\"]\u001b[0m\n",
      "\u001b[34mSM_NETWORK_INTERFACE_NAME=eth0\u001b[0m\n",
      "\u001b[34mSM_HPS={}\u001b[0m\n",
      "\u001b[34mSM_USER_ENTRY_POINT=processor_script.py\u001b[0m\n",
      "\u001b[34mSM_FRAMEWORK_PARAMS={}\u001b[0m\n",
      "\u001b[34mSM_RESOURCE_CONFIG={\"current_group_name\":\"homogeneousCluster\",\"current_host\":\"algo-1\",\"current_instance_type\":\"ml.m5.large\",\"hosts\":[\"algo-1\"],\"instance_groups\":[{\"hosts\":[\"algo-1\"],\"instance_group_name\":\"homogeneousCluster\",\"instance_type\":\"ml.m5.large\"}],\"network_interface_name\":\"eth0\"}\u001b[0m\n",
      "\u001b[34mSM_INPUT_DATA_CONFIG={\"train\":{\"RecordWrapperType\":\"None\",\"S3DistributionType\":\"FullyReplicated\",\"TrainingInputMode\":\"File\"}}\u001b[0m\n",
      "\u001b[34mSM_OUTPUT_DATA_DIR=/opt/ml/output/data\u001b[0m\n",
      "\u001b[34mSM_CHANNELS=[\"train\"]\u001b[0m\n",
      "\u001b[34mSM_CURRENT_HOST=algo-1\u001b[0m\n",
      "\u001b[34mSM_MODULE_NAME=processor_script\u001b[0m\n",
      "\u001b[34mSM_LOG_LEVEL=20\u001b[0m\n",
      "\u001b[34mSM_FRAMEWORK_MODULE=sagemaker_sklearn_container.training:main\u001b[0m\n",
      "\u001b[34mSM_INPUT_DIR=/opt/ml/input\u001b[0m\n",
      "\u001b[34mSM_INPUT_CONFIG_DIR=/opt/ml/input/config\u001b[0m\n",
      "\u001b[34mSM_OUTPUT_DIR=/opt/ml/output\u001b[0m\n",
      "\u001b[34mSM_NUM_CPUS=2\u001b[0m\n",
      "\u001b[34mSM_NUM_GPUS=0\u001b[0m\n",
      "\u001b[34mSM_MODEL_DIR=/opt/ml/model\u001b[0m\n",
      "\u001b[34mSM_MODULE_DIR=s3://sagemaker-us-east-1-707031497630/sagemaker-scikit-learn-2023-02-27-16-58-06-507/source/sourcedir.tar.gz\u001b[0m\n",
      "\u001b[34mSM_TRAINING_ENV={\"additional_framework_parameters\":{},\"channel_input_dirs\":{\"train\":\"/opt/ml/input/data/train\"},\"current_host\":\"algo-1\",\"framework_module\":\"sagemaker_sklearn_container.training:main\",\"hosts\":[\"algo-1\"],\"hyperparameters\":{},\"input_config_dir\":\"/opt/ml/input/config\",\"input_data_config\":{\"train\":{\"RecordWrapperType\":\"None\",\"S3DistributionType\":\"FullyReplicated\",\"TrainingInputMode\":\"File\"}},\"input_dir\":\"/opt/ml/input\",\"is_master\":true,\"job_name\":\"sagemaker-scikit-learn-2023-02-27-16-58-06-507\",\"log_level\":20,\"master_hostname\":\"algo-1\",\"model_dir\":\"/opt/ml/model\",\"module_dir\":\"s3://sagemaker-us-east-1-707031497630/sagemaker-scikit-learn-2023-02-27-16-58-06-507/source/sourcedir.tar.gz\",\"module_name\":\"processor_script\",\"network_interface_name\":\"eth0\",\"num_cpus\":2,\"num_gpus\":0,\"output_data_dir\":\"/opt/ml/output/data\",\"output_dir\":\"/opt/ml/output\",\"output_intermediate_dir\":\"/opt/ml/output/intermediate\",\"resource_config\":{\"current_group_name\":\"homogeneousCluster\",\"current_host\":\"algo-1\",\"current_instance_type\":\"ml.m5.large\",\"hosts\":[\"algo-1\"],\"instance_groups\":[{\"hosts\":[\"algo-1\"],\"instance_group_name\":\"homogeneousCluster\",\"instance_type\":\"ml.m5.large\"}],\"network_interface_name\":\"eth0\"},\"user_entry_point\":\"processor_script.py\"}\u001b[0m\n",
      "\u001b[34mSM_USER_ARGS=[]\u001b[0m\n",
      "\u001b[34mSM_OUTPUT_INTERMEDIATE_DIR=/opt/ml/output/intermediate\u001b[0m\n",
      "\u001b[34mSM_CHANNEL_TRAIN=/opt/ml/input/data/train\u001b[0m\n",
      "\u001b[34mPYTHONPATH=/opt/ml/code:/miniconda3/bin:/miniconda3/lib/python38.zip:/miniconda3/lib/python3.8:/miniconda3/lib/python3.8/lib-dynload:/miniconda3/lib/python3.8/site-packages\u001b[0m\n",
      "\u001b[34mInvoking script with the following command:\u001b[0m\n",
      "\u001b[34m/miniconda3/bin/python processor_script.py\u001b[0m\n",
      "\u001b[34mCollecting pandas==1.3.5\n",
      "  Downloading pandas-1.3.5-cp38-cp38-manylinux_2_17_x86_64.manylinux2014_x86_64.whl (11.5 MB)\n",
      "     ━━━━━━━━━━━━━━━━━━━━━━━━━━━━━━━━━━━━━━━━ 11.5/11.5 MB 58.9 MB/s eta 0:00:00\u001b[0m\n",
      "\u001b[34mRequirement already satisfied: python-dateutil>=2.7.3 in /miniconda3/lib/python3.8/site-packages (from pandas==1.3.5) (2.8.1)\u001b[0m\n",
      "\u001b[34mRequirement already satisfied: pytz>=2017.3 in /miniconda3/lib/python3.8/site-packages (from pandas==1.3.5) (2022.6)\u001b[0m\n",
      "\u001b[34mRequirement already satisfied: numpy>=1.17.3 in /miniconda3/lib/python3.8/site-packages (from pandas==1.3.5) (1.19.2)\u001b[0m\n",
      "\u001b[34mRequirement already satisfied: six>=1.5 in /miniconda3/lib/python3.8/site-packages (from python-dateutil>=2.7.3->pandas==1.3.5) (1.15.0)\u001b[0m\n",
      "\u001b[34mInstalling collected packages: pandas\n",
      "  Attempting uninstall: pandas\n",
      "    Found existing installation: pandas 1.1.3\n",
      "    Uninstalling pandas-1.1.3:\u001b[0m\n",
      "\u001b[34m      Successfully uninstalled pandas-1.1.3\u001b[0m\n",
      "\u001b[34mERROR: pip's dependency resolver does not currently take into account all the packages that are installed. This behaviour is the source of the following dependency conflicts.\u001b[0m\n",
      "\u001b[34msagemaker-sklearn-container 2.0 requires pandas==1.1.3, but you have pandas 1.3.5 which is incompatible.\u001b[0m\n",
      "\u001b[34mSuccessfully installed pandas-1.3.5\u001b[0m\n",
      "\u001b[34mWARNING: Running pip as the 'root' user can result in broken permissions and conflicting behaviour with the system package manager. It is recommended to use a virtual environment instead: https://pip.pypa.io/warnings/venv\u001b[0m\n",
      "\u001b[34m[notice] A new release of pip available: 22.3.1 -> 23.0.1\u001b[0m\n",
      "\u001b[34m[notice] To update, run: pip install --upgrade pip\u001b[0m\n",
      "\u001b[34mRequirement already satisfied: numpy in /miniconda3/lib/python3.8/site-packages (1.19.2)\u001b[0m\n",
      "\u001b[34mCollecting numpy\n",
      "  Downloading numpy-1.24.2-cp38-cp38-manylinux_2_17_x86_64.manylinux2014_x86_64.whl (17.3 MB)\n",
      "     ━━━━━━━━━━━━━━━━━━━━━━━━━━━━━━━━━━━━━━━━ 17.3/17.3 MB 74.0 MB/s eta 0:00:00\u001b[0m\n",
      "\u001b[34mInstalling collected packages: numpy\n",
      "  Attempting uninstall: numpy\n",
      "    Found existing installation: numpy 1.19.2\u001b[0m\n",
      "\u001b[34m    Uninstalling numpy-1.19.2:\n",
      "      Successfully uninstalled numpy-1.19.2\u001b[0m\n",
      "\u001b[34mERROR: pip's dependency resolver does not currently take into account all the packages that are installed. This behaviour is the source of the following dependency conflicts.\u001b[0m\n",
      "\u001b[34msagemaker-sklearn-container 2.0 requires numpy==1.19.2, but you have numpy 1.24.2 which is incompatible.\u001b[0m\n",
      "\u001b[34msagemaker-sklearn-container 2.0 requires pandas==1.1.3, but you have pandas 1.3.5 which is incompatible.\u001b[0m\n",
      "\u001b[34mSuccessfully installed numpy-1.24.2\u001b[0m\n",
      "\u001b[34mWARNING: Running pip as the 'root' user can result in broken permissions and conflicting behaviour with the system package manager. It is recommended to use a virtual environment instead: https://pip.pypa.io/warnings/venv\u001b[0m\n",
      "\u001b[34m[notice] A new release of pip available: 22.3.1 -> 23.0.1\u001b[0m\n",
      "\u001b[34m[notice] To update, run: pip install --upgrade pip\u001b[0m\n",
      "\u001b[34mRequirement already satisfied: pyarrow in /miniconda3/lib/python3.8/site-packages (1.0.0)\u001b[0m\n",
      "\u001b[34mCollecting pyarrow\n",
      "  Downloading pyarrow-11.0.0-cp38-cp38-manylinux_2_17_x86_64.manylinux2014_x86_64.whl (35.0 MB)\u001b[0m\n",
      "\u001b[34m     ━━━━━━━━━━━━━━━━━━━━━━━━━━━━━━━━━━━━━━━━ 35.0/35.0 MB 21.0 MB/s eta 0:00:00\u001b[0m\n",
      "\u001b[34mRequirement already satisfied: numpy>=1.16.6 in /miniconda3/lib/python3.8/site-packages (from pyarrow) (1.24.2)\u001b[0m\n",
      "\u001b[34mInstalling collected packages: pyarrow\n",
      "  Attempting uninstall: pyarrow\n",
      "    Found existing installation: pyarrow 1.0.0\n",
      "    Uninstalling pyarrow-1.0.0:\u001b[0m\n",
      "\u001b[34m      Successfully uninstalled pyarrow-1.0.0\u001b[0m\n",
      "\u001b[34mSuccessfully installed pyarrow-11.0.0\u001b[0m\n",
      "\u001b[34mWARNING: Running pip as the 'root' user can result in broken permissions and conflicting behaviour with the system package manager. It is recommended to use a virtual environment instead: https://pip.pypa.io/warnings/venv\u001b[0m\n",
      "\u001b[34m[notice] A new release of pip available: 22.3.1 -> 23.0.1\u001b[0m\n",
      "\u001b[34m[notice] To update, run: pip install --upgrade pip\u001b[0m\n",
      "\u001b[34mPreprocessing data\u001b[0m\n",
      "\u001b[34mRunning TrueFalseTransformer\u001b[0m\n",
      "\u001b[34mRunning OneHotTransformer\u001b[0m\n",
      "\u001b[34mRunning DateTransformer\u001b[0m\n",
      "\u001b[34mRunning FloatTransformer\u001b[0m\n",
      "\u001b[34mRunning ListMaxTransformer\u001b[0m\n",
      "\u001b[34mRunning ListNuniqueTransformer\u001b[0m\n",
      "\u001b[34mRunning DescStatTransformer\u001b[0m\n",
      "\u001b[34mRunning MultilabelTransformer\u001b[0m\n",
      "\u001b[34mSaving preprocessor joblib\u001b[0m\n",
      "\u001b[34mDefining and saving selected feature names\u001b[0m\n",
      "\u001b[34mtruefalse\u001b[0m\n",
      "\u001b[34monehot\u001b[0m\n",
      "\u001b[34mdates\u001b[0m\n",
      "\u001b[34mfloats\u001b[0m\n",
      "\u001b[34mlistmax\u001b[0m\n",
      "\u001b[34mnunique\u001b[0m\n",
      "\u001b[34mdescstats\u001b[0m\n",
      "\u001b[34mmultilabel\u001b[0m\n",
      "\u001b[34mSelected features are: ['true_false', 'one_hot_blue', 'one_hot_ml_empty', 'one_hot_orange', 'one_hot_purple', 'dates-month', 'dates-day_of_week', 'dates-hour', 'dates-day_of_month', 'dates-is_month_start', 'dates-is_month_end', 'floats', 'max_of_list', 'nunique_of_list', 'desc_stats-min', 'desc_stats-max', 'desc_stats-mean', 'desc_stats-std', 'desc_stats-nunique', 'multi_label_apple', 'multi_label_blueberry', 'multi_label_grape', 'multi_label_grapefruit', 'multi_label_ml_empty', 'multi_label_orange', 'multi_label_pineapple', 'multi_label_strawberry', 'Unnamed: 0', 'other']\u001b[0m\n",
      "\u001b[34m2023-02-27 17:00:35,777 sagemaker-containers INFO     Reporting training SUCCESS\u001b[0m\n",
      "\n",
      "2023-02-27 17:00:54 Completed - Training job completed\n",
      "Training seconds: 102\n",
      "Billable seconds: 102\n"
     ]
    }
   ],
   "source": [
    "sklearn_transformer.fit({\"train\": train_input})"
   ]
  },
  {
   "cell_type": "code",
   "execution_count": 16,
   "id": "cc444335-31a5-4932-a7be-c38ea370c31e",
   "metadata": {
    "tags": []
   },
   "outputs": [],
   "source": [
    "transformer_prefix = os.path.join(folder_name,\n",
    "                                  \"components\",\n",
    "                                  sklearn_transformer.latest_training_job.job_name,\n",
    "                                  \"output\",\n",
    "                                  \"model.tar.gz\")\n",
    "\n",
    "session.download_data(path='./', bucket=bucket, key_prefix=transformer_prefix)"
   ]
  },
  {
   "cell_type": "code",
   "execution_count": 5,
   "id": "21d9ad2e-1716-4bf9-8106-efe592c8d2f2",
   "metadata": {
    "tags": []
   },
   "outputs": [],
   "source": [
    "# transformer_prefix = 'custom_preprocessing-2023-02-27-153524/components/sagemaker-scikit-learn-2023-02-27-15-35-25-466/output/model.tar.gz'\n",
    "# session.download_data(path='./', bucket=bucket, key_prefix=transformer_prefix)"
   ]
  },
  {
   "cell_type": "code",
   "execution_count": 17,
   "id": "7503da58-2e32-493f-bf37-7c522235faeb",
   "metadata": {
    "tags": []
   },
   "outputs": [
    {
     "name": "stdout",
     "output_type": "stream",
     "text": [
      "feature_names.joblib\n",
      "preprocessor.joblib\n"
     ]
    }
   ],
   "source": [
    "!tar xvzf model.tar.gz"
   ]
  },
  {
   "cell_type": "code",
   "execution_count": 18,
   "id": "a3907bcd-a154-4b90-83f7-d399ff087eab",
   "metadata": {
    "tags": []
   },
   "outputs": [
    {
     "name": "stdout",
     "output_type": "stream",
     "text": [
      "['true_false', 'one_hot_blue', 'one_hot_ml_empty', 'one_hot_orange', 'one_hot_purple', 'dates-month', 'dates-day_of_week', 'dates-hour', 'dates-day_of_month', 'dates-is_month_start', 'dates-is_month_end', 'floats', 'max_of_list', 'nunique_of_list', 'desc_stats-min', 'desc_stats-max', 'desc_stats-mean', 'desc_stats-std', 'desc_stats-nunique', 'multi_label_apple', 'multi_label_blueberry', 'multi_label_grape', 'multi_label_grapefruit', 'multi_label_ml_empty', 'multi_label_orange', 'multi_label_pineapple', 'multi_label_strawberry', 'Unnamed: 0', 'other']\n"
     ]
    }
   ],
   "source": [
    "feature_list = list(joblib.load(\"feature_names.joblib\"))\n",
    "print(feature_list)"
   ]
  },
  {
   "cell_type": "code",
   "execution_count": 13,
   "id": "dc45cb6f-c0ff-4717-b76b-f927617ad21c",
   "metadata": {
    "tags": []
   },
   "outputs": [
    {
     "name": "stderr",
     "output_type": "stream",
     "text": [
      "/opt/conda/lib/python3.7/site-packages/sklearn/base.py:318: UserWarning: Trying to unpickle estimator OneHotEncoder from version 1.0.2 when using version 0.22.1. This might lead to breaking code or invalid results. Use at your own risk.\n",
      "  UserWarning)\n",
      "/opt/conda/lib/python3.7/site-packages/sklearn/base.py:318: UserWarning: Trying to unpickle estimator MultiLabelBinarizer from version 1.0.2 when using version 0.22.1. This might lead to breaking code or invalid results. Use at your own risk.\n",
      "  UserWarning)\n",
      "/opt/conda/lib/python3.7/site-packages/sklearn/base.py:318: UserWarning: Trying to unpickle estimator ColumnTransformer from version 1.0.2 when using version 0.22.1. This might lead to breaking code or invalid results. Use at your own risk.\n",
      "  UserWarning)\n"
     ]
    },
    {
     "data": {
      "text/plain": [
       "ColumnTransformer(n_jobs=None, remainder='passthrough', sparse_threshold=0.3,\n",
       "                  transformer_weights=None,\n",
       "                  transformers=[('drop_cols', 'drop', ['random_col']),\n",
       "                                ('truefalse', TrueFalseTransformer(),\n",
       "                                 ['true_false']),\n",
       "                                ('onehot', OneHotTransformer(), ['one_hot']),\n",
       "                                ('dates', DateTransformer(), ['dates']),\n",
       "                                ('floats', FloatTransformer(), ['floats']),\n",
       "                                ('listmax', ListMaxTransformer(),\n",
       "                                 ['max_of_list']),\n",
       "                                ('nunique', ListNuniqueTransformer(),\n",
       "                                 ['nunique_of_list']),\n",
       "                                ('descstats', DescStatTransformer(),\n",
       "                                 ['desc_stats']),\n",
       "                                ('multilabel', MultilabelTransformer(),\n",
       "                                 'multi_label')],\n",
       "                  verbose=False)"
      ]
     },
     "execution_count": 13,
     "metadata": {},
     "output_type": "execute_result"
    }
   ],
   "source": [
    "joblib.load(\"preprocessor.joblib\")"
   ]
  },
  {
   "cell_type": "code",
   "execution_count": null,
   "id": "de3c1461-307f-46d2-8149-9610db68cb4a",
   "metadata": {},
   "outputs": [],
   "source": []
  },
  {
   "cell_type": "markdown",
   "id": "3706e976-9df7-440a-a0ad-29e1c6e18d19",
   "metadata": {},
   "source": [
    "# Not tested yet"
   ]
  },
  {
   "cell_type": "code",
   "execution_count": 19,
   "id": "feaef0dd-cf59-45a7-8b7b-55b290b379bf",
   "metadata": {
    "tags": []
   },
   "outputs": [],
   "source": [
    "train_input = 's3://sagemaker-us-east-1-707031497630/custom_preprocessing-2023-02-27-153524/sample.csv'"
   ]
  },
  {
   "cell_type": "code",
   "execution_count": 12,
   "id": "a67cfd12-53ba-40da-ba60-82ee49f3aa6a",
   "metadata": {
    "scrolled": true,
    "tags": []
   },
   "outputs": [
    {
     "data": {
      "text/plain": [
       "\u001b[0;31mSignature:\u001b[0m\n",
       "\u001b[0msklearn_transformer\u001b[0m\u001b[0;34m.\u001b[0m\u001b[0mtransformer\u001b[0m\u001b[0;34m(\u001b[0m\u001b[0;34m\u001b[0m\n",
       "\u001b[0;34m\u001b[0m    \u001b[0minstance_count\u001b[0m\u001b[0;34m,\u001b[0m\u001b[0;34m\u001b[0m\n",
       "\u001b[0;34m\u001b[0m    \u001b[0minstance_type\u001b[0m\u001b[0;34m,\u001b[0m\u001b[0;34m\u001b[0m\n",
       "\u001b[0;34m\u001b[0m    \u001b[0mstrategy\u001b[0m\u001b[0;34m=\u001b[0m\u001b[0;32mNone\u001b[0m\u001b[0;34m,\u001b[0m\u001b[0;34m\u001b[0m\n",
       "\u001b[0;34m\u001b[0m    \u001b[0massemble_with\u001b[0m\u001b[0;34m=\u001b[0m\u001b[0;32mNone\u001b[0m\u001b[0;34m,\u001b[0m\u001b[0;34m\u001b[0m\n",
       "\u001b[0;34m\u001b[0m    \u001b[0moutput_path\u001b[0m\u001b[0;34m=\u001b[0m\u001b[0;32mNone\u001b[0m\u001b[0;34m,\u001b[0m\u001b[0;34m\u001b[0m\n",
       "\u001b[0;34m\u001b[0m    \u001b[0moutput_kms_key\u001b[0m\u001b[0;34m=\u001b[0m\u001b[0;32mNone\u001b[0m\u001b[0;34m,\u001b[0m\u001b[0;34m\u001b[0m\n",
       "\u001b[0;34m\u001b[0m    \u001b[0maccept\u001b[0m\u001b[0;34m=\u001b[0m\u001b[0;32mNone\u001b[0m\u001b[0;34m,\u001b[0m\u001b[0;34m\u001b[0m\n",
       "\u001b[0;34m\u001b[0m    \u001b[0menv\u001b[0m\u001b[0;34m=\u001b[0m\u001b[0;32mNone\u001b[0m\u001b[0;34m,\u001b[0m\u001b[0;34m\u001b[0m\n",
       "\u001b[0;34m\u001b[0m    \u001b[0mmax_concurrent_transforms\u001b[0m\u001b[0;34m=\u001b[0m\u001b[0;32mNone\u001b[0m\u001b[0;34m,\u001b[0m\u001b[0;34m\u001b[0m\n",
       "\u001b[0;34m\u001b[0m    \u001b[0mmax_payload\u001b[0m\u001b[0;34m=\u001b[0m\u001b[0;32mNone\u001b[0m\u001b[0;34m,\u001b[0m\u001b[0;34m\u001b[0m\n",
       "\u001b[0;34m\u001b[0m    \u001b[0mtags\u001b[0m\u001b[0;34m=\u001b[0m\u001b[0;32mNone\u001b[0m\u001b[0;34m,\u001b[0m\u001b[0;34m\u001b[0m\n",
       "\u001b[0;34m\u001b[0m    \u001b[0mrole\u001b[0m\u001b[0;34m=\u001b[0m\u001b[0;32mNone\u001b[0m\u001b[0;34m,\u001b[0m\u001b[0;34m\u001b[0m\n",
       "\u001b[0;34m\u001b[0m    \u001b[0mmodel_server_workers\u001b[0m\u001b[0;34m=\u001b[0m\u001b[0;32mNone\u001b[0m\u001b[0;34m,\u001b[0m\u001b[0;34m\u001b[0m\n",
       "\u001b[0;34m\u001b[0m    \u001b[0mvolume_kms_key\u001b[0m\u001b[0;34m=\u001b[0m\u001b[0;32mNone\u001b[0m\u001b[0;34m,\u001b[0m\u001b[0;34m\u001b[0m\n",
       "\u001b[0;34m\u001b[0m    \u001b[0mentry_point\u001b[0m\u001b[0;34m=\u001b[0m\u001b[0;32mNone\u001b[0m\u001b[0;34m,\u001b[0m\u001b[0;34m\u001b[0m\n",
       "\u001b[0;34m\u001b[0m    \u001b[0mvpc_config_override\u001b[0m\u001b[0;34m=\u001b[0m\u001b[0;34m'VPC_CONFIG_DEFAULT'\u001b[0m\u001b[0;34m,\u001b[0m\u001b[0;34m\u001b[0m\n",
       "\u001b[0;34m\u001b[0m    \u001b[0menable_network_isolation\u001b[0m\u001b[0;34m=\u001b[0m\u001b[0;32mNone\u001b[0m\u001b[0;34m,\u001b[0m\u001b[0;34m\u001b[0m\n",
       "\u001b[0;34m\u001b[0m    \u001b[0mmodel_name\u001b[0m\u001b[0;34m=\u001b[0m\u001b[0;32mNone\u001b[0m\u001b[0;34m,\u001b[0m\u001b[0;34m\u001b[0m\n",
       "\u001b[0;34m\u001b[0m\u001b[0;34m)\u001b[0m\u001b[0;34m\u001b[0m\u001b[0;34m\u001b[0m\u001b[0m\n",
       "\u001b[0;31mDocstring:\u001b[0m\n",
       "Return a ``Transformer`` that uses a SageMaker Model based on the training job.\n",
       "\n",
       "It reuses the SageMaker Session and base job name used by\n",
       "the Estimator.\n",
       "\n",
       "Args:\n",
       "    instance_count (int): Number of EC2 instances to use.\n",
       "    instance_type (str): Type of EC2 instance to use, for example,\n",
       "        'ml.c4.xlarge'.\n",
       "    strategy (str): The strategy used to decide how to batch records in\n",
       "        a single request (default: None). Valid values: 'MultiRecord'\n",
       "        and 'SingleRecord'.\n",
       "    assemble_with (str): How the output is assembled (default: None).\n",
       "        Valid values: 'Line' or 'None'.\n",
       "    output_path (str): S3 location for saving the transform result. If\n",
       "        not specified, results are stored to a default bucket.\n",
       "    output_kms_key (str): Optional. KMS key ID for encrypting the\n",
       "        transform output (default: None).\n",
       "    accept (str): The accept header passed by the client to\n",
       "        the inference endpoint. If it is supported by the endpoint,\n",
       "        it will be the format of the batch transform output.\n",
       "    env (dict): Environment variables to be set for use during the\n",
       "        transform job (default: None).\n",
       "    max_concurrent_transforms (int): The maximum number of HTTP requests\n",
       "        to be made to each individual transform container at one time.\n",
       "    max_payload (int): Maximum size of the payload in a single HTTP\n",
       "        request to the container in MB.\n",
       "    tags (list[dict]): List of tags for labeling a transform job. If\n",
       "        none specified, then the tags used for the training job are used\n",
       "        for the transform job.\n",
       "    role (str): The ``ExecutionRoleArn`` IAM Role ARN for the ``Model``,\n",
       "        which is also used during transform jobs. If not specified, the\n",
       "        role from the Estimator will be used.\n",
       "    model_server_workers (int): Optional. The number of worker processes\n",
       "        used by the inference server. If None, server will use one\n",
       "        worker per vCPU.\n",
       "    volume_kms_key (str): Optional. KMS key ID for encrypting the volume\n",
       "        attached to the ML compute instance (default: None).\n",
       "    entry_point (str): Path (absolute or relative) to the local Python source file which\n",
       "        should be executed as the entry point to training. If ``source_dir`` is specified,\n",
       "        then ``entry_point`` must point to a file located at the root of ``source_dir``.\n",
       "        If not specified, the training entry point is used.\n",
       "    vpc_config_override (dict[str, list[str]]): Optional override for\n",
       "        the VpcConfig set on the model.\n",
       "        Default: use subnets and security groups from this Estimator.\n",
       "\n",
       "        * 'Subnets' (list[str]): List of subnet ids.\n",
       "        * 'SecurityGroupIds' (list[str]): List of security group ids.\n",
       "\n",
       "    enable_network_isolation (bool): Specifies whether container will\n",
       "        run in network isolation mode. Network isolation mode restricts\n",
       "        the container access to outside networks (such as the internet).\n",
       "        The container does not make any inbound or outbound network\n",
       "        calls. If True, a channel named \"code\" will be created for any\n",
       "        user entry script for inference. Also known as Internet-free mode.\n",
       "        If not specified, this setting is taken from the estimator's\n",
       "        current configuration.\n",
       "    model_name (str): Name to use for creating an Amazon SageMaker\n",
       "        model. If not specified, the estimator generates a default job name\n",
       "        based on the training image name and current timestamp.\n",
       "\n",
       "Returns:\n",
       "    sagemaker.transformer.Transformer: a ``Transformer`` object that can be used to start a\n",
       "        SageMaker Batch Transform job.\n",
       "\u001b[0;31mFile:\u001b[0m      /opt/conda/lib/python3.7/site-packages/sagemaker/estimator.py\n",
       "\u001b[0;31mType:\u001b[0m      method\n"
      ]
     },
     "metadata": {},
     "output_type": "display_data"
    }
   ],
   "source": [
    "sklearn_transformer.transformer?"
   ]
  },
  {
   "cell_type": "code",
   "execution_count": 22,
   "id": "daec14bf-77eb-4a62-a700-ebe4a73326e9",
   "metadata": {
    "tags": []
   },
   "outputs": [
    {
     "name": "stderr",
     "output_type": "stream",
     "text": [
      "INFO:sagemaker:Creating model with name: sagemaker-scikit-learn-2023-02-27-19-06-42-768\n"
     ]
    }
   ],
   "source": [
    "# Define a SKLearn Transformer from the trained SKLearn Estimator\n",
    "transformer_output = os.path.join(\"s3://\", bucket, folder_name, \"Feature_selection_output/\")\n",
    "transformer = sklearn_transformer.transformer(\n",
    "    instance_count=1,\n",
    "    instance_type=\"ml.m5.large\",\n",
    "    output_path=transformer_output,\n",
    "    assemble_with=\"Line\",\n",
    "    accept=\"text/csv\",\n",
    "    role=role,\n",
    "    tags=tags\n",
    ")"
   ]
  },
  {
   "cell_type": "code",
   "execution_count": null,
   "id": "09d22d5b-a07a-4648-9b6f-8d766ac59530",
   "metadata": {
    "scrolled": true,
    "tags": []
   },
   "outputs": [],
   "source": [
    "# Preprocess training input\n",
    "transformer.transform(train_input, content_type=\"text/csv\")\n",
    "print(\"Waiting for transform job: \" + transformer.latest_transform_job.job_name)\n",
    "transformer.wait()\n",
    "preprocessed_train = transformer.output_path"
   ]
  },
  {
   "cell_type": "code",
   "execution_count": null,
   "id": "2e4a8f7f-5d68-4b5b-9bea-f3c434ce7b0f",
   "metadata": {},
   "outputs": [],
   "source": []
  }
 ],
 "metadata": {
  "kernelspec": {
   "display_name": "Python 3 (Data Science)",
   "language": "python",
   "name": "python3__SAGEMAKER_INTERNAL__arn:aws:sagemaker:us-east-1:081325390199:image/datascience-1.0"
  },
  "language_info": {
   "codemirror_mode": {
    "name": "ipython",
    "version": 3
   },
   "file_extension": ".py",
   "mimetype": "text/x-python",
   "name": "python",
   "nbconvert_exporter": "python",
   "pygments_lexer": "ipython3",
   "version": "3.7.10"
  }
 },
 "nbformat": 4,
 "nbformat_minor": 5
}
