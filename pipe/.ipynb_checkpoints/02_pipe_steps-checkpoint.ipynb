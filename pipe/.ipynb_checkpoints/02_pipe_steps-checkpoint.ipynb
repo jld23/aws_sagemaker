{
 "cells": [
  {
   "cell_type": "markdown",
   "id": "aa68c1c4-bd15-4c82-9691-279ee83f93e1",
   "metadata": {},
   "source": [
    "# Pipeline"
   ]
  },
  {
   "cell_type": "code",
   "execution_count": null,
   "id": "9cd8073a-4bcb-49f7-8dac-f7ea20d8f06e",
   "metadata": {},
   "outputs": [],
   "source": [
    "tags = [\n",
    "    {\"Key\": \"PLATFORM\", \"Value\": \"FO-ML\"},\n",
    "    {\"Key\": \"BUSINESS_REGION\", \"Value\": \"GLOBAL\"},\n",
    "    {\"Key\": \"BUSINESS_UNIT\", \"Value\": \"MOBILITY\"},\n",
    "    {\"Key\": \"CLIENT\", \"Value\": \"MULTI_TENANT\"}\n",
    "   ]"
   ]
  },
  {
   "cell_type": "code",
   "execution_count": null,
   "id": "37afdbfe-c07f-4a13-866c-76a657d109a4",
   "metadata": {},
   "outputs": [],
   "source": [
    "# tags = [\n",
    "#     {\"Key\": \"DATASET\", \"Value\": \"InsCOIL\"},\n",
    "#     {\"Key\": \"SOURCE\", \"Value\": \"UCI\"}\n",
    "#    ]"
   ]
  },
  {
   "cell_type": "markdown",
   "id": "59bcf646-ab70-4bfe-bc7c-03078450b27f",
   "metadata": {},
   "source": [
    "## Load libraries"
   ]
  },
  {
   "cell_type": "code",
   "execution_count": null,
   "id": "ab520a79-e815-47ed-9baf-f8940d257ec8",
   "metadata": {},
   "outputs": [],
   "source": [
    "import pandas as pd\n",
    "\n",
    "import sagemaker\n",
    "import sagemaker.session\n",
    "import boto3\n",
    "\n",
    "from sagemaker.workflow.parameters import (\n",
    "    ParameterInteger,\n",
    "    ParameterString)\n",
    "\n",
    "from sagemaker.workflow.functions import Join\n",
    "from sagemaker.workflow.steps import ProcessingStep, TrainingStep, TuningStep\n",
    "from sagemaker.workflow.execution_variables import ExecutionVariables\n",
    "from sagemaker.workflow.properties import PropertyFile\n",
    "from sagemaker.workflow.step_collections import RegisterModel\n",
    "from sagemaker.workflow.pipeline import Pipeline\n",
    "\n",
    "from sagemaker.inputs import TrainingInput\n",
    "from sagemaker.tuner import HyperparameterTuner, ContinuousParameter, IntegerParameter\n",
    "from sagemaker import ModelPackage\n",
    "\n",
    "from sagemaker.sklearn.processing import SKLearnProcessor\n",
    "from sagemaker.sklearn.estimator import SKLearn\n",
    "from sagemaker.estimator import Estimator\n",
    "\n",
    "from sagemaker.processing import ProcessingInput, ProcessingOutput, ScriptProcessor\n",
    "from sagemaker.model_metrics import MetricsSource, ModelMetrics\n"
   ]
  },
  {
   "cell_type": "markdown",
   "id": "55f5634e-f7b2-4617-9fb6-efeee82c4448",
   "metadata": {},
   "source": [
    "## Set AWS parameters"
   ]
  },
  {
   "cell_type": "code",
   "execution_count": null,
   "id": "d791aae3-77d1-4312-8f22-0d01d86c8ac1",
   "metadata": {},
   "outputs": [],
   "source": [
    "session = sagemaker.session.Session()\n",
    "region = session.boto_region_name\n",
    "role = sagemaker.get_execution_role()\n",
    "sm = boto3.Session().client(service_name=\"sagemaker\", region_name=region)\n",
    "\n",
    "bucket = session.default_bucket()\n",
    "prefix = '1_ins_dataset/raw'"
   ]
  },
  {
   "cell_type": "markdown",
   "id": "d1f58a6b-3dbf-4ba5-a578-8764da8b8342",
   "metadata": {},
   "source": [
    "## Load data to S3"
   ]
  },
  {
   "cell_type": "code",
   "execution_count": null,
   "id": "d4dbc7d1-74f2-4b9a-b385-4d96222c1c27",
   "metadata": {
    "jupyter": {
     "source_hidden": true
    },
    "tags": []
   },
   "outputs": [],
   "source": [
    "train_uri = 'https://archive.ics.uci.edu/ml/machine-learning-databases/tic-mld/ticdata2000.txt'\n",
    "test_uri = 'https://archive.ics.uci.edu/ml/machine-learning-databases/tic-mld/ticeval2000.txt'\n",
    "gt_uri = 'https://archive.ics.uci.edu/ml/machine-learning-databases/tic-mld/tictgts2000.txt'\n",
    "cols_uri = 'https://archive.ics.uci.edu/ml/machine-learning-databases/tic-mld/dictionary.txt'\n",
    "\n",
    "train = pd.read_table(train_uri, header=None)\n",
    "test = pd.read_table(test_uri, header=None)\n",
    "ground_truth = pd.read_table(gt_uri, header=None)\n",
    "columns = pd.read_table(cols_uri, encoding='latin-1')\n",
    "\n",
    "train.to_csv(f's3://{bucket}/{prefix}/train.csv', index=False)\n",
    "test.to_csv(f's3://{bucket}/{prefix}/test.csv', index=False)\n",
    "ground_truth.to_csv(f's3://{bucket}/{prefix}/gt.csv', index=False)\n",
    "columns.to_csv(f's3://{bucket}/{prefix}/col_info.csv', index=False)"
   ]
  },
  {
   "cell_type": "markdown",
   "id": "9f638cda-83b0-48c7-aa8e-a796923fe076",
   "metadata": {},
   "source": [
    "## Pipeline parameters"
   ]
  },
  {
   "cell_type": "code",
   "execution_count": null,
   "id": "71a6a412-c337-4cd9-97ab-338b01c75802",
   "metadata": {},
   "outputs": [],
   "source": [
    "pipeline_name = \"InsExample\"  # SageMaker Pipeline name\n",
    "model_package_group_name = \"Insurance-Co-Example\"  # Model name in model registry\n",
    "framework_version = \"0.23-1\"\n",
    "\n",
    "processing_instance_count = ParameterInteger(name=\"ProcessingInstanceCount\", default_value=1)\n",
    "\n",
    "processing_instance_type = ParameterString(\n",
    "    name=\"ProcessingInstanceType\", default_value=\"ml.t3.medium\")\n",
    "\n",
    "training_instance_type = ParameterString(\n",
    "    name=\"TrainingInstanceType\", default_value=\"ml.m5.xlarge\")\n",
    "\n",
    "model_approval_status = ParameterString(\n",
    "    name='ModelApprovalStatus', default_value='PendingManualApproval')\n",
    "\n",
    "max_training_jobs = ParameterInteger(name='MaximumTrainingJobs', default_value=1)\n",
    "\n",
    "max_parallel_training_jobs = ParameterInteger('MaxParallelTrainingJobs', default_value=1)"
   ]
  },
  {
   "cell_type": "markdown",
   "id": "9c2760cb-5dea-48d2-abe2-75424f639d98",
   "metadata": {},
   "source": [
    "## Processors and Estimators"
   ]
  },
  {
   "cell_type": "code",
   "execution_count": null,
   "id": "7460af76-fa0f-49c3-8b24-ef452d5ba09c",
   "metadata": {
    "jupyter": {
     "source_hidden": true
    },
    "tags": []
   },
   "outputs": [],
   "source": [
    "sklearn_processor = SKLearnProcessor(\n",
    "    framework_version=framework_version,\n",
    "    role=role,\n",
    "    instance_type=processing_instance_type,\n",
    "    instance_count=processing_instance_count,\n",
    "    base_job_name=\"ins-example-job\"\n",
    ")\n",
    "\n",
    "image_uri = sagemaker.image_uris.retrieve(\n",
    "    framework='xgboost',\n",
    "    region=region,\n",
    "    version='1.2-2',\n",
    "    py_version='py3',\n",
    "    instance_type='ml.m5.xlarge')\n",
    "\n",
    "xgb_estimator = Estimator(\n",
    "    image_uri=image_uri,\n",
    "    instance_type=training_instance_type,\n",
    "    instance_count=1,\n",
    "    role=role,\n",
    "    disable_profiler=True,\n",
    "    # output_path=Join(\n",
    "    #     on=\"/\",\n",
    "    #     values=[\n",
    "    #         \"s3://{}\".format(bucket),\n",
    "    #         prefix,\n",
    "    #         ExecutionVariables.PIPELINE_EXECUTION_ID,\n",
    "    #         \"model\"],\n",
    "    #         )\n",
    ")\n",
    "\n",
    "xgb_estimator.set_hyperparameters(\n",
    "    max_depth=5,\n",
    "    eta=0.2,\n",
    "    gamma=4,\n",
    "    min_child_weight=6,\n",
    "    subsample=0.8,\n",
    "    objective='binary:logistic',\n",
    "    num_round=25)\n",
    "\n",
    "xgb_tuner = HyperparameterTuner(\n",
    "    estimator=xgb_estimator,\n",
    "    objective_metric_name=\"validation:f1\",\n",
    "    hyperparameter_ranges={\n",
    "        'max_depth': IntegerParameter(1, 10),\n",
    "        'eta': ContinuousParameter(0, 0.5),\n",
    "        'gamma': ContinuousParameter(0, 5),\n",
    "        'min_child_weight': ContinuousParameter(1, 120),\n",
    "        'num_round': IntegerParameter(1, 2000)\n",
    "    },\n",
    "    max_jobs=max_training_jobs,\n",
    "    max_parallel_jobs=max_parallel_training_jobs)\n",
    "\n",
    "# xgb_tuner = HyperparameterTuner(\n",
    "#     estimator=xgb_estimator,\n",
    "#     objective_metric_name=\"validation:auc\",\n",
    "#     hyperparameter_ranges={\n",
    "#         'eta': ContinuousParameter(0, 0.5),\n",
    "#         'alpha': ContinuousParameter(0, 1000),\n",
    "#         'min_child_weight': ContinuousParameter(1, 120),\n",
    "#         'max_depth': IntegerParameter(1, 10),\n",
    "#         'num_round': IntegerParameter(1, 2000),\n",
    "#         'subsample': ContinuousParameter(0.5, 1)\n",
    "#     },\n",
    "#     max_jobs=max_training_jobs,\n",
    "#     max_parallel_jobs=max_parallel_training_jobs)\n",
    "\n",
    "evaluate_model_processor = ScriptProcessor(\n",
    "    image_uri=image_uri,\n",
    "    command=[\"python3\"],\n",
    "    instance_type=processing_instance_type,\n",
    "    instance_count=processing_instance_count,\n",
    "    role=role,\n",
    "    base_job_name=\"ins-example-job\")\n",
    "\n",
    "evaluation_report = PropertyFile(\n",
    "    name='EvaluationReport',\n",
    "    output_name='evaluation',\n",
    "    path='evaluation.json')"
   ]
  },
  {
   "cell_type": "markdown",
   "id": "832e4dfb-a2a2-4469-a859-335cfd388579",
   "metadata": {},
   "source": [
    "## ETL step"
   ]
  },
  {
   "cell_type": "code",
   "execution_count": null,
   "id": "69168c00-2057-4be3-9396-dc1c1462b72a",
   "metadata": {
    "jupyter": {
     "source_hidden": true
    },
    "tags": []
   },
   "outputs": [],
   "source": [
    "input_uri = Join(on=\"/\", values=['s3://{}'.format(bucket),\n",
    "                                      prefix,\n",
    "                                      'raw'])\n",
    "\n",
    "step_etl = ProcessingStep(\n",
    "    name=\"etl\",\n",
    "    processor=sklearn_processor,\n",
    "    inputs=[\n",
    "        ProcessingInput(source=input_uri, destination=\"/opt/ml/processing/input\")\n",
    "    ],\n",
    "    outputs=[\n",
    "        ProcessingOutput(\n",
    "            output_name=\"clean\",\n",
    "            source=\"/opt/ml/processing/output\",\n",
    "            destination=Join(\n",
    "                on=\"/\",\n",
    "                values=[\n",
    "                    \"s3://{}\".format(bucket),\n",
    "                    prefix,\n",
    "                    'clean'\n",
    "                ]\n",
    "            )\n",
    "        )\n",
    "    ],\n",
    "    code=\"etl.py\"\n",
    ")\n",
    "\n"
   ]
  },
  {
   "cell_type": "markdown",
   "id": "9baf7c76-030f-403e-b15b-e509cbb3f64d",
   "metadata": {},
   "source": [
    "## Preprocess step"
   ]
  },
  {
   "cell_type": "code",
   "execution_count": null,
   "id": "430ecbb6-e018-4f9a-9a0e-6f5071db9b70",
   "metadata": {
    "jupyter": {
     "source_hidden": true
    },
    "tags": []
   },
   "outputs": [],
   "source": [
    "input_uri = f's3://{bucket}/{prefix}/clean/full_data.csv'\n",
    "\n",
    "input_data = ParameterString(\n",
    "    name=\"InputData\",\n",
    "    default_value=input_uri\n",
    ")\n",
    "\n",
    "step_preprocess = ProcessingStep(\n",
    "    name=\"preprocess_data\",\n",
    "    processor=sklearn_processor,\n",
    "    inputs=[\n",
    "        ProcessingInput(source=input_data, destination=\"/opt/ml/processing/input\")\n",
    "    ],\n",
    "    outputs=[\n",
    "        ProcessingOutput(\n",
    "            output_name=\"train\",\n",
    "            source=\"/opt/ml/processing/output/train\",\n",
    "            destination=Join(\n",
    "                on=\"/\",\n",
    "                values=[\n",
    "                    \"s3://{}\".format(bucket),\n",
    "                    prefix,\n",
    "                    'final',\n",
    "                    \"train\"\n",
    "                ],\n",
    "            ),\n",
    "        ),\n",
    "        ProcessingOutput(\n",
    "            output_name=\"validate\",\n",
    "            source=\"/opt/ml/processing/output/validate\",\n",
    "            destination=Join(\n",
    "                on=\"/\",\n",
    "                values=[\n",
    "                    \"s3://{}\".format(bucket),\n",
    "                    prefix,\n",
    "                    'final',\n",
    "                    \"validate\"\n",
    "                ],\n",
    "            ),\n",
    "        ),\n",
    "        ProcessingOutput(\n",
    "            output_name=\"test\",\n",
    "            source=\"/opt/ml/processing/output/test\",\n",
    "            destination=Join(\n",
    "                on=\"/\",\n",
    "                values=[\n",
    "                    \"s3://{}\".format(bucket),\n",
    "                    prefix,\n",
    "                    'final',\n",
    "                    \"test\"\n",
    "                ],\n",
    "            ),\n",
    "        ),\n",
    "        ProcessingOutput(\n",
    "            output_name=\"encoder\",\n",
    "            source=\"/opt/ml/processing/output/encoder\",\n",
    "            destination=Join(\n",
    "                on=\"/\",\n",
    "                values=[\n",
    "                    \"s3://{}\".format(bucket),\n",
    "                    prefix,\n",
    "                    'final',\n",
    "                    'encoder'\n",
    "                ],\n",
    "            ),\n",
    "        ),\n",
    "    ],\n",
    "    code=\"preprocess.py\"\n",
    ")"
   ]
  },
  {
   "cell_type": "markdown",
   "id": "02cbe14d-0dc1-4394-a343-fb74c65e8474",
   "metadata": {},
   "source": [
    "## Train Prebuilt model\n",
    "\n",
    "### Do one and only one of the following:\n",
    "\n",
    "- Prebuilt Training step\n",
    "- Hyperparameter tuning/training step\n",
    "- AutoPilot step"
   ]
  },
  {
   "cell_type": "code",
   "execution_count": null,
   "id": "451f5628-0e03-4c27-bc35-7412aee4f812",
   "metadata": {
    "jupyter": {
     "source_hidden": true
    },
    "tags": []
   },
   "outputs": [],
   "source": [
    "train_uri = f's3://{bucket}/{prefix}/final/train/train_feats.csv'\n",
    "validate_uri = f's3://{bucket}/{prefix}/final/validate/validate_feats.csv'\n",
    "test_uri = f's3://{bucket}/{prefix}/final/test/test_feats.csv'\n",
    "\n",
    "train_data = ParameterString(\n",
    "    name=\"TrainData\",\n",
    "    default_value=train_uri\n",
    ")\n",
    "validate_data = ParameterString(\n",
    "    name=\"ValidateData\",\n",
    "    default_value=validate_uri\n",
    ")\n",
    "test_data = ParameterString(\n",
    "    name=\"TestData\",\n",
    "    default_value=test_uri\n",
    ")\n",
    "\n",
    "step_train = TrainingStep(\n",
    "    name='train_model',\n",
    "    estimator=xgb_estimator,\n",
    "    inputs={\n",
    "        'train':TrainingInput(\n",
    "            s3_data=train_data,\n",
    "            content_type='text/csv'),\n",
    "        'validation':TrainingInput(\n",
    "            s3_data=validate_data,\n",
    "            content_type='text/csv')\n",
    "            })"
   ]
  },
  {
   "cell_type": "markdown",
   "id": "97896e85-6dcd-44f2-b9f9-a228bb0d6858",
   "metadata": {},
   "source": [
    "## Hyperparameter tuning/training step\n",
    "\n",
    "### Do one and only one of the following:\n",
    "\n",
    "- Prebuilt Training step\n",
    "- Hyperparameter tuning/training step\n",
    "- AutoPilot step"
   ]
  },
  {
   "cell_type": "code",
   "execution_count": null,
   "id": "e36ddfe6-8e97-46cc-bdf1-7e940b287f2e",
   "metadata": {
    "tags": []
   },
   "outputs": [],
   "source": [
    "train_uri = f's3://{bucket}/{prefix}/final/train/train_feats.csv'\n",
    "validate_uri = f's3://{bucket}/{prefix}/final/validate/validate_feats.csv'\n",
    "test_uri = f's3://{bucket}/{prefix}/final/test/test_feats.csv'\n",
    "    \n",
    "train_data = ParameterString(\n",
    "    name=\"TrainData\",\n",
    "    default_value=train_uri\n",
    ")\n",
    "validate_data = ParameterString(\n",
    "    name=\"ValidateData\",\n",
    "    default_value=validate_uri\n",
    ")\n",
    "test_data = ParameterString(\n",
    "    name=\"TestData\",\n",
    "    default_value=test_uri\n",
    ")\n",
    "\n",
    "step_tune = TuningStep(\n",
    "    name='train-tune-model',\n",
    "    tuner=xgb_tuner,\n",
    "    inputs={\n",
    "        'train':TrainingInput(\n",
    "            s3_data=train_data,\n",
    "            content_type='text/csv'),\n",
    "        'validation':TrainingInput(\n",
    "            s3_data=validate_data,\n",
    "            content_type='text/csv')})"
   ]
  },
  {
   "cell_type": "markdown",
   "id": "4bd3de96-7a62-4882-9dcc-3e20da5ac692",
   "metadata": {},
   "source": [
    "## Autopilot step"
   ]
  },
  {
   "cell_type": "code",
   "execution_count": null,
   "id": "826c493d-12d0-4126-8b32-f1f4a4550120",
   "metadata": {},
   "outputs": [],
   "source": [
    "input_data_config = [\n",
    "    {\n",
    "        \"DataSource\": {\n",
    "            \"S3DataSource\": {\n",
    "                \"S3DataType\": \"S3Prefix\",\n",
    "                \"S3Uri\": \"s3://{}/{}/train\".format(bucket, prefix),\n",
    "            }\n",
    "        },\n",
    "        \"TargetAttributeName\": target,\n",
    "    }\n",
    "]\n",
    "\n",
    "job_config = {\"CompletionCriteria\": {\"MaxCandidates\": 10}}\n",
    "\n",
    "\n",
    "output_data_config = {\"S3OutputPath\": \"s3://{}/{}/output\".format(bucket, prefix)}\n",
    "\n",
    "from time import gmtime, strftime, sleep\n",
    "\n",
    "timestamp_suffix = strftime(\"%Y%m%d-%H-%M\", gmtime())\n",
    "\n",
    "auto_ml_job_name = \"ins-example-\" + timestamp_suffix\n",
    "print(\"AutoMLJobName: \" + auto_ml_job_name)\n",
    "\n",
    "sm.create_auto_ml_job(\n",
    "    AutoMLJobName=auto_ml_job_name,\n",
    "    InputDataConfig=input_data_config,\n",
    "    OutputDataConfig=output_data_config,\n",
    "    AutoMLJobConfig=job_config,\n",
    "    # Uncomment to automatically deploy an endpoint\n",
    "    # ModelDeployConfig={\n",
    "    #'AutoGenerateEndpointName': True,\n",
    "    #'EndpointName': 'autopilot-DEMO-housing-' + timestamp_suffix\n",
    "    # },\n",
    "    RoleArn=role,\n",
    ")"
   ]
  },
  {
   "cell_type": "code",
   "execution_count": null,
   "id": "7d0e3690-370e-46df-86c1-394e7a403330",
   "metadata": {},
   "outputs": [],
   "source": [
    "automl = AutoML(\n",
    "    role=execution_role,\n",
    "    target_attribute_name=target_attribute_name,\n",
    "    sagemaker_session=pipeline_session,\n",
    "    total_job_runtime_in_seconds=max_automl_runtime,\n",
    "    mode=\"ENSEMBLING\",  # only ensembling mode is supported for native AutoML step integration in SageMaker Pipelines\n",
    ")\n",
    "train_args = automl.fit(\n",
    "    inputs=[\n",
    "        AutoMLInput(\n",
    "            inputs=s3_train_val,\n",
    "            target_attribute_name=target_attribute_name,\n",
    "            channel_type=\"training\",\n",
    "        )\n",
    "    ]\n",
    ")\n",
    "\n",
    "step_automl = AutoMLStep(\n",
    "    name=\"AutoMLTrainingStep\",\n",
    "    step_args=train_args,\n",
    ")\n",
    "\n",
    "# best_auto_ml_model = step_auto_ml_training.get_best_auto_ml_model(\n",
    "#     execution_role, sagemaker_session=pipeline_session\n",
    "# )\n",
    "# step_args_create_model = best_auto_ml_model.create(instance_type=instance_type)\n",
    "# step_create_model = ModelStep(name=\"ModelCreationStep\", step_args=step_args_create_model)"
   ]
  },
  {
   "cell_type": "markdown",
   "id": "b1bddcdf-1f0e-4b2c-812d-f0c7698bc7ca",
   "metadata": {},
   "source": [
    "## Evaluation step"
   ]
  },
  {
   "cell_type": "code",
   "execution_count": null,
   "id": "5e3785c2-0e4c-4f30-bf13-e6a0630bad14",
   "metadata": {
    "jupyter": {
     "source_hidden": true
    },
    "tags": []
   },
   "outputs": [],
   "source": [
    "step_evaluate = ProcessingStep(\n",
    "    name='evaluate_model',\n",
    "    processor=evaluate_model_processor,\n",
    "    inputs=[\n",
    "        ProcessingInput(\n",
    "            source=step_train.properties.ModelArtifacts.S3ModelArtifacts,\n",
    "            # source=step_tune.get_top_model_s3_uri(top_k=0, s3_bucket=bucket),\n",
    "            destination=\"/opt/ml/processing/model\"\n",
    "        ),\n",
    "        ProcessingInput(\n",
    "            source=test_data,\n",
    "            destination=\"/opt/ml/processing/test\"\n",
    "        )\n",
    "    ],\n",
    "    outputs = [\n",
    "        ProcessingOutput(\n",
    "            output_name='evaluation',\n",
    "            source='/opt/ml/processing/evaluation',\n",
    "            destination=Join(\n",
    "                on='/',\n",
    "                values=[\n",
    "                    's3://{}'.format(bucket),\n",
    "                    prefix,\n",
    "                    ExecutionVariables.PIPELINE_EXECUTION_ID,\n",
    "                    'evaluation-report']\n",
    "            )\n",
    "        )\n",
    "    ],\n",
    "    code='evaluate_extd.py',\n",
    "    property_files=[evaluation_report]\n",
    ")\n",
    "\n",
    "model_metrics = ModelMetrics(\n",
    "    model_statistics=MetricsSource(\n",
    "        s3_uri=Join(\n",
    "            on='/',\n",
    "            values=[\n",
    "                step_evaluate.arguments[\"ProcessingOutputConfig\"][\"Outputs\"][0]['S3Output']['S3Uri'],\n",
    "                'evaluation.json']\n",
    "        ),\n",
    "        content_type='application/json')\n",
    ")"
   ]
  },
  {
   "cell_type": "markdown",
   "id": "0efc39a5-fb9c-4ec2-88dd-49c68168bdcf",
   "metadata": {},
   "source": [
    "## Inference pipe step"
   ]
  },
  {
   "cell_type": "code",
   "execution_count": null,
   "id": "d19be2d1-93bf-488f-b665-06dfdf97ae19",
   "metadata": {},
   "outputs": [],
   "source": []
  },
  {
   "cell_type": "markdown",
   "id": "7078f494-5a26-49db-a3f2-a37d64c981cc",
   "metadata": {},
   "source": [
    "## Register model step"
   ]
  },
  {
   "cell_type": "code",
   "execution_count": null,
   "id": "fa5ca1c2-3186-489a-ae35-e2970cea7a1c",
   "metadata": {
    "tags": []
   },
   "outputs": [],
   "source": [
    "step_register = RegisterModel(\n",
    "    name='register-model',\n",
    "    estimator=xgb_estimator,\n",
    "    model_data=step_train.properties.ModelArtifacts.S3ModelArtifacts,\n",
    "    # model_data=step_tune.get_top_model_s3_uri(top_k=0, s3_bucket=bucket),\n",
    "    content_types=['text/csv'],\n",
    "    response_types=['text/csv'],\n",
    "    inference_instances=['ml.t2.medium', 'ml.m5.xlarge', 'ml.m5.large'],\n",
    "    transform_instances=['ml.m5.xlarge'],\n",
    "    model_package_group_name=model_package_group_name,\n",
    "    approval_status=model_approval_status,\n",
    "    model_metrics=model_metrics)"
   ]
  },
  {
   "cell_type": "markdown",
   "id": "c54991a7-04fb-4e13-bb21-550985b8aaf4",
   "metadata": {},
   "source": [
    "## Define pipe"
   ]
  },
  {
   "cell_type": "code",
   "execution_count": null,
   "id": "fc22c74e-bef9-4e85-9545-c6b12b3aee71",
   "metadata": {
    "tags": []
   },
   "outputs": [],
   "source": [
    "pipeline = Pipeline(\n",
    "    name=pipeline_name,\n",
    "    parameters=[\n",
    "        processing_instance_type,\n",
    "        processing_instance_count,\n",
    "        input_data,\n",
    "        training_instance_type,\n",
    "        train_data,\n",
    "        validate_data,\n",
    "        test_data,\n",
    "        model_approval_status\n",
    "    ],\n",
    "    steps=[step_etl,\n",
    "           step_preprocess,\n",
    "           step_train,\n",
    "           # step_tune,\n",
    "           # step_autopilot,\n",
    "           # step_automl,\n",
    "           step_evaluate,\n",
    "           step_register])"
   ]
  },
  {
   "cell_type": "markdown",
   "id": "5346b63e-1a2d-41e9-a56c-1203d5adaecb",
   "metadata": {},
   "source": [
    "## Update and run pipe"
   ]
  },
  {
   "cell_type": "code",
   "execution_count": null,
   "id": "715aa983-9585-4f8e-bcd7-9f9985deac64",
   "metadata": {},
   "outputs": [],
   "source": [
    "pipeline.upsert(role_arn=role, tags=tags)\n",
    "\n",
    "pipeline.start(\n",
    "    execution_display_name=\"InsPipe1\")"
   ]
  }
 ],
 "metadata": {
  "kernelspec": {
   "display_name": "Python 3 (Data Science)",
   "language": "python",
   "name": "python3__SAGEMAKER_INTERNAL__arn:aws:sagemaker:us-east-1:081325390199:image/datascience-1.0"
  },
  "language_info": {
   "codemirror_mode": {
    "name": "ipython",
    "version": 3
   },
   "file_extension": ".py",
   "mimetype": "text/x-python",
   "name": "python",
   "nbconvert_exporter": "python",
   "pygments_lexer": "ipython3",
   "version": "3.7.10"
  }
 },
 "nbformat": 4,
 "nbformat_minor": 5
}
