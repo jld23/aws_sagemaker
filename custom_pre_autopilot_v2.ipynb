{
 "cells": [
  {
   "cell_type": "code",
   "execution_count": 2,
   "id": "50744fcf-811a-44c1-9671-4793eac1d5a7",
   "metadata": {
    "tags": []
   },
   "outputs": [],
   "source": [
    "import sagemaker\n",
    "import os\n",
    "import pandas as pd\n",
    "\n",
    "from sklearn.model_selection import train_test_split\n",
    "from sklearn.compose import ColumnTransformer\n",
    "from sklearn.pipeline import Pipeline\n",
    "from sklearn.preprocessing import StandardScaler, OneHotEncoder"
   ]
  },
  {
   "cell_type": "code",
   "execution_count": 3,
   "id": "49f24075-2507-4d6f-8127-9d0075bf95d9",
   "metadata": {
    "tags": []
   },
   "outputs": [],
   "source": [
    "session = sagemaker.session.Session()\n",
    "region = session.boto_region_name\n",
    "role = sagemaker.get_execution_role()\n",
    "# bucket = session.default_bucket()\n",
    "bucket = 'asurion-ml-experimentation'\n",
    "prefix = 'custom_preprocessing'"
   ]
  },
  {
   "cell_type": "code",
   "execution_count": 25,
   "id": "c51e9cc4-b2fe-4e63-ad06-896dd431d504",
   "metadata": {
    "tags": []
   },
   "outputs": [],
   "source": [
    "label_col = 'nbr_mobile_home_policies'\n",
    "cat_feats = ['zip_agg_customer_subtype', 'zip_agg_customer_main_type']\n",
    "# INPUT_FEATURES_SIZE = 85\n",
    "nbr_cols = df.shape[1]"
   ]
  },
  {
   "cell_type": "code",
   "execution_count": 4,
   "id": "deb976c7-fb89-4dde-91f9-e7fd853321af",
   "metadata": {
    "tags": []
   },
   "outputs": [
    {
     "data": {
      "text/html": [
       "<div>\n",
       "<style scoped>\n",
       "    .dataframe tbody tr th:only-of-type {\n",
       "        vertical-align: middle;\n",
       "    }\n",
       "\n",
       "    .dataframe tbody tr th {\n",
       "        vertical-align: top;\n",
       "    }\n",
       "\n",
       "    .dataframe thead th {\n",
       "        text-align: right;\n",
       "    }\n",
       "</style>\n",
       "<table border=\"1\" class=\"dataframe\">\n",
       "  <thead>\n",
       "    <tr style=\"text-align: right;\">\n",
       "      <th></th>\n",
       "      <th>zip_agg_customer_subtype</th>\n",
       "      <th>zip_agg_number_of_houses</th>\n",
       "      <th>zip_agg_avg_size_household</th>\n",
       "      <th>zip_agg_avg_age</th>\n",
       "      <th>zip_agg_customer_main_type</th>\n",
       "      <th>zip_agg_roman_catholic</th>\n",
       "      <th>zip_agg_protestant</th>\n",
       "      <th>zip_agg_other_religion</th>\n",
       "      <th>zip_agg_no_religion</th>\n",
       "      <th>zip_agg_married</th>\n",
       "      <th>...</th>\n",
       "      <th>nbr_private_accident_ins_policies</th>\n",
       "      <th>nbr_family_accidents_ins_policies</th>\n",
       "      <th>nbr_disability_ins_policies</th>\n",
       "      <th>nbr_fire_policies</th>\n",
       "      <th>nbr_surfboard_policies</th>\n",
       "      <th>nbr_boat_policies</th>\n",
       "      <th>nbr_bicycle_policies</th>\n",
       "      <th>nbr_property_ins_policies</th>\n",
       "      <th>nbr_ss_ins_policies</th>\n",
       "      <th>nbr_mobile_home_policies</th>\n",
       "    </tr>\n",
       "  </thead>\n",
       "  <tbody>\n",
       "    <tr>\n",
       "      <th>0</th>\n",
       "      <td>Lower class large families</td>\n",
       "      <td>1</td>\n",
       "      <td>3</td>\n",
       "      <td>2</td>\n",
       "      <td>Family with grown ups</td>\n",
       "      <td>0</td>\n",
       "      <td>5</td>\n",
       "      <td>1</td>\n",
       "      <td>3</td>\n",
       "      <td>7</td>\n",
       "      <td>...</td>\n",
       "      <td>0</td>\n",
       "      <td>0</td>\n",
       "      <td>0</td>\n",
       "      <td>1</td>\n",
       "      <td>0</td>\n",
       "      <td>0</td>\n",
       "      <td>0</td>\n",
       "      <td>0</td>\n",
       "      <td>0</td>\n",
       "      <td>0</td>\n",
       "    </tr>\n",
       "    <tr>\n",
       "      <th>1</th>\n",
       "      <td>Mixed small town dwellers</td>\n",
       "      <td>1</td>\n",
       "      <td>2</td>\n",
       "      <td>2</td>\n",
       "      <td>Family with grown ups</td>\n",
       "      <td>1</td>\n",
       "      <td>4</td>\n",
       "      <td>1</td>\n",
       "      <td>4</td>\n",
       "      <td>6</td>\n",
       "      <td>...</td>\n",
       "      <td>0</td>\n",
       "      <td>0</td>\n",
       "      <td>0</td>\n",
       "      <td>1</td>\n",
       "      <td>0</td>\n",
       "      <td>0</td>\n",
       "      <td>0</td>\n",
       "      <td>0</td>\n",
       "      <td>0</td>\n",
       "      <td>0</td>\n",
       "    </tr>\n",
       "    <tr>\n",
       "      <th>2</th>\n",
       "      <td>Mixed small town dwellers</td>\n",
       "      <td>1</td>\n",
       "      <td>2</td>\n",
       "      <td>2</td>\n",
       "      <td>Family with grown ups</td>\n",
       "      <td>0</td>\n",
       "      <td>4</td>\n",
       "      <td>2</td>\n",
       "      <td>4</td>\n",
       "      <td>3</td>\n",
       "      <td>...</td>\n",
       "      <td>0</td>\n",
       "      <td>0</td>\n",
       "      <td>0</td>\n",
       "      <td>1</td>\n",
       "      <td>0</td>\n",
       "      <td>0</td>\n",
       "      <td>0</td>\n",
       "      <td>0</td>\n",
       "      <td>0</td>\n",
       "      <td>0</td>\n",
       "    </tr>\n",
       "    <tr>\n",
       "      <th>3</th>\n",
       "      <td>Modern, complete families</td>\n",
       "      <td>1</td>\n",
       "      <td>3</td>\n",
       "      <td>3</td>\n",
       "      <td>Average Family</td>\n",
       "      <td>2</td>\n",
       "      <td>3</td>\n",
       "      <td>2</td>\n",
       "      <td>4</td>\n",
       "      <td>5</td>\n",
       "      <td>...</td>\n",
       "      <td>0</td>\n",
       "      <td>0</td>\n",
       "      <td>0</td>\n",
       "      <td>1</td>\n",
       "      <td>0</td>\n",
       "      <td>0</td>\n",
       "      <td>0</td>\n",
       "      <td>0</td>\n",
       "      <td>0</td>\n",
       "      <td>0</td>\n",
       "    </tr>\n",
       "    <tr>\n",
       "      <th>4</th>\n",
       "      <td>Large family farms</td>\n",
       "      <td>1</td>\n",
       "      <td>4</td>\n",
       "      <td>2</td>\n",
       "      <td>Farmers</td>\n",
       "      <td>1</td>\n",
       "      <td>4</td>\n",
       "      <td>1</td>\n",
       "      <td>4</td>\n",
       "      <td>7</td>\n",
       "      <td>...</td>\n",
       "      <td>0</td>\n",
       "      <td>0</td>\n",
       "      <td>0</td>\n",
       "      <td>1</td>\n",
       "      <td>0</td>\n",
       "      <td>0</td>\n",
       "      <td>0</td>\n",
       "      <td>0</td>\n",
       "      <td>0</td>\n",
       "      <td>0</td>\n",
       "    </tr>\n",
       "  </tbody>\n",
       "</table>\n",
       "<p>5 rows × 86 columns</p>\n",
       "</div>"
      ],
      "text/plain": [
       "     zip_agg_customer_subtype  zip_agg_number_of_houses  \\\n",
       "0  Lower class large families                         1   \n",
       "1   Mixed small town dwellers                         1   \n",
       "2   Mixed small town dwellers                         1   \n",
       "3   Modern, complete families                         1   \n",
       "4          Large family farms                         1   \n",
       "\n",
       "   zip_agg_avg_size_household  zip_agg_avg_age zip_agg_customer_main_type  \\\n",
       "0                           3                2      Family with grown ups   \n",
       "1                           2                2      Family with grown ups   \n",
       "2                           2                2      Family with grown ups   \n",
       "3                           3                3             Average Family   \n",
       "4                           4                2                    Farmers   \n",
       "\n",
       "   zip_agg_roman_catholic  zip_agg_protestant  zip_agg_other_religion  \\\n",
       "0                       0                   5                       1   \n",
       "1                       1                   4                       1   \n",
       "2                       0                   4                       2   \n",
       "3                       2                   3                       2   \n",
       "4                       1                   4                       1   \n",
       "\n",
       "   zip_agg_no_religion  zip_agg_married  ...  \\\n",
       "0                    3                7  ...   \n",
       "1                    4                6  ...   \n",
       "2                    4                3  ...   \n",
       "3                    4                5  ...   \n",
       "4                    4                7  ...   \n",
       "\n",
       "   nbr_private_accident_ins_policies  nbr_family_accidents_ins_policies  \\\n",
       "0                                  0                                  0   \n",
       "1                                  0                                  0   \n",
       "2                                  0                                  0   \n",
       "3                                  0                                  0   \n",
       "4                                  0                                  0   \n",
       "\n",
       "   nbr_disability_ins_policies  nbr_fire_policies  nbr_surfboard_policies  \\\n",
       "0                            0                  1                       0   \n",
       "1                            0                  1                       0   \n",
       "2                            0                  1                       0   \n",
       "3                            0                  1                       0   \n",
       "4                            0                  1                       0   \n",
       "\n",
       "   nbr_boat_policies  nbr_bicycle_policies  nbr_property_ins_policies  \\\n",
       "0                  0                     0                          0   \n",
       "1                  0                     0                          0   \n",
       "2                  0                     0                          0   \n",
       "3                  0                     0                          0   \n",
       "4                  0                     0                          0   \n",
       "\n",
       "   nbr_ss_ins_policies  nbr_mobile_home_policies  \n",
       "0                    0                         0  \n",
       "1                    0                         0  \n",
       "2                    0                         0  \n",
       "3                    0                         0  \n",
       "4                    0                         0  \n",
       "\n",
       "[5 rows x 86 columns]"
      ]
     },
     "execution_count": 4,
     "metadata": {},
     "output_type": "execute_result"
    }
   ],
   "source": [
    "df = pd.read_csv('s3://asurion-ml-experimentation/custom_preprocessing/data/1_full_data.csv')\n",
    "df.head()"
   ]
  },
  {
   "cell_type": "code",
   "execution_count": 19,
   "id": "9ed68eea-b0a5-4242-9070-3eb9f1a17cf1",
   "metadata": {
    "scrolled": true,
    "tags": []
   },
   "outputs": [
    {
     "data": {
      "text/plain": [
       "zip_agg_customer_subtype                 0\n",
       "zip_agg_number_of_houses                 0\n",
       "zip_agg_avg_size_household               0\n",
       "zip_agg_avg_age                          0\n",
       "zip_agg_customer_main_type               0\n",
       "zip_agg_roman_catholic                   0\n",
       "zip_agg_protestant                       0\n",
       "zip_agg_other_religion                   0\n",
       "zip_agg_no_religion                      0\n",
       "zip_agg_married                          0\n",
       "zip_agg_living_together                  0\n",
       "zip_agg_other_relation                   0\n",
       "zip_agg_singles                          0\n",
       "zip_agg_household_without_children       0\n",
       "zip_agg_household_with_children          0\n",
       "zip_agg_high_level_education             0\n",
       "zip_agg_medium_level_education           0\n",
       "zip_agg_lower_level_education            0\n",
       "zip_agg_high_status                      0\n",
       "zip_agg_entrepreneur                     0\n",
       "zip_agg_farmer                           0\n",
       "zip_agg_middle_management                0\n",
       "zip_agg_skilled_labourers                0\n",
       "zip_agg_unskilled_labourers              0\n",
       "zip_agg_social_class_a                   0\n",
       "zip_agg_social_class_b1                  0\n",
       "zip_agg_social_class_b2                  0\n",
       "zip_agg_social_class_c                   0\n",
       "zip_agg_social_class_d                   0\n",
       "zip_agg_rented_house                     0\n",
       "zip_agg_home_owners                      0\n",
       "zip_agg_1_car                            0\n",
       "zip_agg_2_cars                           0\n",
       "zip_agg_no_car                           0\n",
       "zip_agg_national_health_service          0\n",
       "zip_agg_private_health_insurance         0\n",
       "zip_agg_income_<_30.000                  0\n",
       "zip_agg_income_30-45.000                 0\n",
       "zip_agg_income_45-75.000                 0\n",
       "zip_agg_income_75-122.000                0\n",
       "zip_agg_income_>123.000                  0\n",
       "zip_agg_average_income                   0\n",
       "zip_agg_purchasing_power_class           0\n",
       "contri_private_third_party_ins           0\n",
       "contri_third_party_ins_(firms)           0\n",
       "contri_third_party_ins_(agriculture)     0\n",
       "contri_car_policies                      0\n",
       "contri_delivery_van_policies             0\n",
       "contri_motorcycle/scooter_policies       0\n",
       "contri_lorry_policies                    0\n",
       "contri_trailer_policies                  0\n",
       "contri_tractor_policies                  0\n",
       "contri_agricultural_machines_policies    0\n",
       "contri_moped_policies                    0\n",
       "contri_life_ins                          0\n",
       "contri_private_accident_ins_policies     0\n",
       "contri_family_accidents_ins_policies     0\n",
       "contri_disability_ins_policies           0\n",
       "contri_fire_policies                     0\n",
       "contri_surfboard_policies                0\n",
       "contri_boat_policies                     0\n",
       "contri_bicycle_policies                  0\n",
       "contri_property_ins_policies             0\n",
       "contri_ss_ins_policies                   0\n",
       "nbr_private_third_party_ins              0\n",
       "nbr_third_party_ins_(firms)              0\n",
       "nbr_third_party_ins_(agriculture)        0\n",
       "nbr_car_policies                         0\n",
       "nbr_delivery_van_policies                0\n",
       "nbr_motorcycle/scooter_policies          0\n",
       "nbr_lorry_policies                       0\n",
       "nbr_trailer_policies                     0\n",
       "nbr_tractor_policies                     0\n",
       "nbr_agricultural_machines_policies       0\n",
       "nbr_moped_policies                       0\n",
       "nbr_life_ins                             0\n",
       "nbr_private_accident_ins_policies        0\n",
       "nbr_family_accidents_ins_policies        0\n",
       "nbr_disability_ins_policies              0\n",
       "nbr_fire_policies                        0\n",
       "nbr_surfboard_policies                   0\n",
       "nbr_boat_policies                        0\n",
       "nbr_bicycle_policies                     0\n",
       "nbr_property_ins_policies                0\n",
       "nbr_ss_ins_policies                      0\n",
       "nbr_mobile_home_policies                 0\n",
       "dtype: int64"
      ]
     },
     "execution_count": 19,
     "metadata": {},
     "output_type": "execute_result"
    }
   ],
   "source": [
    "pd.set_option('max_rows', 500)\n",
    "\n",
    "df.isna().sum()"
   ]
  },
  {
   "cell_type": "code",
   "execution_count": 45,
   "id": "efcc8c52-d97b-4ce4-a542-3e7e1a981246",
   "metadata": {
    "scrolled": true,
    "tags": []
   },
   "outputs": [
    {
     "name": "stdout",
     "output_type": "stream",
     "text": [
      "contri_agricultural_machines_policies\n"
     ]
    },
    {
     "data": {
      "text/plain": [
       "0    9790\n",
       "4      11\n",
       "3       8\n",
       "2       7\n",
       "6       5\n",
       "1       1\n",
       "Name: contri_agricultural_machines_policies, dtype: int64"
      ]
     },
     "metadata": {},
     "output_type": "display_data"
    },
    {
     "name": "stdout",
     "output_type": "stream",
     "text": [
      "\n",
      "\n",
      "contri_bicycle_policies\n"
     ]
    },
    {
     "data": {
      "text/plain": [
       "0    9573\n",
       "1     249\n",
       "Name: contri_bicycle_policies, dtype: int64"
      ]
     },
     "metadata": {},
     "output_type": "display_data"
    },
    {
     "name": "stdout",
     "output_type": "stream",
     "text": [
      "\n",
      "\n",
      "contri_boat_policies\n"
     ]
    },
    {
     "data": {
      "text/plain": [
       "0    9777\n",
       "4      18\n",
       "2       8\n",
       "1       6\n",
       "3       6\n",
       "5       4\n",
       "6       3\n",
       "Name: contri_boat_policies, dtype: int64"
      ]
     },
     "metadata": {},
     "output_type": "display_data"
    },
    {
     "name": "stdout",
     "output_type": "stream",
     "text": [
      "\n",
      "\n",
      "contri_car_policies\n"
     ]
    },
    {
     "data": {
      "text/plain": [
       "0    4825\n",
       "6    3910\n",
       "5    1013\n",
       "7      64\n",
       "8       5\n",
       "4       4\n",
       "9       1\n",
       "Name: contri_car_policies, dtype: int64"
      ]
     },
     "metadata": {},
     "output_type": "display_data"
    },
    {
     "name": "stdout",
     "output_type": "stream",
     "text": [
      "\n",
      "\n",
      "contri_delivery_van_policies\n"
     ]
    },
    {
     "data": {
      "text/plain": [
       "0    9730\n",
       "6      71\n",
       "5      17\n",
       "7       4\n",
       "Name: contri_delivery_van_policies, dtype: int64"
      ]
     },
     "metadata": {},
     "output_type": "display_data"
    },
    {
     "name": "stdout",
     "output_type": "stream",
     "text": [
      "\n",
      "\n",
      "contri_disability_ins_policies\n"
     ]
    },
    {
     "data": {
      "text/plain": [
       "0    9784\n",
       "6      32\n",
       "7       4\n",
       "4       1\n",
       "5       1\n",
       "Name: contri_disability_ins_policies, dtype: int64"
      ]
     },
     "metadata": {},
     "output_type": "display_data"
    },
    {
     "name": "stdout",
     "output_type": "stream",
     "text": [
      "\n",
      "\n",
      "contri_family_accidents_ins_policies\n"
     ]
    },
    {
     "data": {
      "text/plain": [
       "0    9744\n",
       "2      50\n",
       "3      28\n",
       "Name: contri_family_accidents_ins_policies, dtype: int64"
      ]
     },
     "metadata": {},
     "output_type": "display_data"
    },
    {
     "name": "stdout",
     "output_type": "stream",
     "text": [
      "\n",
      "\n",
      "contri_fire_policies\n"
     ]
    },
    {
     "data": {
      "text/plain": [
       "0    4464\n",
       "4    2142\n",
       "3    1541\n",
       "2     901\n",
       "5     263\n",
       "6     252\n",
       "1     245\n",
       "7      12\n",
       "8       2\n",
       "Name: contri_fire_policies, dtype: int64"
      ]
     },
     "metadata": {},
     "output_type": "display_data"
    },
    {
     "name": "stdout",
     "output_type": "stream",
     "text": [
      "\n",
      "\n",
      "contri_life_ins\n"
     ]
    },
    {
     "data": {
      "text/plain": [
       "0    9308\n",
       "4     172\n",
       "3     141\n",
       "5      65\n",
       "6      65\n",
       "2      51\n",
       "1      14\n",
       "7       4\n",
       "9       1\n",
       "8       1\n",
       "Name: contri_life_ins, dtype: int64"
      ]
     },
     "metadata": {},
     "output_type": "display_data"
    },
    {
     "name": "stdout",
     "output_type": "stream",
     "text": [
      "\n",
      "\n",
      "contri_lorry_policies\n"
     ]
    },
    {
     "data": {
      "text/plain": [
       "0    9808\n",
       "6      10\n",
       "7       2\n",
       "4       1\n",
       "9       1\n",
       "Name: contri_lorry_policies, dtype: int64"
      ]
     },
     "metadata": {},
     "output_type": "display_data"
    },
    {
     "name": "stdout",
     "output_type": "stream",
     "text": [
      "\n",
      "\n",
      "contri_moped_policies\n"
     ]
    },
    {
     "data": {
      "text/plain": [
       "0    9150\n",
       "3     481\n",
       "4      99\n",
       "2      63\n",
       "5      27\n",
       "6       2\n",
       "Name: contri_moped_policies, dtype: int64"
      ]
     },
     "metadata": {},
     "output_type": "display_data"
    },
    {
     "name": "stdout",
     "output_type": "stream",
     "text": [
      "\n",
      "\n",
      "contri_motorcycle/scooter_policies\n"
     ]
    },
    {
     "data": {
      "text/plain": [
       "0    9460\n",
       "4     207\n",
       "6      79\n",
       "5      70\n",
       "3       4\n",
       "7       2\n",
       "Name: contri_motorcycle/scooter_policies, dtype: int64"
      ]
     },
     "metadata": {},
     "output_type": "display_data"
    },
    {
     "name": "stdout",
     "output_type": "stream",
     "text": [
      "\n",
      "\n",
      "contri_private_accident_ins_policies\n"
     ]
    },
    {
     "data": {
      "text/plain": [
       "0    9777\n",
       "2      24\n",
       "3       7\n",
       "1       6\n",
       "4       4\n",
       "5       2\n",
       "6       2\n",
       "Name: contri_private_accident_ins_policies, dtype: int64"
      ]
     },
     "metadata": {},
     "output_type": "display_data"
    },
    {
     "name": "stdout",
     "output_type": "stream",
     "text": [
      "\n",
      "\n",
      "contri_private_third_party_ins\n"
     ]
    },
    {
     "data": {
      "text/plain": [
       "0    5903\n",
       "2    3562\n",
       "1     341\n",
       "3      16\n",
       "Name: contri_private_third_party_ins, dtype: int64"
      ]
     },
     "metadata": {},
     "output_type": "display_data"
    },
    {
     "name": "stdout",
     "output_type": "stream",
     "text": [
      "\n",
      "\n",
      "contri_property_ins_policies\n"
     ]
    },
    {
     "data": {
      "text/plain": [
       "0    9740\n",
       "1      34\n",
       "2      30\n",
       "4       8\n",
       "3       7\n",
       "6       2\n",
       "5       1\n",
       "Name: contri_property_ins_policies, dtype: int64"
      ]
     },
     "metadata": {},
     "output_type": "display_data"
    },
    {
     "name": "stdout",
     "output_type": "stream",
     "text": [
      "\n",
      "\n",
      "contri_ss_ins_policies\n"
     ]
    },
    {
     "data": {
      "text/plain": [
       "0    9687\n",
       "4      68\n",
       "3      34\n",
       "2      31\n",
       "5       2\n",
       "Name: contri_ss_ins_policies, dtype: int64"
      ]
     },
     "metadata": {},
     "output_type": "display_data"
    },
    {
     "name": "stdout",
     "output_type": "stream",
     "text": [
      "\n",
      "\n",
      "contri_surfboard_policies\n"
     ]
    },
    {
     "data": {
      "text/plain": [
       "0    9813\n",
       "2       5\n",
       "1       3\n",
       "3       1\n",
       "Name: contri_surfboard_policies, dtype: int64"
      ]
     },
     "metadata": {},
     "output_type": "display_data"
    },
    {
     "name": "stdout",
     "output_type": "stream",
     "text": [
      "\n",
      "\n",
      "contri_third_party_ins_(agriculture)\n"
     ]
    },
    {
     "data": {
      "text/plain": [
       "0    9613\n",
       "4     108\n",
       "3      92\n",
       "2       7\n",
       "1       2\n",
       "Name: contri_third_party_ins_(agriculture), dtype: int64"
      ]
     },
     "metadata": {},
     "output_type": "display_data"
    },
    {
     "name": "stdout",
     "output_type": "stream",
     "text": [
      "\n",
      "\n",
      "contri_third_party_ins_(firms)\n"
     ]
    },
    {
     "data": {
      "text/plain": [
       "0    9688\n",
       "2      53\n",
       "3      36\n",
       "4      26\n",
       "1       9\n",
       "6       5\n",
       "5       5\n",
       "Name: contri_third_party_ins_(firms), dtype: int64"
      ]
     },
     "metadata": {},
     "output_type": "display_data"
    },
    {
     "name": "stdout",
     "output_type": "stream",
     "text": [
      "\n",
      "\n",
      "contri_tractor_policies\n"
     ]
    },
    {
     "data": {
      "text/plain": [
       "0    9576\n",
       "3     142\n",
       "4      45\n",
       "5      42\n",
       "6      16\n",
       "7       1\n",
       "Name: contri_tractor_policies, dtype: int64"
      ]
     },
     "metadata": {},
     "output_type": "display_data"
    },
    {
     "name": "stdout",
     "output_type": "stream",
     "text": [
      "\n",
      "\n",
      "contri_trailer_policies\n"
     ]
    },
    {
     "data": {
      "text/plain": [
       "0    9719\n",
       "2      62\n",
       "1      30\n",
       "3       9\n",
       "5       1\n",
       "4       1\n",
       "Name: contri_trailer_policies, dtype: int64"
      ]
     },
     "metadata": {},
     "output_type": "display_data"
    },
    {
     "name": "stdout",
     "output_type": "stream",
     "text": [
      "\n",
      "\n",
      "nbr_agricultural_machines_policies\n"
     ]
    },
    {
     "data": {
      "text/plain": [
       "0    9790\n",
       "1      21\n",
       "2       7\n",
       "3       2\n",
       "6       1\n",
       "4       1\n",
       "Name: nbr_agricultural_machines_policies, dtype: int64"
      ]
     },
     "metadata": {},
     "output_type": "display_data"
    },
    {
     "name": "stdout",
     "output_type": "stream",
     "text": [
      "\n",
      "\n",
      "nbr_bicycle_policies\n"
     ]
    },
    {
     "data": {
      "text/plain": [
       "0    9573\n",
       "1     193\n",
       "2      53\n",
       "3       2\n",
       "4       1\n",
       "Name: nbr_bicycle_policies, dtype: int64"
      ]
     },
     "metadata": {},
     "output_type": "display_data"
    },
    {
     "name": "stdout",
     "output_type": "stream",
     "text": [
      "\n",
      "\n",
      "nbr_boat_policies\n"
     ]
    },
    {
     "data": {
      "text/plain": [
       "0    9777\n",
       "1      40\n",
       "2       5\n",
       "Name: nbr_boat_policies, dtype: int64"
      ]
     },
     "metadata": {},
     "output_type": "display_data"
    },
    {
     "name": "stdout",
     "output_type": "stream",
     "text": [
      "\n",
      "\n",
      "nbr_car_policies\n"
     ]
    },
    {
     "data": {
      "text/plain": [
       "0     4825\n",
       "1     4580\n",
       "2      384\n",
       "3       21\n",
       "4        8\n",
       "7        1\n",
       "6        1\n",
       "12       1\n",
       "5        1\n",
       "Name: nbr_car_policies, dtype: int64"
      ]
     },
     "metadata": {},
     "output_type": "display_data"
    },
    {
     "name": "stdout",
     "output_type": "stream",
     "text": [
      "\n",
      "\n",
      "nbr_delivery_van_policies\n"
     ]
    },
    {
     "data": {
      "text/plain": [
       "0    9730\n",
       "1      83\n",
       "2       4\n",
       "3       3\n",
       "4       1\n",
       "5       1\n",
       "Name: nbr_delivery_van_policies, dtype: int64"
      ]
     },
     "metadata": {},
     "output_type": "display_data"
    },
    {
     "name": "stdout",
     "output_type": "stream",
     "text": [
      "\n",
      "\n",
      "nbr_disability_ins_policies\n"
     ]
    },
    {
     "data": {
      "text/plain": [
       "0    9784\n",
       "1      34\n",
       "2       4\n",
       "Name: nbr_disability_ins_policies, dtype: int64"
      ]
     },
     "metadata": {},
     "output_type": "display_data"
    },
    {
     "name": "stdout",
     "output_type": "stream",
     "text": [
      "\n",
      "\n",
      "nbr_family_accidents_ins_policies\n"
     ]
    },
    {
     "data": {
      "text/plain": [
       "0    9744\n",
       "1      78\n",
       "Name: nbr_family_accidents_ins_policies, dtype: int64"
      ]
     },
     "metadata": {},
     "output_type": "display_data"
    },
    {
     "name": "stdout",
     "output_type": "stream",
     "text": [
      "\n",
      "\n",
      "nbr_fire_policies\n"
     ]
    },
    {
     "data": {
      "text/plain": [
       "1    5116\n",
       "0    4464\n",
       "2     221\n",
       "3      11\n",
       "4       6\n",
       "5       2\n",
       "7       1\n",
       "6       1\n",
       "Name: nbr_fire_policies, dtype: int64"
      ]
     },
     "metadata": {},
     "output_type": "display_data"
    },
    {
     "name": "stdout",
     "output_type": "stream",
     "text": [
      "\n",
      "\n",
      "nbr_life_ins\n"
     ]
    },
    {
     "data": {
      "text/plain": [
       "0    9308\n",
       "1     305\n",
       "2     170\n",
       "3      23\n",
       "4      13\n",
       "5       2\n",
       "8       1\n",
       "Name: nbr_life_ins, dtype: int64"
      ]
     },
     "metadata": {},
     "output_type": "display_data"
    },
    {
     "name": "stdout",
     "output_type": "stream",
     "text": [
      "\n",
      "\n",
      "nbr_lorry_policies\n"
     ]
    },
    {
     "data": {
      "text/plain": [
       "0    9808\n",
       "1       9\n",
       "2       3\n",
       "3       1\n",
       "4       1\n",
       "Name: nbr_lorry_policies, dtype: int64"
      ]
     },
     "metadata": {},
     "output_type": "display_data"
    },
    {
     "name": "stdout",
     "output_type": "stream",
     "text": [
      "\n",
      "\n",
      "nbr_mobile_home_policies\n"
     ]
    },
    {
     "data": {
      "text/plain": [
       "0    9236\n",
       "1     586\n",
       "Name: nbr_mobile_home_policies, dtype: int64"
      ]
     },
     "metadata": {},
     "output_type": "display_data"
    },
    {
     "name": "stdout",
     "output_type": "stream",
     "text": [
      "\n",
      "\n",
      "nbr_moped_policies\n"
     ]
    },
    {
     "data": {
      "text/plain": [
       "0    9150\n",
       "1     647\n",
       "2      24\n",
       "3       1\n",
       "Name: nbr_moped_policies, dtype: int64"
      ]
     },
     "metadata": {},
     "output_type": "display_data"
    },
    {
     "name": "stdout",
     "output_type": "stream",
     "text": [
      "\n",
      "\n",
      "nbr_motorcycle/scooter_policies\n"
     ]
    },
    {
     "data": {
      "text/plain": [
       "0    9460\n",
       "1     337\n",
       "2      22\n",
       "3       2\n",
       "8       1\n",
       "Name: nbr_motorcycle/scooter_policies, dtype: int64"
      ]
     },
     "metadata": {},
     "output_type": "display_data"
    },
    {
     "name": "stdout",
     "output_type": "stream",
     "text": [
      "\n",
      "\n",
      "nbr_private_accident_ins_policies\n"
     ]
    },
    {
     "data": {
      "text/plain": [
       "0    9777\n",
       "1      45\n",
       "Name: nbr_private_accident_ins_policies, dtype: int64"
      ]
     },
     "metadata": {},
     "output_type": "display_data"
    },
    {
     "name": "stdout",
     "output_type": "stream",
     "text": [
      "\n",
      "\n",
      "nbr_private_third_party_ins\n"
     ]
    },
    {
     "data": {
      "text/plain": [
       "0    5903\n",
       "1    3909\n",
       "2      10\n",
       "Name: nbr_private_third_party_ins, dtype: int64"
      ]
     },
     "metadata": {},
     "output_type": "display_data"
    },
    {
     "name": "stdout",
     "output_type": "stream",
     "text": [
      "\n",
      "\n",
      "nbr_property_ins_policies\n"
     ]
    },
    {
     "data": {
      "text/plain": [
       "0    9740\n",
       "1      81\n",
       "2       1\n",
       "Name: nbr_property_ins_policies, dtype: int64"
      ]
     },
     "metadata": {},
     "output_type": "display_data"
    },
    {
     "name": "stdout",
     "output_type": "stream",
     "text": [
      "\n",
      "\n",
      "nbr_ss_ins_policies\n"
     ]
    },
    {
     "data": {
      "text/plain": [
       "0    9687\n",
       "1     134\n",
       "2       1\n",
       "Name: nbr_ss_ins_policies, dtype: int64"
      ]
     },
     "metadata": {},
     "output_type": "display_data"
    },
    {
     "name": "stdout",
     "output_type": "stream",
     "text": [
      "\n",
      "\n",
      "nbr_surfboard_policies\n"
     ]
    },
    {
     "data": {
      "text/plain": [
       "0    9813\n",
       "1       9\n",
       "Name: nbr_surfboard_policies, dtype: int64"
      ]
     },
     "metadata": {},
     "output_type": "display_data"
    },
    {
     "name": "stdout",
     "output_type": "stream",
     "text": [
      "\n",
      "\n",
      "nbr_third_party_ins_(agriculture)\n"
     ]
    },
    {
     "data": {
      "text/plain": [
       "0    9613\n",
       "1     209\n",
       "Name: nbr_third_party_ins_(agriculture), dtype: int64"
      ]
     },
     "metadata": {},
     "output_type": "display_data"
    },
    {
     "name": "stdout",
     "output_type": "stream",
     "text": [
      "\n",
      "\n",
      "nbr_third_party_ins_(firms)\n"
     ]
    },
    {
     "data": {
      "text/plain": [
       "0    9688\n",
       "1     133\n",
       "5       1\n",
       "Name: nbr_third_party_ins_(firms), dtype: int64"
      ]
     },
     "metadata": {},
     "output_type": "display_data"
    },
    {
     "name": "stdout",
     "output_type": "stream",
     "text": [
      "\n",
      "\n",
      "nbr_tractor_policies\n"
     ]
    },
    {
     "data": {
      "text/plain": [
       "0    9576\n",
       "1     184\n",
       "2      46\n",
       "3       7\n",
       "4       6\n",
       "6       2\n",
       "5       1\n",
       "Name: nbr_tractor_policies, dtype: int64"
      ]
     },
     "metadata": {},
     "output_type": "display_data"
    },
    {
     "name": "stdout",
     "output_type": "stream",
     "text": [
      "\n",
      "\n",
      "nbr_trailer_policies\n"
     ]
    },
    {
     "data": {
      "text/plain": [
       "0    9719\n",
       "1      96\n",
       "2       5\n",
       "3       2\n",
       "Name: nbr_trailer_policies, dtype: int64"
      ]
     },
     "metadata": {},
     "output_type": "display_data"
    },
    {
     "name": "stdout",
     "output_type": "stream",
     "text": [
      "\n",
      "\n",
      "zip_agg_1_car\n"
     ]
    },
    {
     "data": {
      "text/plain": [
       "6    2822\n",
       "7    2338\n",
       "5    2106\n",
       "9     829\n",
       "4     740\n",
       "8     435\n",
       "3     400\n",
       "2     102\n",
       "0      30\n",
       "1      20\n",
       "Name: zip_agg_1_car, dtype: int64"
      ]
     },
     "metadata": {},
     "output_type": "display_data"
    },
    {
     "name": "stdout",
     "output_type": "stream",
     "text": [
      "\n",
      "\n",
      "zip_agg_2_cars\n"
     ]
    },
    {
     "data": {
      "text/plain": [
       "0    3078\n",
       "2    2999\n",
       "1    2454\n",
       "3     638\n",
       "4     531\n",
       "5     105\n",
       "6      14\n",
       "7       2\n",
       "9       1\n",
       "Name: zip_agg_2_cars, dtype: int64"
      ]
     },
     "metadata": {},
     "output_type": "display_data"
    },
    {
     "name": "stdout",
     "output_type": "stream",
     "text": [
      "\n",
      "\n",
      "zip_agg_average_income\n"
     ]
    },
    {
     "data": {
      "text/plain": [
       "3    3232\n",
       "4    3063\n",
       "5    1268\n",
       "2    1110\n",
       "6     646\n",
       "7     228\n",
       "8     121\n",
       "1      78\n",
       "9      38\n",
       "0      38\n",
       "Name: zip_agg_average_income, dtype: int64"
      ]
     },
     "metadata": {},
     "output_type": "display_data"
    },
    {
     "name": "stdout",
     "output_type": "stream",
     "text": [
      "\n",
      "\n",
      "zip_agg_avg_age\n"
     ]
    },
    {
     "data": {
      "text/plain": [
       "3    5154\n",
       "2    2409\n",
       "4    1777\n",
       "5     329\n",
       "1     104\n",
       "6      49\n",
       "Name: zip_agg_avg_age, dtype: int64"
      ]
     },
     "metadata": {},
     "output_type": "display_data"
    },
    {
     "name": "stdout",
     "output_type": "stream",
     "text": [
      "\n",
      "\n",
      "zip_agg_avg_size_household\n"
     ]
    },
    {
     "data": {
      "text/plain": [
       "3    4513\n",
       "2    3616\n",
       "4    1132\n",
       "1     452\n",
       "5     106\n",
       "6       3\n",
       "Name: zip_agg_avg_size_household, dtype: int64"
      ]
     },
     "metadata": {},
     "output_type": "display_data"
    },
    {
     "name": "stdout",
     "output_type": "stream",
     "text": [
      "\n",
      "\n",
      "zip_agg_entrepreneur\n"
     ]
    },
    {
     "data": {
      "text/plain": [
       "0    7031\n",
       "1    2009\n",
       "2     600\n",
       "5      94\n",
       "3      70\n",
       "4      18\n",
       "Name: zip_agg_entrepreneur, dtype: int64"
      ]
     },
     "metadata": {},
     "output_type": "display_data"
    },
    {
     "name": "stdout",
     "output_type": "stream",
     "text": [
      "\n",
      "\n",
      "zip_agg_farmer\n"
     ]
    },
    {
     "data": {
      "text/plain": [
       "0    6985\n",
       "1    1462\n",
       "2     815\n",
       "3     256\n",
       "4     144\n",
       "5     108\n",
       "6      21\n",
       "8      15\n",
       "9      13\n",
       "7       3\n",
       "Name: zip_agg_farmer, dtype: int64"
      ]
     },
     "metadata": {},
     "output_type": "display_data"
    },
    {
     "name": "stdout",
     "output_type": "stream",
     "text": [
      "\n",
      "\n",
      "zip_agg_high_level_education\n"
     ]
    },
    {
     "data": {
      "text/plain": [
       "0    3621\n",
       "1    2176\n",
       "2    1921\n",
       "3     927\n",
       "4     577\n",
       "5     338\n",
       "6     123\n",
       "7      83\n",
       "8      39\n",
       "9      17\n",
       "Name: zip_agg_high_level_education, dtype: int64"
      ]
     },
     "metadata": {},
     "output_type": "display_data"
    },
    {
     "name": "stdout",
     "output_type": "stream",
     "text": [
      "\n",
      "\n",
      "zip_agg_high_status\n"
     ]
    },
    {
     "data": {
      "text/plain": [
       "0    2576\n",
       "2    2278\n",
       "1    2119\n",
       "3    1282\n",
       "4     641\n",
       "5     415\n",
       "6     248\n",
       "7     159\n",
       "9      57\n",
       "8      47\n",
       "Name: zip_agg_high_status, dtype: int64"
      ]
     },
     "metadata": {},
     "output_type": "display_data"
    },
    {
     "name": "stdout",
     "output_type": "stream",
     "text": [
      "\n",
      "\n",
      "zip_agg_home_owners\n"
     ]
    },
    {
     "data": {
      "text/plain": [
       "9    1663\n",
       "0    1255\n",
       "7    1185\n",
       "6     978\n",
       "5     912\n",
       "1     871\n",
       "4     834\n",
       "8     756\n",
       "2     712\n",
       "3     656\n",
       "Name: zip_agg_home_owners, dtype: int64"
      ]
     },
     "metadata": {},
     "output_type": "display_data"
    },
    {
     "name": "stdout",
     "output_type": "stream",
     "text": [
      "\n",
      "\n",
      "zip_agg_household_with_children\n"
     ]
    },
    {
     "data": {
      "text/plain": [
       "4    1983\n",
       "5    1869\n",
       "3    1596\n",
       "6    1322\n",
       "2    1096\n",
       "7     601\n",
       "1     475\n",
       "8     341\n",
       "9     296\n",
       "0     243\n",
       "Name: zip_agg_household_with_children, dtype: int64"
      ]
     },
     "metadata": {},
     "output_type": "display_data"
    },
    {
     "name": "stdout",
     "output_type": "stream",
     "text": [
      "\n",
      "\n",
      "zip_agg_household_without_children\n"
     ]
    },
    {
     "data": {
      "text/plain": [
       "3    2517\n",
       "4    2493\n",
       "2    1798\n",
       "5    1043\n",
       "0     613\n",
       "1     608\n",
       "6     516\n",
       "7     160\n",
       "9      47\n",
       "8      27\n",
       "Name: zip_agg_household_without_children, dtype: int64"
      ]
     },
     "metadata": {},
     "output_type": "display_data"
    },
    {
     "name": "stdout",
     "output_type": "stream",
     "text": [
      "\n",
      "\n",
      "zip_agg_income_30-45.000\n"
     ]
    },
    {
     "data": {
      "text/plain": [
       "4    2207\n",
       "3    1989\n",
       "5    1585\n",
       "2    1569\n",
       "0     782\n",
       "6     671\n",
       "1     486\n",
       "7     337\n",
       "9     134\n",
       "8      62\n",
       "Name: zip_agg_income_30-45.000, dtype: int64"
      ]
     },
     "metadata": {},
     "output_type": "display_data"
    },
    {
     "name": "stdout",
     "output_type": "stream",
     "text": [
      "\n",
      "\n",
      "zip_agg_income_45-75.000\n"
     ]
    },
    {
     "data": {
      "text/plain": [
       "3    2028\n",
       "2    1962\n",
       "4    1709\n",
       "0    1505\n",
       "1    1132\n",
       "5     828\n",
       "6     232\n",
       "7     170\n",
       "9     161\n",
       "8      95\n",
       "Name: zip_agg_income_45-75.000, dtype: int64"
      ]
     },
     "metadata": {},
     "output_type": "display_data"
    },
    {
     "name": "stdout",
     "output_type": "stream",
     "text": [
      "\n",
      "\n",
      "zip_agg_income_75-122.000\n"
     ]
    },
    {
     "data": {
      "text/plain": [
       "0    5464\n",
       "1    2251\n",
       "2    1256\n",
       "3     429\n",
       "4     278\n",
       "5     119\n",
       "6      10\n",
       "8       7\n",
       "9       6\n",
       "7       2\n",
       "Name: zip_agg_income_75-122.000, dtype: int64"
      ]
     },
     "metadata": {},
     "output_type": "display_data"
    },
    {
     "name": "stdout",
     "output_type": "stream",
     "text": [
      "\n",
      "\n",
      "zip_agg_income_<_30.000\n"
     ]
    },
    {
     "data": {
      "text/plain": [
       "0    2164\n",
       "2    1893\n",
       "3    1826\n",
       "1    1060\n",
       "4     981\n",
       "5     971\n",
       "6     512\n",
       "7     261\n",
       "9      78\n",
       "8      76\n",
       "Name: zip_agg_income_<_30.000, dtype: int64"
      ]
     },
     "metadata": {},
     "output_type": "display_data"
    },
    {
     "name": "stdout",
     "output_type": "stream",
     "text": [
      "\n",
      "\n",
      "zip_agg_income_>123.000\n"
     ]
    },
    {
     "data": {
      "text/plain": [
       "0    8253\n",
       "1    1269\n",
       "2     188\n",
       "3      66\n",
       "4      38\n",
       "5       4\n",
       "6       2\n",
       "9       1\n",
       "7       1\n",
       "Name: zip_agg_income_>123.000, dtype: int64"
      ]
     },
     "metadata": {},
     "output_type": "display_data"
    },
    {
     "name": "stdout",
     "output_type": "stream",
     "text": [
      "\n",
      "\n",
      "zip_agg_living_together\n"
     ]
    },
    {
     "data": {
      "text/plain": [
       "0    4185\n",
       "1    3402\n",
       "2    1790\n",
       "3     260\n",
       "4     133\n",
       "5      32\n",
       "6      18\n",
       "7       2\n",
       "Name: zip_agg_living_together, dtype: int64"
      ]
     },
     "metadata": {},
     "output_type": "display_data"
    },
    {
     "name": "stdout",
     "output_type": "stream",
     "text": [
      "\n",
      "\n",
      "zip_agg_lower_level_education\n"
     ]
    },
    {
     "data": {
      "text/plain": [
       "5    1740\n",
       "6    1472\n",
       "4    1448\n",
       "3    1128\n",
       "2    1099\n",
       "7    1090\n",
       "9     531\n",
       "0     494\n",
       "8     424\n",
       "1     396\n",
       "Name: zip_agg_lower_level_education, dtype: int64"
      ]
     },
     "metadata": {},
     "output_type": "display_data"
    },
    {
     "name": "stdout",
     "output_type": "stream",
     "text": [
      "\n",
      "\n",
      "zip_agg_married\n"
     ]
    },
    {
     "data": {
      "text/plain": [
       "7    2800\n",
       "6    2015\n",
       "5    1628\n",
       "9    1345\n",
       "8     603\n",
       "4     550\n",
       "3     402\n",
       "2     252\n",
       "1     119\n",
       "0     108\n",
       "Name: zip_agg_married, dtype: int64"
      ]
     },
     "metadata": {},
     "output_type": "display_data"
    },
    {
     "name": "stdout",
     "output_type": "stream",
     "text": [
      "\n",
      "\n",
      "zip_agg_medium_level_education\n"
     ]
    },
    {
     "data": {
      "text/plain": [
       "4    2394\n",
       "3    2332\n",
       "2    1648\n",
       "5    1227\n",
       "0     711\n",
       "1     624\n",
       "6     526\n",
       "7     243\n",
       "9      64\n",
       "8      53\n",
       "Name: zip_agg_medium_level_education, dtype: int64"
      ]
     },
     "metadata": {},
     "output_type": "display_data"
    },
    {
     "name": "stdout",
     "output_type": "stream",
     "text": [
      "\n",
      "\n",
      "zip_agg_middle_management\n"
     ]
    },
    {
     "data": {
      "text/plain": [
       "2    2508\n",
       "3    2348\n",
       "4    1573\n",
       "0    1164\n",
       "5     726\n",
       "1     699\n",
       "6     348\n",
       "7     295\n",
       "9     137\n",
       "8      24\n",
       "Name: zip_agg_middle_management, dtype: int64"
      ]
     },
     "metadata": {},
     "output_type": "display_data"
    },
    {
     "name": "stdout",
     "output_type": "stream",
     "text": [
      "\n",
      "\n",
      "zip_agg_national_health_service\n"
     ]
    },
    {
     "data": {
      "text/plain": [
       "7    2520\n",
       "5    1644\n",
       "6    1451\n",
       "9    1436\n",
       "8    1178\n",
       "4     628\n",
       "2     518\n",
       "3     315\n",
       "0     109\n",
       "1      23\n",
       "Name: zip_agg_national_health_service, dtype: int64"
      ]
     },
     "metadata": {},
     "output_type": "display_data"
    },
    {
     "name": "stdout",
     "output_type": "stream",
     "text": [
      "\n",
      "\n",
      "zip_agg_no_car\n"
     ]
    },
    {
     "data": {
      "text/plain": [
       "2    2611\n",
       "0    2475\n",
       "3    1871\n",
       "1    1327\n",
       "4    1020\n",
       "5     288\n",
       "6     145\n",
       "7      40\n",
       "9      27\n",
       "8      18\n",
       "Name: zip_agg_no_car, dtype: int64"
      ]
     },
     "metadata": {},
     "output_type": "display_data"
    },
    {
     "name": "stdout",
     "output_type": "stream",
     "text": [
      "\n",
      "\n",
      "zip_agg_no_religion\n"
     ]
    },
    {
     "data": {
      "text/plain": [
       "3    2476\n",
       "4    2245\n",
       "2    1778\n",
       "5    1572\n",
       "0     773\n",
       "6     394\n",
       "1     378\n",
       "7     179\n",
       "9      14\n",
       "8      13\n",
       "Name: zip_agg_no_religion, dtype: int64"
      ]
     },
     "metadata": {},
     "output_type": "display_data"
    },
    {
     "name": "stdout",
     "output_type": "stream",
     "text": [
      "\n",
      "\n",
      "zip_agg_number_of_houses\n"
     ]
    },
    {
     "data": {
      "text/plain": [
       "1     8915\n",
       "2      821\n",
       "3       64\n",
       "7        8\n",
       "4        4\n",
       "5        3\n",
       "6        3\n",
       "10       2\n",
       "8        2\n",
       "Name: zip_agg_number_of_houses, dtype: int64"
      ]
     },
     "metadata": {},
     "output_type": "display_data"
    },
    {
     "name": "stdout",
     "output_type": "stream",
     "text": [
      "\n",
      "\n",
      "zip_agg_other_relation\n"
     ]
    },
    {
     "data": {
      "text/plain": [
       "2    2944\n",
       "0    1981\n",
       "3    1965\n",
       "4    1140\n",
       "1     900\n",
       "5     421\n",
       "6     299\n",
       "7     100\n",
       "9      41\n",
       "8      31\n",
       "Name: zip_agg_other_relation, dtype: int64"
      ]
     },
     "metadata": {},
     "output_type": "display_data"
    },
    {
     "name": "stdout",
     "output_type": "stream",
     "text": [
      "\n",
      "\n",
      "zip_agg_other_religion\n"
     ]
    },
    {
     "data": {
      "text/plain": [
       "0    3460\n",
       "1    3391\n",
       "2    2294\n",
       "3     415\n",
       "4     220\n",
       "5      42\n",
       "Name: zip_agg_other_religion, dtype: int64"
      ]
     },
     "metadata": {},
     "output_type": "display_data"
    },
    {
     "name": "stdout",
     "output_type": "stream",
     "text": [
      "\n",
      "\n",
      "zip_agg_private_health_insurance\n"
     ]
    },
    {
     "data": {
      "text/plain": [
       "2    2520\n",
       "4    1668\n",
       "0    1436\n",
       "3    1415\n",
       "1    1178\n",
       "5     639\n",
       "7     518\n",
       "6     316\n",
       "9     109\n",
       "8      23\n",
       "Name: zip_agg_private_health_insurance, dtype: int64"
      ]
     },
     "metadata": {},
     "output_type": "display_data"
    },
    {
     "name": "stdout",
     "output_type": "stream",
     "text": [
      "\n",
      "\n",
      "zip_agg_protestant\n"
     ]
    },
    {
     "data": {
      "text/plain": [
       "4    2666\n",
       "5    2533\n",
       "6    1180\n",
       "3    1022\n",
       "7     995\n",
       "2     666\n",
       "9     290\n",
       "1     225\n",
       "0     127\n",
       "8     118\n",
       "Name: zip_agg_protestant, dtype: int64"
      ]
     },
     "metadata": {},
     "output_type": "display_data"
    },
    {
     "name": "stdout",
     "output_type": "stream",
     "text": [
      "\n",
      "\n",
      "zip_agg_purchasing_power_class\n"
     ]
    },
    {
     "data": {
      "text/plain": [
       "3    2556\n",
       "6    1587\n",
       "4    1539\n",
       "5     964\n",
       "1     938\n",
       "7     777\n",
       "2     731\n",
       "8     730\n",
       "Name: zip_agg_purchasing_power_class, dtype: int64"
      ]
     },
     "metadata": {},
     "output_type": "display_data"
    },
    {
     "name": "stdout",
     "output_type": "stream",
     "text": [
      "\n",
      "\n",
      "zip_agg_rented_house\n"
     ]
    },
    {
     "data": {
      "text/plain": [
       "0    1663\n",
       "9    1255\n",
       "2    1177\n",
       "3     961\n",
       "4     908\n",
       "8     874\n",
       "5     863\n",
       "1     755\n",
       "7     710\n",
       "6     656\n",
       "Name: zip_agg_rented_house, dtype: int64"
      ]
     },
     "metadata": {},
     "output_type": "display_data"
    },
    {
     "name": "stdout",
     "output_type": "stream",
     "text": [
      "\n",
      "\n",
      "zip_agg_roman_catholic\n"
     ]
    },
    {
     "data": {
      "text/plain": [
       "0    5420\n",
       "1    2744\n",
       "2    1213\n",
       "3     243\n",
       "4     123\n",
       "5      30\n",
       "6      25\n",
       "7      11\n",
       "9      10\n",
       "8       3\n",
       "Name: zip_agg_roman_catholic, dtype: int64"
      ]
     },
     "metadata": {},
     "output_type": "display_data"
    },
    {
     "name": "stdout",
     "output_type": "stream",
     "text": [
      "\n",
      "\n",
      "zip_agg_singles\n"
     ]
    },
    {
     "data": {
      "text/plain": [
       "0    2916\n",
       "2    2143\n",
       "1    1619\n",
       "3    1439\n",
       "4     890\n",
       "5     416\n",
       "6     222\n",
       "7     107\n",
       "8      36\n",
       "9      34\n",
       "Name: zip_agg_singles, dtype: int64"
      ]
     },
     "metadata": {},
     "output_type": "display_data"
    },
    {
     "name": "stdout",
     "output_type": "stream",
     "text": [
      "\n",
      "\n",
      "zip_agg_skilled_labourers\n"
     ]
    },
    {
     "data": {
      "text/plain": [
       "2    2327\n",
       "0    1995\n",
       "3    1967\n",
       "1    1523\n",
       "4    1006\n",
       "5     524\n",
       "6     299\n",
       "7     119\n",
       "8      38\n",
       "9      24\n",
       "Name: zip_agg_skilled_labourers, dtype: int64"
      ]
     },
     "metadata": {},
     "output_type": "display_data"
    },
    {
     "name": "stdout",
     "output_type": "stream",
     "text": [
      "\n",
      "\n",
      "zip_agg_social_class_a\n"
     ]
    },
    {
     "data": {
      "text/plain": [
       "0    2871\n",
       "1    2626\n",
       "2    2056\n",
       "3    1168\n",
       "4     452\n",
       "5     228\n",
       "6     152\n",
       "7     147\n",
       "9     106\n",
       "8      16\n",
       "Name: zip_agg_social_class_a, dtype: int64"
      ]
     },
     "metadata": {},
     "output_type": "display_data"
    },
    {
     "name": "stdout",
     "output_type": "stream",
     "text": [
      "\n",
      "\n",
      "zip_agg_social_class_b1\n"
     ]
    },
    {
     "data": {
      "text/plain": [
       "2    3009\n",
       "1    2549\n",
       "0    2275\n",
       "3    1300\n",
       "4     459\n",
       "5     129\n",
       "6      53\n",
       "9      26\n",
       "8      13\n",
       "7       9\n",
       "Name: zip_agg_social_class_b1, dtype: int64"
      ]
     },
     "metadata": {},
     "output_type": "display_data"
    },
    {
     "name": "stdout",
     "output_type": "stream",
     "text": [
      "\n",
      "\n",
      "zip_agg_social_class_b2\n"
     ]
    },
    {
     "data": {
      "text/plain": [
       "2    2778\n",
       "3    2025\n",
       "0    1694\n",
       "1    1434\n",
       "4    1104\n",
       "5     588\n",
       "6     176\n",
       "8      11\n",
       "7       9\n",
       "9       3\n",
       "Name: zip_agg_social_class_b2, dtype: int64"
      ]
     },
     "metadata": {},
     "output_type": "display_data"
    },
    {
     "name": "stdout",
     "output_type": "stream",
     "text": [
      "\n",
      "\n",
      "zip_agg_social_class_c\n"
     ]
    },
    {
     "data": {
      "text/plain": [
       "5    1953\n",
       "4    1929\n",
       "3    1845\n",
       "2    1468\n",
       "6     800\n",
       "0     634\n",
       "1     478\n",
       "7     396\n",
       "9     202\n",
       "8     117\n",
       "Name: zip_agg_social_class_c, dtype: int64"
      ]
     },
     "metadata": {},
     "output_type": "display_data"
    },
    {
     "name": "stdout",
     "output_type": "stream",
     "text": [
      "\n",
      "\n",
      "zip_agg_social_class_d\n"
     ]
    },
    {
     "data": {
      "text/plain": [
       "0    4376\n",
       "1    2658\n",
       "2    1434\n",
       "3     757\n",
       "4     378\n",
       "5     158\n",
       "6      37\n",
       "7      22\n",
       "9       1\n",
       "8       1\n",
       "Name: zip_agg_social_class_d, dtype: int64"
      ]
     },
     "metadata": {},
     "output_type": "display_data"
    },
    {
     "name": "stdout",
     "output_type": "stream",
     "text": [
      "\n",
      "\n",
      "zip_agg_unskilled_labourers\n"
     ]
    },
    {
     "data": {
      "text/plain": [
       "2    2460\n",
       "3    1817\n",
       "1    1685\n",
       "0    1636\n",
       "4    1289\n",
       "5     564\n",
       "6     216\n",
       "7     101\n",
       "9      37\n",
       "8      17\n",
       "Name: zip_agg_unskilled_labourers, dtype: int64"
      ]
     },
     "metadata": {},
     "output_type": "display_data"
    },
    {
     "name": "stdout",
     "output_type": "stream",
     "text": [
      "\n",
      "\n"
     ]
    }
   ],
   "source": [
    "for col in df.columns.difference(cat_feats):\n",
    "    print(col)\n",
    "    display(df[col].value_counts())\n",
    "    print('\\n')"
   ]
  },
  {
   "cell_type": "markdown",
   "id": "8c40f309-004f-45e7-97d0-b1c6ef3b5794",
   "metadata": {},
   "source": [
    "Numeric features have already been standardized or bucketed to 0-10."
   ]
  },
  {
   "cell_type": "code",
   "execution_count": 5,
   "id": "485777e7-84cd-4a17-98cd-d0073e49dc6d",
   "metadata": {
    "tags": []
   },
   "outputs": [],
   "source": [
    "train, test = train_test_split(df, test_size = .1, random_state=12, stratify=df[label_col])"
   ]
  },
  {
   "cell_type": "code",
   "execution_count": 11,
   "id": "b8d1f7ee-e862-4429-9bea-2572f92f7787",
   "metadata": {
    "tags": []
   },
   "outputs": [],
   "source": [
    "train_X = train.iloc[:, :nbr_cols-1]\n",
    "train_y = train.iloc[:, -1]"
   ]
  },
  {
   "cell_type": "code",
   "execution_count": null,
   "id": "1c3a8d24-69a6-43b8-9b9b-b8e543897753",
   "metadata": {},
   "outputs": [],
   "source": [
    "%%writefile custom_preprocess.py\n",
    "import pandas as pd\n",
    "import numpy as np\n",
    "\n",
    "import time\n",
    "import sys\n",
    "from io import StringIO\n",
    "import os\n",
    "import shutil\n",
    "\n",
    "import argparse\n",
    "import csv\n",
    "import joblib\n",
    "import json\n",
    "\n",
    "from sklearn.base import BaseEstimator, TransformerMixin\n",
    "from sklear.compuse import ColumnTransformer\n",
    "from sklearn.preprocessing import OneHotEncoder\n",
    "from sklearn.pipeline import Pipeline\n",
    "\n",
    "from sagemaker_containers.beta.framework import (\n",
    "    content_types, encoders, env, modules, transformer, worker)\n",
    "\n",
    "if __name__ == '__main__':\n",
    "    parser = argparse.ArgumentParser()\n",
    "    parser.add_argument('--output-data-dir', type=str, default=os.environ['SM_OUTPUT_DATA_DIR'])\n",
    "    parser.add_argument('--model-dir', type=str, default=os.environ['SM_MODEL_DIR'])\n",
    "    parser.add_argument('--train', type=str, default=os.environ['SM_CHANNEL_TRAIN'])\n",
    "    parser.add_argument('--label_col', type=str, default='nbr_mobile_home_policies')\n",
    "    args = parser.parse_args()\n",
    "    \n",
    "    cat_feats = ['zip_agg_customer_subtype', 'zip_agg_customer_main_type']\n",
    "    nbr_cols = df.shape[1]\n",
    "    input_files = [ os.path.join(args.train, file) for file in os.listdir(args.train) ]\n",
    "    if len(input_files) == 0:\n",
    "        raise ValueError(('There are no files in {}.\\n' +\n",
    "                          'This usually indicates that the channel ({}) was incorrectly specified,\\n' +\n",
    "                          'the data specification in S3 was incorrectly specified or the role specified\\n' +\n",
    "                          'does not have permission to access the data.').format(args.train, \"train\"))\n",
    "\n",
    "    raw_data = [ pd.read_csv(file) for file in input_files ]\n",
    "    concat_data = pd.concat(raw_data)\n",
    "    \n",
    "    number_of_columns_x = concat_data.shape[1]\n",
    "    train_y = concat_data.iloc[:,number_of_columns_x-1]\n",
    "    train_X = concat_data.iloc[:,:number_of_columns_x-1]\n",
    "    \n",
    "    col_transformer = ColumnTransformer([\n",
    "        transformers=[\n",
    "            ('encoder', OneHotEncoder(), cat_feats)]],\n",
    "        remainder='passthrough')\n",
    "        \n",
    "    processed_df = col_transformer.fit_transform(train_X, train_y)\n",
    "\n",
    "    joblib.dump(feature_selection_pipe, os.path.join(args.model_dir, \"model.joblib\"))\n",
    "\n",
    "    print(\"saved model!\")\n",
    "\n",
    "    # print('OneHot feature names:', feature_selection_pipe.named_steps['one_hot']._all_cols)\n",
    "    # print('SVR feature names:', feature_selection_pipe.named_steps['svr'].get_support())\n",
    "    # print('f_reg feature names:', feature_selection_pipe.named_steps['f_reg'].get_support())\n",
    "    # print('mut_info feature names:', feature_selection_pipe.named_steps['mut_info'].get_support())\n",
    "    \n",
    "    # feature_names = feature_selection_pipe.named_steps['one_hot']._all_cols\n",
    "    # feature_names = feature_names[feature_selection_pipe.named_steps['svr'].get_support()]\n",
    "    # feature_names = feature_names[feature_selection_pipe.named_steps['f_reg'].get_support()]\n",
    "    # feature_names = feature_names[feature_selection_pipe.named_steps['mut_info'].get_support()]\n",
    "    # joblib.dump(feature_names, os.path.join(args.model_dir, \"selected_feature_names.joblib\"))\n",
    "    \n",
    "    # print(\"Selected features are: {}\".format(feature_names))\n",
    "    \n",
    "def input_fn(input_data, content_type):\n",
    "    '''Parse input data payload\n",
    "    \n",
    "    Accepts csv, parquet, or json file types'''\n",
    "    \n",
    "    print('Running input function')\n",
    "    \n",
    "    if content_type == 'text/csv':\n",
    "        df = pd.read_csv(StringIO(input_data))\n",
    "        return df\n",
    "    elif content_type == 'application/x-parquet':\n",
    "        df = pd.read_parquet(input_data)\n",
    "    elif content_type == 'application/json':\n",
    "        df = pd.read_json(input_data)\n",
    "    else:\n",
    "        raise ValueError(\"{} not supported by script\".format(content_type))\n",
    "        \n",
    "def output_fn(prediction, accept):\n",
    "    '''Format prediction output.\n",
    "    \n",
    "    The default accept/content-type between containers for serial inference is JSON.\n",
    "    We also want to set the ContentType or mimetype as the same value as accept so the next\n",
    "    container can read the response payload correctly.\n",
    "    '''\n",
    "    \n",
    "    print('Running output function')\n",
    "    \n",
    "    if accept == 'application/json':\n",
    "        instances = []\n",
    "        for row in prediction.tolist():\n",
    "            instances.append({'features': row})\n",
    "            \n",
    "        json_output = {'instances': instances}\n",
    "        \n",
    "        return worker.Response(json.dumps(json_output), mimetype=accept)\n",
    "    elif accept == 'text/csv':\n",
    "        return worker.Response(encoders.encode(prediction, accept), mimetype=accept)\n",
    "    else:\n",
    "        raise RuntimeException('{} accept type is not supported by this script')\n",
    "        \n",
    "def predict_fn(input_data, model):\n",
    "    '''Preprocess input data\n",
    "    \n",
    "    The default predict_fn uses .predict(), but our model is a preprocessor\n",
    "    so we want to use .transform().\n",
    "    '''\n",
    "    \n",
    "    print('Running predict_function')\n",
    "    \n",
    "    print('Input data shape at predict_fn: {}'.format(input_data.shape))\n",
    "    if input_data.shape[1] == INPUT_FEATURES_SIZE:\n",
    "        features = model.transform(input_data)\n",
    "        return features\n",
    "    elif input_data.shape[1] -- INPUT_FEATURES_SIZE + 1:\n",
    "        features = model.transform(inputdata.iloc[:, :INPUT_FEATURES_SIZE])\n",
    "        return np.insert(features, 0, input_data[label_column], axis=1)\n",
    "    \n",
    "def model_fn(model_dir):\n",
    "    '''Deserialize fitted model'''\n",
    "    \n",
    "    print('Running model function')\n",
    "    \n",
    "    preprocessor = joblib.load(os.path.join(model_dir, 'model.joblib'))\n",
    "    return processor"
   ]
  },
  {
   "cell_type": "code",
   "execution_count": null,
   "id": "f022bd1e-50f5-42a1-b03a-6af1da02b5e6",
   "metadata": {},
   "outputs": [],
   "source": []
  },
  {
   "cell_type": "code",
   "execution_count": null,
   "id": "f74decc3-211b-4d29-8cd1-c4d7e711aa4f",
   "metadata": {},
   "outputs": [],
   "source": []
  }
 ],
 "metadata": {
  "instance_type": "ml.t3.medium",
  "kernelspec": {
   "display_name": "Python 3 (Data Science)",
   "language": "python",
   "name": "python3__SAGEMAKER_INTERNAL__arn:aws:sagemaker:us-east-1:081325390199:image/datascience-1.0"
  },
  "language_info": {
   "codemirror_mode": {
    "name": "ipython",
    "version": 3
   },
   "file_extension": ".py",
   "mimetype": "text/x-python",
   "name": "python",
   "nbconvert_exporter": "python",
   "pygments_lexer": "ipython3",
   "version": "3.7.10"
  }
 },
 "nbformat": 4,
 "nbformat_minor": 5
}
