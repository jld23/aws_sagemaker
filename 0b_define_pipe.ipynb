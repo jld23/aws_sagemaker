{
 "cells": [
  {
   "cell_type": "markdown",
   "id": "9fc9bdc9-c608-4d54-8a4c-072e6ede3604",
   "metadata": {},
   "source": [
    "# Load libraries"
   ]
  },
  {
   "cell_type": "code",
   "execution_count": 2,
   "id": "4ba019ee-ec08-41ee-8f89-3b58aab4fa70",
   "metadata": {
    "tags": []
   },
   "outputs": [],
   "source": [
    "import os\n",
    "from time import gmtime, strftime, sleep\n",
    "import json\n",
    "\n",
    "import boto3\n",
    "import sagemaker\n",
    "import sagemaker.session\n",
    "\n",
    "from sagemaker.workflow.parameters import (\n",
    "    ParameterInteger,\n",
    "    ParameterString,\n",
    "    ParameterFloat\n",
    ")\n",
    "\n",
    "from sagemaker import (\n",
    "    AutoML,\n",
    "    AutoMLInput,\n",
    "    # get_execution_role,\n",
    "    # MetricsSource,\n",
    "    # ModelMetrics,\n",
    "    # ModelPackage,\n",
    ")\n",
    "\n",
    "# from sagemaker.s3 import s3_path_join, S3Downloader, S3Uploader\n",
    "from sagemaker.sklearn.processing import SKLearnProcessor\n",
    "from sagemaker.sklearn.estimator import SKLearn\n",
    "from sagemaker.sklearn.model import SKLearnModel\n",
    "from sagemaker.processing import Processor, ScriptProcessor, ProcessingInput, ProcessingOutput\n",
    "from sagemaker.inputs import TrainingInput\n",
    "from sagemaker.transformer import Transformer\n",
    "from sagemaker.pipeline import PipelineModel\n",
    "from sagemaker.model_metrics import MetricsSource, ModelMetrics\n",
    "from sagemaker.workflow.pipeline_context import PipelineSession\n",
    "from sagemaker.workflow.steps import ProcessingStep, TrainingStep, TransformStep, CacheConfig\n",
    "from sagemaker.workflow.automl_step import AutoMLStep\n",
    "from sagemaker.workflow.model_step import ModelStep\n",
    "from sagemaker.workflow.functions import Join\n",
    "from sagemaker.workflow.pipeline import Pipeline\n",
    "from sagemaker.workflow.step_collections import RegisterModel\n",
    "from sagemaker.workflow.conditions import ConditionLessThanOrEqualTo, ConditionGreaterThanOrEqualTo\n",
    "from sagemaker.workflow.condition_step import ConditionStep\n",
    "from sagemaker.workflow.functions import JsonGet\n",
    "from sagemaker.workflow.properties import PropertyFile\n"
   ]
  },
  {
   "cell_type": "markdown",
   "id": "601ff771-0cb7-48b6-9439-37781fe2c5ba",
   "metadata": {},
   "source": [
    "# Define session variables"
   ]
  },
  {
   "cell_type": "code",
   "execution_count": 3,
   "id": "820e5188-8a47-479a-8a64-f333d8d26ad6",
   "metadata": {
    "tags": []
   },
   "outputs": [],
   "source": [
    "session = sagemaker.session.Session()\n",
    "pipe_session= PipelineSession()\n",
    "region = session.boto_region_name\n",
    "role = sagemaker.get_execution_role()\n",
    "bucket = session.default_bucket()\n",
    "account_id = session.account_id()\n",
    "\n",
    "pipeline_name = \"JsonTroubleshoot\"\n",
    "model_package_group_name = 'mlpipe'\n",
    "\n",
    "preprocessor_script = \"processor_model.py\"\n",
    "transformer_script = 'transformers.py'\n",
    "\n",
    "image_name = 'fit-fraudml-sagemaker-collab-20230511151434-35-97f3a42'\n",
    "dept= 'frm-svcs'\n",
    "ecr_repo = f'{account_id}.dkr.ecr.{region}.amazonaws.com/{dept}:{image_name}'\n",
    "\n",
    "timestamp_suffix = strftime(\"%Y-%m-%d-%H-%M\", gmtime())\n",
    "prefix = 'experiment' + '_' + timestamp_suffix\n",
    "\n",
    "tags = [\n",
    "    {\"Key\": \"PLATFORM\", \"Value\": \"FO-ML\"},\n",
    "    {\"Key\": \"BUSINESS_REGION\", \"Value\": \"GLOBAL\"},\n",
    "    {\"Key\": \"BUSINESS_UNIT\", \"Value\": \"MOBILITY\"},\n",
    "    {\"Key\": \"CLIENT\", \"Value\": \"MULTI_TENANT\"}\n",
    "   ]"
   ]
  },
  {
   "cell_type": "markdown",
   "id": "d922a393-736c-4746-a8f0-230cf6bac17d",
   "metadata": {
    "tags": []
   },
   "source": [
    "# Define Pipeline parameters"
   ]
  },
  {
   "cell_type": "code",
   "execution_count": 4,
   "id": "bbc7e05d-c0f2-4ba7-827b-5953ed8e1a5d",
   "metadata": {
    "tags": []
   },
   "outputs": [],
   "source": [
    "sample_size_param = ParameterString(\n",
    "    name=\"SampleSize\",\n",
    "    default_value='10000')\n",
    "\n",
    "group_filter = ParameterString(\n",
    "    name='Group',\n",
    "    default_value='second')\n",
    "\n",
    "target_col = ParameterString(\n",
    "    name='Target',\n",
    "    default_value='target')\n",
    "\n",
    "train_size = ParameterString(\n",
    "    name='TrainSize',\n",
    "    default_value='0.8')\n",
    "\n",
    "file_format = ParameterString(\n",
    "    name='FileFormat',\n",
    "    default_value='csv')\n",
    "\n",
    "processing_instance_count = ParameterInteger(\n",
    "    name=\"ProcessingInstanceCount\",\n",
    "    default_value=1)\n",
    "\n",
    "processing_instance_type = ParameterString(\n",
    "    name=\"ProcessingInstanceType\",\n",
    "    default_value=\"ml.m5.xlarge\")\n",
    "\n",
    "training_instance_type = ParameterString(\n",
    "    name='TrainingInstanceType',\n",
    "    default_value=\"ml.m5.xlarge\")\n",
    "\n",
    "framework_version = ParameterString(\n",
    "    name=\"FrameworkVersion\",\n",
    "    default_value=\"1.2-1\")\n",
    "\n",
    "max_automl_runtime = ParameterInteger(\n",
    "    name=\"MaxAutoMLRuntime\",\n",
    "    default_value=3600)  # max. AutoML training runtime: 1 hour\n",
    "\n",
    "model_approval_status = ParameterString(\n",
    "    name='ModelApprovalStatus',\n",
    "    default_value='PendingManualApproval')\n",
    "\n",
    "model_registration_metric_threshold = ParameterFloat(\n",
    "    name=\"ModelRegistrationMetricThreshold\",\n",
    "    default_value=0.1)\n",
    "\n",
    "step_cache_config = CacheConfig(\n",
    "    enable_caching=True,\n",
    "    expire_after='PT12H')"
   ]
  },
  {
   "cell_type": "markdown",
   "id": "7ea704b5-336a-4fb7-8aae-e42ce025df20",
   "metadata": {},
   "source": [
    "## Create Sample Features"
   ]
  },
  {
   "cell_type": "code",
   "execution_count": 5,
   "id": "2df2e351-9250-4d8d-aadb-c252729975e4",
   "metadata": {
    "tags": []
   },
   "outputs": [
    {
     "name": "stderr",
     "output_type": "stream",
     "text": [
      "The input argument version of function (sagemaker.image_uris.retrieve) is a pipeline variable (<class 'sagemaker.workflow.parameters.ParameterString'>), which is not allowed. The default_value of this Parameter object will be used to override it. Please make sure the default_value is valid.\n",
      "The input argument instance_type of function (sagemaker.image_uris.retrieve) is a pipeline variable (<class 'sagemaker.workflow.parameters.ParameterString'>), which is not allowed. The default_value of this Parameter object will be used to override it. Please make sure the default_value is valid.\n"
     ]
    }
   ],
   "source": [
    "sklearn_feats_processor = SKLearnProcessor(\n",
    "    framework_version=framework_version,\n",
    "    role=role,\n",
    "    instance_type=processing_instance_type,\n",
    "    instance_count=processing_instance_count,\n",
    "    sagemaker_session=pipe_session,\n",
    "    base_job_name=\"sample-pipeline-job\"\n",
    ")\n",
    "\n",
    "step_create_feats = ProcessingStep(\n",
    "    name=\"create_feats\",\n",
    "    processor=sklearn_feats_processor,\n",
    "    outputs=[\n",
    "        ProcessingOutput(\n",
    "            output_name=\"features\",\n",
    "            source=\"/opt/ml/processing/output\",\n",
    "            destination=Join(\n",
    "                on=\"/\",\n",
    "                values=[\n",
    "                    \"s3://{}\".format(bucket),\n",
    "                    prefix,\n",
    "                    'sample_data'\n",
    "                ],\n",
    "            ),\n",
    "        ),\n",
    "    ],\n",
    "    job_arguments = [\"--sample-size\", sample_size_param, '--group', group_filter],\n",
    "    code=\"create_feats.py\",\n",
    "    cache_config=step_cache_config\n",
    ")"
   ]
  },
  {
   "cell_type": "markdown",
   "id": "415cab25-5bd7-4b4a-b116-fecebc9785d8",
   "metadata": {},
   "source": [
    "## Create Sample Ground Truth"
   ]
  },
  {
   "cell_type": "code",
   "execution_count": 6,
   "id": "ed9950a9-812b-4612-8e4d-8485481a9652",
   "metadata": {
    "tags": []
   },
   "outputs": [
    {
     "name": "stderr",
     "output_type": "stream",
     "text": [
      "The input argument version of function (sagemaker.image_uris.retrieve) is a pipeline variable (<class 'sagemaker.workflow.parameters.ParameterString'>), which is not allowed. The default_value of this Parameter object will be used to override it. Please make sure the default_value is valid.\n",
      "The input argument instance_type of function (sagemaker.image_uris.retrieve) is a pipeline variable (<class 'sagemaker.workflow.parameters.ParameterString'>), which is not allowed. The default_value of this Parameter object will be used to override it. Please make sure the default_value is valid.\n"
     ]
    }
   ],
   "source": [
    "sklearn_gt_processor = SKLearnProcessor(\n",
    "    framework_version=framework_version,\n",
    "    role=role,\n",
    "    instance_type=processing_instance_type,\n",
    "    instance_count=processing_instance_count,\n",
    "    sagemaker_session=pipe_session,\n",
    "    base_job_name=\"sample-pipeline-job\"\n",
    ")\n",
    "\n",
    "step_create_gt = ProcessingStep(\n",
    "    name=\"create_gt\",\n",
    "    processor=sklearn_gt_processor,\n",
    "    outputs=[\n",
    "        ProcessingOutput(\n",
    "            output_name=\"ground_truth\",\n",
    "            source=\"/opt/ml/processing/output\",\n",
    "            destination=Join(\n",
    "                on=\"/\",\n",
    "                values=[\n",
    "                    \"s3://{}\".format(bucket),\n",
    "                    prefix,\n",
    "                    'sample_data'\n",
    "                ],\n",
    "            ),\n",
    "        ),\n",
    "    ],\n",
    "    job_arguments = [\"--sample-size\", sample_size_param, '--target', target_col],\n",
    "    code=\"create_gt.py\",\n",
    "    cache_config=step_cache_config\n",
    ")"
   ]
  },
  {
   "cell_type": "markdown",
   "id": "11e5ea99-1870-4053-9daa-cca280dd1ada",
   "metadata": {
    "tags": []
   },
   "source": [
    "## Split Data, Train Preprocessor, Save Processed Data"
   ]
  },
  {
   "cell_type": "code",
   "execution_count": 7,
   "id": "355152d4-c59b-4c23-a0f7-fae6df257393",
   "metadata": {
    "jupyter": {
     "source_hidden": true
    },
    "tags": []
   },
   "outputs": [],
   "source": [
    "pre_processor = ScriptProcessor(\n",
    "    command=['python3'],\n",
    "    image_uri=ecr_repo,\n",
    "    role=role,\n",
    "    instance_type=processing_instance_type,\n",
    "    instance_count=processing_instance_count)\n",
    "\n",
    "step_create_preprocessor = ProcessingStep(\n",
    "    name=\"create_preprocessor\",\n",
    "    processor=pre_processor,\n",
    "    code='processor_script.py',\n",
    "    inputs=[\n",
    "        ProcessingInput(\n",
    "            source=step_create_feats.properties.ProcessingOutputConfig.Outputs['features'].S3Output.S3Uri,\n",
    "            destination='/opt/ml/processing/input/data/feats'),\n",
    "        ProcessingInput(\n",
    "            source=step_create_gt.properties.ProcessingOutputConfig.Outputs['ground_truth'].S3Output.S3Uri,\n",
    "            destination='/opt/ml/processing/input/data/gt')],\n",
    "    outputs=[\n",
    "        ProcessingOutput(\n",
    "            output_name=\"encoder\",\n",
    "            source=\"/opt/ml/processing/output/encoder\",\n",
    "            destination=Join(\n",
    "                on=\"/\",\n",
    "                values=[\n",
    "                    \"s3://{}\".format(bucket),\n",
    "                    prefix,\n",
    "                    'encoder'])),\n",
    "        ProcessingOutput(\n",
    "            output_name=\"encoder_cols\",\n",
    "            source=\"/opt/ml/processing/output/encoder_cols\",\n",
    "            destination=Join(\n",
    "                on=\"/\",\n",
    "                values=[\n",
    "                    \"s3://{}\".format(bucket),\n",
    "                    prefix,\n",
    "                    'encoder_cols'])),\n",
    "        ProcessingOutput(\n",
    "            output_name=\"train\",\n",
    "            source=\"/opt/ml/processing/output/train\",\n",
    "            destination=Join(\n",
    "                on=\"/\",\n",
    "                values=[\n",
    "                    \"s3://{}\".format(bucket),\n",
    "                    prefix,\n",
    "                    'train'])),\n",
    "        ProcessingOutput(\n",
    "            output_name=\"validate\",\n",
    "            source=\"/opt/ml/processing/output/validate\",\n",
    "            destination=Join(\n",
    "                on=\"/\",\n",
    "                values=[\n",
    "                    \"s3://{}\".format(bucket),\n",
    "                    prefix,\n",
    "                    'validate'])),\n",
    "        # ProcessingOutput(\n",
    "        #     output_name=\"test\",\n",
    "        #     source=\"/opt/ml/processing/output/test\",\n",
    "        #     destination=Join(\n",
    "        #         on=\"/\",\n",
    "        #         values=[\n",
    "        #             \"s3://{}\".format(bucket),\n",
    "        #             prefix,\n",
    "        #             'test'\n",
    "        #         ],\n",
    "        #     ),\n",
    "        # ),\n",
    "        ProcessingOutput(\n",
    "            output_name=\"test_x\",\n",
    "            source=\"/opt/ml/processing/output/test/feats\",\n",
    "            destination=Join(\n",
    "                on=\"/\",\n",
    "                values=[\n",
    "                    \"s3://{}\".format(bucket),\n",
    "                    prefix,\n",
    "                    'test',\n",
    "                    'feats'])),\n",
    "        ProcessingOutput(\n",
    "            output_name=\"test_y\",\n",
    "            source=\"/opt/ml/processing/output/test/target\",\n",
    "            destination=Join(\n",
    "                on=\"/\",\n",
    "                values=[\n",
    "                    \"s3://{}\".format(bucket),\n",
    "                    prefix,\n",
    "                    'test',\n",
    "                    'target']))],\n",
    "    job_arguments = [\n",
    "        '--target', target_col,\n",
    "        \"--train-size\", train_size,\n",
    "        '--file-format', file_format],\n",
    "    cache_config=step_cache_config\n",
    ")"
   ]
  },
  {
   "cell_type": "markdown",
   "id": "7d990b12-f0f8-4d07-a31e-a39a503c71cd",
   "metadata": {
    "tags": []
   },
   "source": [
    "## Train Preprocessor"
   ]
  },
  {
   "cell_type": "code",
   "execution_count": 8,
   "id": "ab377f00-2943-434e-9f0e-3579e3e1641d",
   "metadata": {
    "tags": []
   },
   "outputs": [
    {
     "name": "stderr",
     "output_type": "stream",
     "text": [
      "instance_type is a PipelineVariable (<class 'sagemaker.workflow.parameters.ParameterString'>). Its interpreted value in execution time should not be of GPU types since GPU training is not supported for Scikit-Learn.\n",
      "The input argument version of function (sagemaker.image_uris.retrieve) is a pipeline variable (<class 'sagemaker.workflow.parameters.ParameterString'>), which is not allowed. The default_value of this Parameter object will be used to override it. Please make sure the default_value is valid.\n",
      "The input argument instance_type of function (sagemaker.image_uris.retrieve) is a pipeline variable (<class 'sagemaker.workflow.parameters.ParameterString'>), which is not allowed. The default_value of this Parameter object will be used to override it. Please make sure the default_value is valid.\n",
      "/opt/conda/lib/python3.7/site-packages/sagemaker/workflow/steps.py:445: UserWarning: Profiling is enabled on the provided estimator. The default profiler rule includes a timestamp which will change each time the pipeline is upserted, causing cache misses. If profiling is not needed, set disable_profiler to True on the estimator.\n",
      "  warnings.warn(msg)\n"
     ]
    }
   ],
   "source": [
    "processor_model = SKLearn(\n",
    "    entry_point=preprocessor_script,\n",
    "    source_dir='preprocessor_source_dir',\n",
    "    role=role,\n",
    "    instance_type=training_instance_type,\n",
    "    framework_version=framework_version,\n",
    "    sagemaker_session=pipe_session,\n",
    "    # dependencies=[transformer_script]\n",
    ")\n",
    "\n",
    "step_train_preprocessor_model = TrainingStep(\n",
    "    name=\"PreprocessModel\",\n",
    "    estimator=processor_model,\n",
    "    inputs={\n",
    "        'input_model':TrainingInput(\n",
    "            s3_data=step_create_preprocessor.properties.ProcessingOutputConfig.Outputs['encoder'].S3Output.S3Uri,\n",
    "            content_type='text/csv')},\n",
    "    cache_config=step_cache_config\n",
    ")"
   ]
  },
  {
   "cell_type": "markdown",
   "id": "bc861f00-7d81-4e73-9f52-c44dbda93e6b",
   "metadata": {},
   "source": [
    "## Train AutoML Model"
   ]
  },
  {
   "cell_type": "code",
   "execution_count": 9,
   "id": "177ba1d0-8ac3-47cb-a7a9-ceca1b37c4ad",
   "metadata": {
    "tags": []
   },
   "outputs": [
    {
     "name": "stderr",
     "output_type": "stream",
     "text": [
      "/opt/conda/lib/python3.7/site-packages/sagemaker/workflow/pipeline_context.py:273: UserWarning: Running within a PipelineSession, there will be No Wait, No Logs, and No Job being started.\n",
      "  UserWarning,\n"
     ]
    }
   ],
   "source": [
    "automl = AutoML(\n",
    "    role=role,\n",
    "    target_attribute_name=target_col,\n",
    "    # problem_type='BinaryClassification',\n",
    "    # job_objective={'auc':?}, # the objective metric used to measure the predictive quality of an AutoML job. In the format of: {“MetricName”: str}\n",
    "    sagemaker_session=pipe_session,\n",
    "    # max_candidates=10, #maximum number of times a training job is allowed to run\n",
    "    # max_runtime_per_training_job_in_seconds=max_automl_runtime, # maximum time, in seconds, that each training job executed inside hyperparameter tuning is allowed to run as part of a hyperparameter tuning job\n",
    "    total_job_runtime_in_seconds=max_automl_runtime, # the total wait time of an AutoML job\n",
    "    # feature_specification_s3_uri=?, # a URL to the Amazon S3 data source containing selected features and specified data types from the input data source of an AutoML job.\n",
    "    mode=\"ENSEMBLING\",  # only ensembling mode is supported for native AutoML step integration in SageMaker Pipelines\n",
    ")\n",
    "\n",
    "train_args = automl.fit(\n",
    "    inputs=[\n",
    "        AutoMLInput(\n",
    "            inputs=step_create_preprocessor.properties.ProcessingOutputConfig.Outputs['train'].S3Output.S3Uri,\n",
    "            target_attribute_name=target_col,\n",
    "            channel_type=\"training\"\n",
    "        ),\n",
    "        AutoMLInput(\n",
    "            inputs=step_create_preprocessor.properties.ProcessingOutputConfig.Outputs['validate'].S3Output.S3Uri,\n",
    "            target_attribute_name=target_col,\n",
    "            channel_type=\"validation\")\n",
    "    ]\n",
    ")\n",
    "\n",
    "step_auto_ml_training = AutoMLStep(\n",
    "    name=\"AutoMLTrainingStep\",\n",
    "    step_args=train_args,\n",
    "    cache_config=step_cache_config\n",
    ")\n",
    "\n",
    "best_auto_ml_model = step_auto_ml_training.get_best_auto_ml_model(\n",
    "    role,\n",
    "    sagemaker_session=pipe_session)\n",
    "\n",
    "step_args_create_model = best_auto_ml_model.create(instance_type=processing_instance_type)\n",
    "step_create_AutoMLmodel = ModelStep(name=\"ModelCreationStep\", step_args=step_args_create_model)"
   ]
  },
  {
   "cell_type": "markdown",
   "id": "f3002ca4-a490-4e01-9378-05b5fa8107ae",
   "metadata": {},
   "source": [
    "## Batch Transform Step"
   ]
  },
  {
   "cell_type": "code",
   "execution_count": 10,
   "id": "1f86d5c0-6417-435d-96e0-7860ea61622c",
   "metadata": {
    "tags": []
   },
   "outputs": [],
   "source": [
    "transformer = Transformer(\n",
    "    model_name=step_create_AutoMLmodel.properties.ModelName,\n",
    "    instance_count=processing_instance_count,\n",
    "    instance_type=processing_instance_type,\n",
    "    output_path=Join(on=\"/\", values=[\"s3:/\", bucket, prefix, \"transform\"]),\n",
    "    strategy='MultiRecord',\n",
    "    assemble_with='Line',\n",
    "    accept = 'text/csv',\n",
    "    # max_payload=100,\n",
    "    sagemaker_session=pipe_session,\n",
    ")\n",
    "step_batch_transform = TransformStep(\n",
    "    name=\"BatchTransformStep\",\n",
    "    step_args=transformer.transform(\n",
    "        data=step_create_preprocessor.properties.ProcessingOutputConfig.Outputs['test_x'].S3Output.S3Uri,\n",
    "        content_type=\"text/csv\",\n",
    "        split_type='Line'),\n",
    "    cache_config=step_cache_config\n",
    ")"
   ]
  },
  {
   "cell_type": "markdown",
   "id": "752f65ce-9be0-428b-8e5b-6378237b1735",
   "metadata": {},
   "source": [
    "## Evaluate AutoML Model\n",
    "\n",
    "Need to update this code. Specifically, need to know the output of the transform_step so that you can reference it in the eval script. Will also need to update the eval script, as the predictions are already complete using this workflow."
   ]
  },
  {
   "cell_type": "code",
   "execution_count": 11,
   "id": "b23f89d4-7bd5-4143-827f-21baaee4976c",
   "metadata": {
    "tags": []
   },
   "outputs": [
    {
     "name": "stderr",
     "output_type": "stream",
     "text": [
      "The input argument version of function (sagemaker.image_uris.retrieve) is a pipeline variable (<class 'sagemaker.workflow.parameters.ParameterString'>), which is not allowed. The default_value of this Parameter object will be used to override it. Please make sure the default_value is valid.\n",
      "The input argument instance_type of function (sagemaker.image_uris.retrieve) is a pipeline variable (<class 'sagemaker.workflow.parameters.ParameterString'>), which is not allowed. The default_value of this Parameter object will be used to override it. Please make sure the default_value is valid.\n"
     ]
    }
   ],
   "source": [
    "eval_processor = SKLearnProcessor(\n",
    "    framework_version=framework_version,\n",
    "    role=role,\n",
    "    instance_type=processing_instance_type,\n",
    "    instance_count=processing_instance_count)"
   ]
  },
  {
   "cell_type": "code",
   "execution_count": 12,
   "id": "0a7c0521-789b-4edd-a6b0-e0143504026c",
   "metadata": {
    "tags": []
   },
   "outputs": [],
   "source": [
    "evaluation_report = PropertyFile(\n",
    "    name=\"evaluation\",\n",
    "    output_name=\"evaluation_metrics\",\n",
    "    path=\"evaluation.json\"\n",
    ")\n",
    "\n",
    "step_evaluation = ProcessingStep(\n",
    "    name=\"ModelEvaluationStep\",\n",
    "    processor=eval_processor,\n",
    "    code=\"evaluate.py\",\n",
    "    inputs=[\n",
    "        ProcessingInput(\n",
    "            source=step_batch_transform.properties.TransformOutput.S3OutputPath,\n",
    "            destination=\"/opt/ml/processing/input/predictions\"),\n",
    "        ProcessingInput(\n",
    "            source=step_create_preprocessor.properties.ProcessingOutputConfig.Outputs['test_y'].S3Output.S3Uri,\n",
    "            destination=\"/opt/ml/processing/input/true_labels\")],\n",
    "    outputs=[\n",
    "        ProcessingOutput(\n",
    "            output_name=\"evaluation_metrics\",\n",
    "            source=\"/opt/ml/processing/evaluation\",\n",
    "            destination=Join(on=\"/\", values=[\"s3:/\", bucket, prefix, \"evaluation\"]))],\n",
    "    property_files=[evaluation_report],\n",
    "    cache_config=step_cache_config)\n",
    "\n",
    "model_metrics = ModelMetrics(\n",
    "    model_statistics=MetricsSource(\n",
    "        s3_uri=Join(\n",
    "            on='/',\n",
    "            values=[\n",
    "                step_evaluation.arguments[\"ProcessingOutputConfig\"][\"Outputs\"][0]['S3Output']['S3Uri'],\n",
    "                'evaluation.json']),\n",
    "        content_type='application/json'),\n",
    "    explainability=MetricsSource(\n",
    "        s3_uri=step_auto_ml_training.properties.BestCandidateProperties.ExplainabilityJsonReportPath,\n",
    "        content_type=\"application/json\",\n",
    "    )\n",
    ")"
   ]
  },
  {
   "cell_type": "code",
   "execution_count": 13,
   "id": "09707926-41a6-438a-a3ff-dab7932654fa",
   "metadata": {
    "tags": []
   },
   "outputs": [],
   "source": [
    "# model_metrics = ModelMetrics(\n",
    "#     model_statistics=MetricsSource(\n",
    "#         s3_uri=step_auto_ml_training.properties.BestCandidateProperties.ModelInsightsJsonReportPath,\n",
    "#         content_type=\"application/json\",\n",
    "#     ),\n",
    "#     explainability=MetricsSource(\n",
    "#         s3_uri=step_auto_ml_training.properties.BestCandidateProperties.ExplainabilityJsonReportPath,\n",
    "#         content_type=\"application/json\",\n",
    "#     ),\n",
    "# )"
   ]
  },
  {
   "cell_type": "markdown",
   "id": "610b46c8-fbe8-42aa-b794-4b302afa878b",
   "metadata": {},
   "source": [
    "## Create Inference Pipeline"
   ]
  },
  {
   "cell_type": "code",
   "execution_count": 14,
   "id": "00cfff0a-68bd-4700-b39a-232ac04ac9fe",
   "metadata": {
    "tags": []
   },
   "outputs": [],
   "source": [
    "preprocess_model = SKLearnModel(\n",
    "    name='PreprocessModel',\n",
    "    model_data=step_train_preprocessor_model.properties.ModelArtifacts.S3ModelArtifacts,\n",
    "    role=role,\n",
    "    sagemaker_session=pipe_session,\n",
    "    entry_point=preprocessor_script,\n",
    "    source_dir='preprocessor_source_dir',\n",
    "    # dependencies=[transformer_script],\n",
    "    framework_version=framework_version)"
   ]
  },
  {
   "cell_type": "code",
   "execution_count": 15,
   "id": "e8c0273d-789b-4024-ae55-81568f25083f",
   "metadata": {
    "tags": []
   },
   "outputs": [],
   "source": [
    "model_name = \"inference-pipeline-\" + timestamp_suffix\n",
    "endpoint_name = \"inference-pipeline-ep-\" + timestamp_suffix\n",
    "\n",
    "\n",
    "pipe_model = PipelineModel(\n",
    "    models=[preprocess_model, best_auto_ml_model],\n",
    "    role=role,\n",
    "    sagemaker_session=pipe_session\n",
    ")"
   ]
  },
  {
   "cell_type": "markdown",
   "id": "38ecf8dd-c405-4c3a-b1bb-5b1f061e61cc",
   "metadata": {},
   "source": [
    "## Registration Step"
   ]
  },
  {
   "cell_type": "code",
   "execution_count": 16,
   "id": "ce527d63-b962-4020-8faa-062c0d2641d5",
   "metadata": {
    "tags": []
   },
   "outputs": [
    {
     "name": "stderr",
     "output_type": "stream",
     "text": [
      "The input argument version of function (sagemaker.image_uris.retrieve) is a pipeline variable (<class 'sagemaker.workflow.parameters.ParameterString'>), which is not allowed. The default_value of this Parameter object will be used to override it. Please make sure the default_value is valid.\n",
      "The input argument instance_type of function (sagemaker.image_uris.retrieve) is a pipeline variable (<class 'sagemaker.workflow.parameters.ParameterString'>), which is not allowed. The default_value of this Parameter object will be used to override it. Please make sure the default_value is valid.\n"
     ]
    }
   ],
   "source": [
    "step_register_model = RegisterModel(\n",
    "    name=model_name,\n",
    "    model=pipe_model,\n",
    "    content_types=[\"application/json\", \"application/json\"],\n",
    "    response_types=[\"application/json\", \"application/json\"],\n",
    "    inference_instances=[processing_instance_type, processing_instance_type],\n",
    "    transform_instances=[processing_instance_type, processing_instance_type],\n",
    "    model_package_group_name=model_package_group_name,\n",
    "    approval_status=model_approval_status,\n",
    "    model_metrics=model_metrics)\n",
    "\n",
    "# # step_register_model = ModelStep(\n",
    "# #     name=\"ModelRegistrationStep\",\n",
    "# #     step_args=step_args_register_model)"
   ]
  },
  {
   "cell_type": "code",
   "execution_count": 17,
   "id": "16174026-ccc8-44a5-ada1-ff05deb0a22d",
   "metadata": {
    "tags": []
   },
   "outputs": [],
   "source": [
    "step_conditional_registration = ConditionStep(\n",
    "    name=\"ConditionalRegistrationStep\",\n",
    "    conditions=[\n",
    "        ConditionGreaterThanOrEqualTo(\n",
    "            left=JsonGet(\n",
    "                step_name=step_evaluation.name,\n",
    "                property_file=evaluation_report,\n",
    "                json_path=\"binary_classification_metrics.accuracy.value\",\n",
    "            ),\n",
    "            right=model_registration_metric_threshold,\n",
    "        )\n",
    "    ],\n",
    "    if_steps=[step_register_model],\n",
    "    else_steps=[],  # pipeline end\n",
    ")"
   ]
  },
  {
   "cell_type": "markdown",
   "id": "d7336f5a-3725-4d3b-8ffc-e551c41044f2",
   "metadata": {},
   "source": [
    "## Define Pipeline"
   ]
  },
  {
   "cell_type": "code",
   "execution_count": 18,
   "id": "f5822a66-bf89-4b10-b512-847ca46611ea",
   "metadata": {
    "tags": []
   },
   "outputs": [],
   "source": [
    "pipeline = Pipeline(\n",
    "    name=pipeline_name,\n",
    "    parameters=[\n",
    "        sample_size_param,\n",
    "        group_filter,\n",
    "        target_col,\n",
    "        train_size,\n",
    "        file_format,\n",
    "        processing_instance_count,\n",
    "        processing_instance_type,\n",
    "        training_instance_type,\n",
    "        framework_version,\n",
    "        max_automl_runtime,\n",
    "        model_approval_status,\n",
    "        model_registration_metric_threshold,\n",
    "        step_cache_config\n",
    "    ],\n",
    "    steps=[\n",
    "        step_create_feats,\n",
    "        step_create_gt,\n",
    "        step_create_preprocessor,\n",
    "        step_train_preprocessor_model,\n",
    "        step_auto_ml_training,\n",
    "        step_create_AutoMLmodel,\n",
    "        step_batch_transform,\n",
    "        step_evaluation,\n",
    "        # step_register_model,\n",
    "        step_conditional_registration\n",
    "    ],\n",
    "    sagemaker_session=pipe_session)"
   ]
  },
  {
   "cell_type": "code",
   "execution_count": 19,
   "id": "fc794593-9783-4dfa-87b3-5bd7ac7a62cb",
   "metadata": {
    "tags": []
   },
   "outputs": [
    {
     "name": "stderr",
     "output_type": "stream",
     "text": [
      "WARNING:sagemaker.workflow._utils:Popping out 'CertifyForMarketplace' from the pipeline definition since it will be overridden in pipeline execution time.\n"
     ]
    },
    {
     "data": {
      "text/plain": [
       "_PipelineExecution(arn='arn:aws:sagemaker:us-east-1:707031497630:pipeline/jsontroubleshoot/execution/sor6lygmxv89', sagemaker_session=<sagemaker.workflow.pipeline_context.PipelineSession object at 0x7fad1dc4b650>)"
      ]
     },
     "execution_count": 19,
     "metadata": {},
     "output_type": "execute_result"
    }
   ],
   "source": [
    "pipeline.upsert(role_arn=role, tags=tags)\n",
    "\n",
    "pipeline.start(\n",
    "    execution_display_name=\"SamplePipe-sourceDir\",\n",
    "    parameters=dict(\n",
    "        ProcessingInstanceType='ml.m5.xlarge',\n",
    "        TrainingInstanceType='ml.m5.xlarge',\n",
    "        MaxAutoMLRuntime=3600,\n",
    "        SampleSize='10000'))"
   ]
  },
  {
   "cell_type": "code",
   "execution_count": null,
   "id": "161ef3b8-78c6-4563-9ca2-ec2ec59ceb32",
   "metadata": {},
   "outputs": [],
   "source": []
  }
 ],
 "metadata": {
  "instance_type": "ml.t3.medium",
  "kernelspec": {
   "display_name": "Python 3 (Data Science)",
   "language": "python",
   "name": "python3__SAGEMAKER_INTERNAL__arn:aws:sagemaker:us-east-1:081325390199:image/datascience-1.0"
  },
  "language_info": {
   "codemirror_mode": {
    "name": "ipython",
    "version": 3
   },
   "file_extension": ".py",
   "mimetype": "text/x-python",
   "name": "python",
   "nbconvert_exporter": "python",
   "pygments_lexer": "ipython3",
   "version": "3.7.10"
  }
 },
 "nbformat": 4,
 "nbformat_minor": 5
}
