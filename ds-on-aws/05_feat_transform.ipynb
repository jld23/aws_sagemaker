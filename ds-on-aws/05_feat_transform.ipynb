{
 "cells": [
  {
   "cell_type": "markdown",
   "id": "52380363-b7bd-473e-b9c7-9dda4d683adc",
   "metadata": {},
   "source": [
    "# Feature Transformation with Scikit-Learn In This Notebook\n",
    "## Saving Features into the SageMaker Feature Store\n",
    "\n",
    "In this notebook, we convert raw text into BERT embeddings.  This will allow us to perform natural language processing tasks such as text classification. We save the features into the SageMaker Feature Store.\n"
   ]
  },
  {
   "cell_type": "markdown",
   "id": "db282c02-a81a-4a0a-88d7-adcc24c3bb6b",
   "metadata": {},
   "source": [
    "![](https://github.com/data-science-on-aws/data-science-on-aws/blob/quickstart/00_quickstart/img/prepare_dataset_bert.png?raw=true)"
   ]
  },
  {
   "cell_type": "markdown",
   "id": "d433d07d-50c7-4a79-bddf-d118cb678793",
   "metadata": {},
   "source": [
    "# BERT Mania!"
   ]
  },
  {
   "cell_type": "markdown",
   "id": "5c1f0586-6452-4ea1-8b6a-ee43aa69deba",
   "metadata": {},
   "source": [
    "![BERT Mania](https://github.com/data-science-on-aws/data-science-on-aws/blob/quickstart/00_quickstart/img/bert_mania.png?raw=true)"
   ]
  },
  {
   "cell_type": "markdown",
   "id": "ee1ac4ec-665f-441d-94b1-58938ee8a68e",
   "metadata": {},
   "source": [
    "# Understand BERT Embeddings\n",
    "\n",
    "* Bidirectional Encoder Representations from Transformers [BERT](https://arxiv.org/abs/1810.04805)\n",
    "* For more details on Transformers Architecture, see [Attention Is All You Need](https://arxiv.org/abs/1706.03762).\n",
    "\n",
    "<img src=\"https://github.com/data-science-on-aws/data-science-on-aws/blob/quickstart/00_quickstart/img/bert_embeddings.png?raw=true\" width=\"60%\" align=\"left\">"
   ]
  },
  {
   "cell_type": "markdown",
   "id": "499697f5-3ccd-4962-a844-7f651417a126",
   "metadata": {},
   "source": [
    "<img src=\"https://github.com/data-science-on-aws/data-science-on-aws/blob/quickstart/00_quickstart/img/bert_input_features.png?raw=true\" width=\"80%\" align=\"left\">"
   ]
  },
  {
   "cell_type": "markdown",
   "id": "071eb94b-abc4-40ed-b75a-391cb3e2d127",
   "metadata": {},
   "source": [
    "* **input_ids**: \n",
    "The id from the pre-trained BERT vocabulary that represents the token. (Padding of 0 will be used if the # of tokens is less than max_seq_length)\n",
    "\n",
    "* **input_mask**: \n",
    "Specifies which tokens BERT should pay attention to (0 or 1). Padded input_ids will have 0 in each of these vector elements.\n",
    "\n",
    "* **segment_ids**: \n",
    "Segment ids are always 0 for single-sequence tasks such as text classification. 1 is used for two-sequence tasks such as question/answer and next sentence prediction.\n",
    "  \n",
    "* **label_id**: \n",
    "Label for each training row (star_rating 1 through 5)"
   ]
  },
  {
   "cell_type": "code",
   "execution_count": 2,
   "id": "369e6d65-6872-4096-aa08-12f7eb126012",
   "metadata": {},
   "outputs": [],
   "source": [
    "import sagemaker\n",
    "import boto3\n",
    "\n",
    "sess = sagemaker.Session()\n",
    "# bucket = sess.default_bucket()\n",
    "bucket = 'data-science-on-aws-applied'\n",
    "region = boto3.Session().region_name\n",
    "\n",
    "import botocore.config\n",
    "\n",
    "config = botocore.config.Config(\n",
    "    user_agent_extra='dsoaws/1.0'\n",
    ")"
   ]
  },
  {
   "cell_type": "code",
   "execution_count": 3,
   "id": "e5ec33c6-398e-47df-afb7-ba9743605992",
   "metadata": {},
   "outputs": [],
   "source": [
    "%store -r role"
   ]
  },
  {
   "cell_type": "markdown",
   "id": "f300c10b-93d0-4d7b-b0d9-07298e34bd85",
   "metadata": {},
   "source": [
    "# Define Maximum Sequence Length for BERT\n",
    "Maximum sequence length is chosen based on the number-of-word distribution for the review text.\n",
    "![](img/max_seq_length_viz.png)"
   ]
  },
  {
   "cell_type": "code",
   "execution_count": 4,
   "id": "42806ecf-a50d-4dc0-83bb-1916574b58f9",
   "metadata": {},
   "outputs": [],
   "source": [
    "max_seq_length = 64"
   ]
  },
  {
   "cell_type": "markdown",
   "id": "1c6f0b05-b854-4539-8cfc-9596de0d2e99",
   "metadata": {},
   "source": [
    "# Convert Raw Text to BERT Features using Hugging Face and TensorFlow"
   ]
  },
  {
   "cell_type": "code",
   "execution_count": 5,
   "id": "04235ca9-7184-48c8-b7e9-08d11635d65a",
   "metadata": {},
   "outputs": [
    {
     "name": "stderr",
     "output_type": "stream",
     "text": [
      "2023-01-12 21:17:56.009328: W tensorflow/stream_executor/platform/default/dso_loader.cc:59] Could not load dynamic library 'libcudart.so.10.1'; dlerror: libcudart.so.10.1: cannot open shared object file: No such file or directory\n",
      "2023-01-12 21:17:56.009946: I tensorflow/stream_executor/cuda/cudart_stub.cc:29] Ignore above cudart dlerror if you do not have a GPU set up on your machine.\n"
     ]
    },
    {
     "data": {
      "application/vnd.jupyter.widget-view+json": {
       "model_id": "0ed19cc1452147499299668dc83a7124",
       "version_major": 2,
       "version_minor": 0
      },
      "text/plain": [
       "Downloading:   0%|          | 0.00/232k [00:00<?, ?B/s]"
      ]
     },
     "metadata": {},
     "output_type": "display_data"
    }
   ],
   "source": [
    "import tensorflow as tf\n",
    "import collections\n",
    "import json\n",
    "import os\n",
    "import pandas as pd\n",
    "import csv\n",
    "from transformers import DistilBertTokenizer\n",
    "\n",
    "tokenizer = DistilBertTokenizer.from_pretrained(\"distilbert-base-uncased\")\n",
    "\n",
    "REVIEW_BODY_COLUMN = \"review_body\"\n",
    "REVIEW_ID_COLUMN = \"review_id\"\n",
    "\n",
    "LABEL_COLUMN = \"star_rating\"\n",
    "LABEL_VALUES = [1, 2, 3, 4, 5]\n",
    "\n",
    "label_map = {}\n",
    "for (i, label) in enumerate(LABEL_VALUES):\n",
    "    label_map[label] = i\n",
    "\n",
    "\n",
    "class InputFeatures(object):\n",
    "    \"\"\"BERT feature vectors.\"\"\"\n",
    "\n",
    "    def __init__(self, input_ids, input_mask, segment_ids, label_id, review_id, date, label):\n",
    "        self.input_ids = input_ids\n",
    "        self.input_mask = input_mask\n",
    "        self.segment_ids = segment_ids\n",
    "        self.label_id = label_id\n",
    "        self.review_id = review_id\n",
    "        self.date = date\n",
    "        self.label = label\n",
    "\n",
    "\n",
    "class Input(object):\n",
    "    \"\"\"A single training/test input for sequence classification.\"\"\"\n",
    "\n",
    "    def __init__(self, text, review_id, date, label=None):\n",
    "        \"\"\"Constructs an Input.\n",
    "        Args:\n",
    "          text: string. The untokenized text of the first sequence. For single\n",
    "            sequence tasks, only this sequence must be specified.\n",
    "          label: (Optional) string. The label of the example. This should be\n",
    "            specified for train and dev examples, but not for test examples.\n",
    "        \"\"\"\n",
    "        self.text = text\n",
    "        self.review_id = review_id\n",
    "        self.date = date\n",
    "        self.label = label\n",
    "\n",
    "\n",
    "def convert_input(the_input, max_seq_length):\n",
    "    # First, we need to preprocess our data so that it matches the data BERT was trained on:\n",
    "    # 1. Lowercase our text (if we're using a BERT lowercase model)\n",
    "    # 2. Tokenize it (i.e. \"sally says hi\" -> [\"sally\", \"says\", \"hi\"])\n",
    "    # 3. Break words into WordPieces (i.e. \"calling\" -> [\"call\", \"##ing\"])\n",
    "    #\n",
    "    # Fortunately, the Transformers tokenizer does this for us!\n",
    "\n",
    "    tokens = tokenizer.tokenize(the_input.text)\n",
    "    tokens.insert(0, '[CLS]')\n",
    "    tokens.append('[SEP]')\n",
    "    print(\"**{} tokens**\\n{}\\n\".format(len(tokens), tokens))\n",
    "\n",
    "    encode_plus_tokens = tokenizer.encode_plus(\n",
    "        the_input.text,\n",
    "        padding='max_length', \n",
    "        max_length=max_seq_length,\n",
    "        truncation=True\n",
    "    )\n",
    "    \n",
    "    # The id from the pre-trained BERT vocabulary that represents the token.  (Padding of 0 will be used if the # of tokens is less than `max_seq_length`)\n",
    "    input_ids = encode_plus_tokens[\"input_ids\"]\n",
    "\n",
    "    # Specifies which tokens BERT should pay attention to (0 or 1).  Padded `input_ids` will have 0 in each of these vector elements.\n",
    "    input_mask = encode_plus_tokens[\"attention_mask\"]\n",
    "\n",
    "    # Segment ids are always 0 for single-sequence tasks such as text classification.  1 is used for two-sequence tasks such as question/answer and next sentence prediction.\n",
    "    segment_ids = [0] * max_seq_length\n",
    "\n",
    "    # Label for each training row (`star_rating` 1 through 5)\n",
    "    label_id = label_map[the_input.label]\n",
    "\n",
    "    features = InputFeatures(\n",
    "        input_ids=input_ids,\n",
    "        input_mask=input_mask,\n",
    "        segment_ids=segment_ids,\n",
    "        label_id=label_id,\n",
    "        review_id=the_input.review_id,\n",
    "        date=the_input.date,\n",
    "        label=the_input.label,\n",
    "    )\n",
    "\n",
    "    print(\"**{} input_ids**\\n{}\\n\".format(len(features.input_ids), features.input_ids))\n",
    "    print(\"**{} input_mask**\\n{}\\n\".format(len(features.input_mask), features.input_mask))\n",
    "    print(\"**{} segment_ids**\\n{}\\n\".format(len(features.segment_ids), features.segment_ids))\n",
    "    print(\"**label_id**\\n{}\\n\".format(features.label_id))\n",
    "    print(\"**review_id**\\n{}\\n\".format(features.review_id))\n",
    "    print(\"**date**\\n{}\\n\".format(features.date))\n",
    "    print(\"**label**\\n{}\\n\".format(features.label))\n",
    "\n",
    "    return features\n",
    "\n",
    "\n",
    "# We'll need to transform our data into a format that BERT understands.\n",
    "# - `text` is the text we want to classify, which in this case, is the `Request` field in our Dataframe.\n",
    "# - `label` is the star_rating label (1, 2, 3, 4, 5) for our training input data\n",
    "def transform_inputs_to_tfrecord(inputs, output_file, max_seq_length):\n",
    "    records = []\n",
    "    tf_record_writer = tf.io.TFRecordWriter(output_file)\n",
    "\n",
    "    for (input_idx, the_input) in enumerate(inputs):\n",
    "        if input_idx % 10000 == 0:\n",
    "            print(\"Writing input {} of {}\\n\".format(input_idx, len(inputs)))\n",
    "\n",
    "        features = convert_input(the_input, max_seq_length)\n",
    "\n",
    "        all_features = collections.OrderedDict()\n",
    "\n",
    "        # Create TFRecord With input_ids, input_mask, segment_ids, and label_ids\n",
    "        all_features[\"input_ids\"] = tf.train.Feature(int64_list=tf.train.Int64List(value=features.input_ids))\n",
    "        all_features[\"input_mask\"] = tf.train.Feature(int64_list=tf.train.Int64List(value=features.input_mask))\n",
    "        all_features[\"segment_ids\"] = tf.train.Feature(int64_list=tf.train.Int64List(value=features.segment_ids))\n",
    "        all_features[\"label_ids\"] = tf.train.Feature(int64_list=tf.train.Int64List(value=[features.label_id]))\n",
    "\n",
    "        tf_record = tf.train.Example(features=tf.train.Features(feature=all_features))\n",
    "        tf_record_writer.write(tf_record.SerializeToString())\n",
    "\n",
    "        # Create Record For Feature Store With All Features\n",
    "        records.append(\n",
    "            {\n",
    "                \"input_ids\": features.input_ids,\n",
    "                \"input_mask\": features.input_mask,\n",
    "                \"segment_ids\": features.segment_ids,\n",
    "                \"label_id\": features.label_id,\n",
    "                \"review_id\": the_input.review_id,\n",
    "                \"date\": the_input.date,\n",
    "                \"label\": features.label,\n",
    "            }\n",
    "        )\n",
    "\n",
    "    tf_record_writer.close()\n",
    "\n",
    "    return records"
   ]
  },
  {
   "cell_type": "markdown",
   "id": "1e35f442-1d25-4f64-9ca4-9f0c472f0218",
   "metadata": {},
   "source": [
    "Three(3) feature vectors are created from each raw review (`review_body`) during the feature engineering phase to prepare for BERT processing:\n",
    "\n",
    "* **`input_ids`**:  The id from the pre-trained BERT vocabulary that represents the token.  (Padding of 0 will be used if the # of tokens is less than `max_seq_length`)\n",
    "    \n",
    "* **`input_mask`**:  Specifies which tokens BERT should pay attention to (0 or 1).  Padded `input_ids` will have 0 in each of these vector elements.\n",
    "\n",
    "* **`segment_ids`**:  Segment ids are always 0 for single-sequence tasks such as text classification.  1 is used for two-sequence tasks such as question/answer and next sentence prediction.\n",
    "\n",
    "And one(1) label is created from each raw review (`star_rating`)  :\n",
    "\n",
    "* **`label_id`**:  Label for each training row (`star_rating` 1 through 5)"
   ]
  },
  {
   "cell_type": "markdown",
   "id": "246b3870-73ec-48ab-8a85-83fc2dab2402",
   "metadata": {},
   "source": [
    "# Demonstrate the BERT-specific Feature Engineering Step\n",
    "While we are demonstrating this code with a small amount of data here in the notebook, we will soon scale this to much more data on a powerful SageMaker cluster."
   ]
  },
  {
   "cell_type": "markdown",
   "id": "4ddb1c54-8607-4f2e-8552-58db4cbcb20c",
   "metadata": {},
   "source": [
    "## Feature Store requires an Event Time feature\n",
    "\n",
    "We need a record identifier name and an event time feature name. This will match the column of the corresponding features in our data. \n",
    "\n",
    "Note: Event time date feature type provided Integral. Event time type should be either Fractional(Unix timestamp in seconds) or String (ISO-8601 format) type."
   ]
  },
  {
   "cell_type": "code",
   "execution_count": 6,
   "id": "4cc81de4-27fd-430f-b83e-bf10366c20c3",
   "metadata": {},
   "outputs": [
    {
     "name": "stdout",
     "output_type": "stream",
     "text": [
      "2023-01-12T21:20:25Z\n"
     ]
    }
   ],
   "source": [
    "from datetime import datetime\n",
    "from time import strftime\n",
    "\n",
    "# timestamp = datetime.now().replace(microsecond=0).isoformat()\n",
    "timestamp = datetime.now().strftime(\"%Y-%m-%dT%H:%M:%SZ\")\n",
    "print(timestamp)"
   ]
  },
  {
   "cell_type": "code",
   "execution_count": 7,
   "id": "eb9138e7-4491-462c-9062-5fc0342c182f",
   "metadata": {
    "scrolled": true
   },
   "outputs": [],
   "source": [
    "import pandas as pd\n",
    "\n",
    "data = [\n",
    "    [\n",
    "        5,\n",
    "        \"ABCD12345\",\n",
    "        \"\"\"I needed an \"antivirus\" application and know the quality of Norton products.  This was a no brainer for me and I am glad it was so simple to get.\"\"\",\n",
    "    ],\n",
    "    [\n",
    "        3,\n",
    "        \"EFGH12345\",\n",
    "        \"\"\"The problem with ElephantDrive is that it requires the use of Java. Since Java is notorious for security problems I haveit removed from all of my computers. What files I do have stored are photos.\"\"\",\n",
    "    ],\n",
    "    [\n",
    "        1,\n",
    "        \"IJKL2345\",\n",
    "        \"\"\"Terrible, none of my codes worked, and I can't uninstall it.  I think this product IS malware and viruses\"\"\",\n",
    "    ],\n",
    "]\n",
    "\n",
    "df = pd.DataFrame(data, columns=[\"star_rating\", \"review_id\", \"review_body\"])\n",
    "\n",
    "# Use the InputExample class from BERT's run_classifier code to create examples from the data\n",
    "inputs = df.apply(\n",
    "    lambda x: Input(label=x[LABEL_COLUMN], text=x[REVIEW_BODY_COLUMN], review_id=x[REVIEW_ID_COLUMN], date=timestamp),\n",
    "    axis=1,\n",
    ")"
   ]
  },
  {
   "cell_type": "code",
   "execution_count": 8,
   "id": "203973e9-68d7-4fc2-add5-41faedb404e7",
   "metadata": {},
   "outputs": [
    {
     "name": "stdout",
     "output_type": "stream",
     "text": [
      "2023-01-12T21:20:25Z\n"
     ]
    }
   ],
   "source": [
    "# Make sure the date is in the correct ISO-8601 format for Feature Store\n",
    "print(inputs[0].date)"
   ]
  },
  {
   "cell_type": "markdown",
   "id": "7e142f6c-1b7a-4ff0-a6e5-5f4b7c70edcb",
   "metadata": {},
   "source": [
    "## Save TFRecords\n",
    "\n",
    "The three(3) features vectors and one(1) label are converted into a list of `TFRecord` instances (1 per each row of training data):\n",
    "* **`tf_records`**:  Binary representation of each row of training data (3 features + 1 label)\n",
    "\n",
    "These `TFRecord`s are the engineered features that we will use throughout the rest of the pipeline."
   ]
  },
  {
   "cell_type": "code",
   "execution_count": 9,
   "id": "57a601ad-5b03-43f3-9250-d9d589499bb3",
   "metadata": {},
   "outputs": [],
   "source": [
    "output_file = \"./data-tfrecord-featurestore/data.tfrecord\""
   ]
  },
  {
   "cell_type": "markdown",
   "id": "310d5ab6-064b-4480-b253-62477b40d492",
   "metadata": {},
   "source": [
    "# Add Features to SageMaker Feature Store"
   ]
  },
  {
   "cell_type": "markdown",
   "id": "8d40f4e6-ec15-49d7-854c-8391d3b1ed91",
   "metadata": {},
   "source": [
    "## Create FeatureGroup\n",
    "\n",
    "A feature group is a logical grouping of features, defined in the Feature Store, to describe records. A feature group definition is composed of a list of feature definitions, a record identifier name, and configurations for its online and offline store.\n",
    "\n",
    "Create feature group, describe feature group, update feature groups, delete feature group and list feature groups APIs can be used to manage feature groups.\n"
   ]
  },
  {
   "cell_type": "code",
   "execution_count": 10,
   "id": "f8b9e2c6-4a76-42d9-9209-f55d91313902",
   "metadata": {},
   "outputs": [
    {
     "name": "stdout",
     "output_type": "stream",
     "text": [
      "reviews-feature-group-12-21-20-56\n"
     ]
    }
   ],
   "source": [
    "from time import gmtime, strftime, sleep\n",
    "\n",
    "feature_group_name = \"reviews-feature-group-\" + strftime(\"%d-%H-%M-%S\", gmtime())\n",
    "print(feature_group_name)"
   ]
  },
  {
   "cell_type": "code",
   "execution_count": 11,
   "id": "8f5b461b-9748-48fb-9947-4c9c2dc2004c",
   "metadata": {},
   "outputs": [],
   "source": [
    "from sagemaker.feature_store.feature_definition import (\n",
    "    FeatureDefinition,\n",
    "    FeatureTypeEnum,\n",
    ")\n",
    "\n",
    "feature_definitions = [\n",
    "    FeatureDefinition(feature_name=\"input_ids\", feature_type=FeatureTypeEnum.STRING),\n",
    "    FeatureDefinition(feature_name=\"input_mask\", feature_type=FeatureTypeEnum.STRING),\n",
    "    FeatureDefinition(feature_name=\"segment_ids\", feature_type=FeatureTypeEnum.STRING),\n",
    "    FeatureDefinition(feature_name=\"label_id\", feature_type=FeatureTypeEnum.INTEGRAL),\n",
    "    FeatureDefinition(feature_name=\"review_id\", feature_type=FeatureTypeEnum.STRING),\n",
    "    FeatureDefinition(feature_name=\"date\", feature_type=FeatureTypeEnum.STRING),\n",
    "    FeatureDefinition(feature_name=\"label\", feature_type=FeatureTypeEnum.INTEGRAL),\n",
    "    FeatureDefinition(feature_name=\"split_type\", feature_type=FeatureTypeEnum.STRING),\n",
    "]"
   ]
  },
  {
   "cell_type": "code",
   "execution_count": 12,
   "id": "463ecd99-78dc-430f-9001-66c3a59f296a",
   "metadata": {},
   "outputs": [
    {
     "name": "stdout",
     "output_type": "stream",
     "text": [
      "FeatureGroup(name='reviews-feature-group-12-21-20-56', sagemaker_session=<sagemaker.session.Session object at 0x7f1ce041f460>, feature_definitions=[FeatureDefinition(feature_name='input_ids', feature_type=<FeatureTypeEnum.STRING: 'String'>), FeatureDefinition(feature_name='input_mask', feature_type=<FeatureTypeEnum.STRING: 'String'>), FeatureDefinition(feature_name='segment_ids', feature_type=<FeatureTypeEnum.STRING: 'String'>), FeatureDefinition(feature_name='label_id', feature_type=<FeatureTypeEnum.INTEGRAL: 'Integral'>), FeatureDefinition(feature_name='review_id', feature_type=<FeatureTypeEnum.STRING: 'String'>), FeatureDefinition(feature_name='date', feature_type=<FeatureTypeEnum.STRING: 'String'>), FeatureDefinition(feature_name='label', feature_type=<FeatureTypeEnum.INTEGRAL: 'Integral'>), FeatureDefinition(feature_name='split_type', feature_type=<FeatureTypeEnum.STRING: 'String'>)])\n"
     ]
    }
   ],
   "source": [
    "from sagemaker.feature_store.feature_group import FeatureGroup\n",
    "\n",
    "feature_group = FeatureGroup(name=feature_group_name, feature_definitions=feature_definitions, sagemaker_session=sess)\n",
    "print(feature_group)"
   ]
  },
  {
   "cell_type": "markdown",
   "id": "25e135a3-8a8c-4666-a9fc-ad8dc9089adb",
   "metadata": {},
   "source": [
    "## Specify `record identifier` and `event time` features"
   ]
  },
  {
   "cell_type": "code",
   "execution_count": 13,
   "id": "47be7f3d-9d73-4622-af94-6de8b5ca696f",
   "metadata": {},
   "outputs": [],
   "source": [
    "record_identifier_feature_name = \"review_id\"\n",
    "event_time_feature_name = \"date\""
   ]
  },
  {
   "cell_type": "markdown",
   "id": "fc952b1b-ca1f-42b9-98e0-14cb71fb71ae",
   "metadata": {},
   "source": [
    "## Set S3 Prefix for Offline Feature Store"
   ]
  },
  {
   "cell_type": "code",
   "execution_count": 14,
   "id": "698ed7b0-0798-4c49-9d9b-0fc2ae5f04df",
   "metadata": {},
   "outputs": [
    {
     "name": "stdout",
     "output_type": "stream",
     "text": [
      "reviews-feature-store-2023-01-12T21:20:25Z\n"
     ]
    }
   ],
   "source": [
    "prefix = \"reviews-feature-store-\" + timestamp\n",
    "print(prefix)"
   ]
  },
  {
   "cell_type": "markdown",
   "id": "fbe8926c-b826-4fbd-b532-f838c6f068b3",
   "metadata": {},
   "source": [
    "## Create Feature Group\n",
    "\n",
    "The last step for creating the feature group is to use the `create` function. The online store is not created by default, so we must set this as `True` if we want to enable it. The `s3_uri` is the location of our offline store."
   ]
  },
  {
   "cell_type": "markdown",
   "id": "3c0bba15-dfe0-4605-86d7-c16bb1c3163c",
   "metadata": {},
   "source": [
    "# Barrier\n",
    "\n",
    "Need Data Wrangler permissions if you want to run this"
   ]
  },
  {
   "cell_type": "code",
   "execution_count": 15,
   "id": "2fde299b-6535-49a3-bd4a-b22e4608aa9f",
   "metadata": {},
   "outputs": [
    {
     "ename": "ClientError",
     "evalue": "An error occurred (ValidationException) when calling the CreateFeatureGroup operation: Invalid S3Uri provided. Exception from S3: {Access Denied (Service: Amazon S3; Status Code: 403; Error Code: AccessDenied; Request ID: DV4NXH92YB3PMFWN; S3 Extended Request ID: 1dFL6N3oIzZvFNOZqjfBNkKcctyF7PMMlxfiIsHAdClbvfNIyDWYrLDJpfuaqcXWA8S0xmhLuvg=; Proxy: null)}. Please ensure that the OfflineStore S3 bucket exists and that the given RoleArn has the 'AmazonSageMakerFeatureStoreAccess' managed policy attached, with access to the bucket and objects in the bucket, with the principal 'sagemaker.amazonaws.com' as a trusted entity. If a KMS Key is provided for the offline store, please ensure that the RoleArn has 'kms:GenerateDataKey' permission and has access to the KMS Key.",
     "output_type": "error",
     "traceback": [
      "\u001b[0;31m---------------------------------------------------------------------------\u001b[0m",
      "\u001b[0;31mClientError\u001b[0m                               Traceback (most recent call last)",
      "Cell \u001b[0;32mIn[15], line 1\u001b[0m\n\u001b[0;32m----> 1\u001b[0m \u001b[43mfeature_group\u001b[49m\u001b[38;5;241;43m.\u001b[39;49m\u001b[43mcreate\u001b[49m\u001b[43m(\u001b[49m\n\u001b[1;32m      2\u001b[0m \u001b[43m    \u001b[49m\u001b[43ms3_uri\u001b[49m\u001b[38;5;241;43m=\u001b[39;49m\u001b[38;5;124;43mf\u001b[39;49m\u001b[38;5;124;43m\"\u001b[39;49m\u001b[38;5;124;43ms3://\u001b[39;49m\u001b[38;5;132;43;01m{\u001b[39;49;00m\u001b[43mbucket\u001b[49m\u001b[38;5;132;43;01m}\u001b[39;49;00m\u001b[38;5;124;43m/\u001b[39;49m\u001b[38;5;132;43;01m{\u001b[39;49;00m\u001b[43mprefix\u001b[49m\u001b[38;5;132;43;01m}\u001b[39;49;00m\u001b[38;5;124;43m\"\u001b[39;49m\u001b[43m,\u001b[49m\n\u001b[1;32m      3\u001b[0m \u001b[43m    \u001b[49m\u001b[43mrecord_identifier_name\u001b[49m\u001b[38;5;241;43m=\u001b[39;49m\u001b[43mrecord_identifier_feature_name\u001b[49m\u001b[43m,\u001b[49m\n\u001b[1;32m      4\u001b[0m \u001b[43m    \u001b[49m\u001b[43mevent_time_feature_name\u001b[49m\u001b[38;5;241;43m=\u001b[39;49m\u001b[43mevent_time_feature_name\u001b[49m\u001b[43m,\u001b[49m\n\u001b[1;32m      5\u001b[0m \u001b[43m    \u001b[49m\u001b[43mrole_arn\u001b[49m\u001b[38;5;241;43m=\u001b[39;49m\u001b[43mrole\u001b[49m\u001b[43m,\u001b[49m\n\u001b[1;32m      6\u001b[0m \u001b[43m    \u001b[49m\u001b[43menable_online_store\u001b[49m\u001b[38;5;241;43m=\u001b[39;49m\u001b[38;5;28;43;01mFalse\u001b[39;49;00m\u001b[43m,\u001b[49m\n\u001b[1;32m      7\u001b[0m \u001b[43m)\u001b[49m\n",
      "File \u001b[0;32m/opt/conda/lib/python3.8/site-packages/sagemaker/feature_store/feature_group.py:476\u001b[0m, in \u001b[0;36mFeatureGroup.create\u001b[0;34m(self, s3_uri, record_identifier_name, event_time_feature_name, role_arn, online_store_kms_key_id, enable_online_store, offline_store_kms_key_id, disable_glue_table_creation, data_catalog_config, description, tags)\u001b[0m\n\u001b[1;32m    467\u001b[0m     offline_store_config \u001b[38;5;241m=\u001b[39m OfflineStoreConfig(\n\u001b[1;32m    468\u001b[0m         s3_storage_config\u001b[38;5;241m=\u001b[39ms3_storage_config,\n\u001b[1;32m    469\u001b[0m         disable_glue_table_creation\u001b[38;5;241m=\u001b[39mdisable_glue_table_creation,\n\u001b[1;32m    470\u001b[0m         data_catalog_config\u001b[38;5;241m=\u001b[39mdata_catalog_config,\n\u001b[1;32m    471\u001b[0m     )\n\u001b[1;32m    472\u001b[0m     create_feature_store_args\u001b[38;5;241m.\u001b[39mupdate(\n\u001b[1;32m    473\u001b[0m         {\u001b[38;5;124m\"\u001b[39m\u001b[38;5;124moffline_store_config\u001b[39m\u001b[38;5;124m\"\u001b[39m: offline_store_config\u001b[38;5;241m.\u001b[39mto_dict()}\n\u001b[1;32m    474\u001b[0m     )\n\u001b[0;32m--> 476\u001b[0m \u001b[38;5;28;01mreturn\u001b[39;00m \u001b[38;5;28;43mself\u001b[39;49m\u001b[38;5;241;43m.\u001b[39;49m\u001b[43msagemaker_session\u001b[49m\u001b[38;5;241;43m.\u001b[39;49m\u001b[43mcreate_feature_group\u001b[49m\u001b[43m(\u001b[49m\u001b[38;5;241;43m*\u001b[39;49m\u001b[38;5;241;43m*\u001b[39;49m\u001b[43mcreate_feature_store_args\u001b[49m\u001b[43m)\u001b[49m\n",
      "File \u001b[0;32m/opt/conda/lib/python3.8/site-packages/sagemaker/session.py:3888\u001b[0m, in \u001b[0;36mSession.create_feature_group\u001b[0;34m(self, feature_group_name, record_identifier_name, event_time_feature_name, feature_definitions, role_arn, online_store_config, offline_store_config, description, tags)\u001b[0m\n\u001b[1;32m   3874\u001b[0m kwargs \u001b[38;5;241m=\u001b[39m \u001b[38;5;28mdict\u001b[39m(\n\u001b[1;32m   3875\u001b[0m     FeatureGroupName\u001b[38;5;241m=\u001b[39mfeature_group_name,\n\u001b[1;32m   3876\u001b[0m     RecordIdentifierFeatureName\u001b[38;5;241m=\u001b[39mrecord_identifier_name,\n\u001b[0;32m   (...)\u001b[0m\n\u001b[1;32m   3879\u001b[0m     RoleArn\u001b[38;5;241m=\u001b[39mrole_arn,\n\u001b[1;32m   3880\u001b[0m )\n\u001b[1;32m   3881\u001b[0m update_args(\n\u001b[1;32m   3882\u001b[0m     kwargs,\n\u001b[1;32m   3883\u001b[0m     OnlineStoreConfig\u001b[38;5;241m=\u001b[39monline_store_config,\n\u001b[0;32m   (...)\u001b[0m\n\u001b[1;32m   3886\u001b[0m     Tags\u001b[38;5;241m=\u001b[39mtags,\n\u001b[1;32m   3887\u001b[0m )\n\u001b[0;32m-> 3888\u001b[0m \u001b[38;5;28;01mreturn\u001b[39;00m \u001b[38;5;28;43mself\u001b[39;49m\u001b[38;5;241;43m.\u001b[39;49m\u001b[43msagemaker_client\u001b[49m\u001b[38;5;241;43m.\u001b[39;49m\u001b[43mcreate_feature_group\u001b[49m\u001b[43m(\u001b[49m\u001b[38;5;241;43m*\u001b[39;49m\u001b[38;5;241;43m*\u001b[39;49m\u001b[43mkwargs\u001b[49m\u001b[43m)\u001b[49m\n",
      "File \u001b[0;32m/opt/conda/lib/python3.8/site-packages/botocore/client.py:530\u001b[0m, in \u001b[0;36mClientCreator._create_api_method.<locals>._api_call\u001b[0;34m(self, *args, **kwargs)\u001b[0m\n\u001b[1;32m    526\u001b[0m     \u001b[38;5;28;01mraise\u001b[39;00m \u001b[38;5;167;01mTypeError\u001b[39;00m(\n\u001b[1;32m    527\u001b[0m         \u001b[38;5;124mf\u001b[39m\u001b[38;5;124m\"\u001b[39m\u001b[38;5;132;01m{\u001b[39;00mpy_operation_name\u001b[38;5;132;01m}\u001b[39;00m\u001b[38;5;124m() only accepts keyword arguments.\u001b[39m\u001b[38;5;124m\"\u001b[39m\n\u001b[1;32m    528\u001b[0m     )\n\u001b[1;32m    529\u001b[0m \u001b[38;5;66;03m# The \"self\" in this scope is referring to the BaseClient.\u001b[39;00m\n\u001b[0;32m--> 530\u001b[0m \u001b[38;5;28;01mreturn\u001b[39;00m \u001b[38;5;28;43mself\u001b[39;49m\u001b[38;5;241;43m.\u001b[39;49m\u001b[43m_make_api_call\u001b[49m\u001b[43m(\u001b[49m\u001b[43moperation_name\u001b[49m\u001b[43m,\u001b[49m\u001b[43m \u001b[49m\u001b[43mkwargs\u001b[49m\u001b[43m)\u001b[49m\n",
      "File \u001b[0;32m/opt/conda/lib/python3.8/site-packages/botocore/client.py:960\u001b[0m, in \u001b[0;36mBaseClient._make_api_call\u001b[0;34m(self, operation_name, api_params)\u001b[0m\n\u001b[1;32m    958\u001b[0m     error_code \u001b[38;5;241m=\u001b[39m parsed_response\u001b[38;5;241m.\u001b[39mget(\u001b[38;5;124m\"\u001b[39m\u001b[38;5;124mError\u001b[39m\u001b[38;5;124m\"\u001b[39m, {})\u001b[38;5;241m.\u001b[39mget(\u001b[38;5;124m\"\u001b[39m\u001b[38;5;124mCode\u001b[39m\u001b[38;5;124m\"\u001b[39m)\n\u001b[1;32m    959\u001b[0m     error_class \u001b[38;5;241m=\u001b[39m \u001b[38;5;28mself\u001b[39m\u001b[38;5;241m.\u001b[39mexceptions\u001b[38;5;241m.\u001b[39mfrom_code(error_code)\n\u001b[0;32m--> 960\u001b[0m     \u001b[38;5;28;01mraise\u001b[39;00m error_class(parsed_response, operation_name)\n\u001b[1;32m    961\u001b[0m \u001b[38;5;28;01melse\u001b[39;00m:\n\u001b[1;32m    962\u001b[0m     \u001b[38;5;28;01mreturn\u001b[39;00m parsed_response\n",
      "\u001b[0;31mClientError\u001b[0m: An error occurred (ValidationException) when calling the CreateFeatureGroup operation: Invalid S3Uri provided. Exception from S3: {Access Denied (Service: Amazon S3; Status Code: 403; Error Code: AccessDenied; Request ID: DV4NXH92YB3PMFWN; S3 Extended Request ID: 1dFL6N3oIzZvFNOZqjfBNkKcctyF7PMMlxfiIsHAdClbvfNIyDWYrLDJpfuaqcXWA8S0xmhLuvg=; Proxy: null)}. Please ensure that the OfflineStore S3 bucket exists and that the given RoleArn has the 'AmazonSageMakerFeatureStoreAccess' managed policy attached, with access to the bucket and objects in the bucket, with the principal 'sagemaker.amazonaws.com' as a trusted entity. If a KMS Key is provided for the offline store, please ensure that the RoleArn has 'kms:GenerateDataKey' permission and has access to the KMS Key."
     ]
    }
   ],
   "source": [
    "feature_group.create(\n",
    "    s3_uri=f\"s3://{bucket}/{prefix}\",\n",
    "    record_identifier_name=record_identifier_feature_name,\n",
    "    event_time_feature_name=event_time_feature_name,\n",
    "    role_arn=role,\n",
    "    enable_online_store=False,\n",
    ")"
   ]
  },
  {
   "cell_type": "markdown",
   "id": "1656e59b-b3fe-4a1e-9a9a-398499d91dbb",
   "metadata": {},
   "source": [
    "## Describe the Feature Group"
   ]
  },
  {
   "cell_type": "code",
   "execution_count": null,
   "id": "bb82d0f7-2055-4543-a3e6-0315bd5c8c3a",
   "metadata": {},
   "outputs": [],
   "source": [
    "feature_group.describe()"
   ]
  },
  {
   "cell_type": "markdown",
   "id": "1f29d801-130f-4c35-b4d3-5da501bb1711",
   "metadata": {},
   "source": [
    "## Review The Records To Ingest Into Feature Store"
   ]
  },
  {
   "cell_type": "code",
   "execution_count": null,
   "id": "6e0dbeca-081b-4848-a25c-5e53a12d7dd0",
   "metadata": {},
   "outputs": [],
   "source": [
    "records = transform_inputs_to_tfrecord(inputs, output_file, max_seq_length)"
   ]
  },
  {
   "cell_type": "markdown",
   "id": "b5d0f1c5-1ddb-490f-8d09-fffa822425d2",
   "metadata": {},
   "source": [
    "# _IGNORE THE WARNING ^^ ABOVE ^^_"
   ]
  },
  {
   "cell_type": "markdown",
   "id": "f9d318b9-05a4-4fb8-b803-4435a915d4c1",
   "metadata": {},
   "source": [
    "## Wait For The Feature Group Creation Complete\n",
    "\n",
    "## _Note:  This may take a few minutes.  Please be patient._\n",
    "\n",
    "Creating a feature group takes time as the data is loaded. We will need to wait until it is created before you can use it. You can check status using the following method."
   ]
  },
  {
   "cell_type": "code",
   "execution_count": null,
   "id": "4f41851e-6826-404d-a8f3-0d6ec2d8bc21",
   "metadata": {},
   "outputs": [],
   "source": [
    "import time\n",
    "\n",
    "\n",
    "def wait_for_feature_group_creation_complete(feature_group):\n",
    "    status = feature_group.describe().get(\"FeatureGroupStatus\")\n",
    "    while status == \"Creating\":\n",
    "        print(\"Waiting for Feature Group Creation\")\n",
    "        time.sleep(5)\n",
    "        status = feature_group.describe().get(\"FeatureGroupStatus\")\n",
    "    if status != \"Created\":\n",
    "        raise RuntimeError(f\"Failed to create feature group {feature_group.name}\")\n",
    "    print(f\"FeatureGroup {feature_group.name} successfully created.\")"
   ]
  },
  {
   "cell_type": "code",
   "execution_count": null,
   "id": "afcdc632-829a-4a9c-bc41-5e5a7ca5b1d7",
   "metadata": {},
   "outputs": [],
   "source": [
    "wait_for_feature_group_creation_complete(feature_group=feature_group)"
   ]
  },
  {
   "cell_type": "markdown",
   "id": "437bddd3-6834-4e5e-9092-b1747eb07246",
   "metadata": {},
   "source": [
    "# Ingest Records into Feature Store\n",
    "\n",
    "After the FeatureGroups have been created, we can put data into the FeatureGroups by using the `PutRecord` API. \n",
    "\n",
    "This API can handle high TPS and is designed to be called by different streams. The data from all of these Put requests is buffered and written to S3 in chunks. \n",
    "\n",
    "The files will be written to the offline store within a few minutes of ingestion. To accelerate the ingestion process, we can specify multiple workers to do the job simultaneously. \n",
    "\n",
    "Use `put_record(...)` to put a single record in the FeatureGroup.\n",
    "\n",
    "Use `ingest(...)` to ingest the content of a pandas DataFrame to Feature Store. You can set the `max_worker` to the number of threads to be created to work on different partitions of the `data_frame` in parallel."
   ]
  },
  {
   "cell_type": "code",
   "execution_count": null,
   "id": "ace4f2e7-0994-470f-8c5c-f1b4007ec22a",
   "metadata": {},
   "outputs": [],
   "source": [
    "import pandas as pd\n",
    "\n",
    "df_records = pd.DataFrame.from_dict(records)\n",
    "df_records[\"split_type\"] = \"train\"\n",
    "df_records"
   ]
  },
  {
   "cell_type": "markdown",
   "id": "1c9700e9-d229-4b84-bf08-f76cce2f3a1a",
   "metadata": {},
   "source": [
    "# Cast DataFrame `Object` to Supported Feature Store Data Type `String`"
   ]
  },
  {
   "cell_type": "code",
   "execution_count": null,
   "id": "7de8ece1-bbce-4fe4-b526-9155029dc974",
   "metadata": {},
   "outputs": [],
   "source": [
    "def cast_object_to_string(data_frame):\n",
    "    for label in data_frame.columns:\n",
    "        if data_frame.dtypes[label] == \"object\":\n",
    "            data_frame[label] = data_frame[label].astype(\"str\").astype(\"string\")"
   ]
  },
  {
   "cell_type": "code",
   "execution_count": null,
   "id": "c6367a8b-f5fc-4ce8-a504-d64e21718d72",
   "metadata": {},
   "outputs": [],
   "source": [
    "%%time\n",
    "\n",
    "cast_object_to_string(df_records)\n",
    "\n",
    "feature_group.ingest(data_frame=df_records, max_workers=3, wait=True)"
   ]
  },
  {
   "cell_type": "markdown",
   "id": "6c0a07a7-9353-4ebf-ac67-5660f8cfc5f8",
   "metadata": {},
   "source": [
    "# Wait For Feature Store To Become Active\n",
    "## _Note:  This may take a few minutes.  Please be patient._"
   ]
  },
  {
   "cell_type": "code",
   "execution_count": null,
   "id": "75c8aada-9f7e-443d-a39d-16681068a60e",
   "metadata": {},
   "outputs": [],
   "source": [
    "feature_store_describe_response = feature_group.describe()\n",
    "\n",
    "while \"OfflineStoreStatus\" not in feature_store_describe_response.keys():\n",
    "    feature_store_describe_response = feature_group.describe()\n",
    "    print(\"[INFO] Waiting for OfflineStore to be created.\")\n",
    "    # print(json.dumps(feature_store_describe_response, indent=4, sort_keys=True, default=str))\n",
    "    sleep(120)\n",
    "\n",
    "print(\"Offline store created.\")"
   ]
  },
  {
   "cell_type": "code",
   "execution_count": null,
   "id": "94504fa2-8673-42ef-bcf0-25f4e4eea1cd",
   "metadata": {},
   "outputs": [],
   "source": [
    "offline_store_status = None\n",
    "\n",
    "while offline_store_status != 'Active':\n",
    "    try:\n",
    "        offline_store_status = feature_group.describe()['OfflineStoreStatus']['Status']\n",
    "    except:\n",
    "        pass\n",
    "print('Offline store status: {}'.format(offline_store_status))"
   ]
  },
  {
   "cell_type": "markdown",
   "id": "feafd465-e196-45bb-a9ee-0cd163681e02",
   "metadata": {},
   "source": [
    "# Query the Feature Store"
   ]
  },
  {
   "cell_type": "code",
   "execution_count": null,
   "id": "f89f42f9-194a-4a64-a424-5b9a4d4fa96d",
   "metadata": {},
   "outputs": [],
   "source": [
    "feature_store_query = feature_group.athena_query()\n",
    "\n",
    "feature_store_table = feature_store_query.table_name\n",
    "\n",
    "query_string = \"\"\"\n",
    "    SELECT \n",
    "        input_ids,\n",
    "        input_mask,\n",
    "        segment_ids, \n",
    "        label_id,\n",
    "        review_id,\n",
    "        date,\n",
    "        label,\n",
    "        split_type\n",
    "    FROM \"{}\" \n",
    "    WHERE split_type='train' \n",
    "    LIMIT 3\n",
    "\"\"\".format(feature_store_table)\n",
    "\n",
    "print('Glue Catalog table name: {}'.format(feature_store_table))\n",
    "print('Running query: {}'.format(query_string))"
   ]
  },
  {
   "cell_type": "code",
   "execution_count": null,
   "id": "dbc39bd8-2e29-4131-a007-5592d8abf625",
   "metadata": {},
   "outputs": [],
   "source": [
    "output_s3_uri = 's3://{}/query_results/{}/'.format(bucket, prefix)\n",
    "print(output_s3_uri)"
   ]
  },
  {
   "cell_type": "code",
   "execution_count": null,
   "id": "750bf580-e642-41a3-b5fc-5617f1cf7dec",
   "metadata": {},
   "outputs": [],
   "source": [
    "feature_store_query.run(\n",
    "    query_string=query_string, \n",
    "    output_location=output_s3_uri\n",
    ")\n",
    "\n",
    "feature_store_query.wait()"
   ]
  },
  {
   "cell_type": "code",
   "execution_count": null,
   "id": "2799b635-e8b4-4a92-8556-61cdb053c5f3",
   "metadata": {},
   "outputs": [],
   "source": [
    "import pandas as pd\n",
    "pd.set_option(\"max_colwidth\", 100)\n",
    "\n",
    "df_feature_store = feature_store_query.as_dataframe()\n",
    "df_feature_store"
   ]
  },
  {
   "cell_type": "markdown",
   "id": "db224bdf-c771-4a1e-9beb-b4e0369f2a1c",
   "metadata": {},
   "source": [
    "# Review the Feature Store\n",
    "\n",
    "![Feature Store](img/feature_store_sm_extension.png)"
   ]
  },
  {
   "cell_type": "markdown",
   "id": "6e1dc67a-4cf4-4114-9ba8-84a47e9a8791",
   "metadata": {},
   "source": [
    "# Release Resources"
   ]
  },
  {
   "cell_type": "code",
   "execution_count": null,
   "id": "1498ade4-cf73-47a7-9951-5e5ec1b11c2e",
   "metadata": {},
   "outputs": [],
   "source": [
    "%%html\n",
    "\n",
    "<p><b>Shutting down your kernel for this notebook to release resources.</b></p>\n",
    "<button class=\"sm-command-button\" data-commandlinker-command=\"kernelmenu:shutdown\" style=\"display:none;\">Shutdown Kernel</button>\n",
    "        \n",
    "<script>\n",
    "try {\n",
    "    els = document.getElementsByClassName(\"sm-command-button\");\n",
    "    els[0].click();\n",
    "}\n",
    "catch(err) {\n",
    "    // NoOp\n",
    "}    \n",
    "</script>"
   ]
  },
  {
   "cell_type": "code",
   "execution_count": null,
   "id": "093f11c6-16c0-499b-be0e-55ae2392956b",
   "metadata": {},
   "outputs": [],
   "source": []
  }
 ],
 "metadata": {
  "instance_type": "ml.t3.medium",
  "kernelspec": {
   "display_name": "Python 3 (Data Science 2.0)",
   "language": "python",
   "name": "python3__SAGEMAKER_INTERNAL__arn:aws:sagemaker:us-east-1:081325390199:image/sagemaker-data-science-38"
  },
  "language_info": {
   "codemirror_mode": {
    "name": "ipython",
    "version": 3
   },
   "file_extension": ".py",
   "mimetype": "text/x-python",
   "name": "python",
   "nbconvert_exporter": "python",
   "pygments_lexer": "ipython3",
   "version": "3.8.13"
  }
 },
 "nbformat": 4,
 "nbformat_minor": 5
}
