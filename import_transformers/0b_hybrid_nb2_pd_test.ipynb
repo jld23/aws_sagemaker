{
 "cells": [
  {
   "cell_type": "code",
   "execution_count": 2,
   "id": "ac1fe9bb-0004-4cba-b9a9-a7df4591d5db",
   "metadata": {
    "tags": []
   },
   "outputs": [],
   "source": [
    "import pandas as pd\n",
    "import numpy as np\n",
    "import datetime\n",
    "import random\n",
    "\n",
    "import sagemaker\n",
    "import sagemaker.session\n",
    "\n",
    "from sagemaker.workflow.parameters import (\n",
    "    ParameterInteger,\n",
    "    ParameterString\n",
    ")\n",
    "\n",
    "from sagemaker.sklearn.processing import SKLearnProcessor\n",
    "from sagemaker.processing import ProcessingInput, ProcessingOutput\n",
    "from sagemaker.workflow.steps import ProcessingStep, TrainingStep\n",
    "from sagemaker.workflow.functions import Join\n",
    "from sagemaker.workflow.execution_variables import ExecutionVariables\n",
    "from sagemaker.sklearn.estimator import SKLearn\n",
    "# import sagemaker_containers\n",
    "\n",
    "from sagemaker.workflow.pipeline import Pipeline\n",
    "\n",
    "import os\n",
    "from sklearn.model_selection import train_test_split\n",
    "from time import gmtime, strftime, sleep\n",
    "import boto3\n",
    "import joblib"
   ]
  },
  {
   "cell_type": "code",
   "execution_count": 3,
   "id": "284574b1-3da8-429e-ae3a-ce5297ba17d6",
   "metadata": {
    "tags": []
   },
   "outputs": [],
   "source": [
    "session = sagemaker.session.Session()\n",
    "region = session.boto_region_name\n",
    "role = sagemaker.get_execution_role()\n",
    "bucket = session.default_bucket()\n",
    "prefix = 'custom_preprocessing'\n",
    "\n",
    "timestamp_suffix = strftime(\"%Y-%m-%d-%H%M%S\", gmtime())\n",
    "folder_name = prefix + '-' + timestamp_suffix\n",
    "prefix_path = f's3://{bucket}/{folder_name}'"
   ]
  },
  {
   "cell_type": "code",
   "execution_count": 4,
   "id": "64146521-bac7-4397-9b1c-bef164f164e2",
   "metadata": {
    "tags": []
   },
   "outputs": [],
   "source": [
    "tags = [\n",
    "    {\"Key\": \"PLATFORM\", \"Value\": \"FO-ML\"},\n",
    "    {\"Key\": \"BUSINESS_REGION\", \"Value\": \"GLOBAL\"},\n",
    "    {\"Key\": \"BUSINESS_UNIT\", \"Value\": \"MOBILITY\"},\n",
    "    {\"Key\": \"CLIENT\", \"Value\": \"MULTI_TENANT\"}\n",
    "   ]"
   ]
  },
  {
   "cell_type": "markdown",
   "id": "22b8e5a7-e246-4da8-907f-1ef196744d66",
   "metadata": {},
   "source": [
    "## Create sample data"
   ]
  },
  {
   "cell_type": "code",
   "execution_count": 5,
   "id": "6d07aa5a-d035-419f-8013-6f313e26986c",
   "metadata": {
    "tags": []
   },
   "outputs": [
    {
     "data": {
      "text/html": [
       "<div>\n",
       "<style scoped>\n",
       "    .dataframe tbody tr th:only-of-type {\n",
       "        vertical-align: middle;\n",
       "    }\n",
       "\n",
       "    .dataframe tbody tr th {\n",
       "        vertical-align: top;\n",
       "    }\n",
       "\n",
       "    .dataframe thead th {\n",
       "        text-align: right;\n",
       "    }\n",
       "</style>\n",
       "<table border=\"1\" class=\"dataframe\">\n",
       "  <thead>\n",
       "    <tr style=\"text-align: right;\">\n",
       "      <th></th>\n",
       "      <th>true_false</th>\n",
       "      <th>one_hot</th>\n",
       "      <th>dates</th>\n",
       "      <th>floats</th>\n",
       "      <th>max_of_list</th>\n",
       "      <th>nunique_of_list</th>\n",
       "      <th>desc_stats</th>\n",
       "      <th>multi_label</th>\n",
       "      <th>random_col</th>\n",
       "      <th>other</th>\n",
       "    </tr>\n",
       "  </thead>\n",
       "  <tbody>\n",
       "    <tr>\n",
       "      <th>0</th>\n",
       "      <td>true</td>\n",
       "      <td>NaN</td>\n",
       "      <td>2022-02-04</td>\n",
       "      <td>3.0</td>\n",
       "      <td>3,0,9,4,2</td>\n",
       "      <td>apple,orange,grape</td>\n",
       "      <td>9,2,8,3,4</td>\n",
       "      <td>apple,orange,grape</td>\n",
       "      <td>NaN</td>\n",
       "      <td>0</td>\n",
       "    </tr>\n",
       "    <tr>\n",
       "      <th>1</th>\n",
       "      <td>false</td>\n",
       "      <td>purple</td>\n",
       "      <td>2022-12-19</td>\n",
       "      <td>8.0</td>\n",
       "      <td>NaN</td>\n",
       "      <td>0,9,8,3,4,3,3,4,9</td>\n",
       "      <td>1</td>\n",
       "      <td>pineapple,grape,strawberry</td>\n",
       "      <td>3.0</td>\n",
       "      <td>1</td>\n",
       "    </tr>\n",
       "    <tr>\n",
       "      <th>2</th>\n",
       "      <td>NaN</td>\n",
       "      <td>orange</td>\n",
       "      <td>2022-05-06</td>\n",
       "      <td>2.0</td>\n",
       "      <td>0,2,3,9,8,4</td>\n",
       "      <td>NaN</td>\n",
       "      <td>7,8,9,2,3,4</td>\n",
       "      <td>NaN</td>\n",
       "      <td>6.0</td>\n",
       "      <td>2</td>\n",
       "    </tr>\n",
       "    <tr>\n",
       "      <th>3</th>\n",
       "      <td>1</td>\n",
       "      <td>purple</td>\n",
       "      <td>2022-07-28</td>\n",
       "      <td>NaN</td>\n",
       "      <td>4</td>\n",
       "      <td>4,4,4,4,4</td>\n",
       "      <td>NaN</td>\n",
       "      <td>blueberry</td>\n",
       "      <td>1.0</td>\n",
       "      <td>3</td>\n",
       "    </tr>\n",
       "    <tr>\n",
       "      <th>4</th>\n",
       "      <td>0</td>\n",
       "      <td>blue</td>\n",
       "      <td>NaN</td>\n",
       "      <td>4.0</td>\n",
       "      <td>5,4,3</td>\n",
       "      <td>pineapple</td>\n",
       "      <td>34</td>\n",
       "      <td>grapefruit,apple</td>\n",
       "      <td>NaN</td>\n",
       "      <td>4</td>\n",
       "    </tr>\n",
       "  </tbody>\n",
       "</table>\n",
       "</div>"
      ],
      "text/plain": [
       "  true_false one_hot       dates  floats  max_of_list     nunique_of_list  \\\n",
       "0       true     NaN  2022-02-04     3.0    3,0,9,4,2  apple,orange,grape   \n",
       "1      false  purple  2022-12-19     8.0          NaN   0,9,8,3,4,3,3,4,9   \n",
       "2        NaN  orange  2022-05-06     2.0  0,2,3,9,8,4                 NaN   \n",
       "3          1  purple  2022-07-28     NaN            4           4,4,4,4,4   \n",
       "4          0    blue         NaN     4.0        5,4,3           pineapple   \n",
       "\n",
       "    desc_stats                 multi_label  random_col  other  \n",
       "0    9,2,8,3,4          apple,orange,grape         NaN      0  \n",
       "1            1  pineapple,grape,strawberry         3.0      1  \n",
       "2  7,8,9,2,3,4                         NaN         6.0      2  \n",
       "3          NaN                   blueberry         1.0      3  \n",
       "4           34            grapefruit,apple         NaN      4  "
      ]
     },
     "execution_count": 5,
     "metadata": {},
     "output_type": "execute_result"
    }
   ],
   "source": [
    "tf_vals = ['true', 'false', np.nan, '1', '0']\n",
    "onehot_vals = [np.nan, 'purple', 'orange', 'purple', 'blue']\n",
    "\n",
    "date_vals = []\n",
    "for _ in range(4):\n",
    "    date = datetime.date(2022, random.randint(1, 12), random.randint(1, 31))\n",
    "    date_vals.append(date)\n",
    "date_vals.append(np.nan)\n",
    "\n",
    "float_vals = [3, 8.0, 2, np.nan, 4.0]\n",
    "list_max_vals = ['3,0,9,4,2', np.nan, '0,2,3,9,8,4', '4', '5,4,3']\n",
    "list_nunique_vals = ['apple,orange,grape', '0,9,8,3,4,3,3,4,9', np.nan, '4,4,4,4,4', 'pineapple']\n",
    "descstat_vals = ['9,2,8,3,4', '1', '7,8,9,2,3,4', np.nan, '34']\n",
    "multi_label_vals = ['apple,orange,grape', 'pineapple,grape,strawberry', np.nan, 'blueberry', 'grapefruit,apple']\n",
    "drop_vals = [np.nan, 3, 6, 1, np.nan]\n",
    "x_rand = list(range(5))\n",
    "\n",
    "sample_df = pd.DataFrame({\n",
    "    'true_false':tf_vals,\n",
    "    'one_hot':onehot_vals,\n",
    "    'dates':date_vals,\n",
    "    'floats':float_vals,\n",
    "    'max_of_list':list_max_vals,\n",
    "    'nunique_of_list':list_nunique_vals,\n",
    "    'desc_stats':descstat_vals,\n",
    "    'multi_label':multi_label_vals,\n",
    "    'random_col':drop_vals,\n",
    "    'other':x_rand})\n",
    "sample_df"
   ]
  },
  {
   "cell_type": "code",
   "execution_count": 6,
   "id": "1848dcfd-9613-4358-a144-fde715694072",
   "metadata": {
    "tags": []
   },
   "outputs": [],
   "source": [
    "sample_df.to_csv('sample.csv', index=False)\n",
    "train_input = session.upload_data('sample.csv', bucket=bucket, key_prefix=folder_name)"
   ]
  },
  {
   "cell_type": "markdown",
   "id": "901d26d2-03d3-4998-ab0b-447b0a9c083a",
   "metadata": {},
   "source": [
    "## Train Preprocessor"
   ]
  },
  {
   "cell_type": "code",
   "execution_count": 7,
   "id": "c01b1b62-eb70-48c0-8fce-d1bea6cd3889",
   "metadata": {
    "tags": []
   },
   "outputs": [],
   "source": [
    "script_path = \"processor_script.py\"\n",
    "model_output_path = os.path.join('s3://', bucket, folder_name, \"components\")\n",
    "\n",
    "sklearn_transformer = SKLearn(\n",
    "    entry_point=script_path,\n",
    "    role=role,\n",
    "    output_path=model_output_path,\n",
    "    instance_type=\"ml.m5.large\",\n",
    "    sagemaker_session=None,\n",
    "    framework_version=\"1.0-1\",\n",
    "    py_version=\"py3\",\n",
    "    tags=tags,\n",
    "    dependencies=['transformers.py']\n",
    ")"
   ]
  },
  {
   "cell_type": "code",
   "execution_count": 8,
   "id": "f3601300-dac4-489f-ad5e-4466af152891",
   "metadata": {
    "scrolled": true,
    "tags": []
   },
   "outputs": [
    {
     "name": "stderr",
     "output_type": "stream",
     "text": [
      "INFO:sagemaker:Creating training-job with name: sagemaker-scikit-learn-2023-03-01-18-19-37-681\n"
     ]
    },
    {
     "name": "stdout",
     "output_type": "stream",
     "text": [
      "2023-03-01 18:19:38 Starting - Starting the training job.........\n",
      "2023-03-01 18:21:04 Starting - Preparing the instances for training......\n",
      "2023-03-01 18:21:52 Downloading - Downloading input data...\n",
      "2023-03-01 18:22:23 Training - Downloading the training image...\n",
      "2023-03-01 18:23:09 Uploading - Uploading generated training model.\u001b[34m2023-03-01 18:23:04,114 sagemaker-containers INFO     Imported framework sagemaker_sklearn_container.training\u001b[0m\n",
      "\u001b[34m2023-03-01 18:23:04,118 sagemaker-training-toolkit INFO     No GPUs detected (normal if no gpus installed)\u001b[0m\n",
      "\u001b[34m2023-03-01 18:23:04,127 sagemaker_sklearn_container.training INFO     Invoking user training script.\u001b[0m\n",
      "\u001b[34m2023-03-01 18:23:04,422 sagemaker-training-toolkit INFO     No GPUs detected (normal if no gpus installed)\u001b[0m\n",
      "\u001b[34m2023-03-01 18:23:04,435 sagemaker-training-toolkit INFO     No GPUs detected (normal if no gpus installed)\u001b[0m\n",
      "\u001b[34m2023-03-01 18:23:04,447 sagemaker-training-toolkit INFO     No GPUs detected (normal if no gpus installed)\u001b[0m\n",
      "\u001b[34m2023-03-01 18:23:04,455 sagemaker-training-toolkit INFO     Invoking user script\u001b[0m\n",
      "\u001b[34mTraining Env:\u001b[0m\n",
      "\u001b[34m{\n",
      "    \"additional_framework_parameters\": {},\n",
      "    \"channel_input_dirs\": {\n",
      "        \"train\": \"/opt/ml/input/data/train\"\n",
      "    },\n",
      "    \"current_host\": \"algo-1\",\n",
      "    \"framework_module\": \"sagemaker_sklearn_container.training:main\",\n",
      "    \"hosts\": [\n",
      "        \"algo-1\"\n",
      "    ],\n",
      "    \"hyperparameters\": {},\n",
      "    \"input_config_dir\": \"/opt/ml/input/config\",\n",
      "    \"input_data_config\": {\n",
      "        \"train\": {\n",
      "            \"TrainingInputMode\": \"File\",\n",
      "            \"S3DistributionType\": \"FullyReplicated\",\n",
      "            \"RecordWrapperType\": \"None\"\n",
      "        }\n",
      "    },\n",
      "    \"input_dir\": \"/opt/ml/input\",\n",
      "    \"is_master\": true,\n",
      "    \"job_name\": \"sagemaker-scikit-learn-2023-03-01-18-19-37-681\",\n",
      "    \"log_level\": 20,\n",
      "    \"master_hostname\": \"algo-1\",\n",
      "    \"model_dir\": \"/opt/ml/model\",\n",
      "    \"module_dir\": \"s3://sagemaker-us-east-1-707031497630/sagemaker-scikit-learn-2023-03-01-18-19-37-681/source/sourcedir.tar.gz\",\n",
      "    \"module_name\": \"processor_script\",\n",
      "    \"network_interface_name\": \"eth0\",\n",
      "    \"num_cpus\": 2,\n",
      "    \"num_gpus\": 0,\n",
      "    \"output_data_dir\": \"/opt/ml/output/data\",\n",
      "    \"output_dir\": \"/opt/ml/output\",\n",
      "    \"output_intermediate_dir\": \"/opt/ml/output/intermediate\",\n",
      "    \"resource_config\": {\n",
      "        \"current_host\": \"algo-1\",\n",
      "        \"current_instance_type\": \"ml.m5.large\",\n",
      "        \"current_group_name\": \"homogeneousCluster\",\n",
      "        \"hosts\": [\n",
      "            \"algo-1\"\n",
      "        ],\n",
      "        \"instance_groups\": [\n",
      "            {\n",
      "                \"instance_group_name\": \"homogeneousCluster\",\n",
      "                \"instance_type\": \"ml.m5.large\",\n",
      "                \"hosts\": [\n",
      "                    \"algo-1\"\n",
      "                ]\n",
      "            }\n",
      "        ],\n",
      "        \"network_interface_name\": \"eth0\"\n",
      "    },\n",
      "    \"user_entry_point\": \"processor_script.py\"\u001b[0m\n",
      "\u001b[34m}\u001b[0m\n",
      "\u001b[34mEnvironment variables:\u001b[0m\n",
      "\u001b[34mSM_HOSTS=[\"algo-1\"]\u001b[0m\n",
      "\u001b[34mSM_NETWORK_INTERFACE_NAME=eth0\u001b[0m\n",
      "\u001b[34mSM_HPS={}\u001b[0m\n",
      "\u001b[34mSM_USER_ENTRY_POINT=processor_script.py\u001b[0m\n",
      "\u001b[34mSM_FRAMEWORK_PARAMS={}\u001b[0m\n",
      "\u001b[34mSM_RESOURCE_CONFIG={\"current_group_name\":\"homogeneousCluster\",\"current_host\":\"algo-1\",\"current_instance_type\":\"ml.m5.large\",\"hosts\":[\"algo-1\"],\"instance_groups\":[{\"hosts\":[\"algo-1\"],\"instance_group_name\":\"homogeneousCluster\",\"instance_type\":\"ml.m5.large\"}],\"network_interface_name\":\"eth0\"}\u001b[0m\n",
      "\u001b[34mSM_INPUT_DATA_CONFIG={\"train\":{\"RecordWrapperType\":\"None\",\"S3DistributionType\":\"FullyReplicated\",\"TrainingInputMode\":\"File\"}}\u001b[0m\n",
      "\u001b[34mSM_OUTPUT_DATA_DIR=/opt/ml/output/data\u001b[0m\n",
      "\u001b[34mSM_CHANNELS=[\"train\"]\u001b[0m\n",
      "\u001b[34mSM_CURRENT_HOST=algo-1\u001b[0m\n",
      "\u001b[34mSM_MODULE_NAME=processor_script\u001b[0m\n",
      "\u001b[34mSM_LOG_LEVEL=20\u001b[0m\n",
      "\u001b[34mSM_FRAMEWORK_MODULE=sagemaker_sklearn_container.training:main\u001b[0m\n",
      "\u001b[34mSM_INPUT_DIR=/opt/ml/input\u001b[0m\n",
      "\u001b[34mSM_INPUT_CONFIG_DIR=/opt/ml/input/config\u001b[0m\n",
      "\u001b[34mSM_OUTPUT_DIR=/opt/ml/output\u001b[0m\n",
      "\u001b[34mSM_NUM_CPUS=2\u001b[0m\n",
      "\u001b[34mSM_NUM_GPUS=0\u001b[0m\n",
      "\u001b[34mSM_MODEL_DIR=/opt/ml/model\u001b[0m\n",
      "\u001b[34mSM_MODULE_DIR=s3://sagemaker-us-east-1-707031497630/sagemaker-scikit-learn-2023-03-01-18-19-37-681/source/sourcedir.tar.gz\u001b[0m\n",
      "\u001b[34mSM_TRAINING_ENV={\"additional_framework_parameters\":{},\"channel_input_dirs\":{\"train\":\"/opt/ml/input/data/train\"},\"current_host\":\"algo-1\",\"framework_module\":\"sagemaker_sklearn_container.training:main\",\"hosts\":[\"algo-1\"],\"hyperparameters\":{},\"input_config_dir\":\"/opt/ml/input/config\",\"input_data_config\":{\"train\":{\"RecordWrapperType\":\"None\",\"S3DistributionType\":\"FullyReplicated\",\"TrainingInputMode\":\"File\"}},\"input_dir\":\"/opt/ml/input\",\"is_master\":true,\"job_name\":\"sagemaker-scikit-learn-2023-03-01-18-19-37-681\",\"log_level\":20,\"master_hostname\":\"algo-1\",\"model_dir\":\"/opt/ml/model\",\"module_dir\":\"s3://sagemaker-us-east-1-707031497630/sagemaker-scikit-learn-2023-03-01-18-19-37-681/source/sourcedir.tar.gz\",\"module_name\":\"processor_script\",\"network_interface_name\":\"eth0\",\"num_cpus\":2,\"num_gpus\":0,\"output_data_dir\":\"/opt/ml/output/data\",\"output_dir\":\"/opt/ml/output\",\"output_intermediate_dir\":\"/opt/ml/output/intermediate\",\"resource_config\":{\"current_group_name\":\"homogeneousCluster\",\"current_host\":\"algo-1\",\"current_instance_type\":\"ml.m5.large\",\"hosts\":[\"algo-1\"],\"instance_groups\":[{\"hosts\":[\"algo-1\"],\"instance_group_name\":\"homogeneousCluster\",\"instance_type\":\"ml.m5.large\"}],\"network_interface_name\":\"eth0\"},\"user_entry_point\":\"processor_script.py\"}\u001b[0m\n",
      "\u001b[34mSM_USER_ARGS=[]\u001b[0m\n",
      "\u001b[34mSM_OUTPUT_INTERMEDIATE_DIR=/opt/ml/output/intermediate\u001b[0m\n",
      "\u001b[34mSM_CHANNEL_TRAIN=/opt/ml/input/data/train\u001b[0m\n",
      "\u001b[34mPYTHONPATH=/opt/ml/code:/miniconda3/bin:/miniconda3/lib/python38.zip:/miniconda3/lib/python3.8:/miniconda3/lib/python3.8/lib-dynload:/miniconda3/lib/python3.8/site-packages\u001b[0m\n",
      "\u001b[34mInvoking script with the following command:\u001b[0m\n",
      "\u001b[34m/miniconda3/bin/python processor_script.py\u001b[0m\n",
      "\u001b[34mPreprocessing data\u001b[0m\n",
      "\u001b[34mRunning TrueFalseTransformer\u001b[0m\n",
      "\u001b[34mRunning OneHotTransformer\u001b[0m\n",
      "\u001b[34mRunning DateTransformer\u001b[0m\n",
      "\u001b[34mRunning FloatTransformer\u001b[0m\n",
      "\u001b[34mRunning ListMaxTransformer\u001b[0m\n",
      "\u001b[34mRunning ListNuniqueTransformer\u001b[0m\n",
      "\u001b[34mRunning DescStatTransformer\u001b[0m\n",
      "\u001b[34mRunning MultilabelTransformer\u001b[0m\n",
      "\u001b[34mSaving preprocessor joblib\u001b[0m\n",
      "\u001b[34mDefining and saving selected feature names\u001b[0m\n",
      "\u001b[34mtruefalse\u001b[0m\n",
      "\u001b[34monehot\u001b[0m\n",
      "\u001b[34mdates\u001b[0m\n",
      "\u001b[34mfloats\u001b[0m\n",
      "\u001b[34mlistmax\u001b[0m\n",
      "\u001b[34mnunique\u001b[0m\n",
      "\u001b[34mdescstats\u001b[0m\n",
      "\u001b[34mmultilabel\u001b[0m\n",
      "\u001b[34mSelected features are: ['true_false', 'one_hot_blue', 'one_hot_ml_empty', 'one_hot_orange', 'one_hot_purple', 'dates-month', 'dates-day_of_week', 'dates-hour', 'dates-day_of_month', 'dates-is_month_start', 'dates-is_month_end', 'floats', 'max_of_list', 'nunique_of_list', 'desc_stats-min', 'desc_stats-max', 'desc_stats-mean', 'desc_stats-std', 'desc_stats-nunique', 'multi_label_apple', 'multi_label_blueberry', 'multi_label_grape', 'multi_label_grapefruit', 'multi_label_ml_empty', 'multi_label_orange', 'multi_label_pineapple', 'multi_label_strawberry', 'other']\u001b[0m\n",
      "\u001b[34m2023-03-01 18:23:05,767 sagemaker-containers INFO     Reporting training SUCCESS\u001b[0m\n",
      "\n",
      "2023-03-01 18:23:25 Completed - Training job completed\n",
      "Training seconds: 92\n",
      "Billable seconds: 92\n"
     ]
    }
   ],
   "source": [
    "sklearn_transformer.fit({\"train\": train_input})"
   ]
  },
  {
   "cell_type": "code",
   "execution_count": 9,
   "id": "cc444335-31a5-4932-a7be-c38ea370c31e",
   "metadata": {
    "tags": []
   },
   "outputs": [],
   "source": [
    "transformer_prefix = os.path.join(folder_name,\n",
    "                                  \"components\",\n",
    "                                  sklearn_transformer.latest_training_job.job_name,\n",
    "                                  \"output\",\n",
    "                                  \"model.tar.gz\")\n",
    "\n",
    "session.download_data(path='./', bucket=bucket, key_prefix=transformer_prefix)"
   ]
  },
  {
   "cell_type": "code",
   "execution_count": 5,
   "id": "21d9ad2e-1716-4bf9-8106-efe592c8d2f2",
   "metadata": {
    "tags": []
   },
   "outputs": [],
   "source": [
    "# transformer_prefix = 'custom_preprocessing-2023-02-27-153524/components/sagemaker-scikit-learn-2023-02-27-15-35-25-466/output/model.tar.gz'\n",
    "# session.download_data(path='./', bucket=bucket, key_prefix=transformer_prefix)"
   ]
  },
  {
   "cell_type": "code",
   "execution_count": 10,
   "id": "7503da58-2e32-493f-bf37-7c522235faeb",
   "metadata": {
    "tags": []
   },
   "outputs": [
    {
     "name": "stdout",
     "output_type": "stream",
     "text": [
      "preprocessor.joblib\n",
      "feature_names.joblib\n"
     ]
    }
   ],
   "source": [
    "!tar xvzf model.tar.gz"
   ]
  },
  {
   "cell_type": "code",
   "execution_count": 11,
   "id": "a3907bcd-a154-4b90-83f7-d399ff087eab",
   "metadata": {
    "tags": []
   },
   "outputs": [
    {
     "name": "stdout",
     "output_type": "stream",
     "text": [
      "['true_false', 'one_hot_blue', 'one_hot_ml_empty', 'one_hot_orange', 'one_hot_purple', 'dates-month', 'dates-day_of_week', 'dates-hour', 'dates-day_of_month', 'dates-is_month_start', 'dates-is_month_end', 'floats', 'max_of_list', 'nunique_of_list', 'desc_stats-min', 'desc_stats-max', 'desc_stats-mean', 'desc_stats-std', 'desc_stats-nunique', 'multi_label_apple', 'multi_label_blueberry', 'multi_label_grape', 'multi_label_grapefruit', 'multi_label_ml_empty', 'multi_label_orange', 'multi_label_pineapple', 'multi_label_strawberry', 'other']\n"
     ]
    }
   ],
   "source": [
    "feature_list = list(joblib.load(\"feature_names.joblib\"))\n",
    "print(feature_list)"
   ]
  },
  {
   "cell_type": "code",
   "execution_count": 12,
   "id": "70a636b2-a343-477a-88dd-0b30ed94342e",
   "metadata": {
    "tags": []
   },
   "outputs": [
    {
     "data": {
      "text/plain": [
       "28"
      ]
     },
     "execution_count": 12,
     "metadata": {},
     "output_type": "execute_result"
    }
   ],
   "source": [
    "len(feature_list)"
   ]
  },
  {
   "cell_type": "code",
   "execution_count": 13,
   "id": "dc45cb6f-c0ff-4717-b76b-f927617ad21c",
   "metadata": {
    "tags": []
   },
   "outputs": [
    {
     "name": "stderr",
     "output_type": "stream",
     "text": [
      "/opt/conda/lib/python3.7/site-packages/sklearn/base.py:318: UserWarning: Trying to unpickle estimator OneHotEncoder from version 1.0.2 when using version 0.22.1. This might lead to breaking code or invalid results. Use at your own risk.\n",
      "  UserWarning)\n",
      "/opt/conda/lib/python3.7/site-packages/sklearn/base.py:318: UserWarning: Trying to unpickle estimator MultiLabelBinarizer from version 1.0.2 when using version 0.22.1. This might lead to breaking code or invalid results. Use at your own risk.\n",
      "  UserWarning)\n",
      "/opt/conda/lib/python3.7/site-packages/sklearn/base.py:318: UserWarning: Trying to unpickle estimator ColumnTransformer from version 1.0.2 when using version 0.22.1. This might lead to breaking code or invalid results. Use at your own risk.\n",
      "  UserWarning)\n"
     ]
    },
    {
     "data": {
      "text/plain": [
       "ColumnTransformer(n_jobs=None, remainder='passthrough', sparse_threshold=0.3,\n",
       "                  transformer_weights=None,\n",
       "                  transformers=[('drop_cols', 'drop', ['random_col']),\n",
       "                                ('truefalse', TrueFalseTransformer(),\n",
       "                                 ['true_false']),\n",
       "                                ('onehot', OneHotTransformer(), ['one_hot']),\n",
       "                                ('dates', DateTransformer(), ['dates']),\n",
       "                                ('floats', FloatTransformer(), ['floats']),\n",
       "                                ('listmax', ListMaxTransformer(),\n",
       "                                 ['max_of_list']),\n",
       "                                ('nunique', ListNuniqueTransformer(),\n",
       "                                 ['nunique_of_list']),\n",
       "                                ('descstats', DescStatTransformer(),\n",
       "                                 ['desc_stats']),\n",
       "                                ('multilabel', MultilabelTransformer(),\n",
       "                                 'multi_label')],\n",
       "                  verbose=False)"
      ]
     },
     "execution_count": 13,
     "metadata": {},
     "output_type": "execute_result"
    }
   ],
   "source": [
    "joblib.load(\"preprocessor.joblib\")"
   ]
  },
  {
   "cell_type": "markdown",
   "id": "3706e976-9df7-440a-a0ad-29e1c6e18d19",
   "metadata": {},
   "source": [
    "## Batch transform"
   ]
  },
  {
   "cell_type": "code",
   "execution_count": 19,
   "id": "feaef0dd-cf59-45a7-8b7b-55b290b379bf",
   "metadata": {
    "tags": []
   },
   "outputs": [],
   "source": [
    "# train_input = 's3://sagemaker-us-east-1-707031497630/custom_preprocessing-2023-02-27-153524/sample.csv'"
   ]
  },
  {
   "cell_type": "code",
   "execution_count": 13,
   "id": "daec14bf-77eb-4a62-a700-ebe4a73326e9",
   "metadata": {
    "tags": []
   },
   "outputs": [
    {
     "name": "stderr",
     "output_type": "stream",
     "text": [
      "INFO:sagemaker:Creating model with name: sagemaker-scikit-learn-2023-03-01-18-25-59-289\n"
     ]
    }
   ],
   "source": [
    "# Define a SKLearn Transformer from the trained SKLearn Estimator\n",
    "transformer_output = os.path.join(\"s3://\", bucket, folder_name, \"Feature_selection_output/\")\n",
    "transformer = sklearn_transformer.transformer(\n",
    "    instance_count=1,\n",
    "    instance_type=\"ml.m5.large\",\n",
    "    output_path=transformer_output,\n",
    "    assemble_with=\"Line\",\n",
    "    accept=\"text/csv\",\n",
    "    role=role,\n",
    "    tags=tags\n",
    ")"
   ]
  },
  {
   "cell_type": "code",
   "execution_count": 14,
   "id": "09d22d5b-a07a-4648-9b6f-8d766ac59530",
   "metadata": {
    "scrolled": true,
    "tags": []
   },
   "outputs": [
    {
     "name": "stderr",
     "output_type": "stream",
     "text": [
      "INFO:sagemaker:Creating transform job with name: sagemaker-scikit-learn-2023-03-01-18-26-01-787\n"
     ]
    },
    {
     "name": "stdout",
     "output_type": "stream",
     "text": [
      ".............................\u001b[34m2023-03-01 18:30:42,339 INFO - sagemaker-containers - No GPUs detected (normal if no gpus installed)\u001b[0m\n",
      "\u001b[34m2023-03-01 18:30:42,342 INFO - sagemaker-containers - No GPUs detected (normal if no gpus installed)\u001b[0m\n",
      "\u001b[34m2023-03-01 18:30:42,343 INFO - sagemaker-containers - nginx config: \u001b[0m\n",
      "\u001b[34mworker_processes auto;\u001b[0m\n",
      "\u001b[34mdaemon off;\u001b[0m\n",
      "\u001b[34mpid /tmp/nginx.pid;\u001b[0m\n",
      "\u001b[34merror_log  /dev/stderr;\u001b[0m\n",
      "\u001b[34mworker_rlimit_nofile 4096;\u001b[0m\n",
      "\u001b[34mevents {\n",
      "  worker_connections 2048;\u001b[0m\n",
      "\u001b[34m}\u001b[0m\n",
      "\u001b[34mhttp {\n",
      "  include /etc/nginx/mime.types;\n",
      "  default_type application/octet-stream;\n",
      "  access_log /dev/stdout combined;\n",
      "  upstream gunicorn {\n",
      "    server unix:/tmp/gunicorn.sock;\n",
      "  }\n",
      "  server {\n",
      "    listen 8080 deferred;\n",
      "    client_max_body_size 0;\n",
      "    keepalive_timeout 3;\n",
      "    location ~ ^/(ping|invocations|execution-parameters) {\n",
      "      proxy_set_header X-Forwarded-For $proxy_add_x_forwarded_for;\n",
      "      proxy_set_header Host $http_host;\n",
      "      proxy_redirect off;\n",
      "      proxy_read_timeout 60s;\n",
      "      proxy_pass http://gunicorn;\n",
      "    }\n",
      "    location / {\n",
      "      return 404 \"{}\";\n",
      "    }\n",
      "  }\u001b[0m\n",
      "\u001b[34m}\u001b[0m\n",
      "\u001b[34m2023-03-01 18:30:42,547 INFO - sagemaker-containers - Module processor_script does not provide a setup.py. \u001b[0m\n",
      "\u001b[34mGenerating setup.py\u001b[0m\n",
      "\u001b[34m2023-03-01 18:30:42,547 INFO - sagemaker-containers - Generating setup.cfg\u001b[0m\n",
      "\u001b[34m2023-03-01 18:30:42,547 INFO - sagemaker-containers - Generating MANIFEST.in\u001b[0m\n",
      "\u001b[34m2023-03-01 18:30:42,548 INFO - sagemaker-containers - Installing module with the following command:\u001b[0m\n",
      "\u001b[34m/miniconda3/bin/python3 -m pip install . \u001b[0m\n",
      "\u001b[34mProcessing /opt/ml/code\n",
      "  Preparing metadata (setup.py): started\n",
      "  Preparing metadata (setup.py): finished with status 'done'\u001b[0m\n",
      "\u001b[34mBuilding wheels for collected packages: processor-script\n",
      "  Building wheel for processor-script (setup.py): started\n",
      "  Building wheel for processor-script (setup.py): finished with status 'done'\n",
      "  Created wheel for processor-script: filename=processor_script-1.0.0-py2.py3-none-any.whl size=10341 sha256=9e72d6d12960a4db5b61d1098c59600156c66894447bac02ab4c0f02564917ed\n",
      "  Stored in directory: /home/model-server/tmp/pip-ephem-wheel-cache-7s8f66xg/wheels/f3/75/57/158162e9eab7af12b5c338c279b3a81f103b89d74eeb911c00\u001b[0m\n",
      "\u001b[34mSuccessfully built processor-script\u001b[0m\n",
      "\u001b[34mInstalling collected packages: processor-script\u001b[0m\n",
      "\u001b[34mSuccessfully installed processor-script-1.0.0\u001b[0m\n",
      "\u001b[34mWARNING: Running pip as the 'root' user can result in broken permissions and conflicting behaviour with the system package manager. It is recommended to use a virtual environment instead: https://pip.pypa.io/warnings/venv\u001b[0m\n",
      "\u001b[34m[notice] A new release of pip available: 22.3.1 -> 23.0.1\u001b[0m\n",
      "\u001b[34m[notice] To update, run: pip install --upgrade pip\u001b[0m\n",
      "\u001b[34m[2023-03-01 18:30:44 +0000] [26] [INFO] Starting gunicorn 20.0.4\u001b[0m\n",
      "\u001b[34m[2023-03-01 18:30:44 +0000] [26] [INFO] Listening at: unix:/tmp/gunicorn.sock (26)\u001b[0m\n",
      "\u001b[34m[2023-03-01 18:30:44 +0000] [26] [INFO] Using worker: gevent\u001b[0m\n",
      "\u001b[34m[2023-03-01 18:30:44 +0000] [28] [INFO] Booting worker with pid: 28\u001b[0m\n",
      "\u001b[34m[2023-03-01 18:30:44 +0000] [29] [INFO] Booting worker with pid: 29\u001b[0m\n",
      "\n",
      "\u001b[34m2023-03-01 18:30:50,185 INFO - sagemaker-containers - No GPUs detected (normal if no gpus installed)\u001b[0m\n",
      "\u001b[35m2023-03-01 18:30:50,185 INFO - sagemaker-containers - No GPUs detected (normal if no gpus installed)\u001b[0m\n",
      "\u001b[34mRunning model function\u001b[0m\n",
      "\u001b[34m169.254.255.130 - - [01/Mar/2023:18:30:50 +0000] \"GET /ping HTTP/1.1\" 200 0 \"-\" \"Go-http-client/1.1\"\u001b[0m\n",
      "\u001b[34m169.254.255.130 - - [01/Mar/2023:18:30:50 +0000] \"GET /execution-parameters HTTP/1.1\" 404 232 \"-\" \"Go-http-client/1.1\"\u001b[0m\n",
      "\u001b[34mRunning input function\u001b[0m\n",
      "\u001b[34mRunning predict_function\u001b[0m\n",
      "\u001b[34mInput data shape at predict_fn: (5, 10)\u001b[0m\n",
      "\u001b[34mRunning TrueFalseTransformer\u001b[0m\n",
      "\u001b[34mRunning OneHotTransformer\u001b[0m\n",
      "\u001b[34mRunning DateTransformer\u001b[0m\n",
      "\u001b[34mRunning FloatTransformer\u001b[0m\n",
      "\u001b[35mRunning model function\u001b[0m\n",
      "\u001b[35m169.254.255.130 - - [01/Mar/2023:18:30:50 +0000] \"GET /ping HTTP/1.1\" 200 0 \"-\" \"Go-http-client/1.1\"\u001b[0m\n",
      "\u001b[35m169.254.255.130 - - [01/Mar/2023:18:30:50 +0000] \"GET /execution-parameters HTTP/1.1\" 404 232 \"-\" \"Go-http-client/1.1\"\u001b[0m\n",
      "\u001b[35mRunning input function\u001b[0m\n",
      "\u001b[35mRunning predict_function\u001b[0m\n",
      "\u001b[35mInput data shape at predict_fn: (5, 10)\u001b[0m\n",
      "\u001b[35mRunning TrueFalseTransformer\u001b[0m\n",
      "\u001b[35mRunning OneHotTransformer\u001b[0m\n",
      "\u001b[35mRunning DateTransformer\u001b[0m\n",
      "\u001b[35mRunning FloatTransformer\u001b[0m\n",
      "\u001b[34mRunning ListMaxTransformer\u001b[0m\n",
      "\u001b[34mRunning ListNuniqueTransformer\u001b[0m\n",
      "\u001b[34mRunning DescStatTransformer\u001b[0m\n",
      "\u001b[34mRunning MultilabelTransformer\u001b[0m\n",
      "\u001b[34mData shape after prediction: (5, 28)\u001b[0m\n",
      "\u001b[34m[[ 1.  0.  0.  0.  0.  2.  4.  0.  4.  0.  0.  3.  0.  1.  0.  0.  0.  0.\n",
      "   0.  1.  0.  1.  0.  0.  1.  0.  0.  0.]\n",
      " [ 0.  0.  0.  0.  1. 12.  0.  0. 19.  0.  0.  8. -1.  1.  1.  1.  1.  0.\n",
      "   1.  0.  0.  1.  0.  0.  0.  1.  1.  1.]\n",
      " [-1.  0.  0.  1.  0.  5.  4.  0.  6.  0.  0.  2.  0.  0.  0.  0.  0.  0.\n",
      "   0.  0.  0.  0.  0.  1.  0.  0.  0.  2.]\n",
      " [ 1.  0.  0.  0.  1.  7.  3.  0. 28.  0.  0. -1.  4.  1. -1. -1. -1.  0.\n",
      "   1.  0.  1.  0.  0.  0.  0.  0.  0.  3.]\n",
      " [ 0.  1.  0.  0.  0. -1. -1. -1. -1.  0.  0.  4.  0.  1. 34. 34. 34.  0.\n",
      "   1.  1.  0.  0.  1.  0.  0.  0.  0.  4.]]\u001b[0m\n",
      "\u001b[34mRunning output function\u001b[0m\n",
      "\u001b[34m169.254.255.130 - - [01/Mar/2023:18:30:50 +0000] \"POST /invocations HTTP/1.1\" 200 576 \"-\" \"Go-http-client/1.1\"\u001b[0m\n",
      "\u001b[35mRunning ListMaxTransformer\u001b[0m\n",
      "\u001b[35mRunning ListNuniqueTransformer\u001b[0m\n",
      "\u001b[35mRunning DescStatTransformer\u001b[0m\n",
      "\u001b[35mRunning MultilabelTransformer\u001b[0m\n",
      "\u001b[35mData shape after prediction: (5, 28)\u001b[0m\n",
      "\u001b[35m[[ 1.  0.  0.  0.  0.  2.  4.  0.  4.  0.  0.  3.  0.  1.  0.  0.  0.  0.\n",
      "   0.  1.  0.  1.  0.  0.  1.  0.  0.  0.]\n",
      " [ 0.  0.  0.  0.  1. 12.  0.  0. 19.  0.  0.  8. -1.  1.  1.  1.  1.  0.\n",
      "   1.  0.  0.  1.  0.  0.  0.  1.  1.  1.]\n",
      " [-1.  0.  0.  1.  0.  5.  4.  0.  6.  0.  0.  2.  0.  0.  0.  0.  0.  0.\n",
      "   0.  0.  0.  0.  0.  1.  0.  0.  0.  2.]\n",
      " [ 1.  0.  0.  0.  1.  7.  3.  0. 28.  0.  0. -1.  4.  1. -1. -1. -1.  0.\n",
      "   1.  0.  1.  0.  0.  0.  0.  0.  0.  3.]\n",
      " [ 0.  1.  0.  0.  0. -1. -1. -1. -1.  0.  0.  4.  0.  1. 34. 34. 34.  0.\n",
      "   1.  1.  0.  0.  1.  0.  0.  0.  0.  4.]]\u001b[0m\n",
      "\u001b[35mRunning output function\u001b[0m\n",
      "\u001b[35m169.254.255.130 - - [01/Mar/2023:18:30:50 +0000] \"POST /invocations HTTP/1.1\" 200 576 \"-\" \"Go-http-client/1.1\"\u001b[0m\n",
      "\u001b[32m2023-03-01T18:30:50.681:[sagemaker logs]: MaxConcurrentTransforms=1, MaxPayloadInMB=6, BatchStrategy=MULTI_RECORD\u001b[0m\n",
      "Waiting for transform job: sagemaker-scikit-learn-2023-03-01-18-26-01-787\n",
      "\u001b[34m2023-03-01 18:30:42,339 INFO - sagemaker-containers - No GPUs detected (normal if no gpus installed)\u001b[0m\n",
      "\u001b[34m2023-03-01 18:30:42,342 INFO - sagemaker-containers - No GPUs detected (normal if no gpus installed)\u001b[0m\n",
      "\u001b[34m2023-03-01 18:30:42,343 INFO - sagemaker-containers - nginx config: \u001b[0m\n",
      "\u001b[34mworker_processes auto;\u001b[0m\n",
      "\u001b[34mdaemon off;\u001b[0m\n",
      "\u001b[34mpid /tmp/nginx.pid;\u001b[0m\n",
      "\u001b[34merror_log  /dev/stderr;\u001b[0m\n",
      "\u001b[35m2023-03-01 18:30:42,339 INFO - sagemaker-containers - No GPUs detected (normal if no gpus installed)\u001b[0m\n",
      "\u001b[35m2023-03-01 18:30:42,342 INFO - sagemaker-containers - No GPUs detected (normal if no gpus installed)\u001b[0m\n",
      "\u001b[35m2023-03-01 18:30:42,343 INFO - sagemaker-containers - nginx config: \u001b[0m\n",
      "\u001b[35mworker_processes auto;\u001b[0m\n",
      "\u001b[35mdaemon off;\u001b[0m\n",
      "\u001b[35mpid /tmp/nginx.pid;\u001b[0m\n",
      "\u001b[35merror_log  /dev/stderr;\u001b[0m\n",
      "\u001b[34mworker_rlimit_nofile 4096;\u001b[0m\n",
      "\u001b[34mevents {\n",
      "  worker_connections 2048;\u001b[0m\n",
      "\u001b[34m}\u001b[0m\n",
      "\u001b[34mhttp {\n",
      "  include /etc/nginx/mime.types;\n",
      "  default_type application/octet-stream;\n",
      "  access_log /dev/stdout combined;\n",
      "  upstream gunicorn {\n",
      "    server unix:/tmp/gunicorn.sock;\n",
      "  }\n",
      "  server {\n",
      "    listen 8080 deferred;\n",
      "    client_max_body_size 0;\n",
      "    keepalive_timeout 3;\n",
      "    location ~ ^/(ping|invocations|execution-parameters) {\n",
      "      proxy_set_header X-Forwarded-For $proxy_add_x_forwarded_for;\n",
      "      proxy_set_header Host $http_host;\n",
      "      proxy_redirect off;\n",
      "      proxy_read_timeout 60s;\n",
      "      proxy_pass http://gunicorn;\n",
      "    }\n",
      "    location / {\n",
      "      return 404 \"{}\";\n",
      "    }\n",
      "  }\u001b[0m\n",
      "\u001b[34m}\u001b[0m\n",
      "\u001b[34m2023-03-01 18:30:42,547 INFO - sagemaker-containers - Module processor_script does not provide a setup.py. \u001b[0m\n",
      "\u001b[34mGenerating setup.py\u001b[0m\n",
      "\u001b[34m2023-03-01 18:30:42,547 INFO - sagemaker-containers - Generating setup.cfg\u001b[0m\n",
      "\u001b[34m2023-03-01 18:30:42,547 INFO - sagemaker-containers - Generating MANIFEST.in\u001b[0m\n",
      "\u001b[35mworker_rlimit_nofile 4096;\u001b[0m\n",
      "\u001b[35mevents {\n",
      "  worker_connections 2048;\u001b[0m\n",
      "\u001b[35m}\u001b[0m\n",
      "\u001b[35mhttp {\n",
      "  include /etc/nginx/mime.types;\n",
      "  default_type application/octet-stream;\n",
      "  access_log /dev/stdout combined;\n",
      "  upstream gunicorn {\n",
      "    server unix:/tmp/gunicorn.sock;\n",
      "  }\n",
      "  server {\n",
      "    listen 8080 deferred;\n",
      "    client_max_body_size 0;\n",
      "    keepalive_timeout 3;\n",
      "    location ~ ^/(ping|invocations|execution-parameters) {\n",
      "      proxy_set_header X-Forwarded-For $proxy_add_x_forwarded_for;\n",
      "      proxy_set_header Host $http_host;\n",
      "      proxy_redirect off;\n",
      "      proxy_read_timeout 60s;\n",
      "      proxy_pass http://gunicorn;\n",
      "    }\n",
      "    location / {\n",
      "      return 404 \"{}\";\n",
      "    }\n",
      "  }\u001b[0m\n",
      "\u001b[35m}\u001b[0m\n",
      "\u001b[35m2023-03-01 18:30:42,547 INFO - sagemaker-containers - Module processor_script does not provide a setup.py. \u001b[0m\n",
      "\u001b[35mGenerating setup.py\u001b[0m\n",
      "\u001b[35m2023-03-01 18:30:42,547 INFO - sagemaker-containers - Generating setup.cfg\u001b[0m\n",
      "\u001b[35m2023-03-01 18:30:42,547 INFO - sagemaker-containers - Generating MANIFEST.in\u001b[0m\n",
      "\u001b[34m2023-03-01 18:30:42,548 INFO - sagemaker-containers - Installing module with the following command:\u001b[0m\n",
      "\u001b[34m/miniconda3/bin/python3 -m pip install . \u001b[0m\n",
      "\u001b[34mProcessing /opt/ml/code\n",
      "  Preparing metadata (setup.py): started\n",
      "  Preparing metadata (setup.py): finished with status 'done'\u001b[0m\n",
      "\u001b[34mBuilding wheels for collected packages: processor-script\n",
      "  Building wheel for processor-script (setup.py): started\n",
      "  Building wheel for processor-script (setup.py): finished with status 'done'\n",
      "  Created wheel for processor-script: filename=processor_script-1.0.0-py2.py3-none-any.whl size=10341 sha256=9e72d6d12960a4db5b61d1098c59600156c66894447bac02ab4c0f02564917ed\n",
      "  Stored in directory: /home/model-server/tmp/pip-ephem-wheel-cache-7s8f66xg/wheels/f3/75/57/158162e9eab7af12b5c338c279b3a81f103b89d74eeb911c00\u001b[0m\n",
      "\u001b[34mSuccessfully built processor-script\u001b[0m\n",
      "\u001b[34mInstalling collected packages: processor-script\u001b[0m\n",
      "\u001b[34mSuccessfully installed processor-script-1.0.0\u001b[0m\n",
      "\u001b[34mWARNING: Running pip as the 'root' user can result in broken permissions and conflicting behaviour with the system package manager. It is recommended to use a virtual environment instead: https://pip.pypa.io/warnings/venv\u001b[0m\n",
      "\u001b[34m[notice] A new release of pip available: 22.3.1 -> 23.0.1\u001b[0m\n",
      "\u001b[34m[notice] To update, run: pip install --upgrade pip\u001b[0m\n",
      "\u001b[35m2023-03-01 18:30:42,548 INFO - sagemaker-containers - Installing module with the following command:\u001b[0m\n",
      "\u001b[35m/miniconda3/bin/python3 -m pip install . \u001b[0m\n",
      "\u001b[35mProcessing /opt/ml/code\n",
      "  Preparing metadata (setup.py): started\n",
      "  Preparing metadata (setup.py): finished with status 'done'\u001b[0m\n",
      "\u001b[35mBuilding wheels for collected packages: processor-script\n",
      "  Building wheel for processor-script (setup.py): started\n",
      "  Building wheel for processor-script (setup.py): finished with status 'done'\n",
      "  Created wheel for processor-script: filename=processor_script-1.0.0-py2.py3-none-any.whl size=10341 sha256=9e72d6d12960a4db5b61d1098c59600156c66894447bac02ab4c0f02564917ed\n",
      "  Stored in directory: /home/model-server/tmp/pip-ephem-wheel-cache-7s8f66xg/wheels/f3/75/57/158162e9eab7af12b5c338c279b3a81f103b89d74eeb911c00\u001b[0m\n",
      "\u001b[35mSuccessfully built processor-script\u001b[0m\n",
      "\u001b[35mInstalling collected packages: processor-script\u001b[0m\n",
      "\u001b[35mSuccessfully installed processor-script-1.0.0\u001b[0m\n",
      "\u001b[35mWARNING: Running pip as the 'root' user can result in broken permissions and conflicting behaviour with the system package manager. It is recommended to use a virtual environment instead: https://pip.pypa.io/warnings/venv\u001b[0m\n",
      "\u001b[35m[notice] A new release of pip available: 22.3.1 -> 23.0.1\u001b[0m\n",
      "\u001b[35m[notice] To update, run: pip install --upgrade pip\u001b[0m\n",
      "\u001b[34m[2023-03-01 18:30:44 +0000] [26] [INFO] Starting gunicorn 20.0.4\u001b[0m\n",
      "\u001b[34m[2023-03-01 18:30:44 +0000] [26] [INFO] Listening at: unix:/tmp/gunicorn.sock (26)\u001b[0m\n",
      "\u001b[34m[2023-03-01 18:30:44 +0000] [26] [INFO] Using worker: gevent\u001b[0m\n",
      "\u001b[34m[2023-03-01 18:30:44 +0000] [28] [INFO] Booting worker with pid: 28\u001b[0m\n",
      "\u001b[34m[2023-03-01 18:30:44 +0000] [29] [INFO] Booting worker with pid: 29\u001b[0m\n",
      "\u001b[35m[2023-03-01 18:30:44 +0000] [26] [INFO] Starting gunicorn 20.0.4\u001b[0m\n",
      "\u001b[35m[2023-03-01 18:30:44 +0000] [26] [INFO] Listening at: unix:/tmp/gunicorn.sock (26)\u001b[0m\n",
      "\u001b[35m[2023-03-01 18:30:44 +0000] [26] [INFO] Using worker: gevent\u001b[0m\n",
      "\u001b[35m[2023-03-01 18:30:44 +0000] [28] [INFO] Booting worker with pid: 28\u001b[0m\n",
      "\u001b[35m[2023-03-01 18:30:44 +0000] [29] [INFO] Booting worker with pid: 29\u001b[0m\n",
      "\u001b[34m2023-03-01 18:30:50,185 INFO - sagemaker-containers - No GPUs detected (normal if no gpus installed)\u001b[0m\n",
      "\u001b[35m2023-03-01 18:30:50,185 INFO - sagemaker-containers - No GPUs detected (normal if no gpus installed)\u001b[0m\n",
      "\u001b[34mRunning model function\u001b[0m\n",
      "\u001b[34m169.254.255.130 - - [01/Mar/2023:18:30:50 +0000] \"GET /ping HTTP/1.1\" 200 0 \"-\" \"Go-http-client/1.1\"\u001b[0m\n",
      "\u001b[34m169.254.255.130 - - [01/Mar/2023:18:30:50 +0000] \"GET /execution-parameters HTTP/1.1\" 404 232 \"-\" \"Go-http-client/1.1\"\u001b[0m\n",
      "\u001b[34mRunning input function\u001b[0m\n",
      "\u001b[34mRunning predict_function\u001b[0m\n",
      "\u001b[34mInput data shape at predict_fn: (5, 10)\u001b[0m\n",
      "\u001b[34mRunning TrueFalseTransformer\u001b[0m\n",
      "\u001b[34mRunning OneHotTransformer\u001b[0m\n",
      "\u001b[34mRunning DateTransformer\u001b[0m\n",
      "\u001b[34mRunning FloatTransformer\u001b[0m\n",
      "\u001b[35mRunning model function\u001b[0m\n",
      "\u001b[35m169.254.255.130 - - [01/Mar/2023:18:30:50 +0000] \"GET /ping HTTP/1.1\" 200 0 \"-\" \"Go-http-client/1.1\"\u001b[0m\n",
      "\u001b[35m169.254.255.130 - - [01/Mar/2023:18:30:50 +0000] \"GET /execution-parameters HTTP/1.1\" 404 232 \"-\" \"Go-http-client/1.1\"\u001b[0m\n",
      "\u001b[35mRunning input function\u001b[0m\n",
      "\u001b[35mRunning predict_function\u001b[0m\n",
      "\u001b[35mInput data shape at predict_fn: (5, 10)\u001b[0m\n",
      "\u001b[35mRunning TrueFalseTransformer\u001b[0m\n",
      "\u001b[35mRunning OneHotTransformer\u001b[0m\n",
      "\u001b[35mRunning DateTransformer\u001b[0m\n",
      "\u001b[35mRunning FloatTransformer\u001b[0m\n",
      "\u001b[34mRunning ListMaxTransformer\u001b[0m\n",
      "\u001b[34mRunning ListNuniqueTransformer\u001b[0m\n",
      "\u001b[34mRunning DescStatTransformer\u001b[0m\n",
      "\u001b[34mRunning MultilabelTransformer\u001b[0m\n",
      "\u001b[34mData shape after prediction: (5, 28)\u001b[0m\n",
      "\u001b[34m[[ 1.  0.  0.  0.  0.  2.  4.  0.  4.  0.  0.  3.  0.  1.  0.  0.  0.  0.\n",
      "   0.  1.  0.  1.  0.  0.  1.  0.  0.  0.]\n",
      " [ 0.  0.  0.  0.  1. 12.  0.  0. 19.  0.  0.  8. -1.  1.  1.  1.  1.  0.\n",
      "   1.  0.  0.  1.  0.  0.  0.  1.  1.  1.]\n",
      " [-1.  0.  0.  1.  0.  5.  4.  0.  6.  0.  0.  2.  0.  0.  0.  0.  0.  0.\n",
      "   0.  0.  0.  0.  0.  1.  0.  0.  0.  2.]\n",
      " [ 1.  0.  0.  0.  1.  7.  3.  0. 28.  0.  0. -1.  4.  1. -1. -1. -1.  0.\n",
      "   1.  0.  1.  0.  0.  0.  0.  0.  0.  3.]\n",
      " [ 0.  1.  0.  0.  0. -1. -1. -1. -1.  0.  0.  4.  0.  1. 34. 34. 34.  0.\n",
      "   1.  1.  0.  0.  1.  0.  0.  0.  0.  4.]]\u001b[0m\n",
      "\u001b[34mRunning output function\u001b[0m\n",
      "\u001b[34m169.254.255.130 - - [01/Mar/2023:18:30:50 +0000] \"POST /invocations HTTP/1.1\" 200 576 \"-\" \"Go-http-client/1.1\"\u001b[0m\n",
      "\u001b[35mRunning ListMaxTransformer\u001b[0m\n",
      "\u001b[35mRunning ListNuniqueTransformer\u001b[0m\n",
      "\u001b[35mRunning DescStatTransformer\u001b[0m\n",
      "\u001b[35mRunning MultilabelTransformer\u001b[0m\n",
      "\u001b[35mData shape after prediction: (5, 28)\u001b[0m\n",
      "\u001b[35m[[ 1.  0.  0.  0.  0.  2.  4.  0.  4.  0.  0.  3.  0.  1.  0.  0.  0.  0.\n",
      "   0.  1.  0.  1.  0.  0.  1.  0.  0.  0.]\n",
      " [ 0.  0.  0.  0.  1. 12.  0.  0. 19.  0.  0.  8. -1.  1.  1.  1.  1.  0.\n",
      "   1.  0.  0.  1.  0.  0.  0.  1.  1.  1.]\n",
      " [-1.  0.  0.  1.  0.  5.  4.  0.  6.  0.  0.  2.  0.  0.  0.  0.  0.  0.\n",
      "   0.  0.  0.  0.  0.  1.  0.  0.  0.  2.]\n",
      " [ 1.  0.  0.  0.  1.  7.  3.  0. 28.  0.  0. -1.  4.  1. -1. -1. -1.  0.\n",
      "   1.  0.  1.  0.  0.  0.  0.  0.  0.  3.]\n",
      " [ 0.  1.  0.  0.  0. -1. -1. -1. -1.  0.  0.  4.  0.  1. 34. 34. 34.  0.\n",
      "   1.  1.  0.  0.  1.  0.  0.  0.  0.  4.]]\u001b[0m\n",
      "\u001b[35mRunning output function\u001b[0m\n",
      "\u001b[35m169.254.255.130 - - [01/Mar/2023:18:30:50 +0000] \"POST /invocations HTTP/1.1\" 200 576 \"-\" \"Go-http-client/1.1\"\u001b[0m\n",
      "\u001b[32m2023-03-01T18:30:50.681:[sagemaker logs]: MaxConcurrentTransforms=1, MaxPayloadInMB=6, BatchStrategy=MULTI_RECORD\u001b[0m\n"
     ]
    }
   ],
   "source": [
    "# Preprocess training input\n",
    "transformer.transform(train_input, content_type=\"text/csv\")\n",
    "print(\"Waiting for transform job: \" + transformer.latest_transform_job.job_name)\n",
    "transformer.wait()\n",
    "preprocessed_train = transformer.output_path"
   ]
  },
  {
   "cell_type": "code",
   "execution_count": 65,
   "id": "2e4a8f7f-5d68-4b5b-9bea-f3c434ce7b0f",
   "metadata": {},
   "outputs": [
    {
     "data": {
      "text/plain": [
       "'s3://sagemaker-us-east-1-707031497630/custom_preprocessing-2023-02-28-162117/Feature_selection_output/'"
      ]
     },
     "execution_count": 65,
     "metadata": {},
     "output_type": "execute_result"
    }
   ],
   "source": [
    "preprocessed_train"
   ]
  },
  {
   "cell_type": "markdown",
   "id": "45121be8-0fa2-4e32-95d6-c8bf35a1d6d4",
   "metadata": {},
   "source": [
    "## Save batch transformed data"
   ]
  },
  {
   "cell_type": "code",
   "execution_count": 15,
   "id": "bde8d533-b4bb-46d2-a45e-b125a99296a0",
   "metadata": {
    "tags": []
   },
   "outputs": [
    {
     "name": "stdout",
     "output_type": "stream",
     "text": [
      "s3://sagemaker-us-east-1-707031497630/custom_preprocessing-2023-03-01-181930/Feature_selection_output/\n"
     ]
    }
   ],
   "source": [
    "transformer_output_path = os.path.join(transformer.output_path)\n",
    "\n",
    "key_prefix = (\n",
    "    transformer_output_path[transformer_output_path.find(bucket) + len(bucket) + 1 :]\n",
    "    + \"sample.csv.out\"\n",
    ")\n",
    "print(transformer_output_path)\n",
    "\n",
    "session.download_data(path=\"./\", bucket=bucket, key_prefix=key_prefix)\n",
    "df_new = pd.read_csv(\"sample.csv.out\", header=None)\n",
    "\n",
    "# first column is the target variable\n",
    "df_new.columns = feature_list"
   ]
  },
  {
   "cell_type": "code",
   "execution_count": 16,
   "id": "1a38d40e-9f3b-4b0d-8212-c47154e8fd03",
   "metadata": {
    "tags": []
   },
   "outputs": [],
   "source": [
    "targets = [1,0,0,1,1]\n",
    "df_new.insert(0, \"target\", targets)"
   ]
  },
  {
   "cell_type": "code",
   "execution_count": 83,
   "id": "b63a3c9d-6f8a-457e-9b91-dfe1649e0e48",
   "metadata": {
    "tags": []
   },
   "outputs": [
    {
     "data": {
      "text/html": [
       "<div>\n",
       "<style scoped>\n",
       "    .dataframe tbody tr th:only-of-type {\n",
       "        vertical-align: middle;\n",
       "    }\n",
       "\n",
       "    .dataframe tbody tr th {\n",
       "        vertical-align: top;\n",
       "    }\n",
       "\n",
       "    .dataframe thead th {\n",
       "        text-align: right;\n",
       "    }\n",
       "</style>\n",
       "<table border=\"1\" class=\"dataframe\">\n",
       "  <thead>\n",
       "    <tr style=\"text-align: right;\">\n",
       "      <th></th>\n",
       "      <th>target</th>\n",
       "      <th>true_false</th>\n",
       "      <th>one_hot_blue</th>\n",
       "      <th>one_hot_ml_empty</th>\n",
       "      <th>one_hot_orange</th>\n",
       "      <th>one_hot_purple</th>\n",
       "      <th>dates-month</th>\n",
       "      <th>dates-day_of_week</th>\n",
       "      <th>dates-hour</th>\n",
       "      <th>dates-day_of_month</th>\n",
       "      <th>...</th>\n",
       "      <th>desc_stats-nunique</th>\n",
       "      <th>multi_label_apple</th>\n",
       "      <th>multi_label_blueberry</th>\n",
       "      <th>multi_label_grape</th>\n",
       "      <th>multi_label_grapefruit</th>\n",
       "      <th>multi_label_ml_empty</th>\n",
       "      <th>multi_label_orange</th>\n",
       "      <th>multi_label_pineapple</th>\n",
       "      <th>multi_label_strawberry</th>\n",
       "      <th>other</th>\n",
       "    </tr>\n",
       "  </thead>\n",
       "  <tbody>\n",
       "    <tr>\n",
       "      <th>0</th>\n",
       "      <td>1</td>\n",
       "      <td>1.0</td>\n",
       "      <td>0.0</td>\n",
       "      <td>0.0</td>\n",
       "      <td>0.0</td>\n",
       "      <td>0.0</td>\n",
       "      <td>12.0</td>\n",
       "      <td>1.0</td>\n",
       "      <td>0.0</td>\n",
       "      <td>27.0</td>\n",
       "      <td>...</td>\n",
       "      <td>0.0</td>\n",
       "      <td>1.0</td>\n",
       "      <td>0.0</td>\n",
       "      <td>1.0</td>\n",
       "      <td>0.0</td>\n",
       "      <td>0.0</td>\n",
       "      <td>1.0</td>\n",
       "      <td>0.0</td>\n",
       "      <td>0.0</td>\n",
       "      <td>0.0</td>\n",
       "    </tr>\n",
       "    <tr>\n",
       "      <th>1</th>\n",
       "      <td>0</td>\n",
       "      <td>0.0</td>\n",
       "      <td>0.0</td>\n",
       "      <td>0.0</td>\n",
       "      <td>0.0</td>\n",
       "      <td>1.0</td>\n",
       "      <td>12.0</td>\n",
       "      <td>0.0</td>\n",
       "      <td>0.0</td>\n",
       "      <td>19.0</td>\n",
       "      <td>...</td>\n",
       "      <td>1.0</td>\n",
       "      <td>0.0</td>\n",
       "      <td>0.0</td>\n",
       "      <td>1.0</td>\n",
       "      <td>0.0</td>\n",
       "      <td>0.0</td>\n",
       "      <td>0.0</td>\n",
       "      <td>1.0</td>\n",
       "      <td>1.0</td>\n",
       "      <td>1.0</td>\n",
       "    </tr>\n",
       "    <tr>\n",
       "      <th>2</th>\n",
       "      <td>0</td>\n",
       "      <td>-1.0</td>\n",
       "      <td>0.0</td>\n",
       "      <td>0.0</td>\n",
       "      <td>1.0</td>\n",
       "      <td>0.0</td>\n",
       "      <td>2.0</td>\n",
       "      <td>4.0</td>\n",
       "      <td>0.0</td>\n",
       "      <td>4.0</td>\n",
       "      <td>...</td>\n",
       "      <td>0.0</td>\n",
       "      <td>0.0</td>\n",
       "      <td>0.0</td>\n",
       "      <td>0.0</td>\n",
       "      <td>0.0</td>\n",
       "      <td>1.0</td>\n",
       "      <td>0.0</td>\n",
       "      <td>0.0</td>\n",
       "      <td>0.0</td>\n",
       "      <td>2.0</td>\n",
       "    </tr>\n",
       "    <tr>\n",
       "      <th>3</th>\n",
       "      <td>1</td>\n",
       "      <td>1.0</td>\n",
       "      <td>0.0</td>\n",
       "      <td>0.0</td>\n",
       "      <td>0.0</td>\n",
       "      <td>1.0</td>\n",
       "      <td>9.0</td>\n",
       "      <td>3.0</td>\n",
       "      <td>0.0</td>\n",
       "      <td>15.0</td>\n",
       "      <td>...</td>\n",
       "      <td>1.0</td>\n",
       "      <td>0.0</td>\n",
       "      <td>1.0</td>\n",
       "      <td>0.0</td>\n",
       "      <td>0.0</td>\n",
       "      <td>0.0</td>\n",
       "      <td>0.0</td>\n",
       "      <td>0.0</td>\n",
       "      <td>0.0</td>\n",
       "      <td>3.0</td>\n",
       "    </tr>\n",
       "    <tr>\n",
       "      <th>4</th>\n",
       "      <td>1</td>\n",
       "      <td>0.0</td>\n",
       "      <td>1.0</td>\n",
       "      <td>0.0</td>\n",
       "      <td>0.0</td>\n",
       "      <td>0.0</td>\n",
       "      <td>-1.0</td>\n",
       "      <td>-1.0</td>\n",
       "      <td>-1.0</td>\n",
       "      <td>-1.0</td>\n",
       "      <td>...</td>\n",
       "      <td>1.0</td>\n",
       "      <td>1.0</td>\n",
       "      <td>0.0</td>\n",
       "      <td>0.0</td>\n",
       "      <td>1.0</td>\n",
       "      <td>0.0</td>\n",
       "      <td>0.0</td>\n",
       "      <td>0.0</td>\n",
       "      <td>0.0</td>\n",
       "      <td>4.0</td>\n",
       "    </tr>\n",
       "  </tbody>\n",
       "</table>\n",
       "<p>5 rows × 29 columns</p>\n",
       "</div>"
      ],
      "text/plain": [
       "   target  true_false  one_hot_blue  one_hot_ml_empty  one_hot_orange  \\\n",
       "0       1         1.0           0.0               0.0             0.0   \n",
       "1       0         0.0           0.0               0.0             0.0   \n",
       "2       0        -1.0           0.0               0.0             1.0   \n",
       "3       1         1.0           0.0               0.0             0.0   \n",
       "4       1         0.0           1.0               0.0             0.0   \n",
       "\n",
       "   one_hot_purple  dates-month  dates-day_of_week  dates-hour  \\\n",
       "0             0.0         12.0                1.0         0.0   \n",
       "1             1.0         12.0                0.0         0.0   \n",
       "2             0.0          2.0                4.0         0.0   \n",
       "3             1.0          9.0                3.0         0.0   \n",
       "4             0.0         -1.0               -1.0        -1.0   \n",
       "\n",
       "   dates-day_of_month  ...  desc_stats-nunique  multi_label_apple  \\\n",
       "0                27.0  ...                 0.0                1.0   \n",
       "1                19.0  ...                 1.0                0.0   \n",
       "2                 4.0  ...                 0.0                0.0   \n",
       "3                15.0  ...                 1.0                0.0   \n",
       "4                -1.0  ...                 1.0                1.0   \n",
       "\n",
       "   multi_label_blueberry  multi_label_grape  multi_label_grapefruit  \\\n",
       "0                    0.0                1.0                     0.0   \n",
       "1                    0.0                1.0                     0.0   \n",
       "2                    0.0                0.0                     0.0   \n",
       "3                    1.0                0.0                     0.0   \n",
       "4                    0.0                0.0                     1.0   \n",
       "\n",
       "   multi_label_ml_empty  multi_label_orange  multi_label_pineapple  \\\n",
       "0                   0.0                 1.0                    0.0   \n",
       "1                   0.0                 0.0                    1.0   \n",
       "2                   1.0                 0.0                    0.0   \n",
       "3                   0.0                 0.0                    0.0   \n",
       "4                   0.0                 0.0                    0.0   \n",
       "\n",
       "   multi_label_strawberry  other  \n",
       "0                     0.0    0.0  \n",
       "1                     1.0    1.0  \n",
       "2                     0.0    2.0  \n",
       "3                     0.0    3.0  \n",
       "4                     0.0    4.0  \n",
       "\n",
       "[5 rows x 29 columns]"
      ]
     },
     "execution_count": 83,
     "metadata": {},
     "output_type": "execute_result"
    }
   ],
   "source": [
    "df_new.head()"
   ]
  },
  {
   "cell_type": "code",
   "execution_count": 17,
   "id": "60b4b832-423e-4276-ba39-456e66d41d7b",
   "metadata": {
    "tags": []
   },
   "outputs": [],
   "source": [
    "df_new_500 = df_new.append([df_new]*99, ignore_index=True)"
   ]
  },
  {
   "cell_type": "code",
   "execution_count": 18,
   "id": "f97a8264-28ce-462a-b896-c865cb23e7ea",
   "metadata": {
    "tags": []
   },
   "outputs": [
    {
     "data": {
      "text/html": [
       "<div>\n",
       "<style scoped>\n",
       "    .dataframe tbody tr th:only-of-type {\n",
       "        vertical-align: middle;\n",
       "    }\n",
       "\n",
       "    .dataframe tbody tr th {\n",
       "        vertical-align: top;\n",
       "    }\n",
       "\n",
       "    .dataframe thead th {\n",
       "        text-align: right;\n",
       "    }\n",
       "</style>\n",
       "<table border=\"1\" class=\"dataframe\">\n",
       "  <thead>\n",
       "    <tr style=\"text-align: right;\">\n",
       "      <th></th>\n",
       "      <th>target</th>\n",
       "      <th>true_false</th>\n",
       "      <th>one_hot_blue</th>\n",
       "      <th>one_hot_ml_empty</th>\n",
       "      <th>one_hot_orange</th>\n",
       "      <th>one_hot_purple</th>\n",
       "      <th>dates-month</th>\n",
       "      <th>dates-day_of_week</th>\n",
       "      <th>dates-hour</th>\n",
       "      <th>dates-day_of_month</th>\n",
       "      <th>...</th>\n",
       "      <th>desc_stats-nunique</th>\n",
       "      <th>multi_label_apple</th>\n",
       "      <th>multi_label_blueberry</th>\n",
       "      <th>multi_label_grape</th>\n",
       "      <th>multi_label_grapefruit</th>\n",
       "      <th>multi_label_ml_empty</th>\n",
       "      <th>multi_label_orange</th>\n",
       "      <th>multi_label_pineapple</th>\n",
       "      <th>multi_label_strawberry</th>\n",
       "      <th>other</th>\n",
       "    </tr>\n",
       "  </thead>\n",
       "  <tbody>\n",
       "    <tr>\n",
       "      <th>0</th>\n",
       "      <td>1</td>\n",
       "      <td>1.0</td>\n",
       "      <td>0.0</td>\n",
       "      <td>0.0</td>\n",
       "      <td>0.0</td>\n",
       "      <td>0.0</td>\n",
       "      <td>2.0</td>\n",
       "      <td>4.0</td>\n",
       "      <td>0.0</td>\n",
       "      <td>4.0</td>\n",
       "      <td>...</td>\n",
       "      <td>0.0</td>\n",
       "      <td>1.0</td>\n",
       "      <td>0.0</td>\n",
       "      <td>1.0</td>\n",
       "      <td>0.0</td>\n",
       "      <td>0.0</td>\n",
       "      <td>1.0</td>\n",
       "      <td>0.0</td>\n",
       "      <td>0.0</td>\n",
       "      <td>0.0</td>\n",
       "    </tr>\n",
       "    <tr>\n",
       "      <th>1</th>\n",
       "      <td>0</td>\n",
       "      <td>0.0</td>\n",
       "      <td>0.0</td>\n",
       "      <td>0.0</td>\n",
       "      <td>0.0</td>\n",
       "      <td>1.0</td>\n",
       "      <td>12.0</td>\n",
       "      <td>0.0</td>\n",
       "      <td>0.0</td>\n",
       "      <td>19.0</td>\n",
       "      <td>...</td>\n",
       "      <td>1.0</td>\n",
       "      <td>0.0</td>\n",
       "      <td>0.0</td>\n",
       "      <td>1.0</td>\n",
       "      <td>0.0</td>\n",
       "      <td>0.0</td>\n",
       "      <td>0.0</td>\n",
       "      <td>1.0</td>\n",
       "      <td>1.0</td>\n",
       "      <td>1.0</td>\n",
       "    </tr>\n",
       "    <tr>\n",
       "      <th>2</th>\n",
       "      <td>0</td>\n",
       "      <td>-1.0</td>\n",
       "      <td>0.0</td>\n",
       "      <td>0.0</td>\n",
       "      <td>1.0</td>\n",
       "      <td>0.0</td>\n",
       "      <td>5.0</td>\n",
       "      <td>4.0</td>\n",
       "      <td>0.0</td>\n",
       "      <td>6.0</td>\n",
       "      <td>...</td>\n",
       "      <td>0.0</td>\n",
       "      <td>0.0</td>\n",
       "      <td>0.0</td>\n",
       "      <td>0.0</td>\n",
       "      <td>0.0</td>\n",
       "      <td>1.0</td>\n",
       "      <td>0.0</td>\n",
       "      <td>0.0</td>\n",
       "      <td>0.0</td>\n",
       "      <td>2.0</td>\n",
       "    </tr>\n",
       "    <tr>\n",
       "      <th>3</th>\n",
       "      <td>1</td>\n",
       "      <td>1.0</td>\n",
       "      <td>0.0</td>\n",
       "      <td>0.0</td>\n",
       "      <td>0.0</td>\n",
       "      <td>1.0</td>\n",
       "      <td>7.0</td>\n",
       "      <td>3.0</td>\n",
       "      <td>0.0</td>\n",
       "      <td>28.0</td>\n",
       "      <td>...</td>\n",
       "      <td>1.0</td>\n",
       "      <td>0.0</td>\n",
       "      <td>1.0</td>\n",
       "      <td>0.0</td>\n",
       "      <td>0.0</td>\n",
       "      <td>0.0</td>\n",
       "      <td>0.0</td>\n",
       "      <td>0.0</td>\n",
       "      <td>0.0</td>\n",
       "      <td>3.0</td>\n",
       "    </tr>\n",
       "    <tr>\n",
       "      <th>4</th>\n",
       "      <td>1</td>\n",
       "      <td>0.0</td>\n",
       "      <td>1.0</td>\n",
       "      <td>0.0</td>\n",
       "      <td>0.0</td>\n",
       "      <td>0.0</td>\n",
       "      <td>-1.0</td>\n",
       "      <td>-1.0</td>\n",
       "      <td>-1.0</td>\n",
       "      <td>-1.0</td>\n",
       "      <td>...</td>\n",
       "      <td>1.0</td>\n",
       "      <td>1.0</td>\n",
       "      <td>0.0</td>\n",
       "      <td>0.0</td>\n",
       "      <td>1.0</td>\n",
       "      <td>0.0</td>\n",
       "      <td>0.0</td>\n",
       "      <td>0.0</td>\n",
       "      <td>0.0</td>\n",
       "      <td>4.0</td>\n",
       "    </tr>\n",
       "  </tbody>\n",
       "</table>\n",
       "<p>5 rows × 29 columns</p>\n",
       "</div>"
      ],
      "text/plain": [
       "   target  true_false  one_hot_blue  one_hot_ml_empty  one_hot_orange  \\\n",
       "0       1         1.0           0.0               0.0             0.0   \n",
       "1       0         0.0           0.0               0.0             0.0   \n",
       "2       0        -1.0           0.0               0.0             1.0   \n",
       "3       1         1.0           0.0               0.0             0.0   \n",
       "4       1         0.0           1.0               0.0             0.0   \n",
       "\n",
       "   one_hot_purple  dates-month  dates-day_of_week  dates-hour  \\\n",
       "0             0.0          2.0                4.0         0.0   \n",
       "1             1.0         12.0                0.0         0.0   \n",
       "2             0.0          5.0                4.0         0.0   \n",
       "3             1.0          7.0                3.0         0.0   \n",
       "4             0.0         -1.0               -1.0        -1.0   \n",
       "\n",
       "   dates-day_of_month  ...  desc_stats-nunique  multi_label_apple  \\\n",
       "0                 4.0  ...                 0.0                1.0   \n",
       "1                19.0  ...                 1.0                0.0   \n",
       "2                 6.0  ...                 0.0                0.0   \n",
       "3                28.0  ...                 1.0                0.0   \n",
       "4                -1.0  ...                 1.0                1.0   \n",
       "\n",
       "   multi_label_blueberry  multi_label_grape  multi_label_grapefruit  \\\n",
       "0                    0.0                1.0                     0.0   \n",
       "1                    0.0                1.0                     0.0   \n",
       "2                    0.0                0.0                     0.0   \n",
       "3                    1.0                0.0                     0.0   \n",
       "4                    0.0                0.0                     1.0   \n",
       "\n",
       "   multi_label_ml_empty  multi_label_orange  multi_label_pineapple  \\\n",
       "0                   0.0                 1.0                    0.0   \n",
       "1                   0.0                 0.0                    1.0   \n",
       "2                   1.0                 0.0                    0.0   \n",
       "3                   0.0                 0.0                    0.0   \n",
       "4                   0.0                 0.0                    0.0   \n",
       "\n",
       "   multi_label_strawberry  other  \n",
       "0                     0.0    0.0  \n",
       "1                     1.0    1.0  \n",
       "2                     0.0    2.0  \n",
       "3                     0.0    3.0  \n",
       "4                     0.0    4.0  \n",
       "\n",
       "[5 rows x 29 columns]"
      ]
     },
     "execution_count": 18,
     "metadata": {},
     "output_type": "execute_result"
    }
   ],
   "source": [
    "df_new_500.to_csv(\"train_new.csv\", index=False)\n",
    "\n",
    "train_new_input = session.upload_data(\n",
    "    path=\"{}\".format(\"train_new.csv\"),\n",
    "    bucket=bucket,\n",
    "    key_prefix=\"{}/{}/{}\".format(folder_name, \"components\", \"training_data_new\"),\n",
    ")\n",
    "\n",
    "df_new_500.head()"
   ]
  },
  {
   "cell_type": "code",
   "execution_count": null,
   "id": "d3dd8f2a-d308-4696-8140-7fc2ffc6648d",
   "metadata": {},
   "outputs": [],
   "source": []
  },
  {
   "cell_type": "markdown",
   "id": "454d6c12-1659-4ddf-809f-32818b01704d",
   "metadata": {
    "tags": []
   },
   "source": [
    "## Set up and kick off autopilot job"
   ]
  },
  {
   "cell_type": "code",
   "execution_count": 19,
   "id": "cdf0f72e-2a39-4976-ab61-94e82af6fd17",
   "metadata": {
    "tags": []
   },
   "outputs": [],
   "source": [
    "input_data_config = [\n",
    "    {\n",
    "        \"DataSource\": {\n",
    "            \"S3DataSource\": {\n",
    "                \"S3DataType\": \"S3Prefix\",\n",
    "                \"S3Uri\": \"s3://{}/{}/{}/training_data_new\".format(bucket, folder_name, \"components\"),\n",
    "            }\n",
    "        },\n",
    "        \"TargetAttributeName\": \"target\",\n",
    "    }\n",
    "]\n",
    "\n",
    "output_data_config = {\"S3OutputPath\": \"s3://{}/{}/{}/autopilot_job_output\".format(bucket, folder_name, \"components\")}\n",
    "\n",
    "AutoML_Job_Config = {\n",
    "    \"CompletionCriteria\": {\n",
    "        # we set MaxCandidate to 50 to have shorter run time. Please adjust this for your use case.\n",
    "        \"MaxCandidates\": 50,\n",
    "        \"MaxAutoMLJobRuntimeInSeconds\": 1800,\n",
    "    }\n",
    "}"
   ]
  },
  {
   "cell_type": "code",
   "execution_count": 20,
   "id": "2971ba07-d398-4422-a487-83fad2b21b9b",
   "metadata": {
    "tags": []
   },
   "outputs": [
    {
     "name": "stdout",
     "output_type": "stream",
     "text": [
      "AutoMLJobName: automl-test-2023-03-01-181930\n"
     ]
    },
    {
     "data": {
      "text/plain": [
       "{'AutoMLJobArn': 'arn:aws:sagemaker:us-east-1:707031497630:automl-job/automl-test-2023-03-01-181930',\n",
       " 'ResponseMetadata': {'RequestId': '23e59326-ec40-4c0c-bacd-b742e816c1ff',\n",
       "  'HTTPStatusCode': 200,\n",
       "  'HTTPHeaders': {'x-amzn-requestid': '23e59326-ec40-4c0c-bacd-b742e816c1ff',\n",
       "   'content-type': 'application/x-amz-json-1.1',\n",
       "   'content-length': '100',\n",
       "   'date': 'Wed, 01 Mar 2023 18:32:55 GMT'},\n",
       "  'RetryAttempts': 0}}"
      ]
     },
     "execution_count": 20,
     "metadata": {},
     "output_type": "execute_result"
    }
   ],
   "source": [
    "sm = boto3.Session().client(service_name=\"sagemaker\", region_name=region)\n",
    "# timestamp_suffix = strftime(\"%d-%H-%M-%S\", gmtime())\n",
    "\n",
    "auto_ml_job_name = \"automl-test-\" + timestamp_suffix\n",
    "print(\"AutoMLJobName: \" + auto_ml_job_name)\n",
    "\n",
    "sm.create_auto_ml_job(\n",
    "    AutoMLJobName=auto_ml_job_name,\n",
    "    InputDataConfig=input_data_config,\n",
    "    OutputDataConfig=output_data_config,\n",
    "    AutoMLJobConfig=AutoML_Job_Config,\n",
    "    RoleArn=role,\n",
    "    Tags=tags\n",
    ")"
   ]
  },
  {
   "cell_type": "code",
   "execution_count": 21,
   "id": "ed229807-b648-4d5b-8ab2-082a90782de8",
   "metadata": {
    "scrolled": true,
    "tags": []
   },
   "outputs": [
    {
     "name": "stdout",
     "output_type": "stream",
     "text": [
      "JobStatus - Secondary Status\n",
      "------------------------------\n",
      "InProgress - AnalyzingData\n",
      "InProgress - AnalyzingData\n",
      "InProgress - AnalyzingData\n",
      "InProgress - AnalyzingData\n",
      "InProgress - AnalyzingData\n",
      "InProgress - AnalyzingData\n",
      "InProgress - AnalyzingData\n",
      "InProgress - AnalyzingData\n",
      "InProgress - AnalyzingData\n",
      "InProgress - AnalyzingData\n",
      "InProgress - AnalyzingData\n",
      "InProgress - AnalyzingData\n",
      "InProgress - AnalyzingData\n",
      "InProgress - AnalyzingData\n",
      "InProgress - AnalyzingData\n",
      "InProgress - AnalyzingData\n",
      "InProgress - AnalyzingData\n",
      "InProgress - AnalyzingData\n",
      "InProgress - FeatureEngineering\n",
      "InProgress - FeatureEngineering\n",
      "InProgress - FeatureEngineering\n",
      "InProgress - FeatureEngineering\n",
      "InProgress - FeatureEngineering\n",
      "InProgress - FeatureEngineering\n",
      "InProgress - FeatureEngineering\n",
      "InProgress - FeatureEngineering\n",
      "InProgress - FeatureEngineering\n",
      "InProgress - FeatureEngineering\n",
      "InProgress - FeatureEngineering\n",
      "InProgress - FeatureEngineering\n",
      "InProgress - FeatureEngineering\n",
      "InProgress - FeatureEngineering\n",
      "InProgress - FeatureEngineering\n",
      "InProgress - FeatureEngineering\n",
      "InProgress - FeatureEngineering\n",
      "InProgress - FeatureEngineering\n",
      "InProgress - FeatureEngineering\n",
      "InProgress - FeatureEngineering\n",
      "InProgress - ModelTuning\n",
      "InProgress - ModelTuning\n",
      "InProgress - ModelTuning\n",
      "InProgress - ModelTuning\n",
      "InProgress - ModelTuning\n",
      "InProgress - ModelTuning\n",
      "InProgress - ModelTuning\n",
      "InProgress - ModelTuning\n",
      "InProgress - ModelTuning\n",
      "InProgress - ModelTuning\n",
      "InProgress - ModelTuning\n",
      "InProgress - ModelTuning\n",
      "InProgress - ModelTuning\n",
      "InProgress - ModelTuning\n",
      "InProgress - ModelTuning\n",
      "InProgress - ModelTuning\n",
      "InProgress - ModelTuning\n",
      "InProgress - ModelTuning\n",
      "InProgress - ModelTuning\n",
      "InProgress - ModelTuning\n",
      "InProgress - ModelTuning\n",
      "InProgress - ModelTuning\n",
      "InProgress - ModelTuning\n",
      "Completed - MaxAutoMLJobRuntimeReached\n"
     ]
    }
   ],
   "source": [
    "print(\"JobStatus - Secondary Status\")\n",
    "print(\"------------------------------\")\n",
    "\n",
    "\n",
    "describe_response = sm.describe_auto_ml_job(AutoMLJobName=auto_ml_job_name)\n",
    "print(describe_response[\"AutoMLJobStatus\"] + \" - \" + describe_response[\"AutoMLJobSecondaryStatus\"])\n",
    "job_run_status = describe_response[\"AutoMLJobStatus\"]\n",
    "\n",
    "while job_run_status not in (\"Failed\", \"Completed\", \"Stopped\"):\n",
    "    describe_response = sm.describe_auto_ml_job(AutoMLJobName=auto_ml_job_name)\n",
    "    job_run_status = describe_response[\"AutoMLJobStatus\"]\n",
    "\n",
    "    print(\n",
    "        describe_response[\"AutoMLJobStatus\"] + \" - \" + describe_response[\"AutoMLJobSecondaryStatus\"]\n",
    "    )\n",
    "    sleep(30)"
   ]
  },
  {
   "cell_type": "markdown",
   "id": "511aa6a1-dd97-4865-a6b3-71f6e0d77f77",
   "metadata": {},
   "source": [
    "## Results"
   ]
  },
  {
   "cell_type": "code",
   "execution_count": 22,
   "id": "a013f0e7-2707-4cd8-a3be-a6f33b9be60d",
   "metadata": {
    "tags": []
   },
   "outputs": [
    {
     "name": "stdout",
     "output_type": "stream",
     "text": [
      "\n",
      "\n",
      "CandidateName: automl-test-2023-03-01-181930fhh-009-b8c2bea3\n",
      "CandidateName Steps: validation:binary_f_beta\n",
      "FinalAutoMLJobObjectiveMetricName: validation:binary_f_beta\n",
      "FinalAutoMLJobObjectiveMetricValue: 1.0\n"
     ]
    }
   ],
   "source": [
    "from IPython.display import JSON\n",
    "\n",
    "best_candidate = sm.describe_auto_ml_job(AutoMLJobName=auto_ml_job_name)[\"BestCandidate\"]\n",
    "best_candidate_name = best_candidate[\"CandidateName\"]\n",
    "\n",
    "print(\"\\n\")\n",
    "print(\"CandidateName: \" + best_candidate_name)\n",
    "print(\"CandidateName Steps: \" + best_candidate[\"FinalAutoMLJobObjectiveMetric\"][\"MetricName\"])\n",
    "print(\n",
    "    \"FinalAutoMLJobObjectiveMetricName: \"\n",
    "    + best_candidate[\"FinalAutoMLJobObjectiveMetric\"][\"MetricName\"]\n",
    ")\n",
    "print(\n",
    "    \"FinalAutoMLJobObjectiveMetricValue: \"\n",
    "    + str(best_candidate[\"FinalAutoMLJobObjectiveMetric\"][\"Value\"])\n",
    ")"
   ]
  },
  {
   "cell_type": "code",
   "execution_count": 36,
   "id": "04d1f604-f674-4ac0-9f53-8967b4535669",
   "metadata": {
    "tags": []
   },
   "outputs": [
    {
     "name": "stdout",
     "output_type": "stream",
     "text": [
      "automl-test-2023-03-01-181930fhh-009-b8c2bea3\n"
     ]
    }
   ],
   "source": [
    "print(best_candidate[\"CandidateName\"])"
   ]
  },
  {
   "cell_type": "code",
   "execution_count": 39,
   "id": "88a3ab88-06c3-4de4-8f27-877764f5b137",
   "metadata": {
    "scrolled": true,
    "tags": []
   },
   "outputs": [
    {
     "data": {
      "text/plain": [
       "{'AutoMLJobName': 'automl-test-2023-03-01-181930',\n",
       " 'AutoMLJobArn': 'arn:aws:sagemaker:us-east-1:707031497630:automl-job/automl-test-2023-03-01-181930',\n",
       " 'InputDataConfig': [{'DataSource': {'S3DataSource': {'S3DataType': 'S3Prefix',\n",
       "     'S3Uri': 's3://sagemaker-us-east-1-707031497630/custom_preprocessing-2023-03-01-181930/components/training_data_new'}},\n",
       "   'TargetAttributeName': 'target',\n",
       "   'ContentType': 'text/csv;header=present',\n",
       "   'ChannelType': 'training'}],\n",
       " 'OutputDataConfig': {'S3OutputPath': 's3://sagemaker-us-east-1-707031497630/custom_preprocessing-2023-03-01-181930/components/autopilot_job_output'},\n",
       " 'RoleArn': 'arn:aws:iam::707031497630:role/service-role/AmazonSageMaker-ExecutionRole-20220218T020780',\n",
       " 'AutoMLJobConfig': {'CompletionCriteria': {'MaxCandidates': 50,\n",
       "   'MaxAutoMLJobRuntimeInSeconds': 1800}},\n",
       " 'CreationTime': datetime.datetime(2023, 3, 1, 18, 32, 54, 818000, tzinfo=tzlocal()),\n",
       " 'EndTime': datetime.datetime(2023, 3, 1, 19, 2, 58, 619000, tzinfo=tzlocal()),\n",
       " 'LastModifiedTime': datetime.datetime(2023, 3, 1, 19, 2, 58, 655000, tzinfo=tzlocal()),\n",
       " 'BestCandidate': {'CandidateName': 'automl-test-2023-03-01-181930fhh-009-b8c2bea3',\n",
       "  'FinalAutoMLJobObjectiveMetric': {'MetricName': 'validation:binary_f_beta',\n",
       "   'Value': 1.0,\n",
       "   'StandardMetricName': 'F1'},\n",
       "  'ObjectiveStatus': 'Succeeded',\n",
       "  'CandidateSteps': [{'CandidateStepType': 'AWS::SageMaker::ProcessingJob',\n",
       "    'CandidateStepArn': 'arn:aws:sagemaker:us-east-1:707031497630:processing-job/automl-test-2023-03-01-181930-db-1-1a19b54775c04aac80fbd6428ef0',\n",
       "    'CandidateStepName': 'automl-test-2023-03-01-181930-db-1-1a19b54775c04aac80fbd6428ef0'},\n",
       "   {'CandidateStepType': 'AWS::SageMaker::TrainingJob',\n",
       "    'CandidateStepArn': 'arn:aws:sagemaker:us-east-1:707031497630:training-job/automl-test-2023-03-01-181930-dpp5-1-aecb2b7e2fb74785be17c41913',\n",
       "    'CandidateStepName': 'automl-test-2023-03-01-181930-dpp5-1-aecb2b7e2fb74785be17c41913'},\n",
       "   {'CandidateStepType': 'AWS::SageMaker::TransformJob',\n",
       "    'CandidateStepArn': 'arn:aws:sagemaker:us-east-1:707031497630:transform-job/automl-test-2023-03-01-181930-dpp5-csv-1-65d665840d9d4c32a29247',\n",
       "    'CandidateStepName': 'automl-test-2023-03-01-181930-dpp5-csv-1-65d665840d9d4c32a29247'},\n",
       "   {'CandidateStepType': 'AWS::SageMaker::TrainingJob',\n",
       "    'CandidateStepArn': 'arn:aws:sagemaker:us-east-1:707031497630:training-job/automl-test-2023-03-01-181930fhh-009-b8c2bea3',\n",
       "    'CandidateStepName': 'automl-test-2023-03-01-181930fhh-009-b8c2bea3'}],\n",
       "  'CandidateStatus': 'Completed',\n",
       "  'InferenceContainers': [{'Image': '683313688378.dkr.ecr.us-east-1.amazonaws.com/sagemaker-sklearn-automl:2.5-1-cpu-py3',\n",
       "    'ModelDataUrl': 's3://sagemaker-us-east-1-707031497630/custom_preprocessing-2023-03-01-181930/components/autopilot_job_output/automl-test-2023-03-01-181930/data-processor-models/automl-test-2023-03-01-181930-dpp5-1-aecb2b7e2fb74785be17c41913/output/model.tar.gz',\n",
       "    'Environment': {'AUTOML_TRANSFORM_MODE': 'feature-transform',\n",
       "     'SAGEMAKER_DEFAULT_INVOCATIONS_ACCEPT': 'application/x-recordio-protobuf',\n",
       "     'SAGEMAKER_PROGRAM': 'sagemaker_serve',\n",
       "     'SAGEMAKER_SUBMIT_DIRECTORY': '/opt/ml/model/code'}},\n",
       "   {'Image': '382416733822.dkr.ecr.us-east-1.amazonaws.com/mxnet-algorithms:inference-cpu',\n",
       "    'ModelDataUrl': 's3://sagemaker-us-east-1-707031497630/custom_preprocessing-2023-03-01-181930/components/autopilot_job_output/automl-test-2023-03-01-181930/tuning/automl-tes-dpp5-mlp/automl-test-2023-03-01-181930fhh-009-b8c2bea3/output/model.tar.gz',\n",
       "    'Environment': {'MAX_CONTENT_LENGTH': '20971520',\n",
       "     'ML_APPLICATION': 'mlp',\n",
       "     'SAGEMAKER_DEFAULT_INVOCATIONS_ACCEPT': 'text/csv',\n",
       "     'SAGEMAKER_INFERENCE_OUTPUT': 'predicted_label',\n",
       "     'SAGEMAKER_INFERENCE_SUPPORTED': 'predicted_label,probability,probabilities'}},\n",
       "   {'Image': '683313688378.dkr.ecr.us-east-1.amazonaws.com/sagemaker-sklearn-automl:2.5-1-cpu-py3',\n",
       "    'ModelDataUrl': 's3://sagemaker-us-east-1-707031497630/custom_preprocessing-2023-03-01-181930/components/autopilot_job_output/automl-test-2023-03-01-181930/data-processor-models/automl-test-2023-03-01-181930-dpp5-1-aecb2b7e2fb74785be17c41913/output/model.tar.gz',\n",
       "    'Environment': {'AUTOML_TRANSFORM_MODE': 'inverse-label-transform',\n",
       "     'SAGEMAKER_DEFAULT_INVOCATIONS_ACCEPT': 'text/csv',\n",
       "     'SAGEMAKER_INFERENCE_INPUT': 'predicted_label',\n",
       "     'SAGEMAKER_INFERENCE_OUTPUT': 'predicted_label',\n",
       "     'SAGEMAKER_INFERENCE_SUPPORTED': 'predicted_label,probability,labels,probabilities',\n",
       "     'SAGEMAKER_PROGRAM': 'sagemaker_serve',\n",
       "     'SAGEMAKER_SUBMIT_DIRECTORY': '/opt/ml/model/code'}}],\n",
       "  'CreationTime': datetime.datetime(2023, 3, 1, 18, 52, 51, tzinfo=tzlocal()),\n",
       "  'EndTime': datetime.datetime(2023, 3, 1, 18, 55, 9, tzinfo=tzlocal()),\n",
       "  'LastModifiedTime': datetime.datetime(2023, 3, 1, 19, 2, 57, 268000, tzinfo=tzlocal()),\n",
       "  'CandidateProperties': {'CandidateMetrics': [{'MetricName': 'LogLoss',\n",
       "     'Value': 0.1540791094303131,\n",
       "     'Set': 'Validation',\n",
       "     'StandardMetricName': 'LogLoss'},\n",
       "    {'MetricName': 'Accuracy',\n",
       "     'Value': 1.0,\n",
       "     'Set': 'Validation',\n",
       "     'StandardMetricName': 'Accuracy'},\n",
       "    {'MetricName': 'Recall',\n",
       "     'Value': 1.0,\n",
       "     'Set': 'Validation',\n",
       "     'StandardMetricName': 'Recall'},\n",
       "    {'MetricName': 'Precision',\n",
       "     'Value': 1.0,\n",
       "     'Set': 'Validation',\n",
       "     'StandardMetricName': 'Precision'},\n",
       "    {'MetricName': 'AUC',\n",
       "     'Value': 1.0,\n",
       "     'Set': 'Validation',\n",
       "     'StandardMetricName': 'AUC'},\n",
       "    {'MetricName': 'F1',\n",
       "     'Value': 1.0,\n",
       "     'Set': 'Validation',\n",
       "     'StandardMetricName': 'F1'},\n",
       "    {'MetricName': 'BalancedAccuracy',\n",
       "     'Value': 1.0,\n",
       "     'Set': 'Validation',\n",
       "     'StandardMetricName': 'BalancedAccuracy'}]}},\n",
       " 'AutoMLJobStatus': 'Completed',\n",
       " 'AutoMLJobSecondaryStatus': 'MaxAutoMLJobRuntimeReached',\n",
       " 'GenerateCandidateDefinitionsOnly': False,\n",
       " 'AutoMLJobArtifacts': {'CandidateDefinitionNotebookLocation': 's3://sagemaker-us-east-1-707031497630/custom_preprocessing-2023-03-01-181930/components/autopilot_job_output/automl-test-2023-03-01-181930/sagemaker-automl-candidates/automl-test-2023-03-01-181930-pr-1-c3a7fe05386547f8921def5a6420/notebooks/SageMakerAutopilotCandidateDefinitionNotebook.ipynb',\n",
       "  'DataExplorationNotebookLocation': 's3://sagemaker-us-east-1-707031497630/custom_preprocessing-2023-03-01-181930/components/autopilot_job_output/automl-test-2023-03-01-181930/sagemaker-automl-candidates/automl-test-2023-03-01-181930-pr-1-c3a7fe05386547f8921def5a6420/notebooks/SageMakerAutopilotDataExplorationNotebook.ipynb'},\n",
       " 'ResolvedAttributes': {'AutoMLJobObjective': {'MetricName': 'F1'},\n",
       "  'ProblemType': 'BinaryClassification',\n",
       "  'CompletionCriteria': {'MaxCandidates': 50,\n",
       "   'MaxRuntimePerTrainingJobInSeconds': 86400,\n",
       "   'MaxAutoMLJobRuntimeInSeconds': 1800}},\n",
       " 'ResponseMetadata': {'RequestId': '4dfa3d6d-5865-427b-a707-262eee4a6c91',\n",
       "  'HTTPStatusCode': 200,\n",
       "  'HTTPHeaders': {'x-amzn-requestid': '4dfa3d6d-5865-427b-a707-262eee4a6c91',\n",
       "   'content-type': 'application/x-amz-json-1.1',\n",
       "   'content-length': '5994',\n",
       "   'date': 'Wed, 01 Mar 2023 20:39:34 GMT'},\n",
       "  'RetryAttempts': 0}}"
      ]
     },
     "execution_count": 39,
     "metadata": {},
     "output_type": "execute_result"
    }
   ],
   "source": [
    "sm.describe_auto_ml_job(AutoMLJobName=auto_ml_job_name)"
   ]
  },
  {
   "cell_type": "code",
   "execution_count": 27,
   "id": "d7fab066-a914-41ff-9a05-f376fc4bc9c7",
   "metadata": {
    "tags": []
   },
   "outputs": [],
   "source": [
    "# sm.describe_auto_ml_job(AutoMLJobName=auto_ml_job_name)\n",
    "# sm.list_auto_ml_jobs()\n",
    "sm_dict = sm.list_candidates_for_auto_ml_job(AutoMLJobName=auto_ml_job_name)"
   ]
  },
  {
   "cell_type": "code",
   "execution_count": 33,
   "id": "d1573747-4080-4ea7-97a7-738f6f1301dc",
   "metadata": {
    "tags": []
   },
   "outputs": [
    {
     "name": "stdout",
     "output_type": "stream",
     "text": [
      "automl-test-2023-03-01-181930fhh-030-ed7fda56 {'MetricName': 'validation:f1_binary', 'Value': 1.0, 'StandardMetricName': 'F1'}\n",
      "683313688378.dkr.ecr.us-east-1.amazonaws.com/sagemaker-xgboost:1.3-1-cpu-py3 \n",
      "\n",
      "automl-test-2023-03-01-181930fhh-026-80743015 {'MetricName': 'validation:binary_f_beta', 'Value': 0.5853658318519592, 'StandardMetricName': 'F1'}\n",
      "382416733822.dkr.ecr.us-east-1.amazonaws.com/linear-learner:inference-cpu \n",
      "\n"
     ]
    }
   ],
   "source": [
    "for item in sm_dict[\"Candidates\"]:\n",
    "    if item['ObjectiveStatus'] != 'Failed':\n",
    "        print(item[\"CandidateName\"], item[\"FinalAutoMLJobObjectiveMetric\"])\n",
    "        print(item[\"InferenceContainers\"][1][\"Image\"], \"\\n\")"
   ]
  },
  {
   "cell_type": "code",
   "execution_count": 35,
   "id": "e6c0c47f-e139-4f4b-983d-90d9a29a71ab",
   "metadata": {
    "scrolled": true,
    "tags": []
   },
   "outputs": [
    {
     "name": "stdout",
     "output_type": "stream",
     "text": [
      "automl-test-2023-03-01-181930fhh-036-a5e40394\n",
      "automl-test-2023-03-01-181930fhh-034-5d7e7eca\n",
      "automl-test-2023-03-01-181930fhh-035-695ec68d\n",
      "automl-test-2023-03-01-181930fhh-032-efb3e95c\n",
      "automl-test-2023-03-01-181930fhh-033-d66cfadc\n",
      "automl-test-2023-03-01-181930fhh-031-4e48d4fd\n",
      "automl-test-2023-03-01-181930fhh-029-8594868d\n",
      "automl-test-2023-03-01-181930fhh-030-ed7fda56\n",
      "automl-test-2023-03-01-181930fhh-028-b4b230b4\n",
      "automl-test-2023-03-01-181930fhh-026-80743015\n"
     ]
    }
   ],
   "source": [
    "for item in sm_dict[\"Candidates\"]:\n",
    "    print(item[\"CandidateName\"])"
   ]
  },
  {
   "cell_type": "code",
   "execution_count": 32,
   "id": "35611993-6bef-46cb-af3d-c4b545233ea9",
   "metadata": {
    "scrolled": true,
    "tags": []
   },
   "outputs": [
    {
     "name": "stdout",
     "output_type": "stream",
     "text": [
      "{'CandidateName': 'automl-test-2023-03-01-181930fhh-036-a5e40394', 'ObjectiveStatus': 'Failed', 'CandidateSteps': [{'CandidateStepType': 'AWS::SageMaker::ProcessingJob', 'CandidateStepArn': 'arn:aws:sagemaker:us-east-1:707031497630:processing-job/automl-test-2023-03-01-181930-db-1-1a19b54775c04aac80fbd6428ef0', 'CandidateStepName': 'automl-test-2023-03-01-181930-db-1-1a19b54775c04aac80fbd6428ef0'}, {'CandidateStepType': 'AWS::SageMaker::TrainingJob', 'CandidateStepArn': 'arn:aws:sagemaker:us-east-1:707031497630:training-job/automl-test-2023-03-01-181930-dpp0-1-c296366c9d7f4f1c9fee7581e5', 'CandidateStepName': 'automl-test-2023-03-01-181930-dpp0-1-c296366c9d7f4f1c9fee7581e5'}, {'CandidateStepType': 'AWS::SageMaker::TransformJob', 'CandidateStepArn': 'arn:aws:sagemaker:us-east-1:707031497630:transform-job/automl-test-2023-03-01-181930-dpp0-csv-1-408e46c4c8a74757b6755a', 'CandidateStepName': 'automl-test-2023-03-01-181930-dpp0-csv-1-408e46c4c8a74757b6755a'}, {'CandidateStepType': 'AWS::SageMaker::TrainingJob', 'CandidateStepArn': 'arn:aws:sagemaker:us-east-1:707031497630:training-job/automl-test-2023-03-01-181930fhh-036-a5e40394', 'CandidateStepName': 'automl-test-2023-03-01-181930fhh-036-a5e40394'}], 'CandidateStatus': 'Stopped', 'InferenceContainers': [{'Image': '683313688378.dkr.ecr.us-east-1.amazonaws.com/sagemaker-sklearn-automl:2.5-1-cpu-py3', 'ModelDataUrl': 's3://sagemaker-us-east-1-707031497630/custom_preprocessing-2023-03-01-181930/components/autopilot_job_output/automl-test-2023-03-01-181930/data-processor-models/automl-test-2023-03-01-181930-dpp0-1-c296366c9d7f4f1c9fee7581e5/output/model.tar.gz', 'Environment': {'AUTOML_TRANSFORM_MODE': 'feature-transform', 'SAGEMAKER_DEFAULT_INVOCATIONS_ACCEPT': 'application/x-recordio-protobuf', 'SAGEMAKER_PROGRAM': 'sagemaker_serve', 'SAGEMAKER_SUBMIT_DIRECTORY': '/opt/ml/model/code'}}, {'Image': '683313688378.dkr.ecr.us-east-1.amazonaws.com/sagemaker-xgboost:1.3-1-cpu-py3', 'ModelDataUrl': 's3://sagemaker-us-east-1-707031497630/custom_preprocessing-2023-03-01-181930/components/autopilot_job_output/automl-test-2023-03-01-181930/tuning/automl-tes-dpp0-xgb/automl-test-2023-03-01-181930fhh-036-a5e40394/output/model.tar.gz', 'Environment': {'MAX_CONTENT_LENGTH': '20971520', 'SAGEMAKER_DEFAULT_INVOCATIONS_ACCEPT': 'text/csv', 'SAGEMAKER_INFERENCE_OUTPUT': 'predicted_label', 'SAGEMAKER_INFERENCE_SUPPORTED': 'predicted_label,probability,probabilities'}}, {'Image': '683313688378.dkr.ecr.us-east-1.amazonaws.com/sagemaker-sklearn-automl:2.5-1-cpu-py3', 'ModelDataUrl': 's3://sagemaker-us-east-1-707031497630/custom_preprocessing-2023-03-01-181930/components/autopilot_job_output/automl-test-2023-03-01-181930/data-processor-models/automl-test-2023-03-01-181930-dpp0-1-c296366c9d7f4f1c9fee7581e5/output/model.tar.gz', 'Environment': {'AUTOML_TRANSFORM_MODE': 'inverse-label-transform', 'SAGEMAKER_DEFAULT_INVOCATIONS_ACCEPT': 'text/csv', 'SAGEMAKER_INFERENCE_INPUT': 'predicted_label', 'SAGEMAKER_INFERENCE_OUTPUT': 'predicted_label', 'SAGEMAKER_INFERENCE_SUPPORTED': 'predicted_label,probability,labels,probabilities', 'SAGEMAKER_PROGRAM': 'sagemaker_serve', 'SAGEMAKER_SUBMIT_DIRECTORY': '/opt/ml/model/code'}}], 'CreationTime': datetime.datetime(2023, 3, 1, 19, 2, 44, tzinfo=tzlocal()), 'EndTime': datetime.datetime(2023, 3, 1, 19, 2, 57, 870000, tzinfo=tzlocal()), 'LastModifiedTime': datetime.datetime(2023, 3, 1, 19, 2, 57, 870000, tzinfo=tzlocal())} \n",
      "\n",
      "{'CandidateName': 'automl-test-2023-03-01-181930fhh-034-5d7e7eca', 'ObjectiveStatus': 'Failed', 'CandidateSteps': [{'CandidateStepType': 'AWS::SageMaker::ProcessingJob', 'CandidateStepArn': 'arn:aws:sagemaker:us-east-1:707031497630:processing-job/automl-test-2023-03-01-181930-db-1-1a19b54775c04aac80fbd6428ef0', 'CandidateStepName': 'automl-test-2023-03-01-181930-db-1-1a19b54775c04aac80fbd6428ef0'}, {'CandidateStepType': 'AWS::SageMaker::TrainingJob', 'CandidateStepArn': 'arn:aws:sagemaker:us-east-1:707031497630:training-job/automl-test-2023-03-01-181930-dpp4-1-b9cbb58c4c064cd5ac2bb02236', 'CandidateStepName': 'automl-test-2023-03-01-181930-dpp4-1-b9cbb58c4c064cd5ac2bb02236'}, {'CandidateStepType': 'AWS::SageMaker::TransformJob', 'CandidateStepArn': 'arn:aws:sagemaker:us-east-1:707031497630:transform-job/automl-test-2023-03-01-181930-dpp4-csv-1-4f1d10f80fec410aab5b2c', 'CandidateStepName': 'automl-test-2023-03-01-181930-dpp4-csv-1-4f1d10f80fec410aab5b2c'}, {'CandidateStepType': 'AWS::SageMaker::TrainingJob', 'CandidateStepArn': 'arn:aws:sagemaker:us-east-1:707031497630:training-job/automl-test-2023-03-01-181930fhh-034-5d7e7eca', 'CandidateStepName': 'automl-test-2023-03-01-181930fhh-034-5d7e7eca'}], 'CandidateStatus': 'Stopped', 'InferenceContainers': [{'Image': '683313688378.dkr.ecr.us-east-1.amazonaws.com/sagemaker-sklearn-automl:2.5-1-cpu-py3', 'ModelDataUrl': 's3://sagemaker-us-east-1-707031497630/custom_preprocessing-2023-03-01-181930/components/autopilot_job_output/automl-test-2023-03-01-181930/data-processor-models/automl-test-2023-03-01-181930-dpp4-1-b9cbb58c4c064cd5ac2bb02236/output/model.tar.gz', 'Environment': {'AUTOML_TRANSFORM_MODE': 'feature-transform', 'SAGEMAKER_DEFAULT_INVOCATIONS_ACCEPT': 'application/x-recordio-protobuf', 'SAGEMAKER_PROGRAM': 'sagemaker_serve', 'SAGEMAKER_SUBMIT_DIRECTORY': '/opt/ml/model/code'}}, {'Image': '683313688378.dkr.ecr.us-east-1.amazonaws.com/sagemaker-xgboost:1.3-1-cpu-py3', 'ModelDataUrl': 's3://sagemaker-us-east-1-707031497630/custom_preprocessing-2023-03-01-181930/components/autopilot_job_output/automl-test-2023-03-01-181930/tuning/automl-tes-dpp4-xgb/automl-test-2023-03-01-181930fhh-034-5d7e7eca/output/model.tar.gz', 'Environment': {'MAX_CONTENT_LENGTH': '20971520', 'SAGEMAKER_DEFAULT_INVOCATIONS_ACCEPT': 'text/csv', 'SAGEMAKER_INFERENCE_OUTPUT': 'predicted_label', 'SAGEMAKER_INFERENCE_SUPPORTED': 'predicted_label,probability,probabilities'}}, {'Image': '683313688378.dkr.ecr.us-east-1.amazonaws.com/sagemaker-sklearn-automl:2.5-1-cpu-py3', 'ModelDataUrl': 's3://sagemaker-us-east-1-707031497630/custom_preprocessing-2023-03-01-181930/components/autopilot_job_output/automl-test-2023-03-01-181930/data-processor-models/automl-test-2023-03-01-181930-dpp4-1-b9cbb58c4c064cd5ac2bb02236/output/model.tar.gz', 'Environment': {'AUTOML_TRANSFORM_MODE': 'inverse-label-transform', 'SAGEMAKER_DEFAULT_INVOCATIONS_ACCEPT': 'text/csv', 'SAGEMAKER_INFERENCE_INPUT': 'predicted_label', 'SAGEMAKER_INFERENCE_OUTPUT': 'predicted_label', 'SAGEMAKER_INFERENCE_SUPPORTED': 'predicted_label,probability,labels,probabilities', 'SAGEMAKER_PROGRAM': 'sagemaker_serve', 'SAGEMAKER_SUBMIT_DIRECTORY': '/opt/ml/model/code'}}], 'CreationTime': datetime.datetime(2023, 3, 1, 19, 2, 34, 329000, tzinfo=tzlocal()), 'EndTime': datetime.datetime(2023, 3, 1, 19, 2, 57, 871000, tzinfo=tzlocal()), 'LastModifiedTime': datetime.datetime(2023, 3, 1, 19, 2, 57, 871000, tzinfo=tzlocal())} \n",
      "\n",
      "{'CandidateName': 'automl-test-2023-03-01-181930fhh-035-695ec68d', 'ObjectiveStatus': 'Failed', 'CandidateSteps': [{'CandidateStepType': 'AWS::SageMaker::ProcessingJob', 'CandidateStepArn': 'arn:aws:sagemaker:us-east-1:707031497630:processing-job/automl-test-2023-03-01-181930-db-1-1a19b54775c04aac80fbd6428ef0', 'CandidateStepName': 'automl-test-2023-03-01-181930-db-1-1a19b54775c04aac80fbd6428ef0'}, {'CandidateStepType': 'AWS::SageMaker::TrainingJob', 'CandidateStepArn': 'arn:aws:sagemaker:us-east-1:707031497630:training-job/automl-test-2023-03-01-181930-dpp0-1-c296366c9d7f4f1c9fee7581e5', 'CandidateStepName': 'automl-test-2023-03-01-181930-dpp0-1-c296366c9d7f4f1c9fee7581e5'}, {'CandidateStepType': 'AWS::SageMaker::TransformJob', 'CandidateStepArn': 'arn:aws:sagemaker:us-east-1:707031497630:transform-job/automl-test-2023-03-01-181930-dpp0-csv-1-408e46c4c8a74757b6755a', 'CandidateStepName': 'automl-test-2023-03-01-181930-dpp0-csv-1-408e46c4c8a74757b6755a'}, {'CandidateStepType': 'AWS::SageMaker::TrainingJob', 'CandidateStepArn': 'arn:aws:sagemaker:us-east-1:707031497630:training-job/automl-test-2023-03-01-181930fhh-035-695ec68d', 'CandidateStepName': 'automl-test-2023-03-01-181930fhh-035-695ec68d'}], 'CandidateStatus': 'Stopped', 'InferenceContainers': [{'Image': '683313688378.dkr.ecr.us-east-1.amazonaws.com/sagemaker-sklearn-automl:2.5-1-cpu-py3', 'ModelDataUrl': 's3://sagemaker-us-east-1-707031497630/custom_preprocessing-2023-03-01-181930/components/autopilot_job_output/automl-test-2023-03-01-181930/data-processor-models/automl-test-2023-03-01-181930-dpp0-1-c296366c9d7f4f1c9fee7581e5/output/model.tar.gz', 'Environment': {'AUTOML_TRANSFORM_MODE': 'feature-transform', 'SAGEMAKER_DEFAULT_INVOCATIONS_ACCEPT': 'application/x-recordio-protobuf', 'SAGEMAKER_PROGRAM': 'sagemaker_serve', 'SAGEMAKER_SUBMIT_DIRECTORY': '/opt/ml/model/code'}}, {'Image': '683313688378.dkr.ecr.us-east-1.amazonaws.com/sagemaker-xgboost:1.3-1-cpu-py3', 'ModelDataUrl': 's3://sagemaker-us-east-1-707031497630/custom_preprocessing-2023-03-01-181930/components/autopilot_job_output/automl-test-2023-03-01-181930/tuning/automl-tes-dpp0-xgb/automl-test-2023-03-01-181930fhh-035-695ec68d/output/model.tar.gz', 'Environment': {'MAX_CONTENT_LENGTH': '20971520', 'SAGEMAKER_DEFAULT_INVOCATIONS_ACCEPT': 'text/csv', 'SAGEMAKER_INFERENCE_OUTPUT': 'predicted_label', 'SAGEMAKER_INFERENCE_SUPPORTED': 'predicted_label,probability,probabilities'}}, {'Image': '683313688378.dkr.ecr.us-east-1.amazonaws.com/sagemaker-sklearn-automl:2.5-1-cpu-py3', 'ModelDataUrl': 's3://sagemaker-us-east-1-707031497630/custom_preprocessing-2023-03-01-181930/components/autopilot_job_output/automl-test-2023-03-01-181930/data-processor-models/automl-test-2023-03-01-181930-dpp0-1-c296366c9d7f4f1c9fee7581e5/output/model.tar.gz', 'Environment': {'AUTOML_TRANSFORM_MODE': 'inverse-label-transform', 'SAGEMAKER_DEFAULT_INVOCATIONS_ACCEPT': 'text/csv', 'SAGEMAKER_INFERENCE_INPUT': 'predicted_label', 'SAGEMAKER_INFERENCE_OUTPUT': 'predicted_label', 'SAGEMAKER_INFERENCE_SUPPORTED': 'predicted_label,probability,labels,probabilities', 'SAGEMAKER_PROGRAM': 'sagemaker_serve', 'SAGEMAKER_SUBMIT_DIRECTORY': '/opt/ml/model/code'}}], 'CreationTime': datetime.datetime(2023, 3, 1, 19, 2, 34, tzinfo=tzlocal()), 'EndTime': datetime.datetime(2023, 3, 1, 19, 2, 57, 871000, tzinfo=tzlocal()), 'LastModifiedTime': datetime.datetime(2023, 3, 1, 19, 2, 57, 871000, tzinfo=tzlocal())} \n",
      "\n",
      "{'CandidateName': 'automl-test-2023-03-01-181930fhh-032-efb3e95c', 'ObjectiveStatus': 'Failed', 'CandidateSteps': [{'CandidateStepType': 'AWS::SageMaker::ProcessingJob', 'CandidateStepArn': 'arn:aws:sagemaker:us-east-1:707031497630:processing-job/automl-test-2023-03-01-181930-db-1-1a19b54775c04aac80fbd6428ef0', 'CandidateStepName': 'automl-test-2023-03-01-181930-db-1-1a19b54775c04aac80fbd6428ef0'}, {'CandidateStepType': 'AWS::SageMaker::TrainingJob', 'CandidateStepArn': 'arn:aws:sagemaker:us-east-1:707031497630:training-job/automl-test-2023-03-01-181930-dpp0-1-c296366c9d7f4f1c9fee7581e5', 'CandidateStepName': 'automl-test-2023-03-01-181930-dpp0-1-c296366c9d7f4f1c9fee7581e5'}, {'CandidateStepType': 'AWS::SageMaker::TransformJob', 'CandidateStepArn': 'arn:aws:sagemaker:us-east-1:707031497630:transform-job/automl-test-2023-03-01-181930-dpp0-csv-1-408e46c4c8a74757b6755a', 'CandidateStepName': 'automl-test-2023-03-01-181930-dpp0-csv-1-408e46c4c8a74757b6755a'}, {'CandidateStepType': 'AWS::SageMaker::TrainingJob', 'CandidateStepArn': 'arn:aws:sagemaker:us-east-1:707031497630:training-job/automl-test-2023-03-01-181930fhh-032-efb3e95c', 'CandidateStepName': 'automl-test-2023-03-01-181930fhh-032-efb3e95c'}], 'CandidateStatus': 'Stopped', 'InferenceContainers': [{'Image': '683313688378.dkr.ecr.us-east-1.amazonaws.com/sagemaker-sklearn-automl:2.5-1-cpu-py3', 'ModelDataUrl': 's3://sagemaker-us-east-1-707031497630/custom_preprocessing-2023-03-01-181930/components/autopilot_job_output/automl-test-2023-03-01-181930/data-processor-models/automl-test-2023-03-01-181930-dpp0-1-c296366c9d7f4f1c9fee7581e5/output/model.tar.gz', 'Environment': {'AUTOML_TRANSFORM_MODE': 'feature-transform', 'SAGEMAKER_DEFAULT_INVOCATIONS_ACCEPT': 'application/x-recordio-protobuf', 'SAGEMAKER_PROGRAM': 'sagemaker_serve', 'SAGEMAKER_SUBMIT_DIRECTORY': '/opt/ml/model/code'}}, {'Image': '683313688378.dkr.ecr.us-east-1.amazonaws.com/sagemaker-xgboost:1.3-1-cpu-py3', 'ModelDataUrl': 's3://sagemaker-us-east-1-707031497630/custom_preprocessing-2023-03-01-181930/components/autopilot_job_output/automl-test-2023-03-01-181930/tuning/automl-tes-dpp0-xgb/automl-test-2023-03-01-181930fhh-032-efb3e95c/output/model.tar.gz', 'Environment': {'MAX_CONTENT_LENGTH': '20971520', 'SAGEMAKER_DEFAULT_INVOCATIONS_ACCEPT': 'text/csv', 'SAGEMAKER_INFERENCE_OUTPUT': 'predicted_label', 'SAGEMAKER_INFERENCE_SUPPORTED': 'predicted_label,probability,probabilities'}}, {'Image': '683313688378.dkr.ecr.us-east-1.amazonaws.com/sagemaker-sklearn-automl:2.5-1-cpu-py3', 'ModelDataUrl': 's3://sagemaker-us-east-1-707031497630/custom_preprocessing-2023-03-01-181930/components/autopilot_job_output/automl-test-2023-03-01-181930/data-processor-models/automl-test-2023-03-01-181930-dpp0-1-c296366c9d7f4f1c9fee7581e5/output/model.tar.gz', 'Environment': {'AUTOML_TRANSFORM_MODE': 'inverse-label-transform', 'SAGEMAKER_DEFAULT_INVOCATIONS_ACCEPT': 'text/csv', 'SAGEMAKER_INFERENCE_INPUT': 'predicted_label', 'SAGEMAKER_INFERENCE_OUTPUT': 'predicted_label', 'SAGEMAKER_INFERENCE_SUPPORTED': 'predicted_label,probability,labels,probabilities', 'SAGEMAKER_PROGRAM': 'sagemaker_serve', 'SAGEMAKER_SUBMIT_DIRECTORY': '/opt/ml/model/code'}}], 'CreationTime': datetime.datetime(2023, 3, 1, 19, 1, 58, tzinfo=tzlocal()), 'EndTime': datetime.datetime(2023, 3, 1, 19, 2, 57, 871000, tzinfo=tzlocal()), 'LastModifiedTime': datetime.datetime(2023, 3, 1, 19, 2, 57, 871000, tzinfo=tzlocal())} \n",
      "\n",
      "{'CandidateName': 'automl-test-2023-03-01-181930fhh-033-d66cfadc', 'ObjectiveStatus': 'Failed', 'CandidateSteps': [{'CandidateStepType': 'AWS::SageMaker::ProcessingJob', 'CandidateStepArn': 'arn:aws:sagemaker:us-east-1:707031497630:processing-job/automl-test-2023-03-01-181930-db-1-1a19b54775c04aac80fbd6428ef0', 'CandidateStepName': 'automl-test-2023-03-01-181930-db-1-1a19b54775c04aac80fbd6428ef0'}, {'CandidateStepType': 'AWS::SageMaker::TrainingJob', 'CandidateStepArn': 'arn:aws:sagemaker:us-east-1:707031497630:training-job/automl-test-2023-03-01-181930-dpp4-1-b9cbb58c4c064cd5ac2bb02236', 'CandidateStepName': 'automl-test-2023-03-01-181930-dpp4-1-b9cbb58c4c064cd5ac2bb02236'}, {'CandidateStepType': 'AWS::SageMaker::TransformJob', 'CandidateStepArn': 'arn:aws:sagemaker:us-east-1:707031497630:transform-job/automl-test-2023-03-01-181930-dpp4-csv-1-4f1d10f80fec410aab5b2c', 'CandidateStepName': 'automl-test-2023-03-01-181930-dpp4-csv-1-4f1d10f80fec410aab5b2c'}, {'CandidateStepType': 'AWS::SageMaker::TrainingJob', 'CandidateStepArn': 'arn:aws:sagemaker:us-east-1:707031497630:training-job/automl-test-2023-03-01-181930fhh-033-d66cfadc', 'CandidateStepName': 'automl-test-2023-03-01-181930fhh-033-d66cfadc'}], 'CandidateStatus': 'Stopped', 'InferenceContainers': [{'Image': '683313688378.dkr.ecr.us-east-1.amazonaws.com/sagemaker-sklearn-automl:2.5-1-cpu-py3', 'ModelDataUrl': 's3://sagemaker-us-east-1-707031497630/custom_preprocessing-2023-03-01-181930/components/autopilot_job_output/automl-test-2023-03-01-181930/data-processor-models/automl-test-2023-03-01-181930-dpp4-1-b9cbb58c4c064cd5ac2bb02236/output/model.tar.gz', 'Environment': {'AUTOML_TRANSFORM_MODE': 'feature-transform', 'SAGEMAKER_DEFAULT_INVOCATIONS_ACCEPT': 'application/x-recordio-protobuf', 'SAGEMAKER_PROGRAM': 'sagemaker_serve', 'SAGEMAKER_SUBMIT_DIRECTORY': '/opt/ml/model/code'}}, {'Image': '683313688378.dkr.ecr.us-east-1.amazonaws.com/sagemaker-xgboost:1.3-1-cpu-py3', 'ModelDataUrl': 's3://sagemaker-us-east-1-707031497630/custom_preprocessing-2023-03-01-181930/components/autopilot_job_output/automl-test-2023-03-01-181930/tuning/automl-tes-dpp4-xgb/automl-test-2023-03-01-181930fhh-033-d66cfadc/output/model.tar.gz', 'Environment': {'MAX_CONTENT_LENGTH': '20971520', 'SAGEMAKER_DEFAULT_INVOCATIONS_ACCEPT': 'text/csv', 'SAGEMAKER_INFERENCE_OUTPUT': 'predicted_label', 'SAGEMAKER_INFERENCE_SUPPORTED': 'predicted_label,probability,probabilities'}}, {'Image': '683313688378.dkr.ecr.us-east-1.amazonaws.com/sagemaker-sklearn-automl:2.5-1-cpu-py3', 'ModelDataUrl': 's3://sagemaker-us-east-1-707031497630/custom_preprocessing-2023-03-01-181930/components/autopilot_job_output/automl-test-2023-03-01-181930/data-processor-models/automl-test-2023-03-01-181930-dpp4-1-b9cbb58c4c064cd5ac2bb02236/output/model.tar.gz', 'Environment': {'AUTOML_TRANSFORM_MODE': 'inverse-label-transform', 'SAGEMAKER_DEFAULT_INVOCATIONS_ACCEPT': 'text/csv', 'SAGEMAKER_INFERENCE_INPUT': 'predicted_label', 'SAGEMAKER_INFERENCE_OUTPUT': 'predicted_label', 'SAGEMAKER_INFERENCE_SUPPORTED': 'predicted_label,probability,labels,probabilities', 'SAGEMAKER_PROGRAM': 'sagemaker_serve', 'SAGEMAKER_SUBMIT_DIRECTORY': '/opt/ml/model/code'}}], 'CreationTime': datetime.datetime(2023, 3, 1, 19, 1, 52, tzinfo=tzlocal()), 'EndTime': datetime.datetime(2023, 3, 1, 19, 2, 57, 871000, tzinfo=tzlocal()), 'LastModifiedTime': datetime.datetime(2023, 3, 1, 19, 2, 57, 871000, tzinfo=tzlocal())} \n",
      "\n",
      "{'CandidateName': 'automl-test-2023-03-01-181930fhh-031-4e48d4fd', 'ObjectiveStatus': 'Failed', 'CandidateSteps': [{'CandidateStepType': 'AWS::SageMaker::ProcessingJob', 'CandidateStepArn': 'arn:aws:sagemaker:us-east-1:707031497630:processing-job/automl-test-2023-03-01-181930-db-1-1a19b54775c04aac80fbd6428ef0', 'CandidateStepName': 'automl-test-2023-03-01-181930-db-1-1a19b54775c04aac80fbd6428ef0'}, {'CandidateStepType': 'AWS::SageMaker::TrainingJob', 'CandidateStepArn': 'arn:aws:sagemaker:us-east-1:707031497630:training-job/automl-test-2023-03-01-181930-dpp4-1-b9cbb58c4c064cd5ac2bb02236', 'CandidateStepName': 'automl-test-2023-03-01-181930-dpp4-1-b9cbb58c4c064cd5ac2bb02236'}, {'CandidateStepType': 'AWS::SageMaker::TransformJob', 'CandidateStepArn': 'arn:aws:sagemaker:us-east-1:707031497630:transform-job/automl-test-2023-03-01-181930-dpp4-csv-1-4f1d10f80fec410aab5b2c', 'CandidateStepName': 'automl-test-2023-03-01-181930-dpp4-csv-1-4f1d10f80fec410aab5b2c'}, {'CandidateStepType': 'AWS::SageMaker::TrainingJob', 'CandidateStepArn': 'arn:aws:sagemaker:us-east-1:707031497630:training-job/automl-test-2023-03-01-181930fhh-031-4e48d4fd', 'CandidateStepName': 'automl-test-2023-03-01-181930fhh-031-4e48d4fd'}], 'CandidateStatus': 'Stopped', 'InferenceContainers': [{'Image': '683313688378.dkr.ecr.us-east-1.amazonaws.com/sagemaker-sklearn-automl:2.5-1-cpu-py3', 'ModelDataUrl': 's3://sagemaker-us-east-1-707031497630/custom_preprocessing-2023-03-01-181930/components/autopilot_job_output/automl-test-2023-03-01-181930/data-processor-models/automl-test-2023-03-01-181930-dpp4-1-b9cbb58c4c064cd5ac2bb02236/output/model.tar.gz', 'Environment': {'AUTOML_TRANSFORM_MODE': 'feature-transform', 'SAGEMAKER_DEFAULT_INVOCATIONS_ACCEPT': 'application/x-recordio-protobuf', 'SAGEMAKER_PROGRAM': 'sagemaker_serve', 'SAGEMAKER_SUBMIT_DIRECTORY': '/opt/ml/model/code'}}, {'Image': '683313688378.dkr.ecr.us-east-1.amazonaws.com/sagemaker-xgboost:1.3-1-cpu-py3', 'ModelDataUrl': 's3://sagemaker-us-east-1-707031497630/custom_preprocessing-2023-03-01-181930/components/autopilot_job_output/automl-test-2023-03-01-181930/tuning/automl-tes-dpp4-xgb/automl-test-2023-03-01-181930fhh-031-4e48d4fd/output/model.tar.gz', 'Environment': {'MAX_CONTENT_LENGTH': '20971520', 'SAGEMAKER_DEFAULT_INVOCATIONS_ACCEPT': 'text/csv', 'SAGEMAKER_INFERENCE_OUTPUT': 'predicted_label', 'SAGEMAKER_INFERENCE_SUPPORTED': 'predicted_label,probability,probabilities'}}, {'Image': '683313688378.dkr.ecr.us-east-1.amazonaws.com/sagemaker-sklearn-automl:2.5-1-cpu-py3', 'ModelDataUrl': 's3://sagemaker-us-east-1-707031497630/custom_preprocessing-2023-03-01-181930/components/autopilot_job_output/automl-test-2023-03-01-181930/data-processor-models/automl-test-2023-03-01-181930-dpp4-1-b9cbb58c4c064cd5ac2bb02236/output/model.tar.gz', 'Environment': {'AUTOML_TRANSFORM_MODE': 'inverse-label-transform', 'SAGEMAKER_DEFAULT_INVOCATIONS_ACCEPT': 'text/csv', 'SAGEMAKER_INFERENCE_INPUT': 'predicted_label', 'SAGEMAKER_INFERENCE_OUTPUT': 'predicted_label', 'SAGEMAKER_INFERENCE_SUPPORTED': 'predicted_label,probability,labels,probabilities', 'SAGEMAKER_PROGRAM': 'sagemaker_serve', 'SAGEMAKER_SUBMIT_DIRECTORY': '/opt/ml/model/code'}}], 'CreationTime': datetime.datetime(2023, 3, 1, 19, 1, 40, tzinfo=tzlocal()), 'EndTime': datetime.datetime(2023, 3, 1, 19, 2, 57, 871000, tzinfo=tzlocal()), 'LastModifiedTime': datetime.datetime(2023, 3, 1, 19, 2, 57, 871000, tzinfo=tzlocal())} \n",
      "\n",
      "{'CandidateName': 'automl-test-2023-03-01-181930fhh-029-8594868d', 'ObjectiveStatus': 'Failed', 'CandidateSteps': [{'CandidateStepType': 'AWS::SageMaker::ProcessingJob', 'CandidateStepArn': 'arn:aws:sagemaker:us-east-1:707031497630:processing-job/automl-test-2023-03-01-181930-db-1-1a19b54775c04aac80fbd6428ef0', 'CandidateStepName': 'automl-test-2023-03-01-181930-db-1-1a19b54775c04aac80fbd6428ef0'}, {'CandidateStepType': 'AWS::SageMaker::TrainingJob', 'CandidateStepArn': 'arn:aws:sagemaker:us-east-1:707031497630:training-job/automl-test-2023-03-01-181930-dpp1-1-cb6784e8773a46ee98e2957089', 'CandidateStepName': 'automl-test-2023-03-01-181930-dpp1-1-cb6784e8773a46ee98e2957089'}, {'CandidateStepType': 'AWS::SageMaker::TransformJob', 'CandidateStepArn': 'arn:aws:sagemaker:us-east-1:707031497630:transform-job/automl-test-2023-03-01-181930-dpp1-csv-1-5afe96c2c6bc4308b39a0d', 'CandidateStepName': 'automl-test-2023-03-01-181930-dpp1-csv-1-5afe96c2c6bc4308b39a0d'}, {'CandidateStepType': 'AWS::SageMaker::TrainingJob', 'CandidateStepArn': 'arn:aws:sagemaker:us-east-1:707031497630:training-job/automl-test-2023-03-01-181930fhh-029-8594868d', 'CandidateStepName': 'automl-test-2023-03-01-181930fhh-029-8594868d'}], 'CandidateStatus': 'Stopped', 'InferenceContainers': [{'Image': '683313688378.dkr.ecr.us-east-1.amazonaws.com/sagemaker-sklearn-automl:2.5-1-cpu-py3', 'ModelDataUrl': 's3://sagemaker-us-east-1-707031497630/custom_preprocessing-2023-03-01-181930/components/autopilot_job_output/automl-test-2023-03-01-181930/data-processor-models/automl-test-2023-03-01-181930-dpp1-1-cb6784e8773a46ee98e2957089/output/model.tar.gz', 'Environment': {'AUTOML_TRANSFORM_MODE': 'feature-transform', 'SAGEMAKER_DEFAULT_INVOCATIONS_ACCEPT': 'application/x-recordio-protobuf', 'SAGEMAKER_PROGRAM': 'sagemaker_serve', 'SAGEMAKER_SUBMIT_DIRECTORY': '/opt/ml/model/code'}}, {'Image': '683313688378.dkr.ecr.us-east-1.amazonaws.com/sagemaker-xgboost:1.3-1-cpu-py3', 'ModelDataUrl': 's3://sagemaker-us-east-1-707031497630/custom_preprocessing-2023-03-01-181930/components/autopilot_job_output/automl-test-2023-03-01-181930/tuning/automl-tes-dpp1-xgb/automl-test-2023-03-01-181930fhh-029-8594868d/output/model.tar.gz', 'Environment': {'MAX_CONTENT_LENGTH': '20971520', 'SAGEMAKER_DEFAULT_INVOCATIONS_ACCEPT': 'text/csv', 'SAGEMAKER_INFERENCE_OUTPUT': 'predicted_label', 'SAGEMAKER_INFERENCE_SUPPORTED': 'predicted_label,probability,probabilities'}}, {'Image': '683313688378.dkr.ecr.us-east-1.amazonaws.com/sagemaker-sklearn-automl:2.5-1-cpu-py3', 'ModelDataUrl': 's3://sagemaker-us-east-1-707031497630/custom_preprocessing-2023-03-01-181930/components/autopilot_job_output/automl-test-2023-03-01-181930/data-processor-models/automl-test-2023-03-01-181930-dpp1-1-cb6784e8773a46ee98e2957089/output/model.tar.gz', 'Environment': {'AUTOML_TRANSFORM_MODE': 'inverse-label-transform', 'SAGEMAKER_DEFAULT_INVOCATIONS_ACCEPT': 'text/csv', 'SAGEMAKER_INFERENCE_INPUT': 'predicted_label', 'SAGEMAKER_INFERENCE_OUTPUT': 'predicted_label', 'SAGEMAKER_INFERENCE_SUPPORTED': 'predicted_label,probability,labels,probabilities', 'SAGEMAKER_PROGRAM': 'sagemaker_serve', 'SAGEMAKER_SUBMIT_DIRECTORY': '/opt/ml/model/code'}}], 'CreationTime': datetime.datetime(2023, 3, 1, 19, 1, 38, tzinfo=tzlocal()), 'EndTime': datetime.datetime(2023, 3, 1, 19, 2, 57, 871000, tzinfo=tzlocal()), 'LastModifiedTime': datetime.datetime(2023, 3, 1, 19, 2, 57, 871000, tzinfo=tzlocal())} \n",
      "\n",
      "{'CandidateName': 'automl-test-2023-03-01-181930fhh-030-ed7fda56', 'FinalAutoMLJobObjectiveMetric': {'MetricName': 'validation:f1_binary', 'Value': 1.0, 'StandardMetricName': 'F1'}, 'ObjectiveStatus': 'Succeeded', 'CandidateSteps': [{'CandidateStepType': 'AWS::SageMaker::ProcessingJob', 'CandidateStepArn': 'arn:aws:sagemaker:us-east-1:707031497630:processing-job/automl-test-2023-03-01-181930-db-1-1a19b54775c04aac80fbd6428ef0', 'CandidateStepName': 'automl-test-2023-03-01-181930-db-1-1a19b54775c04aac80fbd6428ef0'}, {'CandidateStepType': 'AWS::SageMaker::TrainingJob', 'CandidateStepArn': 'arn:aws:sagemaker:us-east-1:707031497630:training-job/automl-test-2023-03-01-181930-dpp0-1-c296366c9d7f4f1c9fee7581e5', 'CandidateStepName': 'automl-test-2023-03-01-181930-dpp0-1-c296366c9d7f4f1c9fee7581e5'}, {'CandidateStepType': 'AWS::SageMaker::TransformJob', 'CandidateStepArn': 'arn:aws:sagemaker:us-east-1:707031497630:transform-job/automl-test-2023-03-01-181930-dpp0-csv-1-408e46c4c8a74757b6755a', 'CandidateStepName': 'automl-test-2023-03-01-181930-dpp0-csv-1-408e46c4c8a74757b6755a'}, {'CandidateStepType': 'AWS::SageMaker::TrainingJob', 'CandidateStepArn': 'arn:aws:sagemaker:us-east-1:707031497630:training-job/automl-test-2023-03-01-181930fhh-030-ed7fda56', 'CandidateStepName': 'automl-test-2023-03-01-181930fhh-030-ed7fda56'}], 'CandidateStatus': 'Completed', 'InferenceContainers': [{'Image': '683313688378.dkr.ecr.us-east-1.amazonaws.com/sagemaker-sklearn-automl:2.5-1-cpu-py3', 'ModelDataUrl': 's3://sagemaker-us-east-1-707031497630/custom_preprocessing-2023-03-01-181930/components/autopilot_job_output/automl-test-2023-03-01-181930/data-processor-models/automl-test-2023-03-01-181930-dpp0-1-c296366c9d7f4f1c9fee7581e5/output/model.tar.gz', 'Environment': {'AUTOML_TRANSFORM_MODE': 'feature-transform', 'SAGEMAKER_DEFAULT_INVOCATIONS_ACCEPT': 'application/x-recordio-protobuf', 'SAGEMAKER_PROGRAM': 'sagemaker_serve', 'SAGEMAKER_SUBMIT_DIRECTORY': '/opt/ml/model/code'}}, {'Image': '683313688378.dkr.ecr.us-east-1.amazonaws.com/sagemaker-xgboost:1.3-1-cpu-py3', 'ModelDataUrl': 's3://sagemaker-us-east-1-707031497630/custom_preprocessing-2023-03-01-181930/components/autopilot_job_output/automl-test-2023-03-01-181930/tuning/automl-tes-dpp0-xgb/automl-test-2023-03-01-181930fhh-030-ed7fda56/output/model.tar.gz', 'Environment': {'MAX_CONTENT_LENGTH': '20971520', 'SAGEMAKER_DEFAULT_INVOCATIONS_ACCEPT': 'text/csv', 'SAGEMAKER_INFERENCE_OUTPUT': 'predicted_label', 'SAGEMAKER_INFERENCE_SUPPORTED': 'predicted_label,probability,probabilities'}}, {'Image': '683313688378.dkr.ecr.us-east-1.amazonaws.com/sagemaker-sklearn-automl:2.5-1-cpu-py3', 'ModelDataUrl': 's3://sagemaker-us-east-1-707031497630/custom_preprocessing-2023-03-01-181930/components/autopilot_job_output/automl-test-2023-03-01-181930/data-processor-models/automl-test-2023-03-01-181930-dpp0-1-c296366c9d7f4f1c9fee7581e5/output/model.tar.gz', 'Environment': {'AUTOML_TRANSFORM_MODE': 'inverse-label-transform', 'SAGEMAKER_DEFAULT_INVOCATIONS_ACCEPT': 'text/csv', 'SAGEMAKER_INFERENCE_INPUT': 'predicted_label', 'SAGEMAKER_INFERENCE_OUTPUT': 'predicted_label', 'SAGEMAKER_INFERENCE_SUPPORTED': 'predicted_label,probability,labels,probabilities', 'SAGEMAKER_PROGRAM': 'sagemaker_serve', 'SAGEMAKER_SUBMIT_DIRECTORY': '/opt/ml/model/code'}}], 'CreationTime': datetime.datetime(2023, 3, 1, 19, 1, 20, tzinfo=tzlocal()), 'EndTime': datetime.datetime(2023, 3, 1, 19, 2, 48, tzinfo=tzlocal()), 'LastModifiedTime': datetime.datetime(2023, 3, 1, 19, 2, 57, 17000, tzinfo=tzlocal()), 'CandidateProperties': {'CandidateMetrics': [{'MetricName': 'F1', 'Value': 1.0, 'Set': 'Validation', 'StandardMetricName': 'F1'}, {'MetricName': 'LogLoss', 'Value': 0.5542700290679932, 'Set': 'Validation', 'StandardMetricName': 'LogLoss'}, {'MetricName': 'Recall', 'Value': 1.0, 'Set': 'Validation', 'StandardMetricName': 'Recall'}, {'MetricName': 'Precision', 'Value': 1.0, 'Set': 'Validation', 'StandardMetricName': 'Precision'}, {'MetricName': 'AUC', 'Value': 1.0, 'Set': 'Validation', 'StandardMetricName': 'AUC'}, {'MetricName': 'Accuracy', 'Value': 1.0, 'Set': 'Validation', 'StandardMetricName': 'Accuracy'}, {'MetricName': 'BalancedAccuracy', 'Value': 1.0, 'Set': 'Validation', 'StandardMetricName': 'BalancedAccuracy'}]}} \n",
      "\n",
      "{'CandidateName': 'automl-test-2023-03-01-181930fhh-028-b4b230b4', 'ObjectiveStatus': 'Failed', 'CandidateSteps': [{'CandidateStepType': 'AWS::SageMaker::ProcessingJob', 'CandidateStepArn': 'arn:aws:sagemaker:us-east-1:707031497630:processing-job/automl-test-2023-03-01-181930-db-1-1a19b54775c04aac80fbd6428ef0', 'CandidateStepName': 'automl-test-2023-03-01-181930-db-1-1a19b54775c04aac80fbd6428ef0'}, {'CandidateStepType': 'AWS::SageMaker::TrainingJob', 'CandidateStepArn': 'arn:aws:sagemaker:us-east-1:707031497630:training-job/automl-test-2023-03-01-181930-dpp0-1-c296366c9d7f4f1c9fee7581e5', 'CandidateStepName': 'automl-test-2023-03-01-181930-dpp0-1-c296366c9d7f4f1c9fee7581e5'}, {'CandidateStepType': 'AWS::SageMaker::TransformJob', 'CandidateStepArn': 'arn:aws:sagemaker:us-east-1:707031497630:transform-job/automl-test-2023-03-01-181930-dpp0-csv-1-408e46c4c8a74757b6755a', 'CandidateStepName': 'automl-test-2023-03-01-181930-dpp0-csv-1-408e46c4c8a74757b6755a'}, {'CandidateStepType': 'AWS::SageMaker::TrainingJob', 'CandidateStepArn': 'arn:aws:sagemaker:us-east-1:707031497630:training-job/automl-test-2023-03-01-181930fhh-028-b4b230b4', 'CandidateStepName': 'automl-test-2023-03-01-181930fhh-028-b4b230b4'}], 'CandidateStatus': 'Stopped', 'InferenceContainers': [{'Image': '683313688378.dkr.ecr.us-east-1.amazonaws.com/sagemaker-sklearn-automl:2.5-1-cpu-py3', 'ModelDataUrl': 's3://sagemaker-us-east-1-707031497630/custom_preprocessing-2023-03-01-181930/components/autopilot_job_output/automl-test-2023-03-01-181930/data-processor-models/automl-test-2023-03-01-181930-dpp0-1-c296366c9d7f4f1c9fee7581e5/output/model.tar.gz', 'Environment': {'AUTOML_TRANSFORM_MODE': 'feature-transform', 'SAGEMAKER_DEFAULT_INVOCATIONS_ACCEPT': 'application/x-recordio-protobuf', 'SAGEMAKER_PROGRAM': 'sagemaker_serve', 'SAGEMAKER_SUBMIT_DIRECTORY': '/opt/ml/model/code'}}, {'Image': '683313688378.dkr.ecr.us-east-1.amazonaws.com/sagemaker-xgboost:1.3-1-cpu-py3', 'ModelDataUrl': 's3://sagemaker-us-east-1-707031497630/custom_preprocessing-2023-03-01-181930/components/autopilot_job_output/automl-test-2023-03-01-181930/tuning/automl-tes-dpp0-xgb/automl-test-2023-03-01-181930fhh-028-b4b230b4/output/model.tar.gz', 'Environment': {'MAX_CONTENT_LENGTH': '20971520', 'SAGEMAKER_DEFAULT_INVOCATIONS_ACCEPT': 'text/csv', 'SAGEMAKER_INFERENCE_OUTPUT': 'predicted_label', 'SAGEMAKER_INFERENCE_SUPPORTED': 'predicted_label,probability,probabilities'}}, {'Image': '683313688378.dkr.ecr.us-east-1.amazonaws.com/sagemaker-sklearn-automl:2.5-1-cpu-py3', 'ModelDataUrl': 's3://sagemaker-us-east-1-707031497630/custom_preprocessing-2023-03-01-181930/components/autopilot_job_output/automl-test-2023-03-01-181930/data-processor-models/automl-test-2023-03-01-181930-dpp0-1-c296366c9d7f4f1c9fee7581e5/output/model.tar.gz', 'Environment': {'AUTOML_TRANSFORM_MODE': 'inverse-label-transform', 'SAGEMAKER_DEFAULT_INVOCATIONS_ACCEPT': 'text/csv', 'SAGEMAKER_INFERENCE_INPUT': 'predicted_label', 'SAGEMAKER_INFERENCE_OUTPUT': 'predicted_label', 'SAGEMAKER_INFERENCE_SUPPORTED': 'predicted_label,probability,labels,probabilities', 'SAGEMAKER_PROGRAM': 'sagemaker_serve', 'SAGEMAKER_SUBMIT_DIRECTORY': '/opt/ml/model/code'}}], 'CreationTime': datetime.datetime(2023, 3, 1, 19, 0, 51, tzinfo=tzlocal()), 'EndTime': datetime.datetime(2023, 3, 1, 19, 2, 57, 871000, tzinfo=tzlocal()), 'LastModifiedTime': datetime.datetime(2023, 3, 1, 19, 2, 57, 871000, tzinfo=tzlocal())} \n",
      "\n",
      "{'CandidateName': 'automl-test-2023-03-01-181930fhh-026-80743015', 'FinalAutoMLJobObjectiveMetric': {'MetricName': 'validation:binary_f_beta', 'Value': 0.5853658318519592, 'StandardMetricName': 'F1'}, 'ObjectiveStatus': 'Succeeded', 'CandidateSteps': [{'CandidateStepType': 'AWS::SageMaker::ProcessingJob', 'CandidateStepArn': 'arn:aws:sagemaker:us-east-1:707031497630:processing-job/automl-test-2023-03-01-181930-db-1-1a19b54775c04aac80fbd6428ef0', 'CandidateStepName': 'automl-test-2023-03-01-181930-db-1-1a19b54775c04aac80fbd6428ef0'}, {'CandidateStepType': 'AWS::SageMaker::TrainingJob', 'CandidateStepArn': 'arn:aws:sagemaker:us-east-1:707031497630:training-job/automl-test-2023-03-01-181930-dpp2-1-e4aef67026a7450fa20643e9cf', 'CandidateStepName': 'automl-test-2023-03-01-181930-dpp2-1-e4aef67026a7450fa20643e9cf'}, {'CandidateStepType': 'AWS::SageMaker::TransformJob', 'CandidateStepArn': 'arn:aws:sagemaker:us-east-1:707031497630:transform-job/automl-test-2023-03-01-181930-dpp2-rpb-1-d0a5b8c6cf3d4667b750bd', 'CandidateStepName': 'automl-test-2023-03-01-181930-dpp2-rpb-1-d0a5b8c6cf3d4667b750bd'}, {'CandidateStepType': 'AWS::SageMaker::TrainingJob', 'CandidateStepArn': 'arn:aws:sagemaker:us-east-1:707031497630:training-job/automl-test-2023-03-01-181930fhh-026-80743015', 'CandidateStepName': 'automl-test-2023-03-01-181930fhh-026-80743015'}], 'CandidateStatus': 'Completed', 'InferenceContainers': [{'Image': '683313688378.dkr.ecr.us-east-1.amazonaws.com/sagemaker-sklearn-automl:2.5-1-cpu-py3', 'ModelDataUrl': 's3://sagemaker-us-east-1-707031497630/custom_preprocessing-2023-03-01-181930/components/autopilot_job_output/automl-test-2023-03-01-181930/data-processor-models/automl-test-2023-03-01-181930-dpp2-1-e4aef67026a7450fa20643e9cf/output/model.tar.gz', 'Environment': {'AUTOML_TRANSFORM_MODE': 'feature-transform', 'SAGEMAKER_DEFAULT_INVOCATIONS_ACCEPT': 'application/x-recordio-protobuf', 'SAGEMAKER_PROGRAM': 'sagemaker_serve', 'SAGEMAKER_SUBMIT_DIRECTORY': '/opt/ml/model/code'}}, {'Image': '382416733822.dkr.ecr.us-east-1.amazonaws.com/linear-learner:inference-cpu', 'ModelDataUrl': 's3://sagemaker-us-east-1-707031497630/custom_preprocessing-2023-03-01-181930/components/autopilot_job_output/automl-test-2023-03-01-181930/tuning/automl-tes-dpp2-ll/automl-test-2023-03-01-181930fhh-026-80743015/output/model.tar.gz', 'Environment': {'MAX_CONTENT_LENGTH': '20971520', 'ML_APPLICATION': 'linear_learner', 'SAGEMAKER_DEFAULT_INVOCATIONS_ACCEPT': 'text/csv', 'SAGEMAKER_INFERENCE_OUTPUT': 'predicted_label', 'SAGEMAKER_INFERENCE_SUPPORTED': 'predicted_label,probability,probabilities'}}, {'Image': '683313688378.dkr.ecr.us-east-1.amazonaws.com/sagemaker-sklearn-automl:2.5-1-cpu-py3', 'ModelDataUrl': 's3://sagemaker-us-east-1-707031497630/custom_preprocessing-2023-03-01-181930/components/autopilot_job_output/automl-test-2023-03-01-181930/data-processor-models/automl-test-2023-03-01-181930-dpp2-1-e4aef67026a7450fa20643e9cf/output/model.tar.gz', 'Environment': {'AUTOML_TRANSFORM_MODE': 'inverse-label-transform', 'SAGEMAKER_DEFAULT_INVOCATIONS_ACCEPT': 'text/csv', 'SAGEMAKER_INFERENCE_INPUT': 'predicted_label', 'SAGEMAKER_INFERENCE_OUTPUT': 'predicted_label', 'SAGEMAKER_INFERENCE_SUPPORTED': 'predicted_label,probability,labels,probabilities', 'SAGEMAKER_PROGRAM': 'sagemaker_serve', 'SAGEMAKER_SUBMIT_DIRECTORY': '/opt/ml/model/code'}}], 'CreationTime': datetime.datetime(2023, 3, 1, 19, 0, 15, tzinfo=tzlocal()), 'EndTime': datetime.datetime(2023, 3, 1, 19, 2, 2, tzinfo=tzlocal()), 'LastModifiedTime': datetime.datetime(2023, 3, 1, 19, 2, 34, 330000, tzinfo=tzlocal()), 'CandidateProperties': {'CandidateMetrics': [{'MetricName': 'LogLoss', 'Value': 11.743328094482422, 'Set': 'Validation', 'StandardMetricName': 'LogLoss'}, {'MetricName': 'F1', 'Value': 0.5853658318519592, 'Set': 'Validation', 'StandardMetricName': 'F1'}, {'MetricName': 'BalancedAccuracy', 'Value': 0.6499999761581421, 'Set': 'Validation', 'StandardMetricName': 'BalancedAccuracy'}, {'MetricName': 'Accuracy', 'Value': 0.6600000262260437, 'Set': 'Validation', 'StandardMetricName': 'Accuracy'}, {'MetricName': 'AUC', 'Value': 0.8799999952316284, 'Set': 'Validation', 'StandardMetricName': 'AUC'}, {'MetricName': 'Recall', 'Value': 0.6000000238418579, 'Set': 'Validation', 'StandardMetricName': 'Recall'}, {'MetricName': 'Precision', 'Value': 0.5714285969734192, 'Set': 'Validation', 'StandardMetricName': 'Precision'}]}} \n",
      "\n"
     ]
    }
   ],
   "source": [
    "for item in sm_dict[\"Candidates\"]:\n",
    "    print(item, \"\\n\")"
   ]
  },
  {
   "cell_type": "markdown",
   "id": "e0637e0c-cbbf-453c-8f97-5fba119c0a98",
   "metadata": {},
   "source": [
    "# Test Autopilot model\n",
    "\n",
    "Does it matter that the passed features don't have the target value for inference?\n",
    "\n",
    "- Original dataset: 5 rows, 10 columns. No target (Used this to test transformer model)\n",
    "- Processed dataset: 5 rows, 28 columns. No target (Use this to test Autopilot model)\n",
    "- new_df: 500 rows, 29 columns. Yes target (Used this to train the Autopilot model)\n",
    "\n",
    "Put label name into .py script. Use that to determine if label is in the dataset. (Example in [Inference Pipeline with Scikit-learn and Linear Learner](https://github.com/aws/amazon-sagemaker-examples/blob/main/sagemaker-python-sdk/scikit_learn_inference_pipeline/Inference%20Pipeline%20with%20Scikit-learn%20and%20Linear%20Learner.ipynb))"
   ]
  },
  {
   "cell_type": "markdown",
   "id": "c28fbaa5-1f1b-429e-9b99-8fadf0675bd3",
   "metadata": {},
   "source": [
    "## Set up the inference pipeline"
   ]
  },
  {
   "cell_type": "code",
   "execution_count": 24,
   "id": "8a66f02b-c9d3-400f-b920-977788528adf",
   "metadata": {
    "tags": []
   },
   "outputs": [
    {
     "data": {
      "text/plain": [
       "'s3://sagemaker-us-east-1-707031497630/sagemaker-scikit-learn-2023-03-01-18-19-37-681/source/sourcedir.tar.gz'"
      ]
     },
     "execution_count": 24,
     "metadata": {},
     "output_type": "execute_result"
    }
   ],
   "source": [
    "sklearn_transformer.latest_training_job.describe()[\"HyperParameters\"][\n",
    "    \"sagemaker_submit_directory\"\n",
    "][1:-1]"
   ]
  },
  {
   "cell_type": "code",
   "execution_count": 25,
   "id": "40592347-5b50-41d5-a9b7-6b41bb353f68",
   "metadata": {
    "tags": []
   },
   "outputs": [
    {
     "data": {
      "text/plain": [
       "[{'Image': '683313688378.dkr.ecr.us-east-1.amazonaws.com/sagemaker-sklearn-automl:2.5-1-cpu-py3',\n",
       "  'ModelDataUrl': 's3://sagemaker-us-east-1-707031497630/custom_preprocessing-2023-03-01-181930/components/autopilot_job_output/automl-test-2023-03-01-181930/data-processor-models/automl-test-2023-03-01-181930-dpp5-1-aecb2b7e2fb74785be17c41913/output/model.tar.gz',\n",
       "  'Environment': {'AUTOML_TRANSFORM_MODE': 'feature-transform',\n",
       "   'SAGEMAKER_DEFAULT_INVOCATIONS_ACCEPT': 'application/x-recordio-protobuf',\n",
       "   'SAGEMAKER_PROGRAM': 'sagemaker_serve',\n",
       "   'SAGEMAKER_SUBMIT_DIRECTORY': '/opt/ml/model/code'}},\n",
       " {'Image': '382416733822.dkr.ecr.us-east-1.amazonaws.com/mxnet-algorithms:inference-cpu',\n",
       "  'ModelDataUrl': 's3://sagemaker-us-east-1-707031497630/custom_preprocessing-2023-03-01-181930/components/autopilot_job_output/automl-test-2023-03-01-181930/tuning/automl-tes-dpp5-mlp/automl-test-2023-03-01-181930fhh-009-b8c2bea3/output/model.tar.gz',\n",
       "  'Environment': {'MAX_CONTENT_LENGTH': '20971520',\n",
       "   'ML_APPLICATION': 'mlp',\n",
       "   'SAGEMAKER_DEFAULT_INVOCATIONS_ACCEPT': 'text/csv',\n",
       "   'SAGEMAKER_INFERENCE_OUTPUT': 'predicted_label',\n",
       "   'SAGEMAKER_INFERENCE_SUPPORTED': 'predicted_label,probability,probabilities'}},\n",
       " {'Image': '683313688378.dkr.ecr.us-east-1.amazonaws.com/sagemaker-sklearn-automl:2.5-1-cpu-py3',\n",
       "  'ModelDataUrl': 's3://sagemaker-us-east-1-707031497630/custom_preprocessing-2023-03-01-181930/components/autopilot_job_output/automl-test-2023-03-01-181930/data-processor-models/automl-test-2023-03-01-181930-dpp5-1-aecb2b7e2fb74785be17c41913/output/model.tar.gz',\n",
       "  'Environment': {'AUTOML_TRANSFORM_MODE': 'inverse-label-transform',\n",
       "   'SAGEMAKER_DEFAULT_INVOCATIONS_ACCEPT': 'text/csv',\n",
       "   'SAGEMAKER_INFERENCE_INPUT': 'predicted_label',\n",
       "   'SAGEMAKER_INFERENCE_OUTPUT': 'predicted_label',\n",
       "   'SAGEMAKER_INFERENCE_SUPPORTED': 'predicted_label,probability,labels,probabilities',\n",
       "   'SAGEMAKER_PROGRAM': 'sagemaker_serve',\n",
       "   'SAGEMAKER_SUBMIT_DIRECTORY': '/opt/ml/model/code'}}]"
      ]
     },
     "execution_count": 25,
     "metadata": {},
     "output_type": "execute_result"
    }
   ],
   "source": [
    "best_candidate[\"InferenceContainers\"]"
   ]
  },
  {
   "cell_type": "code",
   "execution_count": null,
   "id": "4f75f9ac-b9e5-4320-bf0b-869d34e4c184",
   "metadata": {},
   "outputs": [],
   "source": []
  },
  {
   "cell_type": "code",
   "execution_count": 26,
   "id": "71ff8907-b546-4134-9742-cff697ef18d3",
   "metadata": {
    "tags": []
   },
   "outputs": [],
   "source": [
    "from botocore.exceptions import ClientError\n",
    "\n",
    "sagemaker = boto3.client(\"sagemaker\")\n",
    "import time\n",
    "from datetime import datetime\n",
    "\n",
    "# time_stamp = datetime.now().strftime(\"%m-%d-%Y-%I-%M-%S-%p\")\n",
    "# timestamp_suffix\n",
    "\n",
    "pipeline_name = \"pipeline-test-\" + timestamp_suffix\n",
    "pipeline_endpoint_config_name = \"pipeline-test-endpoint-config-\" + timestamp_suffix\n",
    "pipeline_endpoint_name = \"pipeline-test-endpoint-\" + timestamp_suffix\n",
    "\n",
    "sklearn_image = sklearn_transformer.image_uri\n",
    "container_1_source = sklearn_transformer.latest_training_job.describe()[\"HyperParameters\"][\n",
    "    \"sagemaker_submit_directory\"\n",
    "][1:-1]\n",
    "inference_containers = [\n",
    "    {\n",
    "        \"Image\": sklearn_image,\n",
    "        \"ModelDataUrl\": sklearn_transformer.model_data,\n",
    "        \"Environment\": {\n",
    "            \"SAGEMAKER_SUBMIT_DIRECTORY\": container_1_source,\n",
    "            \"SAGEMAKER_DEFAULT_INVOCATIONS_ACCEPT\": \"text/csv\",\n",
    "            \"SAGEMAKER_PROGRAM\": \"sklearn_feature_selection.py\",\n",
    "        },\n",
    "    }\n",
    "]\n",
    "\n",
    "inference_containers.extend(best_candidate[\"InferenceContainers\"])\n",
    "\n",
    "response = sagemaker.create_model(\n",
    "    ModelName=pipeline_name, Containers=inference_containers, ExecutionRoleArn=role\n",
    ")"
   ]
  },
  {
   "cell_type": "code",
   "execution_count": null,
   "id": "544a452c-a521-40c0-afe7-1b48566c1794",
   "metadata": {
    "scrolled": true,
    "tags": []
   },
   "outputs": [
    {
     "name": "stdout",
     "output_type": "stream",
     "text": [
      "{'EndpointConfigArn': 'arn:aws:sagemaker:us-east-1:707031497630:endpoint-config/pipeline-test-endpoint-config-2023-03-01-181930', 'ResponseMetadata': {'RequestId': 'cbd4d409-9140-419d-b2b0-e0f3cd79e662', 'HTTPStatusCode': 200, 'HTTPHeaders': {'x-amzn-requestid': 'cbd4d409-9140-419d-b2b0-e0f3cd79e662', 'content-type': 'application/x-amz-json-1.1', 'content-length': '128', 'date': 'Wed, 01 Mar 2023 20:43:13 GMT'}, 'RetryAttempts': 0}}\n",
      "\n",
      "{'EndpointArn': 'arn:aws:sagemaker:us-east-1:707031497630:endpoint/pipeline-test-endpoint-2023-03-01-181930', 'ResponseMetadata': {'RequestId': '79cc6a1f-021d-4a59-9044-175cb445093a', 'HTTPStatusCode': 200, 'HTTPHeaders': {'x-amzn-requestid': '79cc6a1f-021d-4a59-9044-175cb445093a', 'content-type': 'application/x-amz-json-1.1', 'content-length': '108', 'date': 'Wed, 01 Mar 2023 20:43:13 GMT'}, 'RetryAttempts': 0}}\n",
      "\n",
      "Creating\n",
      "Creating\n",
      "Creating\n",
      "Creating\n",
      "Creating\n",
      "Creating\n",
      "Creating\n",
      "Creating\n",
      "Creating\n",
      "Creating\n",
      "Creating\n",
      "Creating\n",
      "Creating\n",
      "Creating\n",
      "Creating\n",
      "Creating\n",
      "Creating\n",
      "Creating\n",
      "Creating\n",
      "Creating\n",
      "Creating\n",
      "Creating\n",
      "Creating\n",
      "Creating\n",
      "Creating\n",
      "Creating\n",
      "Creating\n",
      "Creating\n",
      "Creating\n",
      "Creating\n",
      "Creating\n",
      "Creating\n",
      "Creating\n",
      "Creating\n",
      "Creating\n",
      "Creating\n",
      "Creating\n",
      "Creating\n",
      "Creating\n",
      "Creating\n",
      "Creating\n",
      "Creating\n",
      "Creating\n",
      "Creating\n",
      "Creating\n",
      "Creating\n",
      "Creating\n",
      "Creating\n",
      "Creating\n",
      "Creating\n",
      "Creating\n",
      "Creating\n",
      "Creating\n",
      "Creating\n",
      "Creating\n",
      "Creating\n",
      "Creating\n",
      "Creating\n",
      "Creating\n",
      "Creating\n",
      "Creating\n",
      "Creating\n",
      "Failed\n"
     ]
    }
   ],
   "source": [
    "try:\n",
    "    response = sagemaker.create_endpoint_config(\n",
    "        EndpointConfigName=pipeline_endpoint_config_name,\n",
    "        ProductionVariants=[\n",
    "            {\n",
    "                \"VariantName\": \"DefaultVariant\",\n",
    "                \"ModelName\": pipeline_name,\n",
    "                \"InitialInstanceCount\": 1,\n",
    "                \"InstanceType\": \"ml.m4.xlarge\",\n",
    "            },\n",
    "        ],\n",
    "    )\n",
    "    print(\"{}\\n\".format(response))\n",
    "\n",
    "except ClientError:\n",
    "    print(\"Endpoint config already exists, continuing...\")\n",
    "\n",
    "\n",
    "try:\n",
    "    response = sagemaker.create_endpoint(\n",
    "        EndpointName=pipeline_endpoint_name,\n",
    "        EndpointConfigName=pipeline_endpoint_config_name,\n",
    "    )\n",
    "    print(\"{}\\n\".format(response))\n",
    "\n",
    "except ClientError:\n",
    "    print(\"Endpoint already exists, continuing...\")\n",
    "\n",
    "\n",
    "# Monitor the status until completed\n",
    "endpoint_status = sagemaker.describe_endpoint(EndpointName=pipeline_endpoint_name)[\"EndpointStatus\"]\n",
    "while endpoint_status not in (\"OutOfService\", \"InService\", \"Failed\"):\n",
    "    endpoint_status = sagemaker.describe_endpoint(EndpointName=pipeline_endpoint_name)[\n",
    "        \"EndpointStatus\"\n",
    "    ]\n",
    "    print(endpoint_status)\n",
    "    time.sleep(30)"
   ]
  },
  {
   "cell_type": "code",
   "execution_count": 55,
   "id": "fabd6c0d-ed6a-4bf9-b35a-cb5ccf7e5370",
   "metadata": {
    "scrolled": true,
    "tags": []
   },
   "outputs": [
    {
     "data": {
      "text/plain": [
       "\u001b[0;31mSignature:\u001b[0m\n",
       "\u001b[0msm_model\u001b[0m\u001b[0;34m.\u001b[0m\u001b[0mdeploy\u001b[0m\u001b[0;34m(\u001b[0m\u001b[0;34m\u001b[0m\n",
       "\u001b[0;34m\u001b[0m    \u001b[0minitial_instance_count\u001b[0m\u001b[0;34m,\u001b[0m\u001b[0;34m\u001b[0m\n",
       "\u001b[0;34m\u001b[0m    \u001b[0minstance_type\u001b[0m\u001b[0;34m,\u001b[0m\u001b[0;34m\u001b[0m\n",
       "\u001b[0;34m\u001b[0m    \u001b[0mserializer\u001b[0m\u001b[0;34m=\u001b[0m\u001b[0;32mNone\u001b[0m\u001b[0;34m,\u001b[0m\u001b[0;34m\u001b[0m\n",
       "\u001b[0;34m\u001b[0m    \u001b[0mdeserializer\u001b[0m\u001b[0;34m=\u001b[0m\u001b[0;32mNone\u001b[0m\u001b[0;34m,\u001b[0m\u001b[0;34m\u001b[0m\n",
       "\u001b[0;34m\u001b[0m    \u001b[0mendpoint_name\u001b[0m\u001b[0;34m=\u001b[0m\u001b[0;32mNone\u001b[0m\u001b[0;34m,\u001b[0m\u001b[0;34m\u001b[0m\n",
       "\u001b[0;34m\u001b[0m    \u001b[0mtags\u001b[0m\u001b[0;34m=\u001b[0m\u001b[0;32mNone\u001b[0m\u001b[0;34m,\u001b[0m\u001b[0;34m\u001b[0m\n",
       "\u001b[0;34m\u001b[0m    \u001b[0mwait\u001b[0m\u001b[0;34m=\u001b[0m\u001b[0;32mTrue\u001b[0m\u001b[0;34m,\u001b[0m\u001b[0;34m\u001b[0m\n",
       "\u001b[0;34m\u001b[0m    \u001b[0mupdate_endpoint\u001b[0m\u001b[0;34m=\u001b[0m\u001b[0;32mFalse\u001b[0m\u001b[0;34m,\u001b[0m\u001b[0;34m\u001b[0m\n",
       "\u001b[0;34m\u001b[0m    \u001b[0mdata_capture_config\u001b[0m\u001b[0;34m=\u001b[0m\u001b[0;32mNone\u001b[0m\u001b[0;34m,\u001b[0m\u001b[0;34m\u001b[0m\n",
       "\u001b[0;34m\u001b[0m    \u001b[0mkms_key\u001b[0m\u001b[0;34m=\u001b[0m\u001b[0;32mNone\u001b[0m\u001b[0;34m,\u001b[0m\u001b[0;34m\u001b[0m\n",
       "\u001b[0;34m\u001b[0m    \u001b[0mvolume_size\u001b[0m\u001b[0;34m=\u001b[0m\u001b[0;32mNone\u001b[0m\u001b[0;34m,\u001b[0m\u001b[0;34m\u001b[0m\n",
       "\u001b[0;34m\u001b[0m    \u001b[0mmodel_data_download_timeout\u001b[0m\u001b[0;34m=\u001b[0m\u001b[0;32mNone\u001b[0m\u001b[0;34m,\u001b[0m\u001b[0;34m\u001b[0m\n",
       "\u001b[0;34m\u001b[0m    \u001b[0mcontainer_startup_health_check_timeout\u001b[0m\u001b[0;34m=\u001b[0m\u001b[0;32mNone\u001b[0m\u001b[0;34m,\u001b[0m\u001b[0;34m\u001b[0m\n",
       "\u001b[0;34m\u001b[0m\u001b[0;34m)\u001b[0m\u001b[0;34m\u001b[0m\u001b[0;34m\u001b[0m\u001b[0m\n",
       "\u001b[0;31mDocstring:\u001b[0m\n",
       "Deploy the ``Model`` to an ``Endpoint``.\n",
       "\n",
       "It optionally return a ``Predictor``.\n",
       "\n",
       "Create a SageMaker ``Model`` and ``EndpointConfig``, and deploy an\n",
       "``Endpoint`` from this ``Model``. If ``self.predictor_cls`` is not None,\n",
       "this method returns a the result of invoking ``self.predictor_cls`` on\n",
       "the created endpoint name.\n",
       "\n",
       "The name of the created model is accessible in the ``name`` field of\n",
       "this ``Model`` after deploy returns\n",
       "\n",
       "The name of the created endpoint is accessible in the\n",
       "``endpoint_name`` field of this ``Model`` after deploy returns.\n",
       "\n",
       "Args:\n",
       "    initial_instance_count (int): The initial number of instances to run\n",
       "        in the ``Endpoint`` created from this ``Model``.\n",
       "    instance_type (str): The EC2 instance type to deploy this Model to.\n",
       "        For example, 'ml.p2.xlarge'.\n",
       "    serializer (:class:`~sagemaker.serializers.BaseSerializer`): A\n",
       "        serializer object, used to encode data for an inference endpoint\n",
       "        (default: None). If ``serializer`` is not None, then\n",
       "        ``serializer`` will override the default serializer. The\n",
       "        default serializer is set by the ``predictor_cls``.\n",
       "    deserializer (:class:`~sagemaker.deserializers.BaseDeserializer`): A\n",
       "        deserializer object, used to decode data from an inference\n",
       "        endpoint (default: None). If ``deserializer`` is not None, then\n",
       "        ``deserializer`` will override the default deserializer. The\n",
       "        default deserializer is set by the ``predictor_cls``.\n",
       "    endpoint_name (str): The name of the endpoint to create (default:\n",
       "        None). If not specified, a unique endpoint name will be created.\n",
       "    tags (List[dict[str, str]]): The list of tags to attach to this\n",
       "        specific endpoint.\n",
       "    wait (bool): Whether the call should wait until the deployment of\n",
       "        model completes (default: True).\n",
       "    update_endpoint (bool): Flag to update the model in an existing\n",
       "        Amazon SageMaker endpoint. If True, this will deploy a new\n",
       "        EndpointConfig to an already existing endpoint and delete\n",
       "        resources corresponding to the previous EndpointConfig. If\n",
       "        False, a new endpoint will be created. Default: False\n",
       "    data_capture_config (sagemaker.model_monitor.DataCaptureConfig): Specifies\n",
       "        configuration related to Endpoint data capture for use with\n",
       "        Amazon SageMaker Model Monitoring. Default: None.\n",
       "    kms_key (str): The ARN, Key ID or Alias of the KMS key that is used to\n",
       "        encrypt the data on the storage volume attached to the instance hosting\n",
       "        the endpoint.\n",
       "    volume_size (int): The size, in GB, of the ML storage volume attached to individual\n",
       "        inference instance associated with the production variant. Currenly only Amazon EBS\n",
       "        gp2 storage volumes are supported.\n",
       "    model_data_download_timeout (int): The timeout value, in seconds, to download and\n",
       "        extract model data from Amazon S3 to the individual inference instance associated\n",
       "        with this production variant.\n",
       "    container_startup_health_check_timeout (int): The timeout value, in seconds, for your\n",
       "        inference container to pass health check by SageMaker Hosting. For more information\n",
       "        about health check see:\n",
       "        https://docs.aws.amazon.com/sagemaker/latest/dg/your-algorithms-inference-code.html#your-algorithms-inference-algo-ping-requests\n",
       "\n",
       "Returns:\n",
       "    callable[string, sagemaker.session.Session] or None: Invocation of\n",
       "    ``self.predictor_cls`` on the created endpoint name, if ``self.predictor_cls``\n",
       "    is not None. Otherwise, return None.\n",
       "\u001b[0;31mFile:\u001b[0m      /opt/conda/lib/python3.7/site-packages/sagemaker/pipeline.py\n",
       "\u001b[0;31mType:\u001b[0m      method\n"
      ]
     },
     "metadata": {},
     "output_type": "display_data"
    }
   ],
   "source": [
    "sm_model.deploy?"
   ]
  },
  {
   "cell_type": "code",
   "execution_count": 59,
   "id": "c097e9e6-c7c0-4c25-a61d-1c46271117c3",
   "metadata": {
    "scrolled": true,
    "tags": []
   },
   "outputs": [
    {
     "data": {
      "text/plain": [
       "\u001b[0;31mSignature:\u001b[0m\n",
       "\u001b[0msklearn_transformer\u001b[0m\u001b[0;34m.\u001b[0m\u001b[0mcreate_model\u001b[0m\u001b[0;34m(\u001b[0m\u001b[0;34m\u001b[0m\n",
       "\u001b[0;34m\u001b[0m    \u001b[0mmodel_server_workers\u001b[0m\u001b[0;34m=\u001b[0m\u001b[0;32mNone\u001b[0m\u001b[0;34m,\u001b[0m\u001b[0;34m\u001b[0m\n",
       "\u001b[0;34m\u001b[0m    \u001b[0mrole\u001b[0m\u001b[0;34m=\u001b[0m\u001b[0;32mNone\u001b[0m\u001b[0;34m,\u001b[0m\u001b[0;34m\u001b[0m\n",
       "\u001b[0;34m\u001b[0m    \u001b[0mvpc_config_override\u001b[0m\u001b[0;34m=\u001b[0m\u001b[0;34m'VPC_CONFIG_DEFAULT'\u001b[0m\u001b[0;34m,\u001b[0m\u001b[0;34m\u001b[0m\n",
       "\u001b[0;34m\u001b[0m    \u001b[0mentry_point\u001b[0m\u001b[0;34m=\u001b[0m\u001b[0;32mNone\u001b[0m\u001b[0;34m,\u001b[0m\u001b[0;34m\u001b[0m\n",
       "\u001b[0;34m\u001b[0m    \u001b[0msource_dir\u001b[0m\u001b[0;34m=\u001b[0m\u001b[0;32mNone\u001b[0m\u001b[0;34m,\u001b[0m\u001b[0;34m\u001b[0m\n",
       "\u001b[0;34m\u001b[0m    \u001b[0mdependencies\u001b[0m\u001b[0;34m=\u001b[0m\u001b[0;32mNone\u001b[0m\u001b[0;34m,\u001b[0m\u001b[0;34m\u001b[0m\n",
       "\u001b[0;34m\u001b[0m    \u001b[0;34m**\u001b[0m\u001b[0mkwargs\u001b[0m\u001b[0;34m,\u001b[0m\u001b[0;34m\u001b[0m\n",
       "\u001b[0;34m\u001b[0m\u001b[0;34m)\u001b[0m\u001b[0;34m\u001b[0m\u001b[0;34m\u001b[0m\u001b[0m\n",
       "\u001b[0;31mDocstring:\u001b[0m\n",
       "Create a SageMaker ``SKLearnModel`` object that can be deployed to an ``Endpoint``.\n",
       "\n",
       "Args:\n",
       "    model_server_workers (int): Optional. The number of worker processes\n",
       "        used by the inference server. If None, server will use one\n",
       "        worker per vCPU.\n",
       "    role (str): The ``ExecutionRoleArn`` IAM Role ARN for the ``Model``,\n",
       "        which is also used during transform jobs. If not specified, the\n",
       "        role from the Estimator will be used.\n",
       "    vpc_config_override (dict[str, list[str]]): Optional override for VpcConfig set on\n",
       "        the model. Default: use subnets and security groups from this Estimator.\n",
       "        * 'Subnets' (list[str]): List of subnet ids.\n",
       "        * 'SecurityGroupIds' (list[str]): List of security group ids.\n",
       "    entry_point (str): Path (absolute or relative) to the local Python source file which\n",
       "        should be executed as the entry point to training. If ``source_dir`` is specified,\n",
       "        then ``entry_point`` must point to a file located at the root of ``source_dir``.\n",
       "        If not specified, the training entry point is used.\n",
       "    source_dir (str): Path (absolute or relative) to a directory with any other serving\n",
       "        source code dependencies aside from the entry point file.\n",
       "        If not specified, the model source directory from training is used.\n",
       "    dependencies (list[str]): A list of paths to directories (absolute or relative) with\n",
       "        any additional libraries that will be exported to the container.\n",
       "        If not specified, the dependencies from training are used.\n",
       "        This is not supported with \"local code\" in Local Mode.\n",
       "    **kwargs: Additional kwargs passed to the :class:`~sagemaker.sklearn.model.SKLearnModel`\n",
       "        constructor.\n",
       "\n",
       "Returns:\n",
       "    sagemaker.sklearn.model.SKLearnModel: A SageMaker ``SKLearnModel``\n",
       "    object. See :func:`~sagemaker.sklearn.model.SKLearnModel` for full details.\n",
       "\u001b[0;31mFile:\u001b[0m      /opt/conda/lib/python3.7/site-packages/sagemaker/sklearn/estimator.py\n",
       "\u001b[0;31mType:\u001b[0m      method\n"
      ]
     },
     "metadata": {},
     "output_type": "display_data"
    }
   ],
   "source": [
    "sklearn_transformer.create_model?"
   ]
  },
  {
   "cell_type": "code",
   "execution_count": 56,
   "id": "682f45b2-3092-4223-964b-a98638c38ea8",
   "metadata": {
    "tags": []
   },
   "outputs": [],
   "source": [
    "scikit_learn_inference_model = sklearn_transformer.create_model()"
   ]
  },
  {
   "cell_type": "code",
   "execution_count": 58,
   "id": "6467210b-6784-4589-860f-32493c6f39ae",
   "metadata": {
    "tags": []
   },
   "outputs": [
    {
     "ename": "ClientError",
     "evalue": "An error occurred (ValidationException) when calling the CreateModel operation: Cannot create already existing model \"arn:aws:sagemaker:us-east-1:707031497630:model/automl-test-2023-03-01-181930fhh-009-b8c2bea3-v5\".",
     "output_type": "error",
     "traceback": [
      "\u001b[0;31m---------------------------------------------------------------------------\u001b[0m",
      "\u001b[0;31mClientError\u001b[0m                               Traceback (most recent call last)",
      "\u001b[0;32m<ipython-input-58-8f6fdcae85d6>\u001b[0m in \u001b[0;36m<module>\u001b[0;34m\u001b[0m\n\u001b[1;32m      1\u001b[0m model_arn = sm.create_model(\n\u001b[0;32m----> 2\u001b[0;31m     \u001b[0mContainers\u001b[0m\u001b[0;34m=\u001b[0m\u001b[0mbest_candidate\u001b[0m\u001b[0;34m[\u001b[0m\u001b[0;34m\"InferenceContainers\"\u001b[0m\u001b[0;34m]\u001b[0m\u001b[0;34m,\u001b[0m \u001b[0mModelName\u001b[0m\u001b[0;34m=\u001b[0m\u001b[0mmodel_name\u001b[0m\u001b[0;34m,\u001b[0m \u001b[0mExecutionRoleArn\u001b[0m\u001b[0;34m=\u001b[0m\u001b[0mrole\u001b[0m\u001b[0;34m\u001b[0m\u001b[0;34m\u001b[0m\u001b[0m\n\u001b[0m\u001b[1;32m      3\u001b[0m )\n",
      "\u001b[0;32m/opt/conda/lib/python3.7/site-packages/botocore/client.py\u001b[0m in \u001b[0;36m_api_call\u001b[0;34m(self, *args, **kwargs)\u001b[0m\n\u001b[1;32m    528\u001b[0m                 )\n\u001b[1;32m    529\u001b[0m             \u001b[0;31m# The \"self\" in this scope is referring to the BaseClient.\u001b[0m\u001b[0;34m\u001b[0m\u001b[0;34m\u001b[0m\u001b[0;34m\u001b[0m\u001b[0m\n\u001b[0;32m--> 530\u001b[0;31m             \u001b[0;32mreturn\u001b[0m \u001b[0mself\u001b[0m\u001b[0;34m.\u001b[0m\u001b[0m_make_api_call\u001b[0m\u001b[0;34m(\u001b[0m\u001b[0moperation_name\u001b[0m\u001b[0;34m,\u001b[0m \u001b[0mkwargs\u001b[0m\u001b[0;34m)\u001b[0m\u001b[0;34m\u001b[0m\u001b[0;34m\u001b[0m\u001b[0m\n\u001b[0m\u001b[1;32m    531\u001b[0m \u001b[0;34m\u001b[0m\u001b[0m\n\u001b[1;32m    532\u001b[0m         \u001b[0m_api_call\u001b[0m\u001b[0;34m.\u001b[0m\u001b[0m__name__\u001b[0m \u001b[0;34m=\u001b[0m \u001b[0mstr\u001b[0m\u001b[0;34m(\u001b[0m\u001b[0mpy_operation_name\u001b[0m\u001b[0;34m)\u001b[0m\u001b[0;34m\u001b[0m\u001b[0;34m\u001b[0m\u001b[0m\n",
      "\u001b[0;32m/opt/conda/lib/python3.7/site-packages/botocore/client.py\u001b[0m in \u001b[0;36m_make_api_call\u001b[0;34m(self, operation_name, api_params)\u001b[0m\n\u001b[1;32m    958\u001b[0m             \u001b[0merror_code\u001b[0m \u001b[0;34m=\u001b[0m \u001b[0mparsed_response\u001b[0m\u001b[0;34m.\u001b[0m\u001b[0mget\u001b[0m\u001b[0;34m(\u001b[0m\u001b[0;34m\"Error\"\u001b[0m\u001b[0;34m,\u001b[0m \u001b[0;34m{\u001b[0m\u001b[0;34m}\u001b[0m\u001b[0;34m)\u001b[0m\u001b[0;34m.\u001b[0m\u001b[0mget\u001b[0m\u001b[0;34m(\u001b[0m\u001b[0;34m\"Code\"\u001b[0m\u001b[0;34m)\u001b[0m\u001b[0;34m\u001b[0m\u001b[0;34m\u001b[0m\u001b[0m\n\u001b[1;32m    959\u001b[0m             \u001b[0merror_class\u001b[0m \u001b[0;34m=\u001b[0m \u001b[0mself\u001b[0m\u001b[0;34m.\u001b[0m\u001b[0mexceptions\u001b[0m\u001b[0;34m.\u001b[0m\u001b[0mfrom_code\u001b[0m\u001b[0;34m(\u001b[0m\u001b[0merror_code\u001b[0m\u001b[0;34m)\u001b[0m\u001b[0;34m\u001b[0m\u001b[0;34m\u001b[0m\u001b[0m\n\u001b[0;32m--> 960\u001b[0;31m             \u001b[0;32mraise\u001b[0m \u001b[0merror_class\u001b[0m\u001b[0;34m(\u001b[0m\u001b[0mparsed_response\u001b[0m\u001b[0;34m,\u001b[0m \u001b[0moperation_name\u001b[0m\u001b[0;34m)\u001b[0m\u001b[0;34m\u001b[0m\u001b[0;34m\u001b[0m\u001b[0m\n\u001b[0m\u001b[1;32m    961\u001b[0m         \u001b[0;32melse\u001b[0m\u001b[0;34m:\u001b[0m\u001b[0;34m\u001b[0m\u001b[0;34m\u001b[0m\u001b[0m\n\u001b[1;32m    962\u001b[0m             \u001b[0;32mreturn\u001b[0m \u001b[0mparsed_response\u001b[0m\u001b[0;34m\u001b[0m\u001b[0;34m\u001b[0m\u001b[0m\n",
      "\u001b[0;31mClientError\u001b[0m: An error occurred (ValidationException) when calling the CreateModel operation: Cannot create already existing model \"arn:aws:sagemaker:us-east-1:707031497630:model/automl-test-2023-03-01-181930fhh-009-b8c2bea3-v5\"."
     ]
    }
   ],
   "source": [
    "model_arn = sm.create_model(\n",
    "    Containers=best_candidate[\"InferenceContainers\"], ModelName=model_name, ExecutionRoleArn=role\n",
    ")"
   ]
  },
  {
   "cell_type": "code",
   "execution_count": 61,
   "id": "89f8abd6-8513-4f6f-b62a-afc2910af1bd",
   "metadata": {
    "tags": []
   },
   "outputs": [
    {
     "ename": "ParamValidationError",
     "evalue": "Parameter validation failed:\nUnknown parameter in input: \"candidate\", must be one of: ModelName, PrimaryContainer, Containers, InferenceExecutionConfig, ExecutionRoleArn, Tags, VpcConfig, EnableNetworkIsolation\nUnknown parameter in input: \"inference_response_keys\", must be one of: ModelName, PrimaryContainer, Containers, InferenceExecutionConfig, ExecutionRoleArn, Tags, VpcConfig, EnableNetworkIsolation",
     "output_type": "error",
     "traceback": [
      "\u001b[0;31m---------------------------------------------------------------------------\u001b[0m",
      "\u001b[0;31mParamValidationError\u001b[0m                      Traceback (most recent call last)",
      "\u001b[0;32m<ipython-input-61-148fcf76657d>\u001b[0m in \u001b[0;36m<module>\u001b[0;34m\u001b[0m\n\u001b[1;32m     13\u001b[0m     \u001b[0mcandidate\u001b[0m\u001b[0;34m=\u001b[0m\u001b[0mbest_candidate\u001b[0m\u001b[0;34m,\u001b[0m\u001b[0;34m\u001b[0m\u001b[0;34m\u001b[0m\u001b[0m\n\u001b[1;32m     14\u001b[0m     \u001b[0minference_response_keys\u001b[0m\u001b[0;34m=\u001b[0m\u001b[0minference_response_keys\u001b[0m\u001b[0;34m,\u001b[0m\u001b[0;34m\u001b[0m\u001b[0;34m\u001b[0m\u001b[0m\n\u001b[0;32m---> 15\u001b[0;31m     ExecutionRoleArn=role)\n\u001b[0m\u001b[1;32m     16\u001b[0m \u001b[0;34m\u001b[0m\u001b[0m\n\u001b[1;32m     17\u001b[0m \u001b[0mmodel_pipe_name\u001b[0m \u001b[0;34m=\u001b[0m \u001b[0;34m\"inference-pipeline-\"\u001b[0m \u001b[0;34m+\u001b[0m \u001b[0mtimestamp_suffix\u001b[0m\u001b[0;34m\u001b[0m\u001b[0;34m\u001b[0m\u001b[0m\n",
      "\u001b[0;32m/opt/conda/lib/python3.7/site-packages/botocore/client.py\u001b[0m in \u001b[0;36m_api_call\u001b[0;34m(self, *args, **kwargs)\u001b[0m\n\u001b[1;32m    528\u001b[0m                 )\n\u001b[1;32m    529\u001b[0m             \u001b[0;31m# The \"self\" in this scope is referring to the BaseClient.\u001b[0m\u001b[0;34m\u001b[0m\u001b[0;34m\u001b[0m\u001b[0;34m\u001b[0m\u001b[0m\n\u001b[0;32m--> 530\u001b[0;31m             \u001b[0;32mreturn\u001b[0m \u001b[0mself\u001b[0m\u001b[0;34m.\u001b[0m\u001b[0m_make_api_call\u001b[0m\u001b[0;34m(\u001b[0m\u001b[0moperation_name\u001b[0m\u001b[0;34m,\u001b[0m \u001b[0mkwargs\u001b[0m\u001b[0;34m)\u001b[0m\u001b[0;34m\u001b[0m\u001b[0;34m\u001b[0m\u001b[0m\n\u001b[0m\u001b[1;32m    531\u001b[0m \u001b[0;34m\u001b[0m\u001b[0m\n\u001b[1;32m    532\u001b[0m         \u001b[0m_api_call\u001b[0m\u001b[0;34m.\u001b[0m\u001b[0m__name__\u001b[0m \u001b[0;34m=\u001b[0m \u001b[0mstr\u001b[0m\u001b[0;34m(\u001b[0m\u001b[0mpy_operation_name\u001b[0m\u001b[0;34m)\u001b[0m\u001b[0;34m\u001b[0m\u001b[0;34m\u001b[0m\u001b[0m\n",
      "\u001b[0;32m/opt/conda/lib/python3.7/site-packages/botocore/client.py\u001b[0m in \u001b[0;36m_make_api_call\u001b[0;34m(self, operation_name, api_params)\u001b[0m\n\u001b[1;32m    922\u001b[0m             \u001b[0mendpoint_url\u001b[0m\u001b[0;34m=\u001b[0m\u001b[0mendpoint_url\u001b[0m\u001b[0;34m,\u001b[0m\u001b[0;34m\u001b[0m\u001b[0;34m\u001b[0m\u001b[0m\n\u001b[1;32m    923\u001b[0m             \u001b[0mcontext\u001b[0m\u001b[0;34m=\u001b[0m\u001b[0mrequest_context\u001b[0m\u001b[0;34m,\u001b[0m\u001b[0;34m\u001b[0m\u001b[0;34m\u001b[0m\u001b[0m\n\u001b[0;32m--> 924\u001b[0;31m             \u001b[0mheaders\u001b[0m\u001b[0;34m=\u001b[0m\u001b[0madditional_headers\u001b[0m\u001b[0;34m,\u001b[0m\u001b[0;34m\u001b[0m\u001b[0;34m\u001b[0m\u001b[0m\n\u001b[0m\u001b[1;32m    925\u001b[0m         )\n\u001b[1;32m    926\u001b[0m         \u001b[0mresolve_checksum_context\u001b[0m\u001b[0;34m(\u001b[0m\u001b[0mrequest_dict\u001b[0m\u001b[0;34m,\u001b[0m \u001b[0moperation_model\u001b[0m\u001b[0;34m,\u001b[0m \u001b[0mapi_params\u001b[0m\u001b[0;34m)\u001b[0m\u001b[0;34m\u001b[0m\u001b[0;34m\u001b[0m\u001b[0m\n",
      "\u001b[0;32m/opt/conda/lib/python3.7/site-packages/botocore/client.py\u001b[0m in \u001b[0;36m_convert_to_request_dict\u001b[0;34m(self, api_params, operation_model, endpoint_url, context, headers, set_user_agent_header)\u001b[0m\n\u001b[1;32m    989\u001b[0m         )\n\u001b[1;32m    990\u001b[0m         request_dict = self._serializer.serialize_to_request(\n\u001b[0;32m--> 991\u001b[0;31m             \u001b[0mapi_params\u001b[0m\u001b[0;34m,\u001b[0m \u001b[0moperation_model\u001b[0m\u001b[0;34m\u001b[0m\u001b[0;34m\u001b[0m\u001b[0m\n\u001b[0m\u001b[1;32m    992\u001b[0m         )\n\u001b[1;32m    993\u001b[0m         \u001b[0;32mif\u001b[0m \u001b[0;32mnot\u001b[0m \u001b[0mself\u001b[0m\u001b[0;34m.\u001b[0m\u001b[0m_client_config\u001b[0m\u001b[0;34m.\u001b[0m\u001b[0minject_host_prefix\u001b[0m\u001b[0;34m:\u001b[0m\u001b[0;34m\u001b[0m\u001b[0;34m\u001b[0m\u001b[0m\n",
      "\u001b[0;32m/opt/conda/lib/python3.7/site-packages/botocore/validate.py\u001b[0m in \u001b[0;36mserialize_to_request\u001b[0;34m(self, parameters, operation_model)\u001b[0m\n\u001b[1;32m    379\u001b[0m             )\n\u001b[1;32m    380\u001b[0m             \u001b[0;32mif\u001b[0m \u001b[0mreport\u001b[0m\u001b[0;34m.\u001b[0m\u001b[0mhas_errors\u001b[0m\u001b[0;34m(\u001b[0m\u001b[0;34m)\u001b[0m\u001b[0;34m:\u001b[0m\u001b[0;34m\u001b[0m\u001b[0;34m\u001b[0m\u001b[0m\n\u001b[0;32m--> 381\u001b[0;31m                 \u001b[0;32mraise\u001b[0m \u001b[0mParamValidationError\u001b[0m\u001b[0;34m(\u001b[0m\u001b[0mreport\u001b[0m\u001b[0;34m=\u001b[0m\u001b[0mreport\u001b[0m\u001b[0;34m.\u001b[0m\u001b[0mgenerate_report\u001b[0m\u001b[0;34m(\u001b[0m\u001b[0;34m)\u001b[0m\u001b[0;34m)\u001b[0m\u001b[0;34m\u001b[0m\u001b[0;34m\u001b[0m\u001b[0m\n\u001b[0m\u001b[1;32m    382\u001b[0m         return self._serializer.serialize_to_request(\n\u001b[1;32m    383\u001b[0m             \u001b[0mparameters\u001b[0m\u001b[0;34m,\u001b[0m \u001b[0moperation_model\u001b[0m\u001b[0;34m\u001b[0m\u001b[0;34m\u001b[0m\u001b[0m\n",
      "\u001b[0;31mParamValidationError\u001b[0m: Parameter validation failed:\nUnknown parameter in input: \"candidate\", must be one of: ModelName, PrimaryContainer, Containers, InferenceExecutionConfig, ExecutionRoleArn, Tags, VpcConfig, EnableNetworkIsolation\nUnknown parameter in input: \"inference_response_keys\", must be one of: ModelName, PrimaryContainer, Containers, InferenceExecutionConfig, ExecutionRoleArn, Tags, VpcConfig, EnableNetworkIsolation"
     ]
    }
   ],
   "source": [
    "from sagemaker.model import Model\n",
    "from sagemaker.pipeline import PipelineModel\n",
    "inference_response_keys = [\"predicted_label\", \"probability\"]\n",
    "\n",
    "scikit_learn_inference_model = sklearn_transformer.create_model()\n",
    "\n",
    "model_name = best_candidate_name + '-v5'\n",
    "# model_arn = sm.create_model(\n",
    "#     Containers=best_candidate[\"InferenceContainers\"], ModelName=model_name, ExecutionRoleArn=role\n",
    "# )\n",
    "autopilot_model = sm.create_model(\n",
    "    ModelName=best_candidate_name,\n",
    "    candidate=best_candidate,\n",
    "    inference_response_keys=inference_response_keys,\n",
    "    ExecutionRoleArn=role)\n",
    "\n",
    "model_pipe_name = \"inference-pipeline-\" + timestamp_suffix\n",
    "endpoint_name = \"inference-pipeline-ep-\" + timestamp_suffix\n",
    "sm_model = PipelineModel(\n",
    "    name=model_pipe_name,\n",
    "    role=role,\n",
    "    models=[scikit_learn_inference_model, autopilot_model]\n",
    ")\n",
    "\n",
    "sm_model.deploy(\n",
    "    initial_instance_count=1,\n",
    "    instance_type=\"ml.c4.xlarge\",\n",
    "    endpoint_name=endpoint_name,\n",
    "    tags=tags)"
   ]
  },
  {
   "cell_type": "markdown",
   "id": "8bf359bc-4f36-4008-8f15-0697ce08b86f",
   "metadata": {},
   "source": [
    "## Make a request to our pipeline endpoint"
   ]
  },
  {
   "cell_type": "code",
   "execution_count": null,
   "id": "f47a85ef-b7d2-4a5f-a570-c720cb8928a9",
   "metadata": {
    "tags": []
   },
   "outputs": [
    {
     "name": "stdout",
     "output_type": "stream",
     "text": [
      "  true_false one_hot       dates  floats  max_of_list     nunique_of_list  \\\n",
      "0       true     NaN  2022-12-27     3.0    3,0,9,4,2  apple,orange,grape   \n",
      "1      false  purple  2022-12-19     8.0          NaN   0,9,8,3,4,3,3,4,9   \n",
      "2        NaN  orange  2022-02-04     2.0  0,2,3,9,8,4                 NaN   \n",
      "3          1  purple  2022-09-15     NaN            4           4,4,4,4,4   \n",
      "4          0    blue         NaN     4.0        5,4,3           pineapple   \n",
      "\n",
      "    desc_stats                 multi_label  random_col  \n",
      "0    9,2,8,3,4          apple,orange,grape         NaN  \n",
      "1            1  pineapple,grape,strawberry         3.0  \n",
      "2  7,8,9,2,3,4                         NaN         6.0  \n",
      "3          NaN                   blueberry         1.0  \n",
      "4           34            grapefruit,apple         NaN  \n"
     ]
    }
   ],
   "source": [
    "test_data = sample_df.iloc[0:5, :-1]\n",
    "print(test_data)"
   ]
  },
  {
   "cell_type": "code",
   "execution_count": null,
   "id": "ccbb8167-fd49-46a1-9b34-5eb25be4c772",
   "metadata": {},
   "outputs": [],
   "source": [
    "from sagemaker.predictor import Predictor\n",
    "from sagemaker.serializers import IdentitySerializer\n",
    "from sagemaker.deserializers import CSVDeserializer\n",
    "\n",
    "predictor = Predictor(\n",
    "    endpoint_name=pipeline_endpoint_name,\n",
    "    sagemaker_session=session,\n",
    "    serializer=IdentitySerializer(content_type=\"text/csv\"),\n",
    "    deserializer=CSVDeserializer(),\n",
    ")\n",
    "\n",
    "predictor.predict(test_data.to_csv(sep=\",\", header=True, index=False))"
   ]
  },
  {
   "cell_type": "markdown",
   "id": "e6917f3d-fb24-452e-9508-68b45cc9017c",
   "metadata": {},
   "source": [
    "## Delete Endpoint"
   ]
  },
  {
   "cell_type": "code",
   "execution_count": 96,
   "id": "e4dbb439-0715-4d41-94c5-39710c236e19",
   "metadata": {
    "tags": []
   },
   "outputs": [
    {
     "data": {
      "text/plain": [
       "{'ResponseMetadata': {'RequestId': '96af0047-2d99-43fe-98be-8e4da4205e17',\n",
       "  'HTTPStatusCode': 200,\n",
       "  'HTTPHeaders': {'x-amzn-requestid': '96af0047-2d99-43fe-98be-8e4da4205e17',\n",
       "   'content-type': 'application/x-amz-json-1.1',\n",
       "   'content-length': '0',\n",
       "   'date': 'Tue, 28 Feb 2023 21:46:10 GMT'},\n",
       "  'RetryAttempts': 0}}"
      ]
     },
     "execution_count": 96,
     "metadata": {},
     "output_type": "execute_result"
    }
   ],
   "source": [
    "sm_client = session.boto_session.client(\"sagemaker\")\n",
    "sm_client.delete_endpoint(EndpointName=pipeline_endpoint_name)"
   ]
  },
  {
   "cell_type": "code",
   "execution_count": null,
   "id": "10a008e9-2b48-44d0-8a6d-7341c60f886c",
   "metadata": {},
   "outputs": [],
   "source": []
  }
 ],
 "metadata": {
  "instance_type": "ml.t3.medium",
  "kernelspec": {
   "display_name": "Python 3 (Data Science)",
   "language": "python",
   "name": "python3__SAGEMAKER_INTERNAL__arn:aws:sagemaker:us-east-1:081325390199:image/datascience-1.0"
  },
  "language_info": {
   "codemirror_mode": {
    "name": "ipython",
    "version": 3
   },
   "file_extension": ".py",
   "mimetype": "text/x-python",
   "name": "python",
   "nbconvert_exporter": "python",
   "pygments_lexer": "ipython3",
   "version": "3.7.10"
  }
 },
 "nbformat": 4,
 "nbformat_minor": 5
}
