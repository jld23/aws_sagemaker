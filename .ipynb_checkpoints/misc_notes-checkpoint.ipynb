{
 "cells": [
  {
   "cell_type": "markdown",
   "id": "a4837a4d-9e7a-4642-ae25-c6b667b5e55c",
   "metadata": {},
   "source": [
    "# Resources\n",
    "\n",
    "- Built in algorithms\n",
    "    - [xgboost_abalone](https://github.com/aws/amazon-sagemaker-examples/tree/main/introduction_to_amazon_algorithms/xgboost_abalone)\n",
    "    - [xgboost_linear_learner_tabular](https://github.com/aws/amazon-sagemaker-examples/tree/main/introduction_to_amazon_algorithms/xgboost_linear_learner_tabular)\n",
    "    - [xgboost_mnist](https://github.com/aws/amazon-sagemaker-examples/tree/main/introduction_to_amazon_algorithms/xgboost_mnist)\n",
    "    - [lightgbm_catboost_tabular](https://github.com/aws/amazon-sagemaker-examples/tree/main/introduction_to_amazon_algorithms/lightgbm_catboost_tabular)\n",
    "- [Deequ - Unit Tests for Data](https://github.com/awslabs/deequ): Deequ is a library built on top of Apache Spark for defining \"unit tests for data\", which measure data quality in large datasets"
   ]
  },
  {
   "cell_type": "markdown",
   "id": "ad83d944-e2bc-42a9-a535-d8d96d643297",
   "metadata": {},
   "source": [
    "# Non Sagemaker/AWS\n",
    "\n",
    "- Postman: examples of what can be done with Postman\n",
    "    - [dwb-api](https://apidocs.privacymaxx.com/#aef42e87-211c-455c-826f-e29916f976e2)\n",
    "    - [Pulse Api](https://api.pulsegrow.com/docs/index.html)"
   ]
  },
  {
   "cell_type": "code",
   "execution_count": null,
   "id": "5c050c56-ccc7-4581-a29c-8f2e7006b460",
   "metadata": {},
   "outputs": [],
   "source": []
  }
 ],
 "metadata": {
  "instance_type": "ml.t3.medium",
  "kernelspec": {
   "display_name": "Python 3 (Data Science)",
   "language": "python",
   "name": "python3__SAGEMAKER_INTERNAL__arn:aws:sagemaker:us-east-1:081325390199:image/datascience-1.0"
  },
  "language_info": {
   "codemirror_mode": {
    "name": "ipython",
    "version": 3
   },
   "file_extension": ".py",
   "mimetype": "text/x-python",
   "name": "python",
   "nbconvert_exporter": "python",
   "pygments_lexer": "ipython3",
   "version": "3.7.10"
  }
 },
 "nbformat": 4,
 "nbformat_minor": 5
}
