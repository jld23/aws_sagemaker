{
 "cells": [
  {
   "cell_type": "code",
   "execution_count": 2,
   "id": "123ef9eb-4258-43d2-8ee1-2f1564998ae9",
   "metadata": {
    "tags": []
   },
   "outputs": [],
   "source": [
    "import pandas as pd\n",
    "import numpy as np\n",
    "import json\n",
    "import time\n",
    "import datetime\n",
    "import random\n",
    "\n",
    "import sagemaker\n",
    "import sagemaker.session\n",
    "\n",
    "from sagemaker.workflow.parameters import (\n",
    "    ParameterInteger,\n",
    "    ParameterString\n",
    ")\n",
    "\n",
    "from sagemaker.sklearn.processing import SKLearnProcessor\n",
    "from sagemaker.processing import ProcessingInput, ProcessingOutput\n",
    "from sagemaker.workflow.steps import ProcessingStep, TrainingStep\n",
    "from sagemaker.workflow.functions import Join\n",
    "from sagemaker.workflow.execution_variables import ExecutionVariables\n",
    "from sagemaker.sklearn.estimator import SKLearn\n",
    "# import sagemaker_containers\n",
    "\n",
    "from sagemaker.predictor import Predictor\n",
    "from sagemaker.s3 import s3_path_join, S3Downloader, S3Uploader\n",
    "from sagemaker.serializers import CSVSerializer\n",
    "from sagemaker.transformer import Transformer\n",
    "from sagemaker.workflow.automl_step import AutoMLStep\n",
    "from sagemaker.workflow.conditions import ConditionGreaterThanOrEqualTo\n",
    "from sagemaker.workflow.condition_step import ConditionStep\n",
    "from sagemaker.workflow.functions import Join, JsonGet\n",
    "from sagemaker.workflow.model_step import ModelStep\n",
    "from sagemaker.workflow.parameters import ParameterFloat, ParameterInteger, ParameterString\n",
    "from sagemaker.workflow.pipeline import Pipeline\n",
    "from sagemaker.workflow.pipeline_context import PipelineSession\n",
    "from sagemaker.workflow.properties import PropertyFile\n",
    "from sagemaker.workflow.steps import TransformStep, TransformInput\n",
    "\n",
    "from sagemaker.workflow.pipeline import Pipeline\n",
    "\n",
    "import os\n",
    "from sklearn.model_selection import train_test_split\n",
    "from time import gmtime, strftime, sleep\n",
    "import boto3\n",
    "import joblib"
   ]
  },
  {
   "cell_type": "code",
   "execution_count": 3,
   "id": "9fa79059-6cbb-4672-84c5-5e0e09f5c4ef",
   "metadata": {
    "tags": []
   },
   "outputs": [],
   "source": [
    "session = sagemaker.session.Session()\n",
    "region = session.boto_region_name\n",
    "role = sagemaker.get_execution_role()\n",
    "bucket = session.default_bucket()\n",
    "prefix = 'custom_preprocessing'\n",
    "\n",
    "pipeline_session = PipelineSession()\n",
    "sagemaker_client = boto3.client(\"sagemaker\")\n",
    "\n",
    "# timestamp_suffix = strftime(\"%Y-%m-%d-%H%M%S\", gmtime())\n",
    "timestamp_suffix = strftime(\"%Y-%m-%d\", gmtime())\n",
    "folder_name = prefix + '-' + timestamp_suffix\n",
    "prefix_path = f's3://{bucket}/{folder_name}'"
   ]
  },
  {
   "cell_type": "code",
   "execution_count": null,
   "id": "4008b33b-43a6-4010-b31a-ee2fdebf7425",
   "metadata": {},
   "outputs": [],
   "source": [
    "train_input = f's3://{bucket}/{prefix}/sample_data/train.csv'\n",
    "test_input = f's3://{bucket}/{prefix}/sample_data/test.csv'\n",
    "validate_input = f's3://{bucket}/{prefix}/sample_data/validate.csv'"
   ]
  },
  {
   "cell_type": "code",
   "execution_count": 4,
   "id": "a88cf16f-62ae-4184-aef0-bf2ff55d39f4",
   "metadata": {
    "tags": []
   },
   "outputs": [],
   "source": [
    "tags = [\n",
    "    {\"Key\": \"PLATFORM\", \"Value\": \"FO-ML\"},\n",
    "    {\"Key\": \"BUSINESS_REGION\", \"Value\": \"GLOBAL\"},\n",
    "    {\"Key\": \"BUSINESS_UNIT\", \"Value\": \"MOBILITY\"},\n",
    "    {\"Key\": \"CLIENT\", \"Value\": \"MULTI_TENANT\"}\n",
    "   ]"
   ]
  },
  {
   "cell_type": "code",
   "execution_count": null,
   "id": "adc82aa9-d592-4996-9a24-601a2dd1cd51",
   "metadata": {},
   "outputs": [],
   "source": [
    "model_package_group_name = \"Inference Pipe\"  # Model name in model registry\n",
    "prep_pipeline_name = \"DataPrepPipe\"\n",
    "inf_pipeline_name = \"InferencePipe\"  # SageMaker Pipeline name"
   ]
  },
  {
   "cell_type": "code",
   "execution_count": null,
   "id": "c95eb3a6-4901-4807-9c25-770c5033fc61",
   "metadata": {},
   "outputs": [],
   "source": [
    "processing_instance_count = ParameterInteger(name=\"ProcessingInstanceCount\", default_value=1)\n",
    "processing_instance_type = ParameterString(\n",
    "    name=\"ProcessingInstanceType\", default_value=\"ml.m5.xlarge\")\n",
    "\n",
    "max_automl_runtime = ParameterInteger(\n",
    "    name=\"MaxAutoMLRuntime\", default_value=3600\n",
    ")  # max. AutoML training runtime: 1 hour\n",
    "model_approval_status = ParameterString(name=\"ModelApprovalStatus\", default_value=\"Approved\")\n",
    "s3_bucket = ParameterString(name=\"S3Bucket\", default_value=pipeline_session.default_bucket())\n",
    "target_attribute_name = ParameterString(name=\"TargetAttributeName\", default_value=\"target\")"
   ]
  },
  {
   "cell_type": "code",
   "execution_count": null,
   "id": "58eed99f-7c32-4001-86f8-6741ea276792",
   "metadata": {},
   "outputs": [],
   "source": [
    "sklearn_processor = SKLearnProcessor(\n",
    "    framework_version=\"0.23-1\",\n",
    "    role=role,\n",
    "    instance_type=processing_instance_type,\n",
    "    instance_count=processing_instance_count,\n",
    "    base_job_name=\"data-prep-pipeline-job\",\n",
    "    tags=tags\n",
    ")"
   ]
  },
  {
   "cell_type": "code",
   "execution_count": null,
   "id": "5b898b6e-efea-4e88-bc86-1f0d35a5d642",
   "metadata": {},
   "outputs": [],
   "source": [
    "script_path = \"processor_script.py\"\n",
    "model_output_path = os.path.join('s3://', bucket, folder_name, \"components\")\n"
   ]
  },
  {
   "cell_type": "code",
   "execution_count": null,
   "id": "a427abad-0efd-450c-bb17-5131a3b01a95",
   "metadata": {},
   "outputs": [],
   "source": [
    "sklearn_transformer = SKLearn(\n",
    "    entry_point=script_path,\n",
    "    role=role,\n",
    "    output_path=model_output_path,\n",
    "    instance_type=\"ml.m5.large\",\n",
    "    sagemaker_session=None,\n",
    "    framework_version=\"1.0-1\",\n",
    "    py_version=\"py3\",\n",
    "    tags=tags,\n",
    "    dependencies=['transformers.py']\n",
    ")"
   ]
  },
  {
   "cell_type": "code",
   "execution_count": null,
   "id": "7306a4fc-514e-4344-a164-efb2c3e0ea3b",
   "metadata": {},
   "outputs": [],
   "source": []
  },
  {
   "cell_type": "code",
   "execution_count": null,
   "id": "edc606df-e57c-40ed-ac04-00d3706f6d22",
   "metadata": {},
   "outputs": [],
   "source": [
    "sklearn_transformer.fit({\"train\": train_input})"
   ]
  },
  {
   "cell_type": "code",
   "execution_count": null,
   "id": "02f91ee2-befa-4dca-b532-2f14881fb59f",
   "metadata": {},
   "outputs": [],
   "source": [
    "transformer_prefix = os.path.join(folder_name,\n",
    "                                  \"components\",\n",
    "                                  sklearn_transformer.latest_training_job.job_name,\n",
    "                                  \"output\",\n",
    "                                  \"model.tar.gz\")\n",
    "\n",
    "session.download_data(path='./', bucket=bucket, key_prefix=transformer_prefix)"
   ]
  },
  {
   "cell_type": "code",
   "execution_count": null,
   "id": "153fb9dc-a519-4c14-a709-430d89ab66e2",
   "metadata": {},
   "outputs": [],
   "source": []
  },
  {
   "cell_type": "markdown",
   "id": "beabbf18-2745-4cc7-92b2-ae9aeef3ba83",
   "metadata": {},
   "source": [
    "## Batch transform"
   ]
  },
  {
   "cell_type": "code",
   "execution_count": null,
   "id": "5ef7d1c1-a333-481d-8a18-da1e9e51684e",
   "metadata": {},
   "outputs": [],
   "source": [
    "transformer_output = os.path.join(\"s3://\", bucket, folder_name, \"Feature_selection_output/\")\n",
    "transformer = sklearn_transformer.transformer(\n",
    "    instance_count=1,\n",
    "    instance_type=\"ml.m5.large\",\n",
    "    output_path=transformer_output,\n",
    "    assemble_with=\"Line\",\n",
    "    accept=\"text/csv\",\n",
    "    role=role,\n",
    "    tags=tags\n",
    ")"
   ]
  },
  {
   "cell_type": "code",
   "execution_count": null,
   "id": "e9fc3157-093f-450f-a804-045395270be6",
   "metadata": {},
   "outputs": [],
   "source": [
    "transformer.transform(train_input, content_type=\"text/csv\")\n",
    "print(\"Waiting for transform job: \" + transformer.latest_transform_job.job_name)\n",
    "transformer.wait()\n",
    "preprocessed_train = transformer.output_path"
   ]
  },
  {
   "cell_type": "markdown",
   "id": "99a4c897-142e-4b7f-9792-89e5970809ed",
   "metadata": {},
   "source": [
    "# Batch Trasform Step"
   ]
  },
  {
   "cell_type": "code",
   "execution_count": null,
   "id": "5be84da7-8296-4116-b80f-598edf8286e9",
   "metadata": {},
   "outputs": [],
   "source": [
    "transformer = Transformer(\n",
    "    model_name=step_create_model.properties.ModelName,\n",
    "    instance_count=instance_count,\n",
    "    instance_type=instance_type,\n",
    "    output_path=Join(on=\"/\", values=[\"s3:/\", s3_bucket, output_prefix, \"transform\"]),\n",
    "    sagemaker_session=pipeline_session,\n",
    ")\n",
    "step_batch_transform = TransformStep(\n",
    "    name=\"BatchTransformStep\",\n",
    "    step_args=transformer.transform(data=s3_x_test, content_type=\"text/csv\"),\n",
    ")"
   ]
  },
  {
   "cell_type": "code",
   "execution_count": null,
   "id": "9e1329ab-e4cc-4af3-819c-839c85270c57",
   "metadata": {},
   "outputs": [],
   "source": []
  },
  {
   "cell_type": "code",
   "execution_count": null,
   "id": "c5ba7425-131e-461b-a931-26fe13f929fc",
   "metadata": {},
   "outputs": [],
   "source": []
  },
  {
   "cell_type": "markdown",
   "id": "851215b8-6974-4b5c-93da-a9b679c983b4",
   "metadata": {},
   "source": [
    "# AutoML Training Step"
   ]
  },
  {
   "cell_type": "code",
   "execution_count": null,
   "id": "fa4dfff7-15e8-4994-b043-e75187b00dd2",
   "metadata": {},
   "outputs": [],
   "source": [
    "automl = AutoML(\n",
    "    role=role,\n",
    "    target_attribute_name=target_attribute_name,\n",
    "    sagemaker_session=pipeline_session,\n",
    "    total_job_runtime_in_seconds=max_automl_runtime,\n",
    "    mode=\"ENSEMBLING\",  # only ensembling mode is supported for native AutoML step integration in SageMaker Pipelines\n",
    ")\n",
    "train_args = automl.fit(\n",
    "    inputs=[\n",
    "        AutoMLInput(\n",
    "            inputs=s3_train_val,\n",
    "            target_attribute_name=target_attribute_name,\n",
    "            channel_type=\"training\",\n",
    "        )\n",
    "    ]\n",
    ")"
   ]
  },
  {
   "cell_type": "code",
   "execution_count": null,
   "id": "0389ae1c-607e-4099-a539-dae63a459407",
   "metadata": {},
   "outputs": [],
   "source": [
    "step_auto_ml_training = AutoMLStep(\n",
    "    name=\"AutoMLTrainingStep\",\n",
    "    step_args=train_args,\n",
    ")"
   ]
  },
  {
   "cell_type": "code",
   "execution_count": null,
   "id": "00c77dba-f9cc-4893-b2fe-75716160a775",
   "metadata": {},
   "outputs": [],
   "source": [
    "best_auto_ml_model = step_auto_ml_training.get_best_auto_ml_model(\n",
    "    role=role, sagemaker_session=pipeline_session\n",
    ")\n",
    "step_args_create_model = best_auto_ml_model.create(instance_type=processing_instance_type)\n",
    "step_create_model = ModelStep(name=\"ModelCreationStep\", step_args=step_args_create_model)"
   ]
  },
  {
   "cell_type": "markdown",
   "id": "d8042e4d-bf99-4566-9084-b68c3769a587",
   "metadata": {},
   "source": [
    "# Batch Trasform Step"
   ]
  },
  {
   "cell_type": "code",
   "execution_count": null,
   "id": "50235842-05ba-477f-81be-077e53d56f1e",
   "metadata": {},
   "outputs": [],
   "source": [
    "transformer = Transformer(\n",
    "    model_name=step_create_model.properties.ModelName,\n",
    "    instance_count=instance_count,\n",
    "    instance_type=instance_type,\n",
    "    output_path=Join(on=\"/\", values=[\"s3:/\", s3_bucket, output_prefix, \"transform\"]),\n",
    "    sagemaker_session=pipeline_session,\n",
    ")\n",
    "step_batch_transform = TransformStep(\n",
    "    name=\"BatchTransformStep\",\n",
    "    step_args=transformer.transform(data=s3_x_test, content_type=\"text/csv\"),\n",
    ")"
   ]
  },
  {
   "cell_type": "markdown",
   "id": "6dedd258-2447-4d15-9d62-e21272adc058",
   "metadata": {},
   "source": [
    "# Evaluation Step"
   ]
  },
  {
   "cell_type": "markdown",
   "id": "4e174e07-c5ac-458c-9783-f38874a3ee0d",
   "metadata": {},
   "source": [
    "From amazon-sagemaker-examples/sagemaker-pipelines/tabular/automl-step/sagemaker_autopilot_pipelines_native_auto_ml_step.ipynb"
   ]
  },
  {
   "cell_type": "code",
   "execution_count": null,
   "id": "1f9aa613-bc44-40cd-9748-8288cb53247d",
   "metadata": {},
   "outputs": [],
   "source": [
    "evaluation_report = PropertyFile(\n",
    "    name=\"evaluation\", output_name=\"evaluation_metrics\", path=\"evaluation_metrics.json\"\n",
    ")"
   ]
  },
  {
   "cell_type": "code",
   "execution_count": null,
   "id": "c2677828-42d6-45e4-a662-b16f04cd70e9",
   "metadata": {},
   "outputs": [],
   "source": [
    "sklearn_processor = SKLearnProcessor(\n",
    "    role=execution_role,\n",
    "    framework_version=\"1.0-1\",\n",
    "    instance_count=instance_count,\n",
    "    instance_type=instance_type.default_value,\n",
    "    sagemaker_session=pipeline_session,\n",
    ")\n",
    "step_args_sklearn_processor = sklearn_processor.run(\n",
    "    inputs=[\n",
    "        ProcessingInput(\n",
    "            source=step_batch_transform.properties.TransformOutput.S3OutputPath,\n",
    "            destination=\"/opt/ml/processing/input/predictions\",\n",
    "        ),\n",
    "        ProcessingInput(source=s3_y_test, destination=\"/opt/ml/processing/input/true_labels\"),\n",
    "    ],\n",
    "    outputs=[\n",
    "        ProcessingOutput(\n",
    "            output_name=\"evaluation_metrics\",\n",
    "            source=\"/opt/ml/processing/evaluation\",\n",
    "            destination=Join(on=\"/\", values=[\"s3:/\", s3_bucket, output_prefix, \"evaluation\"]),\n",
    "        ),\n",
    "    ],\n",
    "    code=\"evaluation.py\",\n",
    ")\n",
    "step_evaluation = ProcessingStep(\n",
    "    name=\"ModelEvaluationStep\",\n",
    "    step_args=step_args_sklearn_processor,\n",
    "    property_files=[evaluation_report],\n",
    ")"
   ]
  },
  {
   "cell_type": "markdown",
   "id": "11220a6e-b4f6-4c70-a086-4b5fdadca0a7",
   "metadata": {},
   "source": [
    "From me, this assumes use of XGBoost algorithm"
   ]
  },
  {
   "cell_type": "code",
   "execution_count": null,
   "id": "41b11d6b-0ccf-4257-bc40-efc629c8c594",
   "metadata": {},
   "outputs": [],
   "source": [
    "image_uri = sagemaker.image_uris.retrieve(\n",
    "    framework=\"xgboost\",\n",
    "    region=region,\n",
    "    version=\"1.2-2\",\n",
    "    py_version=\"py3\",\n",
    "    instance_type=\"ml.m5.xlarge\",\n",
    ")"
   ]
  },
  {
   "cell_type": "code",
   "execution_count": null,
   "id": "b03a7070-defa-478b-b64c-33469360f4ab",
   "metadata": {},
   "outputs": [],
   "source": [
    "evaluate_model_processor = ScriptProcessor(\n",
    "    image_uri=image_uri,\n",
    "    command=[\"python3\"],\n",
    "    instance_type=processing_instance_type,\n",
    "    instance_count=processing_instance_count,\n",
    "    base_job_name=\"pipeline-trial-job\",\n",
    "    role=role,\n",
    ")\n",
    "\n",
    "# Create a PropertyFile\n",
    "# A PropertyFile is used to be able to reference outputs from a processing step, for instance to use in a condition step.\n",
    "# For more information, visit https://docs.aws.amazon.com/sagemaker/latest/dg/build-and-manage-propertyfile.html\n",
    "evaluation_report = PropertyFile(\n",
    "    name=\"EvaluationReport\", output_name=\"evaluation\", path=\"evaluation.json\"\n",
    ")\n",
    "\n",
    "# Use the evaluate_model_processor in a Sagemaker pipelines ProcessingStep.\n",
    "step_evaluate_model = ProcessingStep(\n",
    "    name=\"evaluate_model\",\n",
    "    processor=evaluate_model_processor,\n",
    "    inputs=[\n",
    "        ProcessingInput(\n",
    "            source=step_train_model.properties.ModelArtifacts.S3ModelArtifacts,\n",
    "            destination=\"/opt/ml/processing/model\",\n",
    "        ),\n",
    "        ProcessingInput(\n",
    "            source=test_data_uri,  # Use pre-created test data instead of output from processing step\n",
    "            destination=\"/opt/ml/processing/test\",\n",
    "        ),\n",
    "    ],\n",
    "    outputs=[\n",
    "        ProcessingOutput(\n",
    "            output_name=\"evaluation\",\n",
    "            source=\"/opt/ml/processing/evaluation\",\n",
    "            destination=Join(\n",
    "                on=\"/\",\n",
    "                values=[\n",
    "                    \"s3://{}\".format(bucket),\n",
    "                    prefix,\n",
    "                    ExecutionVariables.PIPELINE_EXECUTION_ID,\n",
    "                    \"evaluation-report\",\n",
    "                ],\n",
    "            ),\n",
    "        ),\n",
    "    ],\n",
    "    code=\"evaluate.py\",\n",
    "    property_files=[evaluation_report],\n",
    ")\n",
    "\n",
    "model_metrics = ModelMetrics(\n",
    "    model_statistics=MetricsSource(\n",
    "        s3_uri=Join(\n",
    "            on='/',\n",
    "            values=[\n",
    "                step_evaluate.arguments[\"ProcessingOutputConfig\"][\"Outputs\"][0]['S3Output']['S3Uri'],\n",
    "                'evaluation.json']\n",
    "        ),\n",
    "        content_type='application/json')\n",
    ")"
   ]
  },
  {
   "cell_type": "code",
   "execution_count": null,
   "id": "d0d51dbb-fa38-4000-ac9f-3283a9beb0f2",
   "metadata": {},
   "outputs": [],
   "source": []
  },
  {
   "cell_type": "code",
   "execution_count": null,
   "id": "331bf76e-750e-4956-9499-e385fedf5c88",
   "metadata": {},
   "outputs": [],
   "source": []
  },
  {
   "cell_type": "code",
   "execution_count": null,
   "id": "ca148c0e-118e-47bf-a13f-a67694c755b9",
   "metadata": {},
   "outputs": [],
   "source": []
  },
  {
   "cell_type": "markdown",
   "id": "2393bac6-a0d1-49ae-95d6-13b7d1d275a7",
   "metadata": {},
   "source": [
    "# Conditional Registration Step"
   ]
  },
  {
   "cell_type": "code",
   "execution_count": null,
   "id": "65178422-9097-4517-bd16-2bd29471e3ca",
   "metadata": {},
   "outputs": [],
   "source": [
    "model_metrics = ModelMetrics(\n",
    "    model_statistics=MetricsSource(\n",
    "        s3_uri=step_auto_ml_training.properties.BestCandidateProperties.ModelInsightsJsonReportPath,\n",
    "        content_type=\"application/json\",\n",
    "    ),\n",
    "    explainability=MetricsSource(\n",
    "        s3_uri=step_auto_ml_training.properties.BestCandidateProperties.ExplainabilityJsonReportPath,\n",
    "        content_type=\"application/json\",\n",
    "    ),\n",
    ")\n",
    "step_args_register_model = best_auto_ml_model.register(\n",
    "    content_types=[\"text/csv\"],\n",
    "    response_types=[\"text/csv\"],\n",
    "    inference_instances=[instance_type],\n",
    "    transform_instances=[instance_type],\n",
    "    model_package_group_name=model_package_group_name,\n",
    "    approval_status=model_approval_status,\n",
    "    model_metrics=model_metrics,\n",
    ")\n",
    "step_register_model = ModelStep(name=\"ModelRegistrationStep\", step_args=step_args_register_model)"
   ]
  },
  {
   "cell_type": "code",
   "execution_count": null,
   "id": "f8b4cc5f-5174-4526-9b22-014f263a3f08",
   "metadata": {},
   "outputs": [],
   "source": [
    "step_conditional_registration = ConditionStep(\n",
    "    name=\"ConditionalRegistrationStep\",\n",
    "    conditions=[\n",
    "        ConditionGreaterThanOrEqualTo(\n",
    "            left=JsonGet(\n",
    "                step_name=step_evaluation.name,\n",
    "                property_file=evaluation_report,\n",
    "                json_path=\"classification_metrics.weighted_f1.value\",\n",
    "            ),\n",
    "            right=model_registration_metric_threshold,\n",
    "        )\n",
    "    ],\n",
    "    if_steps=[step_register_model],\n",
    "    else_steps=[],  # pipeline end\n",
    ")"
   ]
  },
  {
   "cell_type": "markdown",
   "id": "15451de7-6946-4ee0-890d-ae85b1d9fee1",
   "metadata": {},
   "source": [
    "# Define and Run Pipe"
   ]
  },
  {
   "cell_type": "code",
   "execution_count": null,
   "id": "3d83673a-87d1-4992-8b01-2ff71796e4c9",
   "metadata": {},
   "outputs": [],
   "source": [
    "pipeline = Pipeline(\n",
    "    name=\"AutoMLTrainingPipeline\",\n",
    "    parameters=[\n",
    "        instance_count,\n",
    "        instance_type,\n",
    "        max_automl_runtime,\n",
    "        model_approval_status,\n",
    "        model_package_group_name,\n",
    "        model_registration_metric_threshold,\n",
    "        s3_bucket,\n",
    "        target_attribute_name,\n",
    "    ],\n",
    "    steps=[\n",
    "        step_auto_ml_training,\n",
    "        step_create_model,\n",
    "        step_batch_transform,\n",
    "        step_evaluation,\n",
    "        step_conditional_registration,\n",
    "    ],\n",
    "    sagemaker_session=pipeline_session,\n",
    ")"
   ]
  },
  {
   "cell_type": "code",
   "execution_count": null,
   "id": "57b5844c-1f2d-486c-bc8f-47839281cdf9",
   "metadata": {},
   "outputs": [],
   "source": [
    "pipeline.upsert(role_arn=role, tags=tags)\n",
    "\n",
    "pipeline.start(\n",
    "    execution_display_name=\"AutoMLPipe1\")"
   ]
  }
 ],
 "metadata": {
  "instance_type": "ml.t3.medium",
  "kernelspec": {
   "display_name": "Python 3 (Data Science)",
   "language": "python",
   "name": "python3__SAGEMAKER_INTERNAL__arn:aws:sagemaker:us-east-1:081325390199:image/datascience-1.0"
  },
  "language_info": {
   "codemirror_mode": {
    "name": "ipython",
    "version": 3
   },
   "file_extension": ".py",
   "mimetype": "text/x-python",
   "name": "python",
   "nbconvert_exporter": "python",
   "pygments_lexer": "ipython3",
   "version": "3.7.10"
  }
 },
 "nbformat": 4,
 "nbformat_minor": 5
}
