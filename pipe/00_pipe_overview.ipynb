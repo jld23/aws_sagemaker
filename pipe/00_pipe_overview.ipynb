{
 "cells": [
  {
   "cell_type": "markdown",
   "id": "ba193a68-2353-4e63-b489-aa95dac29147",
   "metadata": {},
   "source": [
    "# MLOps Pipeline: [Insurance Company Benchmark Data Set](https://archive.ics.uci.edu/ml/datasets/Insurance+Company+Benchmark+%28COIL+2000%29)"
   ]
  },
  {
   "cell_type": "markdown",
   "id": "67c7ca4d-0e2b-4d50-b9c9-42d1c7ac1aab",
   "metadata": {},
   "source": [
    "## Steps\n",
    "\n",
    "1. ETL (`py` file)\n",
    "    - Pull data from source: UCI repo\n",
    "    - Name columns\n",
    "    - Combine data into a single file\n",
    "    - Clean data: un-encode categorical two columns\n",
    "    - Save to S3\n",
    "1. Preprocess data (`.py` file)\n",
    "    - Write `.py` to use SKLearn Estimator (not preprocessor)\n",
    "    - Encode categorical features: one hot encoding\n",
    "    - Use sklearn pipeline ColumnTransformer\n",
    "    - Use `.fit`\n",
    "        - Don't use `.fit_transform`\n",
    "        - Processors use `fit` and `transform`, but I'm not using a processor\n",
    "        - Estimators use `fit` and `estimate`\n",
    "    - Create estimator functions\n",
    "        - input_fn\n",
    "        - output_fn\n",
    "        - predict_fn\n",
    "        - model_fn\n",
    "    - Save the trained preprocessor\n",
    "    - Save the final column names\n",
    "1. Train AutoPilot models or use Hyperparameter tuner (pipline only, no `.py` files required)\n",
    "1. Evalutate models (`.py` file)\n",
    "1. Chose best model\n",
    "1. Create Model Pipe to handle both data preprocessor and prediction\n",
    "1. Register model\n",
    "1. Deploy\n",
    "1. Monitor\n",
    "\n",
    "Where does Clarify/explanability go?"
   ]
  },
  {
   "cell_type": "markdown",
   "id": "28dc95dc-5f5a-4cbe-a473-58bf32c56650",
   "metadata": {},
   "source": [
    "## Include Cross Validation"
   ]
  },
  {
   "cell_type": "markdown",
   "id": "480de625-eef0-435a-9560-67e60e9a466c",
   "metadata": {},
   "source": [
    "## Steps\n",
    "\n",
    "1. ETL (`py` file)\n",
    "    - Pull data from source: UCI repo\n",
    "    - Name columns\n",
    "    - Combine data into a single file\n",
    "    - Clean data: un-encode categorical two columns\n",
    "    - Split into K-folds\n",
    "    - Save to S3\n",
    "1. Preprocess data (`.py` file)\n",
    "    - Write `.py` to use SKLearn Estimator (not preprocessor)\n",
    "    - Encode categorical features: one hot encoding\n",
    "    - Use sklearn pipeline ColumnTransformer\n",
    "    - Use `.fit`\n",
    "        - Don't use `.fit_transform`\n",
    "        - Processors use `fit` and `transform`, but I'm not using a processor\n",
    "        - Estimators use `fit` and `estimate`\n",
    "    - Create estimator functions\n",
    "        - input_fn\n",
    "        - output_fn\n",
    "        - predict_fn\n",
    "        - model_fn\n",
    "    - Save the trained preprocessor\n",
    "    - Save the final column names\n",
    "1. Train AutoPilot models or use Hyperparameter tuner (pipline only, no `.py` files required)\n",
    "1. Evalutate models (`.py` file)\n",
    "1. Chose best model\n",
    "1. Create Model Pipe to handle both data preprocessor and prediction\n",
    "1. Register model\n",
    "1. Deploy\n",
    "1. Monitor\n",
    "\n",
    "Where does Clarify/explanability go?"
   ]
  },
  {
   "cell_type": "code",
   "execution_count": null,
   "id": "4387f1b5-3523-4666-ae00-a2bee1f6a754",
   "metadata": {},
   "outputs": [],
   "source": []
  }
 ],
 "metadata": {
  "instance_type": "ml.t3.medium",
  "kernelspec": {
   "display_name": "Python 3 (Data Science)",
   "language": "python",
   "name": "python3__SAGEMAKER_INTERNAL__arn:aws:sagemaker:us-east-1:081325390199:image/datascience-1.0"
  },
  "language_info": {
   "codemirror_mode": {
    "name": "ipython",
    "version": 3
   },
   "file_extension": ".py",
   "mimetype": "text/x-python",
   "name": "python",
   "nbconvert_exporter": "python",
   "pygments_lexer": "ipython3",
   "version": "3.7.10"
  }
 },
 "nbformat": 4,
 "nbformat_minor": 5
}
